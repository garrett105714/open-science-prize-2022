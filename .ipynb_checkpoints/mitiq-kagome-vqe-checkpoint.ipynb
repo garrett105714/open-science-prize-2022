{
 "cells": [
  {
   "cell_type": "markdown",
   "id": "aa3af4fc",
   "metadata": {},
   "source": []
  },
  {
   "cell_type": "markdown",
   "id": "395a1ba5",
   "metadata": {},
   "source": [
    "# 1 Introduction\n",
    "## 1-1 Quantum State Preparation\n",
    "Quantum state preparation is fundamental to quantum computing. It lies at the heart of quantum algorithms, quantum machine learning, quantum error correction, and quantum physics research, but it can be very difficult to start from an initial state $|0\\dots 0 \\rangle$ and efficiently prepare an arbitrary state $|\\psi \\rangle$ with high fidelity. Your objective for this year's Open Science Prize is to significantly improve state-of-the-art state preparation in the context of the Variational Quantum Eigensolver (VQE) algorithm.\n",
    "\n",
    "The state you will prepare is the highly entangled ground state of a Heisenberg spin-1/2 model on a kagome lattice. That sentence is jam packed with physics jargon, but do not despair. Though the problem statement originates deep within quantum physics research, we will avoid jargon as much as possible. A deep dive into the physics literature (which is very fascinating) is left as an exercise for the reader.\n",
    "\n",
    "Why the ground state of a Heisenberg model? Well, the ground state of a system is it's lowest energy configuration, and the ground state tends to be where exciting and unexpected quantum affects flourish. For example, when the element Mercury is cooled down near its ground state (below 4 Kelvin), it has no electrical resistance. None. Zero! Near its thermal ground state, a chunk of Mercury is [a superconductor](https://en.wikipedia.org/wiki/History_of_superconductivity). Researchers have been trying to understand what materials exhibit superconductivity and how it's even possible ever since it was first discovered. If that isn't cool enough for you, consider the [Bose-Einstein condensate](https://en.wikipedia.org/wiki/Bose–Einstein_condensate). This is quantum phase of matter where a dilute gas of individual atoms (bosonic atoms such as [Rubidium](https://en.wikipedia.org/wiki/Rubidium))--when cooled to their ground state--effectively become one giant particle!\n",
    "\n",
    "A system's ground state determines important and fascinating physical properties (see the two examples highlighted above), yet some quantum systems have ground states (and their associated energies) which are difficult to make and measure in the lab as well as being intractable for classical computers to calculate. The Variational Quantum Eigensolver (VQE) is a promising quantum algorithm that could find these ground states and their energies.\n",
    "\n",
    "You will implement the VQE algorithm on [ibmq_guadalupe](https://quantum-computing.ibm.com/services/resources?system=ibmq_guadalupe) a 16 qubit [heavy-hex](https://research.ibm.com/blog/heavy-hex-lattice) device. This is the largest device used in an Open Science Prize to date. Working with more qubits presents its own challenges. Be mindful of how your solution scales as this will be part of the judging criteria this year.\n",
    "\n",
    "We'll get more into the principles of VQE later, but for now, remember that VQE relies on iterative cycles of quantum and classical computation. Fast iterations and fast communication between the classical and quantum computer are essential for a fast VQE, and [Qiskit runtime](https://github.com/Qiskit/qiskit-ibm-runtime) does just that. [Qiskit runtime](https://medium.com/qiskit/so-what-is-qiskit-runtime-anyway-c78aecf3742) is a programming model and containerized environment designed to reduce the computational cycle time between quantum and classical computers. Later in this notebook, we will demonstrate how to leverage the latest release of runtime for fast VQE.\n",
    "\n",
    "The notebook is organized as follows: Section 1 gives a brief introduction to the Heisenberg model, the kagome lattice, and VQE algorithm. It also provides a classical calculation of the ground state(s) energy. Section 2 introduces how to construct a VQE experiment and simulate it on your local computer. Section 3 introduces Qiskit runtime and how to run VQE on a cloud simulator or real backend. Finally, if you are feeling stuck, we've provided some questions to consider as you design and implement your solution.\n",
    "\n",
    "#### Objective\n",
    "**Your task is to use the VQE algorithm to compute the ground state of a Heisenberg spin-1/2 system on a kagome lattice unit cell with the lowest possible relative error of the measured state's energy expectation value wrt to the exact value.** There are actually two ground states in this specific case, and you may prepare any combination of the two including only one or the other.\n"
   ]
  },
  {
   "cell_type": "markdown",
   "id": "9543492f",
   "metadata": {},
   "source": [
    "## 1-2 Heisenberg spin-1/2 model on the kagome lattice\n",
    "For the Open Science Prize, (get ready for some jargon) you will work with the antiferromagnetic $XXX$ Heisenberg model arranged on a kagome lattice. The $XXX$ Heisenberg model Hamiltonian for this Prize will be defined as\n",
    "$$\n",
    "\\begin{equation}\n",
    "H = \\sum_{\\langle i j \\rangle}^N X_i X_{i+1} + Y_i Y_{i+1} + Z_i Z_{i+1}\n",
    "\\end{equation}\n",
    "$$\n",
    "where $\\langle i j \\rangle$ is sum over neighboring spins and $X$, $Y$, and $Z$ are the usual Pauli matrices. The Heisenberg model hosts a wide variety of exotic quantum physics all of which heavily depend on the arrangement of the spins. The arrangement we are interested in is a kagome lattice.\n",
    "\n",
    "![title](kagome_unit_cell.png)\n",
    "\n",
    "The kagome lattice is a unique lattice structure made up of corner-sharing triangles (see the unit cell above). In general, the kagome lattice (i.e. many unit cells tiled together) is theorized to host a fascinating quantum phase of matter called a quantum spin liquid--a research topic at the forefront of quantum physics [1-3]. Additionally, excitations from that ground state are theorized to show exotic quantum behavior such a fractionalized particle excitations [1-3]. For those interested in a deeper dive into the physics check out Refs. [1-3] and other papers.\n",
    "\n",
    "This year's Prize will focus on a single unit cell (the base pattern shown above) which has 12 spin-1/2 particles represented in as blue dots in the image below. Each spin will be represented by a single qubit. The lines connecting the spin-1/2 particles called edges--borrowing a term from [graph theory](https://en.wikipedia.org/wiki/Graph_theory)--and they specify which spins are neighbors.\n",
    "\n",
    "\\[1\\] \"Modern condensed matter physics.\" Girvin, Steven M., and Kun Yang. Cambridge University Press, (2019).\n",
    "\n",
    "\\[2\\] \"Spin liquids in frustrated magnets.\" Balents, Leon. [Nature 464, 199–208](https://doi.org/10.1038/nature08917) (2010). \n",
    "\n",
    "\\[3\\] \"Probing topological spin liquids on a programmable quantum simulator.\" Semeghini, Giulia, et al. [Science 374.6572: 1242-1247.](https://www.science.org/doi/10.1126/science.abi8794) (2021). [arXiv link](https://arxiv.org/abs/2104.04119)\n",
    "\n",
    "\\[4\\] \"Kagome: The Story of the Basketweave Lattice.\" Mekata, Mamoru. [Physics Today 56, 2, 12](https://physicstoday.scitation.org/doi/10.1063/1.1564329) (2003)."
   ]
  },
  {
   "cell_type": "markdown",
   "id": "ad355034",
   "metadata": {},
   "source": [
    "## 1-3 VQE\n",
    "The Variational Quantum Eigensolver (VQE) is a quantum algorithm that can find the ground state(s) of a given Hamiltonian [5-7]. The VQE algorithm is based on the [variational principle](https://en.wikipedia.org/wiki/Variational_method_(quantum_mechanics)) of quantum mechanics and relies on both quantum and classical computations. Below, we briefly sketch out the main principles of VQE, and encourage you to review educational material and the research literature for details.\n",
    "\n",
    "Given a Hamiltonian $H$ and ground state $|\\psi_g \\rangle$, the variational principle says that even if we don't know the exact ground state an approximate ground state $|\\tilde{ \\psi}_g\\rangle \\approx |\\psi_g \\rangle$ can be found. To find the approximate ground state $|\\tilde{ \\psi}_g\\rangle$, we start with a parameterized state called an ansatz $|\\psi(\\boldsymbol{\\theta})\\rangle$ where $\\boldsymbol{\\theta} \\equiv (\\theta_1, \\theta_2,\\dots)$ are the parameters. In theory, there is a combination of parameter values where the anstaz approximates the ground state $|\\psi(\\boldsymbol{\\theta})\\rangle \\approx |\\psi_g\\rangle$, but we need a way to find those parameter values. This is done with a combination of quantum and classical computing.\n",
    "\n",
    "To optimize the parameters, many cycles of quantum and classical computing drive the ansatz toward the approximate ground state. The quantum computer computes the energy expectation value of Hamiltonian $H$ acting on the the parameterized anstaz for a given set of parameter values\n",
    "$$\n",
    "E(\\boldsymbol{\\theta}) = \\langle \\psi(\\boldsymbol{\\theta}) | H | \\psi(\\boldsymbol{\\theta}) \\rangle \\;.\n",
    "$$\n",
    "For those familiar with optimization terminology this is the cost function. A classical computer uses the measurement data from the quantum computer to determine how the parameters values should be adjusted to further minimize the energy $E(\\boldsymbol{\\theta})$. As the classical and quantum computer loop through many iterations, they search the parameter space and converge to the approximate ground state.\n",
    "\n",
    "How can we know the state that gives the minimum energy expectation value is the ground state? The variation principle guarantees that the minimal energy expectation value can only be achieved if the quantum state is the ground state. No other state can give a lower energy--hence the name ground state. In this way, we can be confident that minimizing $E(\\boldsymbol{\\theta})$ with respect to the parameters $\\boldsymbol{\\theta}$ will drive the ansatz toward an accurate approximation of the true ground state and not some other state.\n",
    "\n",
    "Of course, the actual implementation of the algorithm comes with challenges. The ansatz $|\\psi(\\boldsymbol{\\theta})\\rangle$ may never reach the ground state for any combination of parameters. The ansatz could have too many parameters and encounter a barren plateau during optimization. When implementing the VQE, it may take an unreasonable amount of time to execute the ansatz or measure the expectation value on quantum hardware. The quantum hardware may be too noisy. The classical optimizer may not pair well with the optimization landscape or the level of noise from the quantum measurements. Etc.\n",
    "\n",
    "To jump into more details about VQE, we included three review articles on the topic below. We encourage you to review additional educational material and research literature as you work out your solution.\n",
    "\n",
    "\\[5\\] \"A variational eigenvalue solver on a quantum processor.\" A. Peruzzo, et al. [arXiv:1304.3061](https://arxiv.org/abs/1304.3061) [quant-ph] (2013).\n",
    "\n",
    "\\[6\\] \"Variational quantum algorithms.\" M. Cerezo, et al. [arXiv:2012.09265v2](https://arxiv.org/abs/2012.09265v2) [quant-ph] (2021).\n",
    "\n",
    "\\[7\\] \"The Variational Quantum Eigensolver: a review of methods and best practices.\" J. Tilly, et al. [arXiv:2111.05176v3](https://arxiv.org/abs/2111.05176v3) [quant-ph] (2022).\n"
   ]
  },
  {
   "cell_type": "code",
   "execution_count": 1,
   "id": "a7d1f53d",
   "metadata": {},
   "outputs": [],
   "source": [
    "import numpy as np\n",
    "\n",
    "from time import time\n",
    "\n",
    "from qiskit.visualization import plot_histogram, plot_bloch_vector\n",
    "\n",
    "from qiskit.quantum_info import Statevector\n",
    "\n",
    "from math import pi\n",
    "\n",
    "import mitiq as mq\n",
    "\n",
    "import matplotlib.pyplot as plt\n",
    "plt.rcParams.update({\"font.size\": 16})  # enlarge matplotlib fonts"
   ]
  },
  {
   "cell_type": "markdown",
   "id": "89a66f85",
   "metadata": {},
   "source": [
    "## 1-4 Classical computation of ground state energy\n",
    "The twelve qubit state space isn't terribly large $2^{12} = 4096$, but it also isn't small. A classical computer can still diagonalize the Hamiltonian and thus compute the ground state and its associated energy. For the Open Science Prize, we don't need a full energy spectrum, just a calculation of the ground state energy. When working on your solution, remember that brute force approaches that work on 5 or 7-qubit devices may not work as well with ibmq_guadalupe's 16 qubits.\n",
    "\n",
    "Below is an example classical calculation of the ground state energy. It will be used as a reference to your VQE results. First, the kagome lattice is defined on a graph. Second, we built the Hamiltonian from the graph edges. Finally, the expected ground state energy is calculated.\n",
    "\n",
    "### Qiskit nature kagome unit cell\n",
    "Using Qiskit nature's [`Lattice` object](https://qiskit.org/documentation/nature/tutorials/10_lattice_models.html), we can represent any spin lattice as a graph. Here we construct the unit cell of a kagome lattice by defining a list of edges between the twelve sites. This `Lattice` representation will be convenient to use when defining the $XXX$ Hamiltonian terms."
   ]
  },
  {
   "cell_type": "code",
   "execution_count": 2,
   "id": "c30ca21a",
   "metadata": {},
   "outputs": [],
   "source": [
    "import rustworkx as rx\n",
    "\n",
    "from qiskit_nature.problems.second_quantization.lattice import Lattice\n",
    "\n",
    "# Custom Heisenberg couplings\n",
    "from heisenberg_model import HeisenbergModel"
   ]
  },
  {
   "cell_type": "code",
   "execution_count": 3,
   "id": "f754709a",
   "metadata": {},
   "outputs": [
    {
     "data": {
      "image/png": "[encoded data removed]",
      "text/plain": [
       "<Figure size 640x480 with 1 Axes>"
      ]
     },
     "metadata": {},
     "output_type": "display_data"
    }
   ],
   "source": [
    "# Kagome unit cell\n",
    "num_sites = 12\n",
    "# Edge weight\n",
    "t = 1.0\n",
    "\n",
    "# Generate graph of kagome unit cell\n",
    "# Start by defining all the edges\n",
    "graph = rx.PyGraph(multigraph=False)\n",
    "graph.add_nodes_from(range(num_sites))\n",
    "edge_list = [\n",
    "    (0, 1, t),\n",
    "    (1, 2, t),\n",
    "    (2, 3, t),\n",
    "    (3, 4, t),\n",
    "    (4, 5, t),\n",
    "    (5, 0, t),\n",
    "    (0, 6, t),\n",
    "    (1, 6, t),\n",
    "    (1, 7, t),\n",
    "    (2, 7, t),\n",
    "    (2, 8, t),\n",
    "    (3, 8, t),\n",
    "    (3, 9, t),\n",
    "    (4, 9, t),\n",
    "    (4, 10, t),\n",
    "    (5, 10, t),\n",
    "    (5, 11, t),\n",
    "    (0, 11, t),\n",
    "]\n",
    "# Generate graph from the list of edges\n",
    "graph.add_edges_from(edge_list)\n",
    "\n",
    "# Make a Lattice from graph\n",
    "kagome_unit_cell = Lattice(graph)\n",
    "\n",
    "# Draw Lattice\n",
    "kagome_unit_cell.draw(style={'node_color':'purple'})\n",
    "# plt.savefig('kagome_unit_cell.png')\n",
    "plt.show()"
   ]
  },
  {
   "cell_type": "markdown",
   "id": "cfe98615",
   "metadata": {},
   "source": [
    "Now that we have the lattice geometry, we can place each term in the Hamiltonian on its corresponding edge. This is done by using the custom `HeisenbergModel` found in the heisenberg_model.py file. This model is based on Qiskit Nature's [`IsingModel` class](https://qiskit.org/documentation/nature/stubs/qiskit_nature.problems.second_quantization.lattice.IsingModel.html) . It places $XX + YY + ZZ$ on each edge of the lattice (per the Hamiltonian's definition).\n",
    "\n",
    "We will also need to specify how the spin-1/2 particles map to qubits. Using Qiskit nature's `LogarithmicMapper`, we can map each spin-1/2 site to a single qubit. For more information on Qiskit nature's spin mappings see [here]( https://qiskit.org/documentation/nature/stubs/qiskit_nature.mappers.second_quantization.SpinMapper.html#qiskit_nature.mappers.second_quantization.SpinMapper)."
   ]
  },
  {
   "cell_type": "code",
   "execution_count": 4,
   "id": "e7f15d0d",
   "metadata": {},
   "outputs": [],
   "source": [
    "from qiskit_nature.mappers.second_quantization import LogarithmicMapper"
   ]
  },
  {
   "cell_type": "code",
   "execution_count": 5,
   "id": "522722d0",
   "metadata": {},
   "outputs": [
    {
     "data": {
      "text/plain": [
       "PauliSumOp(SparsePauliOp(['ZIIIIIZIIIII', 'IZIIIIZIIIII', 'IZIIIIIZIIII', 'IIZIIIIZIIII', 'IIIIIIZZIIII', 'IIZIIIIIZIII', 'IIIZIIIIZIII', 'IIIIIIIZZIII', 'IIIZIIIIIZII', 'IIIIZIIIIZII', 'IIIIIIIIZZII', 'IIIIZIIIIIZI', 'IIIIIZIIIIZI', 'IIIIIIIIIZZI', 'ZIIIIIIIIIIZ', 'IIIIIZIIIIIZ', 'IIIIIIZIIIIZ', 'IIIIIIIIIIZZ', 'YIIIIIYIIIII', 'IYIIIIYIIIII', 'IYIIIIIYIIII', 'IIYIIIIYIIII', 'IIIIIIYYIIII', 'IIYIIIIIYIII', 'IIIYIIIIYIII', 'IIIIIIIYYIII', 'IIIYIIIIIYII', 'IIIIYIIIIYII', 'IIIIIIIIYYII', 'IIIIYIIIIIYI', 'IIIIIYIIIIYI', 'IIIIIIIIIYYI', 'YIIIIIIIIIIY', 'IIIIIYIIIIIY', 'IIIIIIYIIIIY', 'IIIIIIIIIIYY', 'XIIIIIXIIIII', 'IXIIIIXIIIII', 'IXIIIIIXIIII', 'IIXIIIIXIIII', 'IIIIIIXXIIII', 'IIXIIIIIXIII', 'IIIXIIIIXIII', 'IIIIIIIXXIII', 'IIIXIIIIIXII', 'IIIIXIIIIXII', 'IIIIIIIIXXII', 'IIIIXIIIIIXI', 'IIIIIXIIIIXI', 'IIIIIIIIIXXI', 'XIIIIIIIIIIX', 'IIIIIXIIIIIX', 'IIIIIIXIIIIX', 'IIIIIIIIIIXX'],\n",
       "              coeffs=[1.+0.j, 1.+0.j, 1.+0.j, 1.+0.j, 1.+0.j, 1.+0.j, 1.+0.j, 1.+0.j, 1.+0.j,\n",
       " 1.+0.j, 1.+0.j, 1.+0.j, 1.+0.j, 1.+0.j, 1.+0.j, 1.+0.j, 1.+0.j, 1.+0.j,\n",
       " 1.+0.j, 1.+0.j, 1.+0.j, 1.+0.j, 1.+0.j, 1.+0.j, 1.+0.j, 1.+0.j, 1.+0.j,\n",
       " 1.+0.j, 1.+0.j, 1.+0.j, 1.+0.j, 1.+0.j, 1.+0.j, 1.+0.j, 1.+0.j, 1.+0.j,\n",
       " 1.+0.j, 1.+0.j, 1.+0.j, 1.+0.j, 1.+0.j, 1.+0.j, 1.+0.j, 1.+0.j, 1.+0.j,\n",
       " 1.+0.j, 1.+0.j, 1.+0.j, 1.+0.j, 1.+0.j, 1.+0.j, 1.+0.j, 1.+0.j, 1.+0.j]), coeff=1)"
      ]
     },
     "execution_count": 5,
     "metadata": {},
     "output_type": "execute_result"
    }
   ],
   "source": [
    "# Build Hamiltonian from graph edges\n",
    "heis = HeisenbergModel.uniform_parameters(\n",
    "    lattice=kagome_unit_cell,\n",
    "    uniform_interaction=1.0,  # same spin-spin interaction weight as used in graph\n",
    "    uniform_onsite_potential=0.0,  # No singe site external field\n",
    ")\n",
    "\n",
    "# The Lattice needs an explicit mapping to the qubit states.\n",
    "# We map 1 qubit for 1 spin-1/2 particle using the LogarithmicMapper\n",
    "log_mapper = LogarithmicMapper()\n",
    "# Multiply by factor of 4 to account for (1/2)^2 terms from spin operators in the HeisenbergModel\n",
    "ham = 4 * log_mapper.map(heis.second_q_ops().simplify())\n",
    "# Print Hamiltonian to check it's what we expect.\n",
    "# There are 18 edges and 3 terms per edge (XX, YY, and ZZ),\n",
    "# so there should be 54 equally weighted terms.\n",
    "ham"
   ]
  },
  {
   "cell_type": "markdown",
   "id": "e24cc980",
   "metadata": {},
   "source": [
    "### Compute ground state energy\n",
    "With the Hamiltonian in hand, we can now calculate the expected ground state and its energy. Qiskit offers different methods to do this. The method [here](https://qiskit.org/documentation/apidoc/algorithms.html#minimum-eigensolvers) computes the ground state energy. This [method](https://qiskit.org/documentation/apidoc/algorithms.html#eigensolvers) computes the ground state ($k=0$) and potentially higher energy states if the users wishes ($k>0$).\n",
    "\n",
    "Below is an example calculation of finding the lowest 3 energies ($k=3$) of the system using the second method. Remember that for this year's Prize, you will only need to use VQE to find the ground state energy and not any excited state energies."
   ]
  },
  {
   "cell_type": "code",
   "execution_count": 6,
   "id": "0b639fb6",
   "metadata": {},
   "outputs": [
    {
     "name": "stdout",
     "output_type": "stream",
     "text": [
      "[-18.         -18.         -16.96132284 -16.96132284 -16.96132284\n",
      " -16.94488902 -16.94488902]\n"
     ]
    }
   ],
   "source": [
    "from qiskit.algorithms import NumPyEigensolver\n",
    "\n",
    "# find the first three (k=3) eigenvalues\n",
    "exact_solver = NumPyEigensolver(k=7)\n",
    "exact_result = exact_solver.compute_eigenvalues(ham)\n",
    "print(exact_result.eigenvalues)\n",
    "\n",
    "# Save ground state energy for later\n",
    "gs_energy = np.round(exact_result.eigenvalues[0], 4)"
   ]
  },
  {
   "cell_type": "code",
   "execution_count": 7,
   "id": "546cee95",
   "metadata": {
    "scrolled": true
   },
   "outputs": [
    {
     "name": "stderr",
     "output_type": "stream",
     "text": [
      "C:\\Users\\gboha\\Anaconda3\\envs\\mitiqEnv\\Lib\\site-packages\\matplotlib\\collections.py:192: ComplexWarning: Casting complex values to real discards the imaginary part\n",
      "  offsets = np.asanyarray(offsets, float)\n"
     ]
    },
    {
     "data": {
      "image/png": "[encoded data removed]",
      "text/plain": [
       "<Figure size 640x480 with 1 Axes>"
      ]
     },
     "metadata": {},
     "output_type": "display_data"
    }
   ],
   "source": [
    "# First eigenstate\n",
    "e0_matrix = exact_result.eigenstates[0].to_matrix()\n",
    "e0Ad_matrix = exact_result.eigenstates[0].adjoint().to_matrix()\n",
    "e0_mag = e0_matrix * e0Ad_matrix\n",
    "e0_mag = e0_mag[0]\n",
    "\n",
    "x0 = [i for i in range(len(e0_mag))]\n",
    "y0 = e0_mag\n",
    "\n",
    "# Second eigenstate\n",
    "e1_matrix = exact_result.eigenstates[1].to_matrix()\n",
    "e1Ad_matrix = exact_result.eigenstates[1].adjoint().to_matrix()\n",
    "e1_mag = e1_matrix * e1Ad_matrix\n",
    "e1_mag = e1_mag[0]\n",
    "\n",
    "x1 = [i for i in range(len(e1_mag))]\n",
    "y1 = e1_mag\n",
    "\n",
    "# Third eigenstate -- no longer optimal!\n",
    "e2_matrix = exact_result.eigenstates[2].to_matrix()\n",
    "e2Ad_matrix = exact_result.eigenstates[2].adjoint().to_matrix()\n",
    "e2_mag = e2_matrix * e2Ad_matrix\n",
    "e2_mag = e2_mag[0]\n",
    "\n",
    "x2 = [i for i in range(len(e2_mag))]\n",
    "y2 = e2_mag\n",
    "\n",
    "plt.scatter(x0, y0)\n",
    "plt.scatter(x1, y1)\n",
    "#plt.scatter(x2, y2)\n",
    "plt.ylabel('Imaginary')\n",
    "plt.xlabel('Real')\n",
    "plt.show()"
   ]
  },
  {
   "cell_type": "code",
   "execution_count": 8,
   "id": "a76e3d44",
   "metadata": {},
   "outputs": [
    {
     "name": "stdout",
     "output_type": "stream",
     "text": [
      "[0, 2, 4]\n"
     ]
    }
   ],
   "source": [
    "def findexcitedstate(state, qubit_val):\n",
    "    return [i for i, digit in enumerate(state) if digit == qubit_val]\n",
    "\n",
    "print(findexcitedstate('101010', '1'))"
   ]
  },
  {
   "cell_type": "code",
   "execution_count": 9,
   "id": "de03577c",
   "metadata": {},
   "outputs": [
    {
     "name": "stdout",
     "output_type": "stream",
     "text": [
      "Values Greater than 0.01: [125, 187, 249, 311, 373, 435, 497, 559, 621, 683, 745, 807, 869, 931, 993, 1055, 1117, 1179, 1241, 1303, 1365, 1427, 1489, 1551, 1613, 1675, 1737, 1799, 1861, 1923, 1985, 2110, 2172, 2234, 2296, 2358, 2420, 2482, 2544, 2606, 2668, 2730, 2792, 2854, 2916, 2978, 3040, 3102, 3164, 3226, 3288, 3350, 3412, 3474, 3536, 3598, 3660, 3722, 3784, 3846, 3908, 3970]\n",
      "Values between 0.00002 and 0.01: [63, 126, 189, 252, 315, 378, 441, 504, 567, 630, 693, 756, 819, 882, 945, 1008, 1071, 1134, 1197, 1260, 1323, 1386, 1449, 1512, 1575, 1638, 1701, 1764, 1827, 1890, 1953, 2016, 2079, 2142, 2205, 2268, 2331, 2394, 2457, 2520, 2583, 2646, 2709, 2772, 2835, 2898, 2961, 3024, 3087, 3150, 3213, 3276, 3339, 3402, 3465, 3528, 3591, 3654, 3717, 3780, 3843, 3906, 3969, 4032]\n",
      "Number of states: 126\n"
     ]
    },
    {
     "data": {
      "image/png": "[encoded data removed]",
      "text/plain": [
       "<Figure size 700x500 with 1 Axes>"
      ]
     },
     "execution_count": 9,
     "metadata": {},
     "output_type": "execute_result"
    }
   ],
   "source": [
    "highstates = []\n",
    "\n",
    "x = x0\n",
    "y = y0\n",
    "\n",
    "# Get a distribution for the number of excited qubits\n",
    "qubit_distribution = {0:0, 1:0, 2:0, 3:0, 4:0, 5:0, 6:0, 7:0, 8:0, 9:0, 10:0, 11:0, 12:0}\n",
    "\n",
    "for i in range(len(x)):\n",
    "    if y[i] > 0.01:\n",
    "        highstates.append(x[i])\n",
    "        binary = bin(x[i])[2:]\n",
    "        while len(binary) < 12:\n",
    "            binary = \"0\"+binary\n",
    "        # Find all the excited qubits in this binary state\n",
    "        excitedIndices = findexcitedstate(binary, '1')\n",
    "        for excitedIdx in excitedIndices:\n",
    "            qubit_distribution[excitedIdx] += 1\n",
    "        #print(\"State: \" + binary + \"   0s: \" + str(binary.count(\"0\")))\n",
    "\n",
    "        \n",
    "print(\"Values Greater than 0.01: \" + str(highstates))\n",
    "\n",
    "middlestates = []\n",
    "\n",
    "for i in range(len(x)):\n",
    "    if 0.00002 < y[i] < 0.01:\n",
    "        middlestates.append(x[i])\n",
    "        binary = bin(x[i])[2:]\n",
    "        while len(binary) < 12:\n",
    "            binary = \"0\"+binary\n",
    "        # Find all the excited qubits in this binary state\n",
    "        excitedIndices = findexcitedstate(binary, '1')\n",
    "        for excitedIdx in excitedIndices:\n",
    "            qubit_distribution[excitedIdx] += 1\n",
    "        #print(\"State: \" + binary + \"   0s: \" + str(binary.count(\"0\")))\n",
    "\n",
    "        \n",
    "print(\"Values between 0.00002 and 0.01: \" + str(middlestates))\n",
    "print(\"Number of states: \" + str(len(highstates)+len(middlestates)))\n",
    "plot_histogram(qubit_distribution, title=\"Distribution of Excited Qubits\")"
   ]
  },
  {
   "cell_type": "code",
   "execution_count": 10,
   "id": "356423f1",
   "metadata": {},
   "outputs": [
    {
     "name": "stdout",
     "output_type": "stream",
     "text": [
      "(-18.00000000000013-4.440892098500626e-16j)\n"
     ]
    },
    {
     "data": {
      "image/png": "[encoded data removed]",
      "text/plain": [
       "<Figure size 700x500 with 1 Axes>"
      ]
     },
     "execution_count": 10,
     "metadata": {},
     "output_type": "execute_result"
    }
   ],
   "source": [
    "test = (exact_result.eigenstates[0])#.expectation_value(ham))\n",
    "test2 = Statevector(test.to_matrix())\n",
    "print(test2.expectation_value(ham))\n",
    "e0 = exact_result.eigenstates[0].to_matrix()\n",
    "e0_counts = exact_result.eigenstates[0].sample(100000)\n",
    "\n",
    "plot_histogram(e0_counts, bar_labels=False)"
   ]
  },
  {
   "cell_type": "markdown",
   "id": "a4b22921",
   "metadata": {},
   "source": [
    "You'll note that -18 is found twice. This means there are actually two ground states for this system. The -16.96 energy is the first excited state, which is not part of this year's challenge. **For this year's Prize, we will only be judging based off the measured ground state energy. This means it does not matter which of the two ground states, or combination of them, your VQE implementation finds.**"
   ]
  },
  {
   "cell_type": "markdown",
   "id": "8748d8c9",
   "metadata": {},
   "source": [
    "## 2-1 VQE with local runtime primitives\n",
    "\n",
    "To compute the ground state energy using VQE, we first pick an appropriate device. This year's Prize will use ibmq_guadalupe which has 16 qubits. This is 4 extra qubits than the Hamiltonian, so we will need to \"inflate\" the Hamiltonian with identity operators so we can measure 12 qubit Hamiltonian's energy expectation value on a 16 qubit device.\n",
    "After inflating the Hamiltonian, the anstaz and classical optimizer components are built up. Finally, a class is defined to bring everything together for the VQE algorithm, and it's executed on a local simulator.\n",
    "\n",
    "The code below is largely based off of this example [tutorial](https://github.com/mberna/qce22-qiskit-runtime-tutorial/blob/main/docs/tutorials/Building%20algorithms%20with%20Qiskit%20Runtime.ipynb) of using qiskit runtime primitives from IEEE week. Feel free to read through to learn more about qiskit runtime and VQE."
   ]
  },
  {
   "cell_type": "markdown",
   "id": "f296de94",
   "metadata": {},
   "source": [
    "## 2-2 Qiskit runtime\n",
    "\n",
    "[Qiskit runtime](https://github.com/Qiskit/qiskit-ibm-runtime) is a paradigm which brings classical and quantum computing resources closer together--speeding up quantum algorithms especially variational ones. We will be using runtime because of its [speed boost](https://research.ibm.com/blog/120x-quantum-speedup) relative to the traditional way quantum circuits are executed using qiskit. In this notebook, we'll demonstrate an example VQE executed with qiskit runtime, but we encourage you to get a deeper understanding of the tool by checking out an overview of qiskit runtime and some tutorials on the [qiskit docs section on runtime](https://qiskit.org/documentation/partners/qiskit_ibm_runtime/) as well as the IBM [research blog](https://research.ibm.com/blog/qiskit-runtime-capabilities-integration)."
   ]
  },
  {
   "cell_type": "code",
   "execution_count": 11,
   "id": "3446419b",
   "metadata": {},
   "outputs": [],
   "source": [
    "from qiskit import QuantumCircuit, transpile\n",
    "from qiskit.circuit import Parameter\n",
    "\n",
    "from qiskit import IBMQ"
   ]
  },
  {
   "cell_type": "code",
   "execution_count": 12,
   "id": "570848e8",
   "metadata": {},
   "outputs": [
    {
     "name": "stderr",
     "output_type": "stream",
     "text": [
      "C:\\Users\\gboha\\AppData\\Local\\Temp\\ipykernel_16132\\4233409759.py:3: DeprecationWarning: The package qiskit.providers.ibmq is being deprecated. Please see https://ibm.biz/provider_migration_guide to get instructions on how to migrate to qiskit-ibm-provider (https://github.com/Qiskit/qiskit-ibm-provider) and qiskit-ibm-runtime (https://github.com/Qiskit/qiskit-ibm-runtime).\n",
      "  provider = IBMQ.load_account()\n",
      "C:\\Users\\gboha\\AppData\\Local\\Temp\\ipykernel_16132\\4233409759.py:3: DeprecationWarning: The qiskit.IBMQ entrypoint and the qiskit-ibmq-provider package (accessible from 'qiskit.providers.ibmq`) are deprecated and will be removed in a future release. Instead you should use the qiskit-ibm-provider package which is accessible from 'qiskit_ibm_provider'. You can install it with 'pip install qiskit_ibm_provider'. Just replace 'qiskit.IBMQ' with 'qiskit_ibm_provider.IBMProvider'\n",
      "  provider = IBMQ.load_account()\n"
     ]
    }
   ],
   "source": [
    "# Doc for loading IBMQ account https://quantum-computing.ibm.com/lab/docs/iql/manage/account/ibmq#the-account\n",
    "# IBMQ.save_account('46aead5c7b98c3015ee89c00fdc3a0b1a909af490abe29443c4880cd57af86021e09f4f03c61702feb2d75fd7c7e76ddf49cb68aef1916f8f91c9d29052b0263', overwrite=True)\n",
    "provider = IBMQ.load_account()\n",
    "provider = IBMQ.get_provider(hub='ibm-q-community', group='ibmquantumawards', project='open-science-22')\n",
    "\n",
    "# Real backend; needed for transpilation later on\n",
    "guadalupe = provider.get_backend(\"ibmq_guadalupe\")\n",
    "\n",
    "# Get fake backend if you like\n",
    "from qiskit.providers.fake_provider import FakeGuadalupe\n",
    "\n",
    "# Noisy simulator backend\n",
    "noisy_sim = FakeGuadalupe()\n"
   ]
  },
  {
   "cell_type": "markdown",
   "id": "d9403fff",
   "metadata": {},
   "source": [
    "As mentioned at the beginning of this section, the system Hamiltonian is defined over 12 qubits, but ibmq_guadalupe has 16 qubits. To execute VQE on ibmq_guadalupe, we will \"inflate\" the Hamilontian from 12 qubits to 16 qubits to match ibmq_guadalupe, but those extra 4 qubits will not participate in the energy expectation value. Here, we've chosen the 4 qubits that won't participate to be 0, 6, 9, 15. You may pick different qubits."
   ]
  },
  {
   "cell_type": "code",
   "execution_count": 13,
   "id": "0cd43af4",
   "metadata": {},
   "outputs": [
    {
     "data": {
      "image/png": "[encoded data removed]",
      "text/plain": [
       "<Figure size 640x480 with 1 Axes>"
      ]
     },
     "metadata": {},
     "output_type": "display_data"
    }
   ],
   "source": [
    "# Kagome unit cell\n",
    "num_qubits = 16\n",
    "# Edge weight\n",
    "t = 1.0\n",
    "\n",
    "# Generate graph of kagome unit cell\n",
    "# Start by defining all the edges\n",
    "graph_16 = rx.PyGraph(multigraph=False)\n",
    "graph_16.add_nodes_from(range(num_qubits))\n",
    "edge_list = [\n",
    "    (1, 2, t),\n",
    "    (2, 3, t),\n",
    "    (3, 5, t),\n",
    "    (5, 8, t),\n",
    "    (8, 11, t),\n",
    "    (11, 14, t),\n",
    "    (14, 13, t),\n",
    "    (13, 12, t),\n",
    "    (12, 10, t),\n",
    "    (10, 7, t),\n",
    "    (7, 4, t),\n",
    "    (4, 1, t),\n",
    "    (4, 2, t),\n",
    "    (2, 5, t),\n",
    "    (5, 11, t),\n",
    "    (11, 13, t),\n",
    "    (13, 10, t),\n",
    "    (10, 4, t),\n",
    "]\n",
    "# Generate graph from the list of edges\n",
    "graph_16.add_edges_from(edge_list)\n",
    "\n",
    "# Make a Lattice from graph\n",
    "kagome_unit_cell_16 = Lattice(graph_16)\n",
    "\n",
    "# Draw Lattice and include labels to check we exclude the right spins\n",
    "# Specify node locations for better visualizations\n",
    "kagome_pos = {0:[1,-1], 6:[1.5,-1], 9:[2,-1], 15:[2.5,-1], \n",
    "              1:[0,-0.8], 2:[-0.6,1], 4:[0.6,1], 10:[1.2,3], \n",
    "              13:[0.6,5], 11:[-0.6,5], 5:[-1.2,3], 3:[-1.8,0.9], \n",
    "              8:[-1.8,5.1], 14:[0,6.8], 7:[1.8,0.9], 12:[1.8,5.1]}\n",
    "kagome_unit_cell_16.draw(style={'with_labels':True, 'font_color':'white', 'node_color':'purple', 'pos':kagome_pos})\n",
    "plt.show()\n"
   ]
  },
  {
   "cell_type": "code",
   "execution_count": 14,
   "id": "4dfd5af1",
   "metadata": {
    "scrolled": false
   },
   "outputs": [
    {
     "data": {
      "text/plain": [
       "PauliSumOp(SparsePauliOp(['IZZIIIIIIIIIIIII', 'IIZZIIIIIIIIIIII', 'IZIIZIIIIIIIIIII', 'IIZIZIIIIIIIIIII', 'IIZIIZIIIIIIIIII', 'IIIZIZIIIIIIIIII', 'IIIIZIIZIIIIIIII', 'IIIIIZIIZIIIIIII', 'IIIIZIIIIIZIIIII', 'IIIIIIIZIIZIIIII', 'IIIIIZIIIIIZIIII', 'IIIIIIIIZIIZIIII', 'IIIIIIIIIIZIZIII', 'IIIIIIIIIIZIIZII', 'IIIIIIIIIIIZIZII', 'IIIIIIIIIIIIZZII', 'IIIIIIIIIIIZIIZI', 'IIIIIIIIIIIIIZZI', 'IYYIIIIIIIIIIIII', 'IIYYIIIIIIIIIIII', 'IYIIYIIIIIIIIIII', 'IIYIYIIIIIIIIIII', 'IIYIIYIIIIIIIIII', 'IIIYIYIIIIIIIIII', 'IIIIYIIYIIIIIIII', 'IIIIIYIIYIIIIIII', 'IIIIYIIIIIYIIIII', 'IIIIIIIYIIYIIIII', 'IIIIIYIIIIIYIIII', 'IIIIIIIIYIIYIIII', 'IIIIIIIIIIYIYIII', 'IIIIIIIIIIYIIYII', 'IIIIIIIIIIIYIYII', 'IIIIIIIIIIIIYYII', 'IIIIIIIIIIIYIIYI', 'IIIIIIIIIIIIIYYI', 'IXXIIIIIIIIIIIII', 'IIXXIIIIIIIIIIII', 'IXIIXIIIIIIIIIII', 'IIXIXIIIIIIIIIII', 'IIXIIXIIIIIIIIII', 'IIIXIXIIIIIIIIII', 'IIIIXIIXIIIIIIII', 'IIIIIXIIXIIIIIII', 'IIIIXIIIIIXIIIII', 'IIIIIIIXIIXIIIII', 'IIIIIXIIIIIXIIII', 'IIIIIIIIXIIXIIII', 'IIIIIIIIIIXIXIII', 'IIIIIIIIIIXIIXII', 'IIIIIIIIIIIXIXII', 'IIIIIIIIIIIIXXII', 'IIIIIIIIIIIXIIXI', 'IIIIIIIIIIIIIXXI'],\n",
       "              coeffs=[1.+0.j, 1.+0.j, 1.+0.j, 1.+0.j, 1.+0.j, 1.+0.j, 1.+0.j, 1.+0.j, 1.+0.j,\n",
       " 1.+0.j, 1.+0.j, 1.+0.j, 1.+0.j, 1.+0.j, 1.+0.j, 1.+0.j, 1.+0.j, 1.+0.j,\n",
       " 1.+0.j, 1.+0.j, 1.+0.j, 1.+0.j, 1.+0.j, 1.+0.j, 1.+0.j, 1.+0.j, 1.+0.j,\n",
       " 1.+0.j, 1.+0.j, 1.+0.j, 1.+0.j, 1.+0.j, 1.+0.j, 1.+0.j, 1.+0.j, 1.+0.j,\n",
       " 1.+0.j, 1.+0.j, 1.+0.j, 1.+0.j, 1.+0.j, 1.+0.j, 1.+0.j, 1.+0.j, 1.+0.j,\n",
       " 1.+0.j, 1.+0.j, 1.+0.j, 1.+0.j, 1.+0.j, 1.+0.j, 1.+0.j, 1.+0.j, 1.+0.j]), coeff=1)"
      ]
     },
     "execution_count": 14,
     "metadata": {},
     "output_type": "execute_result"
    }
   ],
   "source": [
    "# Build Hamiltonian from graph edges\n",
    "heis_16 = HeisenbergModel.uniform_parameters(\n",
    "    lattice=kagome_unit_cell_16,\n",
    "    uniform_interaction=t,\n",
    "    uniform_onsite_potential=0.0,  # No singe site external field\n",
    ")\n",
    "\n",
    "# Map from SpinOp to qubits just as before.\n",
    "log_mapper = LogarithmicMapper()\n",
    "ham_16 = 4 * log_mapper.map(heis_16.second_q_ops().simplify())\n",
    "# Print Hamiltonian to check it's what we expect:\n",
    "# 18 ZZ, 18 YY, and 18 XX terms over 16 qubits instead of over 12 qubits\n",
    "ham_16"
   ]
  },
  {
   "cell_type": "markdown",
   "id": "0cbeb67e",
   "metadata": {},
   "source": [
    "## 2-3 Define an ansatz\n",
    "Crafting the ansatz is critical to VQE. You may use a prebuilt ansatz from the [qiskit circuit library](https://qiskit.org/documentation/apidoc/circuit_library.html#n-local-circuits). You may also make your own custom ansatz. Keep in mind that a custom ansatz should have no measurement gates at the end and the circuit parameters are defined by using `Parameter()` [objects](https://qiskit.org/documentation/stubs/qiskit.circuit.Parameter.html). We've demonstrated both options below. The ansatz can be defined over 12 qubits without needed to inflate it to 16 qubits at this point. The transpiler will take care of that later on.\n",
    "\n",
    "Here's an example using `EfficientSU2()` to generate an ansatz"
   ]
  },
  {
   "cell_type": "code",
   "execution_count": 15,
   "id": "62e012d6",
   "metadata": {},
   "outputs": [],
   "source": [
    "from qiskit.circuit.library import EfficientSU2"
   ]
  },
  {
   "cell_type": "code",
   "execution_count": 16,
   "id": "fea9bffd",
   "metadata": {},
   "outputs": [
    {
     "data": {
      "text/html": [
       "<pre style=\"word-wrap: normal;white-space: pre;background: #fff0;line-height: 1.1;font-family: &quot;Courier New&quot;,Courier,monospace\">       ┌──────────┐┌───────────┐     ┌───────────┐┌───────────┐                          ┌───────────┐┌───────────┐                                                                                                                                            \n",
       " q_0: ─┤ Ry(θ[0]) ├┤ Rz(θ[12]) ├──■──┤ Ry(θ[24]) ├┤ Rz(θ[36]) ├───────────────────■──────┤ Ry(θ[48]) ├┤ Rz(θ[60]) ├───────────────────■────────────────────────────────────────────────────────────────────────────────────────────────────────────────────────\n",
       "       ├──────────┤├───────────┤┌─┴─┐└───────────┘├───────────┤┌───────────┐    ┌─┴─┐    └───────────┘├───────────┤┌───────────┐    ┌─┴─┐                                                                                                                      \n",
       " q_1: ─┤ Ry(θ[1]) ├┤ Rz(θ[13]) ├┤ X ├──────■──────┤ Ry(θ[25]) ├┤ Rz(θ[37]) ├────┤ X ├──────────■──────┤ Ry(θ[49]) ├┤ Rz(θ[61]) ├────┤ X ├──────────■───────────────────────────────────────────────────────────────────────────────────────────────────────────\n",
       "       ├──────────┤├───────────┤└───┘    ┌─┴─┐    └───────────┘├───────────┤┌───┴───┴───┐    ┌─┴─┐    └───────────┘├───────────┤┌───┴───┴───┐    ┌─┴─┐                                                                                                         \n",
       " q_2: ─┤ Ry(θ[2]) ├┤ Rz(θ[14]) ├─────────┤ X ├──────────■──────┤ Ry(θ[26]) ├┤ Rz(θ[38]) ├────┤ X ├──────────■──────┤ Ry(θ[50]) ├┤ Rz(θ[62]) ├────┤ X ├──────────■──────────────────────────────────────────────────────────────────────────────────────────────\n",
       "       ├──────────┤├───────────┤         └───┘        ┌─┴─┐    └───────────┘├───────────┤┌───┴───┴───┐    ┌─┴─┐    └───────────┘├───────────┤┌───┴───┴───┐    ┌─┴─┐                                                                                            \n",
       " q_3: ─┤ Ry(θ[3]) ├┤ Rz(θ[15]) ├──────────────────────┤ X ├──────────■──────┤ Ry(θ[27]) ├┤ Rz(θ[39]) ├────┤ X ├──────────■──────┤ Ry(θ[51]) ├┤ Rz(θ[63]) ├────┤ X ├──────────■─────────────────────────────────────────────────────────────────────────────────\n",
       "       ├──────────┤├───────────┤                      └───┘        ┌─┴─┐    └───────────┘├───────────┤┌───┴───┴───┐    ┌─┴─┐    └───────────┘├───────────┤┌───┴───┴───┐    ┌─┴─┐                                                                               \n",
       " q_4: ─┤ Ry(θ[4]) ├┤ Rz(θ[16]) ├───────────────────────────────────┤ X ├──────────■──────┤ Ry(θ[28]) ├┤ Rz(θ[40]) ├────┤ X ├──────────■──────┤ Ry(θ[52]) ├┤ Rz(θ[64]) ├────┤ X ├──────────■────────────────────────────────────────────────────────────────────\n",
       "       ├──────────┤├───────────┤                                   └───┘        ┌─┴─┐    └───────────┘├───────────┤┌───┴───┴───┐    ┌─┴─┐    └───────────┘├───────────┤┌───┴───┴───┐    ┌─┴─┐                                                                  \n",
       " q_5: ─┤ Ry(θ[5]) ├┤ Rz(θ[17]) ├────────────────────────────────────────────────┤ X ├──────────■──────┤ Ry(θ[29]) ├┤ Rz(θ[41]) ├────┤ X ├──────────■──────┤ Ry(θ[53]) ├┤ Rz(θ[65]) ├────┤ X ├──────────■───────────────────────────────────────────────────────\n",
       "       ├──────────┤├───────────┤                                                └───┘        ┌─┴─┐    └───────────┘├───────────┤┌───┴───┴───┐    ┌─┴─┐    └───────────┘├───────────┤┌───┴───┴───┐    ┌─┴─┐                                                     \n",
       " q_6: ─┤ Ry(θ[6]) ├┤ Rz(θ[18]) ├─────────────────────────────────────────────────────────────┤ X ├──────────■──────┤ Ry(θ[30]) ├┤ Rz(θ[42]) ├────┤ X ├──────────■──────┤ Ry(θ[54]) ├┤ Rz(θ[66]) ├────┤ X ├──────────■──────────────────────────────────────────\n",
       "       ├──────────┤├───────────┤                                                             └───┘        ┌─┴─┐    └───────────┘├───────────┤┌───┴───┴───┐    ┌─┴─┐    └───────────┘├───────────┤┌───┴───┴───┐    ┌─┴─┐                                        \n",
       " q_7: ─┤ Ry(θ[7]) ├┤ Rz(θ[19]) ├──────────────────────────────────────────────────────────────────────────┤ X ├──────────■──────┤ Ry(θ[31]) ├┤ Rz(θ[43]) ├────┤ X ├──────────■──────┤ Ry(θ[55]) ├┤ Rz(θ[67]) ├────┤ X ├──────────■─────────────────────────────\n",
       "       ├──────────┤├───────────┤                                                                          └───┘        ┌─┴─┐    └───────────┘├───────────┤┌───┴───┴───┐    ┌─┴─┐    └───────────┘├───────────┤┌───┴───┴───┐    ┌─┴─┐                           \n",
       " q_8: ─┤ Ry(θ[8]) ├┤ Rz(θ[20]) ├───────────────────────────────────────────────────────────────────────────────────────┤ X ├──────────■──────┤ Ry(θ[32]) ├┤ Rz(θ[44]) ├────┤ X ├──────────■──────┤ Ry(θ[56]) ├┤ Rz(θ[68]) ├────┤ X ├──────────■────────────────\n",
       "       ├──────────┤├───────────┤                                                                                       └───┘        ┌─┴─┐    └───────────┘├───────────┤┌───┴───┴───┐    ┌─┴─┐    └───────────┘├───────────┤┌───┴───┴───┐    ┌─┴─┐              \n",
       " q_9: ─┤ Ry(θ[9]) ├┤ Rz(θ[21]) ├────────────────────────────────────────────────────────────────────────────────────────────────────┤ X ├──────────■──────┤ Ry(θ[33]) ├┤ Rz(θ[45]) ├────┤ X ├──────────■──────┤ Ry(θ[57]) ├┤ Rz(θ[69]) ├────┤ X ├──────■───────\n",
       "      ┌┴──────────┤├───────────┤                                                                                                    └───┘        ┌─┴─┐    └───────────┘├───────────┤┌───┴───┴───┐    ┌─┴─┐    └───────────┘├───────────┤┌───┴───┴───┐┌─┴─┐     \n",
       "q_10: ┤ Ry(θ[10]) ├┤ Rz(θ[22]) ├─────────────────────────────────────────────────────────────────────────────────────────────────────────────────┤ X ├──────────■──────┤ Ry(θ[34]) ├┤ Rz(θ[46]) ├────┤ X ├──────────■──────┤ Ry(θ[58]) ├┤ Rz(θ[70]) ├┤ X ├──■──\n",
       "      ├───────────┤├───────────┤                                                                                                                 └───┘        ┌─┴─┐    ├───────────┤├───────────┤    └───┘        ┌─┴─┐    ├───────────┤├───────────┤└───┘┌─┴─┐\n",
       "q_11: ┤ Ry(θ[11]) ├┤ Rz(θ[23]) ├──────────────────────────────────────────────────────────────────────────────────────────────────────────────────────────────┤ X ├────┤ Ry(θ[35]) ├┤ Rz(θ[47]) ├─────────────────┤ X ├────┤ Ry(θ[59]) ├┤ Rz(θ[71]) ├─────┤ X ├\n",
       "      └───────────┘└───────────┘                                                                                                                              └───┘    └───────────┘└───────────┘                 └───┘    └───────────┘└───────────┘     └───┘</pre>"
      ],
      "text/plain": [
       "       ┌──────────┐┌───────────┐     ┌───────────┐┌───────────┐                          ┌───────────┐┌───────────┐                                                                                                                                            \n",
       " q_0: ─┤ Ry(θ[0]) ├┤ Rz(θ[12]) ├──■──┤ Ry(θ[24]) ├┤ Rz(θ[36]) ├───────────────────■──────┤ Ry(θ[48]) ├┤ Rz(θ[60]) ├───────────────────■────────────────────────────────────────────────────────────────────────────────────────────────────────────────────────\n",
       "       ├──────────┤├───────────┤┌─┴─┐└───────────┘├───────────┤┌───────────┐    ┌─┴─┐    └───────────┘├───────────┤┌───────────┐    ┌─┴─┐                                                                                                                      \n",
       " q_1: ─┤ Ry(θ[1]) ├┤ Rz(θ[13]) ├┤ X ├──────■──────┤ Ry(θ[25]) ├┤ Rz(θ[37]) ├────┤ X ├──────────■──────┤ Ry(θ[49]) ├┤ Rz(θ[61]) ├────┤ X ├──────────■───────────────────────────────────────────────────────────────────────────────────────────────────────────\n",
       "       ├──────────┤├───────────┤└───┘    ┌─┴─┐    └───────────┘├───────────┤┌───┴───┴───┐    ┌─┴─┐    └───────────┘├───────────┤┌───┴───┴───┐    ┌─┴─┐                                                                                                         \n",
       " q_2: ─┤ Ry(θ[2]) ├┤ Rz(θ[14]) ├─────────┤ X ├──────────■──────┤ Ry(θ[26]) ├┤ Rz(θ[38]) ├────┤ X ├──────────■──────┤ Ry(θ[50]) ├┤ Rz(θ[62]) ├────┤ X ├──────────■──────────────────────────────────────────────────────────────────────────────────────────────\n",
       "       ├──────────┤├───────────┤         └───┘        ┌─┴─┐    └───────────┘├───────────┤┌───┴───┴───┐    ┌─┴─┐    └───────────┘├───────────┤┌───┴───┴───┐    ┌─┴─┐                                                                                            \n",
       " q_3: ─┤ Ry(θ[3]) ├┤ Rz(θ[15]) ├──────────────────────┤ X ├──────────■──────┤ Ry(θ[27]) ├┤ Rz(θ[39]) ├────┤ X ├──────────■──────┤ Ry(θ[51]) ├┤ Rz(θ[63]) ├────┤ X ├──────────■─────────────────────────────────────────────────────────────────────────────────\n",
       "       ├──────────┤├───────────┤                      └───┘        ┌─┴─┐    └───────────┘├───────────┤┌───┴───┴───┐    ┌─┴─┐    └───────────┘├───────────┤┌───┴───┴───┐    ┌─┴─┐                                                                               \n",
       " q_4: ─┤ Ry(θ[4]) ├┤ Rz(θ[16]) ├───────────────────────────────────┤ X ├──────────■──────┤ Ry(θ[28]) ├┤ Rz(θ[40]) ├────┤ X ├──────────■──────┤ Ry(θ[52]) ├┤ Rz(θ[64]) ├────┤ X ├──────────■────────────────────────────────────────────────────────────────────\n",
       "       ├──────────┤├───────────┤                                   └───┘        ┌─┴─┐    └───────────┘├───────────┤┌───┴───┴───┐    ┌─┴─┐    └───────────┘├───────────┤┌───┴───┴───┐    ┌─┴─┐                                                                  \n",
       " q_5: ─┤ Ry(θ[5]) ├┤ Rz(θ[17]) ├────────────────────────────────────────────────┤ X ├──────────■──────┤ Ry(θ[29]) ├┤ Rz(θ[41]) ├────┤ X ├──────────■──────┤ Ry(θ[53]) ├┤ Rz(θ[65]) ├────┤ X ├──────────■───────────────────────────────────────────────────────\n",
       "       ├──────────┤├───────────┤                                                └───┘        ┌─┴─┐    └───────────┘├───────────┤┌───┴───┴───┐    ┌─┴─┐    └───────────┘├───────────┤┌───┴───┴───┐    ┌─┴─┐                                                     \n",
       " q_6: ─┤ Ry(θ[6]) ├┤ Rz(θ[18]) ├─────────────────────────────────────────────────────────────┤ X ├──────────■──────┤ Ry(θ[30]) ├┤ Rz(θ[42]) ├────┤ X ├──────────■──────┤ Ry(θ[54]) ├┤ Rz(θ[66]) ├────┤ X ├──────────■──────────────────────────────────────────\n",
       "       ├──────────┤├───────────┤                                                             └───┘        ┌─┴─┐    └───────────┘├───────────┤┌───┴───┴───┐    ┌─┴─┐    └───────────┘├───────────┤┌───┴───┴───┐    ┌─┴─┐                                        \n",
       " q_7: ─┤ Ry(θ[7]) ├┤ Rz(θ[19]) ├──────────────────────────────────────────────────────────────────────────┤ X ├──────────■──────┤ Ry(θ[31]) ├┤ Rz(θ[43]) ├────┤ X ├──────────■──────┤ Ry(θ[55]) ├┤ Rz(θ[67]) ├────┤ X ├──────────■─────────────────────────────\n",
       "       ├──────────┤├───────────┤                                                                          └───┘        ┌─┴─┐    └───────────┘├───────────┤┌───┴───┴───┐    ┌─┴─┐    └───────────┘├───────────┤┌───┴───┴───┐    ┌─┴─┐                           \n",
       " q_8: ─┤ Ry(θ[8]) ├┤ Rz(θ[20]) ├───────────────────────────────────────────────────────────────────────────────────────┤ X ├──────────■──────┤ Ry(θ[32]) ├┤ Rz(θ[44]) ├────┤ X ├──────────■──────┤ Ry(θ[56]) ├┤ Rz(θ[68]) ├────┤ X ├──────────■────────────────\n",
       "       ├──────────┤├───────────┤                                                                                       └───┘        ┌─┴─┐    └───────────┘├───────────┤┌───┴───┴───┐    ┌─┴─┐    └───────────┘├───────────┤┌───┴───┴───┐    ┌─┴─┐              \n",
       " q_9: ─┤ Ry(θ[9]) ├┤ Rz(θ[21]) ├────────────────────────────────────────────────────────────────────────────────────────────────────┤ X ├──────────■──────┤ Ry(θ[33]) ├┤ Rz(θ[45]) ├────┤ X ├──────────■──────┤ Ry(θ[57]) ├┤ Rz(θ[69]) ├────┤ X ├──────■───────\n",
       "      ┌┴──────────┤├───────────┤                                                                                                    └───┘        ┌─┴─┐    └───────────┘├───────────┤┌───┴───┴───┐    ┌─┴─┐    └───────────┘├───────────┤┌───┴───┴───┐┌─┴─┐     \n",
       "q_10: ┤ Ry(θ[10]) ├┤ Rz(θ[22]) ├─────────────────────────────────────────────────────────────────────────────────────────────────────────────────┤ X ├──────────■──────┤ Ry(θ[34]) ├┤ Rz(θ[46]) ├────┤ X ├──────────■──────┤ Ry(θ[58]) ├┤ Rz(θ[70]) ├┤ X ├──■──\n",
       "      ├───────────┤├───────────┤                                                                                                                 └───┘        ┌─┴─┐    ├───────────┤├───────────┤    └───┘        ┌─┴─┐    ├───────────┤├───────────┤└───┘┌─┴─┐\n",
       "q_11: ┤ Ry(θ[11]) ├┤ Rz(θ[23]) ├──────────────────────────────────────────────────────────────────────────────────────────────────────────────────────────────┤ X ├────┤ Ry(θ[35]) ├┤ Rz(θ[47]) ├─────────────────┤ X ├────┤ Ry(θ[59]) ├┤ Rz(θ[71]) ├─────┤ X ├\n",
       "      └───────────┘└───────────┘                                                                                                                              └───┘    └───────────┘└───────────┘                 └───┘    └───────────┘└───────────┘     └───┘"
      ]
     },
     "execution_count": 16,
     "metadata": {},
     "output_type": "execute_result"
    }
   ],
   "source": [
    "# Construct ansatz from qiskit circuit library functions\n",
    "# See docs for full details\n",
    "ansatz = EfficientSU2(12, entanglement='linear', reps=3, skip_final_rotation_layer=True).decompose()\n",
    "ansatz.draw(fold=300)"
   ]
  },
  {
   "cell_type": "markdown",
   "id": "afe20ebe",
   "metadata": {},
   "source": [
    "Here's an example of building a custom ansatz. We'll continue using this one for the rest of the notebook."
   ]
  },
  {
   "cell_type": "code",
   "execution_count": 233,
   "id": "537b0f69",
   "metadata": {
    "scrolled": true
   },
   "outputs": [
    {
     "data": {
      "text/html": [
       "<pre style=\"word-wrap: normal;white-space: pre;background: #fff0;line-height: 1.1;font-family: &quot;Courier New&quot;,Courier,monospace\">      ┌───┐┌─────────┐ ┌─────────┐ ┌───┐     ┌──────────┐┌──────────┐┌──────────┐┌──────────┐   ┌───┐                          \n",
       " q_0: ┤ H ├┤ Rz(θ_0) ├─┤ Ry(θ_1) ├─┤ H ├──■──┤ Rx(θ_44) ├┤ Rx(θ_45) ├┤ Rz(θ_46) ├┤ Ry(θ_47) ├───┤ H ├───────────────────────■──\n",
       "      ├───┤├─────────┤ ├─────────┤ ├───┤┌─┴─┐├──────────┤├──────────┤└──┬───┬───┘└──────────┘┌──┴───┴───┐┌──────────┐┌───┐┌─┴─┐\n",
       " q_1: ┤ H ├┤ Rz(θ_2) ├─┤ Ry(θ_3) ├─┤ X ├┤ X ├┤ Rz(θ_24) ├┤ Ry(θ_25) ├───┤ H ├─────────■──────┤ Rz(θ_48) ├┤ Ry(θ_49) ├┤ X ├┤ X ├\n",
       "      ├───┤├─────────┤ ├─────────┤ ├───┤└───┘├──────────┤├──────────┤   ├───┤       ┌─┴─┐    ├──────────┤├──────────┤├───┤└───┘\n",
       " q_2: ┤ H ├┤ Rz(θ_4) ├─┤ Ry(θ_5) ├─┤ H ├──■──┤ Rz(θ_26) ├┤ Ry(θ_27) ├───┤ X ├───────┤ X ├────┤ Rz(θ_50) ├┤ Ry(θ_51) ├┤ H ├──■──\n",
       "      ├───┤├─────────┤ ├─────────┤ ├───┤┌─┴─┐├──────────┤├──────────┤   ├───┤       └───┘    ├──────────┤├──────────┤├───┤┌─┴─┐\n",
       " q_3: ┤ H ├┤ Rz(θ_6) ├─┤ Ry(θ_7) ├─┤ X ├┤ X ├┤ Rz(θ_28) ├┤ Ry(θ_29) ├───┤ H ├─────────■──────┤ Rz(θ_52) ├┤ Ry(θ_53) ├┤ X ├┤ X ├\n",
       "      ├───┤├─────────┤ ├─────────┤ ├───┤└───┘├──────────┤├──────────┤   ├───┤       ┌─┴─┐    ├──────────┤├──────────┤├───┤└───┘\n",
       " q_4: ┤ H ├┤ Rz(θ_8) ├─┤ Ry(θ_9) ├─┤ H ├──■──┤ Rz(θ_30) ├┤ Ry(θ_31) ├───┤ X ├───────┤ X ├────┤ Rz(θ_54) ├┤ Ry(θ_55) ├┤ H ├──■──\n",
       "      ├───┤├─────────┴┐├─────────┴┐├───┤┌─┴─┐├──────────┤├──────────┤   ├───┤       └───┘    ├──────────┤├──────────┤├───┤┌─┴─┐\n",
       " q_5: ┤ H ├┤ Rz(θ_10) ├┤ Ry(θ_11) ├┤ X ├┤ X ├┤ Rz(θ_32) ├┤ Ry(θ_33) ├───┤ H ├─────────■──────┤ Rz(θ_56) ├┤ Ry(θ_57) ├┤ X ├┤ X ├\n",
       "      ├───┤├──────────┤├──────────┤├───┤└───┘├──────────┤├──────────┤   ├───┤       ┌─┴─┐    ├──────────┤├──────────┤├───┤└───┘\n",
       " q_6: ┤ H ├┤ Rz(θ_12) ├┤ Ry(θ_13) ├┤ H ├──■──┤ Rz(θ_34) ├┤ Ry(θ_35) ├───┤ X ├───────┤ X ├────┤ Rz(θ_58) ├┤ Ry(θ_59) ├┤ H ├──■──\n",
       "      ├───┤├──────────┤├──────────┤├───┤┌─┴─┐├──────────┤├──────────┤   ├───┤       └───┘    ├──────────┤├──────────┤├───┤┌─┴─┐\n",
       " q_7: ┤ H ├┤ Rz(θ_14) ├┤ Ry(θ_15) ├┤ X ├┤ X ├┤ Rz(θ_36) ├┤ Ry(θ_37) ├───┤ H ├─────────■──────┤ Rz(θ_60) ├┤ Ry(θ_61) ├┤ X ├┤ X ├\n",
       "      ├───┤├──────────┤├──────────┤├───┤└───┘├──────────┤├──────────┤   ├───┤       ┌─┴─┐    ├──────────┤├──────────┤├───┤└───┘\n",
       " q_8: ┤ H ├┤ Rz(θ_16) ├┤ Ry(θ_17) ├┤ H ├──■──┤ Rz(θ_38) ├┤ Ry(θ_39) ├───┤ X ├───────┤ X ├────┤ Rz(θ_62) ├┤ Ry(θ_63) ├┤ H ├──■──\n",
       "      ├───┤├──────────┤├──────────┤├───┤┌─┴─┐├──────────┤├──────────┤   ├───┤       └───┘    ├──────────┤├──────────┤├───┤┌─┴─┐\n",
       " q_9: ┤ H ├┤ Rz(θ_18) ├┤ Ry(θ_19) ├┤ X ├┤ X ├┤ Rz(θ_40) ├┤ Ry(θ_41) ├───┤ H ├─────────■──────┤ Rz(θ_64) ├┤ Ry(θ_65) ├┤ X ├┤ X ├\n",
       "      ├───┤├──────────┤├──────────┤├───┤└───┘├──────────┤├──────────┤   ├───┤       ┌─┴─┐    ├──────────┤├──────────┤├───┤└───┘\n",
       "q_10: ┤ H ├┤ Rz(θ_20) ├┤ Ry(θ_21) ├┤ H ├──■──┤ Rz(θ_42) ├┤ Ry(θ_43) ├───┤ X ├───────┤ X ├────┤ Rz(θ_66) ├┤ Ry(θ_67) ├┤ H ├──■──\n",
       "      ├───┤├──────────┤├──────────┤├───┤┌─┴─┐├──────────┤├──────────┤   ├───┤       └───┘    └──────────┘└──────────┘└───┘┌─┴─┐\n",
       "q_11: ┤ H ├┤ Rz(θ_22) ├┤ Ry(θ_23) ├┤ X ├┤ X ├┤ Rz(θ_68) ├┤ Ry(θ_69) ├───┤ X ├─────────────────────────────────────────────┤ X ├\n",
       "      └───┘└──────────┘└──────────┘└───┘└───┘└──────────┘└──────────┘   └───┘                                             └───┘</pre>"
      ],
      "text/plain": [
       "      ┌───┐┌─────────┐ ┌─────────┐ ┌───┐     ┌──────────┐┌──────────┐┌──────────┐┌──────────┐   ┌───┐                          \n",
       " q_0: ┤ H ├┤ Rz(θ_0) ├─┤ Ry(θ_1) ├─┤ H ├──■──┤ Rx(θ_44) ├┤ Rx(θ_45) ├┤ Rz(θ_46) ├┤ Ry(θ_47) ├───┤ H ├───────────────────────■──\n",
       "      ├───┤├─────────┤ ├─────────┤ ├───┤┌─┴─┐├──────────┤├──────────┤└──┬───┬───┘└──────────┘┌──┴───┴───┐┌──────────┐┌───┐┌─┴─┐\n",
       " q_1: ┤ H ├┤ Rz(θ_2) ├─┤ Ry(θ_3) ├─┤ X ├┤ X ├┤ Rz(θ_24) ├┤ Ry(θ_25) ├───┤ H ├─────────■──────┤ Rz(θ_48) ├┤ Ry(θ_49) ├┤ X ├┤ X ├\n",
       "      ├───┤├─────────┤ ├─────────┤ ├───┤└───┘├──────────┤├──────────┤   ├───┤       ┌─┴─┐    ├──────────┤├──────────┤├───┤└───┘\n",
       " q_2: ┤ H ├┤ Rz(θ_4) ├─┤ Ry(θ_5) ├─┤ H ├──■──┤ Rz(θ_26) ├┤ Ry(θ_27) ├───┤ X ├───────┤ X ├────┤ Rz(θ_50) ├┤ Ry(θ_51) ├┤ H ├──■──\n",
       "      ├───┤├─────────┤ ├─────────┤ ├───┤┌─┴─┐├──────────┤├──────────┤   ├───┤       └───┘    ├──────────┤├──────────┤├───┤┌─┴─┐\n",
       " q_3: ┤ H ├┤ Rz(θ_6) ├─┤ Ry(θ_7) ├─┤ X ├┤ X ├┤ Rz(θ_28) ├┤ Ry(θ_29) ├───┤ H ├─────────■──────┤ Rz(θ_52) ├┤ Ry(θ_53) ├┤ X ├┤ X ├\n",
       "      ├───┤├─────────┤ ├─────────┤ ├───┤└───┘├──────────┤├──────────┤   ├───┤       ┌─┴─┐    ├──────────┤├──────────┤├───┤└───┘\n",
       " q_4: ┤ H ├┤ Rz(θ_8) ├─┤ Ry(θ_9) ├─┤ H ├──■──┤ Rz(θ_30) ├┤ Ry(θ_31) ├───┤ X ├───────┤ X ├────┤ Rz(θ_54) ├┤ Ry(θ_55) ├┤ H ├──■──\n",
       "      ├───┤├─────────┴┐├─────────┴┐├───┤┌─┴─┐├──────────┤├──────────┤   ├───┤       └───┘    ├──────────┤├──────────┤├───┤┌─┴─┐\n",
       " q_5: ┤ H ├┤ Rz(θ_10) ├┤ Ry(θ_11) ├┤ X ├┤ X ├┤ Rz(θ_32) ├┤ Ry(θ_33) ├───┤ H ├─────────■──────┤ Rz(θ_56) ├┤ Ry(θ_57) ├┤ X ├┤ X ├\n",
       "      ├───┤├──────────┤├──────────┤├───┤└───┘├──────────┤├──────────┤   ├───┤       ┌─┴─┐    ├──────────┤├──────────┤├───┤└───┘\n",
       " q_6: ┤ H ├┤ Rz(θ_12) ├┤ Ry(θ_13) ├┤ H ├──■──┤ Rz(θ_34) ├┤ Ry(θ_35) ├───┤ X ├───────┤ X ├────┤ Rz(θ_58) ├┤ Ry(θ_59) ├┤ H ├──■──\n",
       "      ├───┤├──────────┤├──────────┤├───┤┌─┴─┐├──────────┤├──────────┤   ├───┤       └───┘    ├──────────┤├──────────┤├───┤┌─┴─┐\n",
       " q_7: ┤ H ├┤ Rz(θ_14) ├┤ Ry(θ_15) ├┤ X ├┤ X ├┤ Rz(θ_36) ├┤ Ry(θ_37) ├───┤ H ├─────────■──────┤ Rz(θ_60) ├┤ Ry(θ_61) ├┤ X ├┤ X ├\n",
       "      ├───┤├──────────┤├──────────┤├───┤└───┘├──────────┤├──────────┤   ├───┤       ┌─┴─┐    ├──────────┤├──────────┤├───┤└───┘\n",
       " q_8: ┤ H ├┤ Rz(θ_16) ├┤ Ry(θ_17) ├┤ H ├──■──┤ Rz(θ_38) ├┤ Ry(θ_39) ├───┤ X ├───────┤ X ├────┤ Rz(θ_62) ├┤ Ry(θ_63) ├┤ H ├──■──\n",
       "      ├───┤├──────────┤├──────────┤├───┤┌─┴─┐├──────────┤├──────────┤   ├───┤       └───┘    ├──────────┤├──────────┤├───┤┌─┴─┐\n",
       " q_9: ┤ H ├┤ Rz(θ_18) ├┤ Ry(θ_19) ├┤ X ├┤ X ├┤ Rz(θ_40) ├┤ Ry(θ_41) ├───┤ H ├─────────■──────┤ Rz(θ_64) ├┤ Ry(θ_65) ├┤ X ├┤ X ├\n",
       "      ├───┤├──────────┤├──────────┤├───┤└───┘├──────────┤├──────────┤   ├───┤       ┌─┴─┐    ├──────────┤├──────────┤├───┤└───┘\n",
       "q_10: ┤ H ├┤ Rz(θ_20) ├┤ Ry(θ_21) ├┤ H ├──■──┤ Rz(θ_42) ├┤ Ry(θ_43) ├───┤ X ├───────┤ X ├────┤ Rz(θ_66) ├┤ Ry(θ_67) ├┤ H ├──■──\n",
       "      ├───┤├──────────┤├──────────┤├───┤┌─┴─┐├──────────┤├──────────┤   ├───┤       └───┘    └──────────┘└──────────┘└───┘┌─┴─┐\n",
       "q_11: ┤ H ├┤ Rz(θ_22) ├┤ Ry(θ_23) ├┤ X ├┤ X ├┤ Rz(θ_68) ├┤ Ry(θ_69) ├───┤ X ├─────────────────────────────────────────────┤ X ├\n",
       "      └───┘└──────────┘└──────────┘└───┘└───┘└──────────┘└──────────┘   └───┘                                             └───┘"
      ]
     },
     "execution_count": 233,
     "metadata": {},
     "output_type": "execute_result"
    }
   ],
   "source": [
    "# Build a custom ansatz from scratch\n",
    "ansatz_custom = QuantumCircuit(12)\n",
    "# build initial state\n",
    "ansatz_custom.h(range(0, 12, 1))\n",
    "#ansatz_custom.cx(range(0, 11, 2), range(1, 12, 2))\n",
    "# First layer\n",
    "j = 0\n",
    "for i in range(12):\n",
    "    ansatz_custom.rz(Parameter('θ_' + str(j)), i)\n",
    "    j += 1\n",
    "    ansatz_custom.ry(Parameter('θ_' + str(j)), i)\n",
    "    j += 1\n",
    "ansatz_custom.h(range(0, 12, 2))    # <-- Create bell state: 1/root(2)*(|01> + |10>)\n",
    "ansatz_custom.x(range(1, 13, 2))\n",
    "ansatz_custom.cx(range(0, 11, 2), range(1, 12, 2))\n",
    "\n",
    "# Second layer\n",
    "for i in range(1,11):\n",
    "    ansatz_custom.rz(Parameter('θ_' + str(j)), i)\n",
    "    j += 1\n",
    "    ansatz_custom.ry(Parameter('θ_' + str(j)), i)\n",
    "    j += 1\n",
    "ansatz_custom.h(range(1, 11, 2))    # <-- Create bell state: 1/root(2)*(|01> + |10>)\n",
    "ansatz_custom.x(range(2, 12, 2))\n",
    "ansatz_custom.cx(range(1, 10, 2), range(2, 11, 2))\n",
    "ansatz_custom.rx(Parameter('θ_' + str(j)), 0)\n",
    "j += 1\n",
    "ansatz_custom.rx(Parameter('θ_' + str(j)), 0)\n",
    "j += 1\n",
    "\n",
    "# Third Layer\n",
    "for i in range(12):\n",
    "    ansatz_custom.rz(Parameter('θ_' + str(j)), i)\n",
    "    j += 1\n",
    "    ansatz_custom.ry(Parameter('θ_' + str(j)), i)\n",
    "    j += 1\n",
    "ansatz_custom.h(range(0, 12, 2))    # <-- Create bell state: 1/root(2)*(|01> + |10>)\n",
    "ansatz_custom.x(range(1, 13, 2))\n",
    "ansatz_custom.cx(range(0, 11, 2), range(1, 12, 2))\n",
    "\n",
    "## Fourth layer\n",
    "#for i in range(1,11):\n",
    "#    ansatz_custom.rz(Parameter('θ_' + str(j)), i)\n",
    "#    j += 1\n",
    "#    ansatz_custom.ry(Parameter('θ_' + str(j)), i)\n",
    "#    j += 1\n",
    "#ansatz_custom.h(range(1, 11, 2))    # <-- Create bell state: 1/root(2)*(|01> + |10>)\n",
    "#ansatz_custom.x(range(2, 12, 2))\n",
    "#ansatz_custom.cx(range(1, 10, 2), range(2, 11, 2))\n",
    "#ansatz_custom.rx(Parameter('θ_' + str(j)), 11)\n",
    "#j += 1\n",
    "\n",
    "\n",
    "ansatz_custom.draw(fold=250)"
   ]
  },
  {
   "cell_type": "code",
   "execution_count": null,
   "id": "ba2f5d71",
   "metadata": {},
   "outputs": [],
   "source": [
    "# Build a custom ansatz from scratch\n",
    "ansatz_custom_2layer = QuantumCircuit(12)\n",
    "\n",
    "# Bind to the old circuit\n",
    "\n",
    "# First layer\n",
    "j = 0\n",
    "for i in range(12):\n",
    "    ansatz_custom_2layer.rz(Parameter('θ_' + str(j)), i)\n",
    "    j += 1\n",
    "    ansatz_custom_2layer.ry(Parameter('θ_' + str(j)), i)\n",
    "    j += 1\n",
    "ansatz_custom_2layer.h(range(0, 12, 2))    # <-- Create bell state: 1/root(2)*(|01> + |10>)\n",
    "ansatz_custom_2layer.x(range(1, 13, 2))\n",
    "ansatz_custom_2layer.cx(range(0, 11, 2), range(1, 12, 2))\n",
    "\n",
    "## Second layer\n",
    "#for i in range(1,11):\n",
    "#    ansatz_custom.rz(Parameter('θ_' + str(j)), i)\n",
    "#    j += 1\n",
    "#    ansatz_custom.ry(Parameter('θ_' + str(j)), i)\n",
    "#    j += 1\n",
    "#ansatz_custom.h(range(1, 11, 2))    # <-- Create bell state: 1/root(2)*(|01> + |10>)\n",
    "#ansatz_custom.x(range(2, 12, 2))\n",
    "#ansatz_custom.cx(range(1, 10, 2), range(2, 11, 2))\n",
    "#ansatz_custom.rx(Parameter('θ_' + str(j)), 0)\n",
    "#j += 1\n",
    "\n",
    "ansatz_custom.draw(fold=250)"
   ]
  },
  {
   "cell_type": "markdown",
   "id": "74e80449",
   "metadata": {},
   "source": [
    "### Match qubit layout\n",
    "The ansatz is currently defined over 12 qubits, but it will be executed on guadalupe which has 16 qubits. To make the ansatz compatible with guadalupe and the inflated Hamiltonian, we can specify the qubit layout on the real device using the transpiler (shown below). We exclude the four qubits with fewest neighbors."
   ]
  },
  {
   "cell_type": "code",
   "execution_count": 234,
   "id": "3665fe90",
   "metadata": {
    "scrolled": true
   },
   "outputs": [],
   "source": [
    "# Select the ansatz to test. \n",
    "#test_ansatz = ansatz1         # Single layer of Heis gates\n",
    "#test_ansatz = ansatz         # Efficient SU2 ansatz\n",
    "test_ansatz = ansatz_custom  # Open Science default custom ansatz\n",
    "#test_ansatz = ansatz_connect  # Here we go again... let's give it a try. Not too bad..."
   ]
  },
  {
   "cell_type": "code",
   "execution_count": 235,
   "id": "7cfdee38",
   "metadata": {},
   "outputs": [
    {
     "name": "stdout",
     "output_type": "stream",
     "text": [
      "number and type of gates in the cirucit: OrderedDict([('rz', 131), ('sx', 82), ('cx', 17)])\n",
      "number of parameters in the circuit: 70\n"
     ]
    },
    {
     "data": {
      "text/html": [
       "<pre style=\"word-wrap: normal;white-space: pre;background: #fff0;line-height: 1.1;font-family: &quot;Courier New&quot;,Courier,monospace\">global phase: π/2\n",
       "                                                                                                                                                                                                                                                                                       \n",
       " ancilla_0 -> 0 ───────────────────────────────────────────────────────────────────────────────────────────────────────────────────────────────────────────────────────────────────────────────────────────────────────────────────────────────────────────────────────────────────────\n",
       "                ┌─────────┐┌────┐┌─────────┐┌─────────┐ ┌────┐┌─────────────┐ ┌──────────┐┌────┐     ┌─────────┐    ┌────┐   ┌──────────────┐   ┌────────┐   ┌──────────────┐┌────┐┌──────────┐┌──────────┐     ┌────┐     ┌──────────────┐  ┌──────────┐     ┌────┐                   \n",
       "       q_0 -> 1 ┤ Rz(π/2) ├┤ √X ├┤ Rz(π/2) ├┤ Rz(θ_0) ├─┤ √X ├┤ Rz(θ_1 + π) ├─┤ Rz(-π/2) ├┤ √X ├──■──┤ Rz(π/2) ├────┤ √X ├───┤ Rz(θ_44 + π) ├───┤ Rz(-π) ├───┤ Rz(θ_45 + π) ├┤ √X ├┤ Rz(5π/2) ├┤ Rz(θ_46) ├─────┤ √X ├─────┤ Rz(θ_47 + π) ├──┤ Rz(-π/2) ├─────┤ √X ├─────■─────────────\n",
       "                ├─────────┤├────┤├─────────┤├─────────┤ ├────┤├─────────────┤ └┬────────┬┘├────┤┌─┴─┐├─────────┴┐   ├────┤   ├──────────────┤  ┌┴────────┴┐  └────┬────┬────┘└────┘├──────────┤└──┬────┬──┘┌────┴────┴────┐└──┬────────┬──┘  └──┬────┬──┘     └────┘   ┌─┴─┐           \n",
       "       q_1 -> 2 ┤ Rz(π/2) ├┤ √X ├┤ Rz(π/2) ├┤ Rz(θ_2) ├─┤ √X ├┤ Rz(θ_3 + π) ├──┤ Rz(-π) ├─┤ √X ├┤ X ├┤ Rz(θ_24) ├───┤ √X ├───┤ Rz(θ_25 + π) ├──┤ Rz(-π/2) ├───────┤ √X ├───────■───┤ Rz(θ_48) ├───┤ √X ├───┤ Rz(θ_49 + π) ├───┤ Rz(-π) ├────────┤ √X ├─────────────────┤ X ├───────────\n",
       "                ├─────────┤├────┤├─────────┤├─────────┤ ├────┤├─────────────┤ ┌┴────────┴┐├────┤└───┘├──────────┤   ├────┤   ├──────────────┤  └┬────────┬┘       ├────┤     ┌─┴─┐ ├──────────┤   ├────┤   ├──────────────┤  ┌┴────────┴┐       ├────┤                 └───┘           \n",
       "       q_2 -> 3 ┤ Rz(π/2) ├┤ √X ├┤ Rz(π/2) ├┤ Rz(θ_4) ├─┤ √X ├┤ Rz(θ_5 + π) ├─┤ Rz(-π/2) ├┤ √X ├──■──┤ Rz(θ_26) ├───┤ √X ├───┤ Rz(θ_27 + π) ├───┤ Rz(-π) ├────────┤ √X ├─────┤ X ├─┤ Rz(θ_50) ├───┤ √X ├───┤ Rz(θ_51 + π) ├──┤ Rz(-π/2) ├───────┤ √X ├───────────────────■─────────────\n",
       "                ├─────────┤├────┤├─────────┤├─────────┴┐├────┤├─────────────┴┐└┬────────┬┘├────┤  │  └──┬───┬───┘┌──┴────┴──┐└────┬────┬────┘┌──┴────────┴──┐   ┌─┴────┴─┐   ├───┴┐└──────────┘   └────┘   └──────────────┘  └──────────┘       └────┘                   │   ┌───┐     \n",
       "      q_11 -> 4 ┤ Rz(π/2) ├┤ √X ├┤ Rz(π/2) ├┤ Rz(θ_22) ├┤ √X ├┤ Rz(θ_23 + π) ├─┤ Rz(-π) ├─┤ √X ├──┼─────┤ X ├────┤ Rz(θ_68) ├─────┤ √X ├─────┤ Rz(θ_69 + π) ├───┤ Rz(-π) ├───┤ √X ├──────────────────────────────────────────────────────────────────────────────────────┼───┤ X ├─────\n",
       "                ├─────────┤├────┤├─────────┤├─────────┬┘├────┤├─────────────┬┘ ├────────┤ ├────┤┌─┴─┐   └─┬─┘    ├──────────┤     ├────┤     ├──────────────┤  ┌┴────────┴┐  ├────┤            ┌──────────┐     ┌────┐     ┌──────────────┐   ┌────────┐      ┌────┐   ┌─┴─┐ └─┬─┘     \n",
       "       q_3 -> 5 ┤ Rz(π/2) ├┤ √X ├┤ Rz(π/2) ├┤ Rz(θ_6) ├─┤ √X ├┤ Rz(θ_7 + π) ├──┤ Rz(-π) ├─┤ √X ├┤ X ├─────┼──────┤ Rz(θ_28) ├─────┤ √X ├─────┤ Rz(θ_29 + π) ├──┤ Rz(-π/2) ├──┤ √X ├─────■──────┤ Rz(θ_52) ├─────┤ √X ├─────┤ Rz(θ_53 + π) ├───┤ Rz(-π) ├──────┤ √X ├───┤ X ├───┼───────\n",
       "                └─────────┘└────┘└─────────┘└─────────┘ └────┘└─────────────┘  └────────┘ └────┘└───┘     │      └──────────┘     └────┘     └──────────────┘  └──────────┘  └────┘     │      └──────────┘     └────┘     └──────────────┘   └────────┘      └────┘   └───┘   │       \n",
       " ancilla_1 -> 6 ──────────────────────────────────────────────────────────────────────────────────────────┼─────────────────────────────────────────────────────────────────────────────┼──────────────────────────────────────────────────────────────────────────────────────┼───────\n",
       "                ┌─────────┐┌────┐┌─────────┐┌──────────┐┌────┐┌──────────────┐┌──────────┐┌────┐          │      ┌──────────┐     ┌────┐     ┌──────────────┐   ┌────────┐   ┌────┐     │         ┌───┐      ┌──────────┐       ┌────┐     ┌──────────────┐┌──────────┐┌────┐  │       \n",
       "      q_10 -> 7 ┤ Rz(π/2) ├┤ √X ├┤ Rz(π/2) ├┤ Rz(θ_20) ├┤ √X ├┤ Rz(θ_21 + π) ├┤ Rz(-π/2) ├┤ √X ├──────────■──────┤ Rz(θ_42) ├─────┤ √X ├─────┤ Rz(θ_43 + π) ├───┤ Rz(-π) ├───┤ √X ├─────┼─────────┤ X ├──────┤ Rz(θ_66) ├───────┤ √X ├─────┤ Rz(θ_67 + π) ├┤ Rz(-π/2) ├┤ √X ├──■───────\n",
       "                ├─────────┤├────┤├─────────┤├─────────┬┘├────┤├─────────────┬┘├──────────┤├────┤     ┌──────────┐└──┬────┬──┘┌────┴────┴────┐└──┬────────┬──┘   └─┬────┬─┘   └────┘   ┌─┴─┐       └─┬─┘      ├──────────┤       ├────┤     ├──────────────┤├──────────┤├────┤          \n",
       "       q_4 -> 8 ┤ Rz(π/2) ├┤ √X ├┤ Rz(π/2) ├┤ Rz(θ_8) ├─┤ √X ├┤ Rz(θ_9 + π) ├─┤ Rz(-π/2) ├┤ √X ├──■──┤ Rz(θ_30) ├───┤ √X ├───┤ Rz(θ_31 + π) ├───┤ Rz(-π) ├────────┤ √X ├──────────────┤ X ├─────────┼────────┤ Rz(θ_54) ├───────┤ √X ├─────┤ Rz(θ_55 + π) ├┤ Rz(-π/2) ├┤ √X ├───────■──\n",
       "                └─────────┘└────┘└─────────┘└─────────┘ └────┘└─────────────┘ └──────────┘└────┘  │  └──────────┘   └────┘   └──────────────┘   └────────┘        └────┘              └───┘         │        └──────────┘       └────┘     └──────────────┘└──────────┘└────┘       │  \n",
       " ancilla_2 -> 9 ──────────────────────────────────────────────────────────────────────────────────┼─────────────────────────────────────────────────────────────────────────────────────────────────┼───────────────────────────────────────────────────────────────────────────────┼──\n",
       "                ┌─────────┐┌────┐┌─────────┐┌──────────┐┌────┐┌──────────────┐ ┌────────┐ ┌────┐  │     ┌───┐    ┌──────────┐     ┌────┐     ┌──────────────┐  ┌──────────┐  ┌────┐                 │        ┌──────────┐       ┌────┐     ┌──────────────┐ ┌────────┐ ┌────┐┌───┐  │  \n",
       "      q_9 -> 10 ┤ Rz(π/2) ├┤ √X ├┤ Rz(π/2) ├┤ Rz(θ_18) ├┤ √X ├┤ Rz(θ_19 + π) ├─┤ Rz(-π) ├─┤ √X ├──┼─────┤ X ├────┤ Rz(θ_40) ├─────┤ √X ├─────┤ Rz(θ_41 + π) ├──┤ Rz(-π/2) ├──┤ √X ├─────────────────■────────┤ Rz(θ_64) ├───────┤ √X ├─────┤ Rz(θ_65 + π) ├─┤ Rz(-π) ├─┤ √X ├┤ X ├──┼──\n",
       "                ├─────────┤├────┤├─────────┤├──────────┤├────┤├──────────────┤ ├────────┤ ├────┤┌─┴─┐   └─┬─┘    ├──────────┤     ├────┤     ├──────────────┤  ├──────────┤  ├────┤                          ├──────────┤       ├────┤     ├──────────────┤ ├────────┤ ├────┤└─┬─┘┌─┴─┐\n",
       "      q_5 -> 11 ┤ Rz(π/2) ├┤ √X ├┤ Rz(π/2) ├┤ Rz(θ_10) ├┤ √X ├┤ Rz(θ_11 + π) ├─┤ Rz(-π) ├─┤ √X ├┤ X ├─────┼──────┤ Rz(θ_32) ├─────┤ √X ├─────┤ Rz(θ_33 + π) ├──┤ Rz(-π/2) ├──┤ √X ├─────────────────■────────┤ Rz(θ_56) ├───────┤ √X ├─────┤ Rz(θ_57 + π) ├─┤ Rz(-π) ├─┤ √X ├──┼──┤ X ├\n",
       "                ├─────────┤├────┤├─────────┤├──────────┤├────┤├──────────────┤┌┴────────┴┐├────┤└───┘     │      ├──────────┤     ├────┤     ├──────────────┤  └┬────────┬┘  ├────┤   ┌───┐         │        ├──────────┤       ├────┤     ├──────────────┤┌┴────────┴┐├────┤  │  └───┘\n",
       "      q_8 -> 12 ┤ Rz(π/2) ├┤ √X ├┤ Rz(π/2) ├┤ Rz(θ_16) ├┤ √X ├┤ Rz(θ_17 + π) ├┤ Rz(-π/2) ├┤ √X ├──────────■──────┤ Rz(θ_38) ├─────┤ √X ├─────┤ Rz(θ_39 + π) ├───┤ Rz(-π) ├───┤ √X ├───┤ X ├─────────┼────────┤ Rz(θ_62) ├───────┤ √X ├─────┤ Rz(θ_63 + π) ├┤ Rz(-π/2) ├┤ √X ├──■───────\n",
       "                ├─────────┤├────┤├─────────┤├──────────┤├────┤├──────────────┤└┬────────┬┘├────┤┌───┐┌──────────┐└──┬────┬──┘┌────┴────┴────┐└─┬──────────┬─┘   └─┬────┬─┘   └────┘   └─┬─┘         │        ├──────────┤       ├────┤     ├──────────────┤└┬────────┬┘├────┤┌───┐     \n",
       "      q_7 -> 13 ┤ Rz(π/2) ├┤ √X ├┤ Rz(π/2) ├┤ Rz(θ_14) ├┤ √X ├┤ Rz(θ_15 + π) ├─┤ Rz(-π) ├─┤ √X ├┤ X ├┤ Rz(θ_36) ├───┤ √X ├───┤ Rz(θ_37 + π) ├──┤ Rz(-π/2) ├───────┤ √X ├────────────────■───────────┼────────┤ Rz(θ_60) ├───────┤ √X ├─────┤ Rz(θ_61 + π) ├─┤ Rz(-π) ├─┤ √X ├┤ X ├─────\n",
       "                ├─────────┤├────┤├─────────┤├──────────┤├────┤├──────────────┤┌┴────────┴┐├────┤└─┬─┘├──────────┤   ├────┤   ├──────────────┤  └┬────────┬┘       ├────┤                          ┌─┴─┐      ├──────────┤       ├────┤     ├──────────────┤┌┴────────┴┐├────┤└─┬─┘     \n",
       "      q_6 -> 14 ┤ Rz(π/2) ├┤ √X ├┤ Rz(π/2) ├┤ Rz(θ_12) ├┤ √X ├┤ Rz(θ_13 + π) ├┤ Rz(-π/2) ├┤ √X ├──■──┤ Rz(θ_34) ├───┤ √X ├───┤ Rz(θ_35 + π) ├───┤ Rz(-π) ├────────┤ √X ├──────────────────────────┤ X ├──────┤ Rz(θ_58) ├───────┤ √X ├─────┤ Rz(θ_59 + π) ├┤ Rz(-π/2) ├┤ √X ├──■───────\n",
       "                └─────────┘└────┘└─────────┘└──────────┘└────┘└──────────────┘└──────────┘└────┘     └──────────┘   └────┘   └──────────────┘   └────────┘        └────┘                          └───┘      └──────────┘       └────┘     └──────────────┘└──────────┘└────┘          \n",
       "ancilla_3 -> 15 ───────────────────────────────────────────────────────────────────────────────────────────────────────────────────────────────────────────────────────────────────────────────────────────────────────────────────────────────────────────────────────────────────────\n",
       "                                                                                                                                                                                                                                                                                       </pre>"
      ],
      "text/plain": [
       "global phase: π/2\n",
       "                                                                                                                                                                                                                                                                                       \n",
       " ancilla_0 -> 0 ───────────────────────────────────────────────────────────────────────────────────────────────────────────────────────────────────────────────────────────────────────────────────────────────────────────────────────────────────────────────────────────────────────\n",
       "                ┌─────────┐┌────┐┌─────────┐┌─────────┐ ┌────┐┌─────────────┐ ┌──────────┐┌────┐     ┌─────────┐    ┌────┐   ┌──────────────┐   ┌────────┐   ┌──────────────┐┌────┐┌──────────┐┌──────────┐     ┌────┐     ┌──────────────┐  ┌──────────┐     ┌────┐                   \n",
       "       q_0 -> 1 ┤ Rz(π/2) ├┤ √X ├┤ Rz(π/2) ├┤ Rz(θ_0) ├─┤ √X ├┤ Rz(θ_1 + π) ├─┤ Rz(-π/2) ├┤ √X ├──■──┤ Rz(π/2) ├────┤ √X ├───┤ Rz(θ_44 + π) ├───┤ Rz(-π) ├───┤ Rz(θ_45 + π) ├┤ √X ├┤ Rz(5π/2) ├┤ Rz(θ_46) ├─────┤ √X ├─────┤ Rz(θ_47 + π) ├──┤ Rz(-π/2) ├─────┤ √X ├─────■─────────────\n",
       "                ├─────────┤├────┤├─────────┤├─────────┤ ├────┤├─────────────┤ └┬────────┬┘├────┤┌─┴─┐├─────────┴┐   ├────┤   ├──────────────┤  ┌┴────────┴┐  └────┬────┬────┘└────┘├──────────┤└──┬────┬──┘┌────┴────┴────┐└──┬────────┬──┘  └──┬────┬──┘     └────┘   ┌─┴─┐           \n",
       "       q_1 -> 2 ┤ Rz(π/2) ├┤ √X ├┤ Rz(π/2) ├┤ Rz(θ_2) ├─┤ √X ├┤ Rz(θ_3 + π) ├──┤ Rz(-π) ├─┤ √X ├┤ X ├┤ Rz(θ_24) ├───┤ √X ├───┤ Rz(θ_25 + π) ├──┤ Rz(-π/2) ├───────┤ √X ├───────■───┤ Rz(θ_48) ├───┤ √X ├───┤ Rz(θ_49 + π) ├───┤ Rz(-π) ├────────┤ √X ├─────────────────┤ X ├───────────\n",
       "                ├─────────┤├────┤├─────────┤├─────────┤ ├────┤├─────────────┤ ┌┴────────┴┐├────┤└───┘├──────────┤   ├────┤   ├──────────────┤  └┬────────┬┘       ├────┤     ┌─┴─┐ ├──────────┤   ├────┤   ├──────────────┤  ┌┴────────┴┐       ├────┤                 └───┘           \n",
       "       q_2 -> 3 ┤ Rz(π/2) ├┤ √X ├┤ Rz(π/2) ├┤ Rz(θ_4) ├─┤ √X ├┤ Rz(θ_5 + π) ├─┤ Rz(-π/2) ├┤ √X ├──■──┤ Rz(θ_26) ├───┤ √X ├───┤ Rz(θ_27 + π) ├───┤ Rz(-π) ├────────┤ √X ├─────┤ X ├─┤ Rz(θ_50) ├───┤ √X ├───┤ Rz(θ_51 + π) ├──┤ Rz(-π/2) ├───────┤ √X ├───────────────────■─────────────\n",
       "                ├─────────┤├────┤├─────────┤├─────────┴┐├────┤├─────────────┴┐└┬────────┬┘├────┤  │  └──┬───┬───┘┌──┴────┴──┐└────┬────┬────┘┌──┴────────┴──┐   ┌─┴────┴─┐   ├───┴┐└──────────┘   └────┘   └──────────────┘  └──────────┘       └────┘                   │   ┌───┐     \n",
       "      q_11 -> 4 ┤ Rz(π/2) ├┤ √X ├┤ Rz(π/2) ├┤ Rz(θ_22) ├┤ √X ├┤ Rz(θ_23 + π) ├─┤ Rz(-π) ├─┤ √X ├──┼─────┤ X ├────┤ Rz(θ_68) ├─────┤ √X ├─────┤ Rz(θ_69 + π) ├───┤ Rz(-π) ├───┤ √X ├──────────────────────────────────────────────────────────────────────────────────────┼───┤ X ├─────\n",
       "                ├─────────┤├────┤├─────────┤├─────────┬┘├────┤├─────────────┬┘ ├────────┤ ├────┤┌─┴─┐   └─┬─┘    ├──────────┤     ├────┤     ├──────────────┤  ┌┴────────┴┐  ├────┤            ┌──────────┐     ┌────┐     ┌──────────────┐   ┌────────┐      ┌────┐   ┌─┴─┐ └─┬─┘     \n",
       "       q_3 -> 5 ┤ Rz(π/2) ├┤ √X ├┤ Rz(π/2) ├┤ Rz(θ_6) ├─┤ √X ├┤ Rz(θ_7 + π) ├──┤ Rz(-π) ├─┤ √X ├┤ X ├─────┼──────┤ Rz(θ_28) ├─────┤ √X ├─────┤ Rz(θ_29 + π) ├──┤ Rz(-π/2) ├──┤ √X ├─────■──────┤ Rz(θ_52) ├─────┤ √X ├─────┤ Rz(θ_53 + π) ├───┤ Rz(-π) ├──────┤ √X ├───┤ X ├───┼───────\n",
       "                └─────────┘└────┘└─────────┘└─────────┘ └────┘└─────────────┘  └────────┘ └────┘└───┘     │      └──────────┘     └────┘     └──────────────┘  └──────────┘  └────┘     │      └──────────┘     └────┘     └──────────────┘   └────────┘      └────┘   └───┘   │       \n",
       " ancilla_1 -> 6 ──────────────────────────────────────────────────────────────────────────────────────────┼─────────────────────────────────────────────────────────────────────────────┼──────────────────────────────────────────────────────────────────────────────────────┼───────\n",
       "                ┌─────────┐┌────┐┌─────────┐┌──────────┐┌────┐┌──────────────┐┌──────────┐┌────┐          │      ┌──────────┐     ┌────┐     ┌──────────────┐   ┌────────┐   ┌────┐     │         ┌───┐      ┌──────────┐       ┌────┐     ┌──────────────┐┌──────────┐┌────┐  │       \n",
       "      q_10 -> 7 ┤ Rz(π/2) ├┤ √X ├┤ Rz(π/2) ├┤ Rz(θ_20) ├┤ √X ├┤ Rz(θ_21 + π) ├┤ Rz(-π/2) ├┤ √X ├──────────■──────┤ Rz(θ_42) ├─────┤ √X ├─────┤ Rz(θ_43 + π) ├───┤ Rz(-π) ├───┤ √X ├─────┼─────────┤ X ├──────┤ Rz(θ_66) ├───────┤ √X ├─────┤ Rz(θ_67 + π) ├┤ Rz(-π/2) ├┤ √X ├──■───────\n",
       "                ├─────────┤├────┤├─────────┤├─────────┬┘├────┤├─────────────┬┘├──────────┤├────┤     ┌──────────┐└──┬────┬──┘┌────┴────┴────┐└──┬────────┬──┘   └─┬────┬─┘   └────┘   ┌─┴─┐       └─┬─┘      ├──────────┤       ├────┤     ├──────────────┤├──────────┤├────┤          \n",
       "       q_4 -> 8 ┤ Rz(π/2) ├┤ √X ├┤ Rz(π/2) ├┤ Rz(θ_8) ├─┤ √X ├┤ Rz(θ_9 + π) ├─┤ Rz(-π/2) ├┤ √X ├──■──┤ Rz(θ_30) ├───┤ √X ├───┤ Rz(θ_31 + π) ├───┤ Rz(-π) ├────────┤ √X ├──────────────┤ X ├─────────┼────────┤ Rz(θ_54) ├───────┤ √X ├─────┤ Rz(θ_55 + π) ├┤ Rz(-π/2) ├┤ √X ├───────■──\n",
       "                └─────────┘└────┘└─────────┘└─────────┘ └────┘└─────────────┘ └──────────┘└────┘  │  └──────────┘   └────┘   └──────────────┘   └────────┘        └────┘              └───┘         │        └──────────┘       └────┘     └──────────────┘└──────────┘└────┘       │  \n",
       " ancilla_2 -> 9 ──────────────────────────────────────────────────────────────────────────────────┼─────────────────────────────────────────────────────────────────────────────────────────────────┼───────────────────────────────────────────────────────────────────────────────┼──\n",
       "                ┌─────────┐┌────┐┌─────────┐┌──────────┐┌────┐┌──────────────┐ ┌────────┐ ┌────┐  │     ┌───┐    ┌──────────┐     ┌────┐     ┌──────────────┐  ┌──────────┐  ┌────┐                 │        ┌──────────┐       ┌────┐     ┌──────────────┐ ┌────────┐ ┌────┐┌───┐  │  \n",
       "      q_9 -> 10 ┤ Rz(π/2) ├┤ √X ├┤ Rz(π/2) ├┤ Rz(θ_18) ├┤ √X ├┤ Rz(θ_19 + π) ├─┤ Rz(-π) ├─┤ √X ├──┼─────┤ X ├────┤ Rz(θ_40) ├─────┤ √X ├─────┤ Rz(θ_41 + π) ├──┤ Rz(-π/2) ├──┤ √X ├─────────────────■────────┤ Rz(θ_64) ├───────┤ √X ├─────┤ Rz(θ_65 + π) ├─┤ Rz(-π) ├─┤ √X ├┤ X ├──┼──\n",
       "                ├─────────┤├────┤├─────────┤├──────────┤├────┤├──────────────┤ ├────────┤ ├────┤┌─┴─┐   └─┬─┘    ├──────────┤     ├────┤     ├──────────────┤  ├──────────┤  ├────┤                          ├──────────┤       ├────┤     ├──────────────┤ ├────────┤ ├────┤└─┬─┘┌─┴─┐\n",
       "      q_5 -> 11 ┤ Rz(π/2) ├┤ √X ├┤ Rz(π/2) ├┤ Rz(θ_10) ├┤ √X ├┤ Rz(θ_11 + π) ├─┤ Rz(-π) ├─┤ √X ├┤ X ├─────┼──────┤ Rz(θ_32) ├─────┤ √X ├─────┤ Rz(θ_33 + π) ├──┤ Rz(-π/2) ├──┤ √X ├─────────────────■────────┤ Rz(θ_56) ├───────┤ √X ├─────┤ Rz(θ_57 + π) ├─┤ Rz(-π) ├─┤ √X ├──┼──┤ X ├\n",
       "                ├─────────┤├────┤├─────────┤├──────────┤├────┤├──────────────┤┌┴────────┴┐├────┤└───┘     │      ├──────────┤     ├────┤     ├──────────────┤  └┬────────┬┘  ├────┤   ┌───┐         │        ├──────────┤       ├────┤     ├──────────────┤┌┴────────┴┐├────┤  │  └───┘\n",
       "      q_8 -> 12 ┤ Rz(π/2) ├┤ √X ├┤ Rz(π/2) ├┤ Rz(θ_16) ├┤ √X ├┤ Rz(θ_17 + π) ├┤ Rz(-π/2) ├┤ √X ├──────────■──────┤ Rz(θ_38) ├─────┤ √X ├─────┤ Rz(θ_39 + π) ├───┤ Rz(-π) ├───┤ √X ├───┤ X ├─────────┼────────┤ Rz(θ_62) ├───────┤ √X ├─────┤ Rz(θ_63 + π) ├┤ Rz(-π/2) ├┤ √X ├──■───────\n",
       "                ├─────────┤├────┤├─────────┤├──────────┤├────┤├──────────────┤└┬────────┬┘├────┤┌───┐┌──────────┐└──┬────┬──┘┌────┴────┴────┐└─┬──────────┬─┘   └─┬────┬─┘   └────┘   └─┬─┘         │        ├──────────┤       ├────┤     ├──────────────┤└┬────────┬┘├────┤┌───┐     \n",
       "      q_7 -> 13 ┤ Rz(π/2) ├┤ √X ├┤ Rz(π/2) ├┤ Rz(θ_14) ├┤ √X ├┤ Rz(θ_15 + π) ├─┤ Rz(-π) ├─┤ √X ├┤ X ├┤ Rz(θ_36) ├───┤ √X ├───┤ Rz(θ_37 + π) ├──┤ Rz(-π/2) ├───────┤ √X ├────────────────■───────────┼────────┤ Rz(θ_60) ├───────┤ √X ├─────┤ Rz(θ_61 + π) ├─┤ Rz(-π) ├─┤ √X ├┤ X ├─────\n",
       "                ├─────────┤├────┤├─────────┤├──────────┤├────┤├──────────────┤┌┴────────┴┐├────┤└─┬─┘├──────────┤   ├────┤   ├──────────────┤  └┬────────┬┘       ├────┤                          ┌─┴─┐      ├──────────┤       ├────┤     ├──────────────┤┌┴────────┴┐├────┤└─┬─┘     \n",
       "      q_6 -> 14 ┤ Rz(π/2) ├┤ √X ├┤ Rz(π/2) ├┤ Rz(θ_12) ├┤ √X ├┤ Rz(θ_13 + π) ├┤ Rz(-π/2) ├┤ √X ├──■──┤ Rz(θ_34) ├───┤ √X ├───┤ Rz(θ_35 + π) ├───┤ Rz(-π) ├────────┤ √X ├──────────────────────────┤ X ├──────┤ Rz(θ_58) ├───────┤ √X ├─────┤ Rz(θ_59 + π) ├┤ Rz(-π/2) ├┤ √X ├──■───────\n",
       "                └─────────┘└────┘└─────────┘└──────────┘└────┘└──────────────┘└──────────┘└────┘     └──────────┘   └────┘   └──────────────┘   └────────┘        └────┘                          └───┘      └──────────┘       └────┘     └──────────────┘└──────────┘└────┘          \n",
       "ancilla_3 -> 15 ───────────────────────────────────────────────────────────────────────────────────────────────────────────────────────────────────────────────────────────────────────────────────────────────────────────────────────────────────────────────────────────────────────\n",
       "                                                                                                                                                                                                                                                                                       "
      ]
     },
     "execution_count": 235,
     "metadata": {},
     "output_type": "execute_result"
    }
   ],
   "source": [
    "# Force anstaz to be applied to qubits in the heavy hex.\n",
    "# Avoid the outer qubits 0, 6, 9, and 15 which we accounted for in the lattice definition.\n",
    "q_layout = [1, 2, 3, 5, 8, 11, 14, 13, 12, 10, 7, 4]\n",
    "ansatz_opt = transpile(test_ansatz, backend=guadalupe, initial_layout=q_layout)\n",
    "\n",
    "print('number and type of gates in the cirucit:', ansatz_opt.count_ops())\n",
    "print('number of parameters in the circuit:', ansatz_opt.num_parameters)\n",
    "ansatz_opt.draw(fold=300)"
   ]
  },
  {
   "cell_type": "markdown",
   "id": "987cd3f8",
   "metadata": {},
   "source": [
    "## 2-4 Choose a classical optimizer\n",
    "Select a [classical optimizer](https://qiskit.org/documentation/stubs/qiskit.algorithms.optimizers.html#local-optimizers). The classical optimizer will encounter errored and stochastic results from the quantum computer due to gate errors, measurement errors, and other noise sources as well as finite sampling affects [8]. Choose a classical optimizer that pairs well with your approach to VQE. Along with choosing a classical optimizer, picking an initial set of parameters plays a significant role in VQE. In this example, a random set of values is picked (shown in the `CustomVQE` class section 2-5).\n",
    "\n",
    "\\[8\\] \"Using models to improve optimizers for variational quantum algorithms\" K. Sung, et al. [arXiv:2005.11011v2](https://arxiv.org/abs/2005.11011v2) [quant-ph] (2020)"
   ]
  },
  {
   "cell_type": "code",
   "execution_count": 237,
   "id": "c98f0341",
   "metadata": {},
   "outputs": [],
   "source": [
    "from qiskit.algorithms.optimizers import SPSA\n",
    "\n",
    "optimizer = SPSA(maxiter=500)"
   ]
  },
  {
   "cell_type": "markdown",
   "id": "0fd2553d",
   "metadata": {},
   "source": [
    "## 2-5 Define custom VQE program\n",
    "The VQE calculation can be efficiently orchestrated between the quantum and classical computer using qiskit's [primitives](https://qiskit.org/documentation/apidoc/primitives.html). Below is a simple example of using the [Estimator primitive](https://qiskit.org/documentation/apidoc/primitives.html#overview-of-estimator) with your computer as a local simulator of a quantum computer. It's convenient to bring the components of VQE together into a custom class which we've called `CustomVQE`.\n",
    "\n",
    "If you want more control over the measurement results and how the expectation values are computed, use the [Sampler primitive](https://qiskit.org/documentation/apidoc/primitives.html#overview-of-sampler) which will output the probabilities (or quasi-probabilities) of every measured state instead of expectation values."
   ]
  },
  {
   "cell_type": "code",
   "execution_count": 163,
   "id": "8788607b",
   "metadata": {},
   "outputs": [],
   "source": [
    "from qiskit.algorithms import MinimumEigensolver, VQEResult\n",
    "\n",
    "# Define a custome VQE class to orchestra the ansatz, classical optimizers, \n",
    "# initial point, callback, and final result\n",
    "class CustomVQE(MinimumEigensolver):\n",
    "    \n",
    "    def __init__(self, estimator, circuit, optimizer, callback=None):\n",
    "        self._estimator = estimator\n",
    "        self._circuit = circuit\n",
    "        self._optimizer = optimizer\n",
    "        self._callback = callback\n",
    "        \n",
    "    def compute_minimum_eigenvalue(self, operators, aux_operators=None):\n",
    "                \n",
    "        # Define objective function to classically minimize over\n",
    "        def objective(x):\n",
    "            # Execute job with estimator primitive\n",
    "            job = self._estimator.run([self._circuit], [operators], [x], shots = 2048)\n",
    "            # Get results from jobs\n",
    "            est_result = job.result()\n",
    "            # Get the measured energy value\n",
    "            value = est_result.values[0]\n",
    "            # Save result information using callback function\n",
    "            if self._callback is not None:\n",
    "                self._callback(value, x)\n",
    "            return value\n",
    "            \n",
    "        # Select an initial point for the ansatzs' parameters\n",
    "        #x0 = np.pi/4 * np.random.rand(self._circuit.num_parameters)\n",
    "        x0 = [0]*self._circuit.num_parameters\n",
    "        \n",
    "        # Run optimization\n",
    "        res = self._optimizer.minimize(objective, x0=x0)\n",
    "        \n",
    "        # Populate VQE result\n",
    "        result = VQEResult()\n",
    "        result.cost_function_evals = res.nfev\n",
    "        result.eigenvalue = res.fun\n",
    "        result.optimal_parameters = res.x\n",
    "        return result, x0\n"
   ]
  },
  {
   "cell_type": "markdown",
   "id": "259d92d6",
   "metadata": {},
   "source": [
    "### Callback\n",
    "It's important to know what's going on between the classical and quantum computer during the optimization. What parameter values is the classical optimizer picking? How does the convergence to the ground state energy behave?\n",
    "\n",
    "Defining a callback function gives us a chance to peek in. A simple callback method is defined below. See [this tutorial](https://qiskit.org/documentation/tutorials/algorithms/02_vqe_convergence.html) for more information and be sure to read the classical [optimizers' docs](https://qiskit.org/documentation/stubs/qiskit.algorithms.optimizers.html) for what specific values can be extracted during optimization. For example [SPSA](https://qiskit.org/documentation/stubs/qiskit.algorithms.optimizers.SPSA.html#qiskit.algorithms.optimizers.SPSA) returns: (nfev, parameters, value, stepsize, accepted)."
   ]
  },
  {
   "cell_type": "code",
   "execution_count": 175,
   "id": "5419c2be",
   "metadata": {},
   "outputs": [],
   "source": [
    "# Define a simple callback function\n",
    "intermediate_info = []\n",
    "params_list = [] # Store the parameters that create the best value\n",
    "\n",
    "def callback(value, params):\n",
    "    intermediate_info.append(value)\n",
    "    params_list.append(params)"
   ]
  },
  {
   "cell_type": "code",
   "execution_count": 165,
   "id": "c6b9574c",
   "metadata": {},
   "outputs": [],
   "source": [
    "optimal_params = []\n",
    "Run_num = 0"
   ]
  },
  {
   "cell_type": "markdown",
   "id": "3bfd86fb",
   "metadata": {},
   "source": [
    "## 2-6 Execute simulated VQE\n",
    "The VQE is built! Time to test it out on a simulator. This may take a few seconds."
   ]
  },
  {
   "cell_type": "code",
   "execution_count": 166,
   "id": "cf6bf162",
   "metadata": {},
   "outputs": [],
   "source": [
    "from qiskit.primitives import Estimator, Sampler"
   ]
  },
  {
   "cell_type": "code",
   "execution_count": 167,
   "id": "47b89c55",
   "metadata": {},
   "outputs": [],
   "source": [
    "import winsound"
   ]
  },
  {
   "cell_type": "code",
   "execution_count": 238,
   "id": "6c110912",
   "metadata": {
    "scrolled": true
   },
   "outputs": [
    {
     "name": "stdout",
     "output_type": "stream",
     "text": [
      "{   'aux_operator_eigenvalues': None,\n",
      "    'cost_function_evals': 1000,\n",
      "    'eigenstate': None,\n",
      "    'eigenvalue': -17.86009265925459,\n",
      "    'optimal_circuit': None,\n",
      "    'optimal_parameters': array([ 0.03913241,  0.08869226,  1.58828433, -1.28600184,  0.01754232,\n",
      "       -3.1129836 , -2.13077125, -2.56738753, -0.69370955,  0.00744212,\n",
      "       -0.11462455, -0.15944766,  0.14747393,  0.0909524 , -0.03324817,\n",
      "        0.68780079,  4.70809991, -2.51943517,  1.74809225, -0.24374899,\n",
      "        0.7604378 ,  1.40340077, -0.88310572,  1.43479307, -0.89555967,\n",
      "        2.5497251 , -1.16232832, -0.51214271,  0.58265228,  1.63783948,\n",
      "        1.08116445, -0.39631925,  1.54934216, -0.06697468,  0.01070777,\n",
      "        3.15884877, -2.85240949, -1.19231581, -1.02602908,  0.84359748,\n",
      "        1.71233542, -1.5207811 , -0.5972961 ,  0.97769025, -0.06398073,\n",
      "       -0.00870699, -0.18862281,  0.78923635, -1.13113183, -0.08785518,\n",
      "       -0.17868407, -0.63212346,  0.77357458,  0.63386447, -3.10281667,\n",
      "        1.49397162,  0.65468848,  0.1742135 ,  0.14353409, -0.0327277 ,\n",
      "       -0.77239514,  0.53029994, -0.27781319,  0.04264208, -1.03001462,\n",
      "        1.55952879, -2.47539099, -1.48672433,  0.08279928, -3.01451746]),\n",
      "    'optimal_point': None,\n",
      "    'optimal_value': None,\n",
      "    'optimizer_evals': None,\n",
      "    'optimizer_result': None,\n",
      "    'optimizer_time': None}\n",
      "execution time (s): 637.82\n"
     ]
    }
   ],
   "source": [
    "# Define instance of qiskit-terra's Estimator primitive\n",
    "estimator = Estimator([ansatz_opt], [ham_16])\n",
    "\n",
    "# Setup VQE algorithm\n",
    "custom_vqe = CustomVQE(estimator, ansatz_opt, optimizer, callback=callback)\n",
    "\n",
    "# Run the custom VQE function and monitor execution time\n",
    "start = time()\n",
    "result, initial_points = custom_vqe.compute_minimum_eigenvalue(ham_16)\n",
    "end = time()\n",
    "\n",
    "print(result)\n",
    "print(f'execution time (s): {end - start:.2f}')\n",
    "winsound.Beep(325, 325)"
   ]
  },
  {
   "cell_type": "code",
   "execution_count": 242,
   "id": "97460803",
   "metadata": {
    "scrolled": true
   },
   "outputs": [
    {
     "name": "stdout",
     "output_type": "stream",
     "text": [
      "-17.86009265925459 : 2052\n",
      "[0.039132414908475216, 0.08869226331468366, 1.5882843319646531, -1.286001843939254, 0.017542323528775612, -3.1129835952058764, -2.1307712529140357, -2.56738752903172, -0.6937095481200861, 0.007442119156307353, -0.11462454707676076, -0.15944765758865484, 0.147473925635947, 0.090952400197258, -0.03324817248632682, 0.6878007917527036, 4.708099914674626, -2.5194351720717894, 1.7480922527322866, -0.24374899389209964, 0.7604377981996437, 1.4034007688093586, -0.883105718332792, 1.434793074637571, -0.8955596733527846, 2.549725098088919, -1.1623283179686805, -0.512142705994866, 0.5826522812580801, 1.637839480045472, 1.0811644526161357, -0.39631925460535855, 1.5493421607581215, -0.06697468247756333, 0.010707772762240265, 3.1588487702411916, -2.8524094943610603, -1.1923158102909432, -1.026029082880587, 0.843597483416666, 1.7123354248729326, -1.5207810969218, -0.5972960960451354, 0.9776902541964552, -0.06398072609640304, -0.008706992372910826, -0.1886228139508264, 0.789236352484882, -1.1311318295083923, -0.08785518375804352, -0.17868406681343815, -0.632123460084103, 0.7735745817011226, 0.6338644736628434, -3.102816669534695, 1.4939716234448077, 0.654688480483794, 0.1742135032714712, 0.14353409359535949, -0.03272770306188361, -0.7723951435307501, 0.5302999392455316, -0.27781319359553913, 0.04264207818435907, -1.0300146232199567, 1.5595287935678093, -2.4753909868988986, -1.4867243314908192, 0.08279928359849009, -3.014517463686639]\n",
      "2053\n"
     ]
    }
   ],
   "source": [
    "minval = min(intermediate_info)\n",
    "minidx = intermediate_info.index(minval)\n",
    "print(str(minval) + ' : ' + str(minidx))\n",
    "print(params_list[minidx].tolist())\n",
    "print(len(intermediate_info))"
   ]
  },
  {
   "cell_type": "code",
   "execution_count": 240,
   "id": "61ed53ee",
   "metadata": {},
   "outputs": [
    {
     "data": {
      "image/png": "[encoded data removed]",
      "text/plain": [
       "<Figure size 640x480 with 1 Axes>"
      ]
     },
     "metadata": {},
     "output_type": "display_data"
    }
   ],
   "source": [
    "plt.plot(intermediate_info, color='purple', lw=2, label='Simulated VQE')\n",
    "plt.ylabel('Energy')\n",
    "plt.xlabel('Iterations')\n",
    "# Exact ground state energy value\n",
    "plt.axhline(y=gs_energy, color=\"tab:red\", ls=\"--\", lw=2, label=\"Target: \" + str(gs_energy))\n",
    "plt.legend()\n",
    "plt.grid()\n",
    "plt.show()"
   ]
  },
  {
   "cell_type": "code",
   "execution_count": 91,
   "id": "d8467abb",
   "metadata": {},
   "outputs": [],
   "source": [
    "near_optimal_parameters = result.optimal_parameters"
   ]
  },
  {
   "cell_type": "code",
   "execution_count": 223,
   "id": "34b8a473",
   "metadata": {},
   "outputs": [
    {
     "data": {
      "text/html": [
       "<pre style=\"word-wrap: normal;white-space: pre;background: #fff0;line-height: 1.1;font-family: &quot;Courier New&quot;,Courier,monospace\">      ┌──────────┐┌──────────┐┌───┐                                       \n",
       " q_0: ┤ Rz(θ_20) ├┤ Ry(θ_21) ├┤ H ├────────────────────────────────────■──\n",
       "      ├─────────┬┘├─────────┬┘├───┤     ┌──────────┐┌──────────┐┌───┐┌─┴─┐\n",
       " q_1: ┤ Rz(θ_0) ├─┤ Ry(θ_1) ├─┤ H ├──■──┤ Rz(θ_22) ├┤ Ry(θ_23) ├┤ X ├┤ X ├\n",
       "      ├─────────┤ ├─────────┤ ├───┤┌─┴─┐├──────────┤├──────────┤├───┤└───┘\n",
       " q_2: ┤ Rz(θ_2) ├─┤ Ry(θ_3) ├─┤ X ├┤ X ├┤ Rz(θ_24) ├┤ Ry(θ_25) ├┤ H ├──■──\n",
       "      ├─────────┤ ├─────────┤ ├───┤└───┘├──────────┤├──────────┤├───┤┌─┴─┐\n",
       " q_3: ┤ Rz(θ_4) ├─┤ Ry(θ_5) ├─┤ H ├──■──┤ Rz(θ_26) ├┤ Ry(θ_27) ├┤ X ├┤ X ├\n",
       "      ├─────────┤ ├─────────┤ ├───┤┌─┴─┐├──────────┤├──────────┤├───┤└───┘\n",
       " q_4: ┤ Rz(θ_6) ├─┤ Ry(θ_7) ├─┤ X ├┤ X ├┤ Rz(θ_28) ├┤ Ry(θ_29) ├┤ H ├──■──\n",
       "      ├─────────┤ ├─────────┤ ├───┤└───┘├──────────┤├──────────┤├───┤┌─┴─┐\n",
       " q_5: ┤ Rz(θ_8) ├─┤ Ry(θ_9) ├─┤ H ├──■──┤ Rz(θ_30) ├┤ Ry(θ_31) ├┤ X ├┤ X ├\n",
       "      ├─────────┴┐├─────────┴┐├───┤┌─┴─┐├──────────┤├──────────┤├───┤└───┘\n",
       " q_6: ┤ Rz(θ_10) ├┤ Ry(θ_11) ├┤ X ├┤ X ├┤ Rz(θ_32) ├┤ Ry(θ_33) ├┤ H ├──■──\n",
       "      ├──────────┤├──────────┤├───┤└───┘├──────────┤├──────────┤├───┤┌─┴─┐\n",
       " q_7: ┤ Rz(θ_12) ├┤ Ry(θ_13) ├┤ H ├──■──┤ Rz(θ_34) ├┤ Ry(θ_35) ├┤ X ├┤ X ├\n",
       "      ├──────────┤├──────────┤├───┤┌─┴─┐├──────────┤├──────────┤├───┤└───┘\n",
       " q_8: ┤ Rz(θ_14) ├┤ Ry(θ_15) ├┤ X ├┤ X ├┤ Rz(θ_36) ├┤ Ry(θ_37) ├┤ H ├──■──\n",
       "      ├──────────┤├──────────┤├───┤└───┘├──────────┤├──────────┤├───┤┌─┴─┐\n",
       " q_9: ┤ Rz(θ_16) ├┤ Ry(θ_17) ├┤ H ├──■──┤ Rz(θ_38) ├┤ Ry(θ_39) ├┤ X ├┤ X ├\n",
       "      ├──────────┤├──────────┤├───┤┌─┴─┐├──────────┤├──────────┤├───┤└───┘\n",
       "q_10: ┤ Rz(θ_18) ├┤ Ry(θ_19) ├┤ X ├┤ X ├┤ Rz(θ_40) ├┤ Ry(θ_41) ├┤ H ├──■──\n",
       "      ├──────────┤├──────────┤├───┤└───┘└──────────┘└──────────┘└───┘┌─┴─┐\n",
       "q_11: ┤ Rz(θ_42) ├┤ Ry(θ_43) ├┤ X ├──────────────────────────────────┤ X ├\n",
       "      └──────────┘└──────────┘└───┘                                  └───┘</pre>"
      ],
      "text/plain": [
       "      ┌──────────┐┌──────────┐┌───┐                                       \n",
       " q_0: ┤ Rz(θ_20) ├┤ Ry(θ_21) ├┤ H ├────────────────────────────────────■──\n",
       "      ├─────────┬┘├─────────┬┘├───┤     ┌──────────┐┌──────────┐┌───┐┌─┴─┐\n",
       " q_1: ┤ Rz(θ_0) ├─┤ Ry(θ_1) ├─┤ H ├──■──┤ Rz(θ_22) ├┤ Ry(θ_23) ├┤ X ├┤ X ├\n",
       "      ├─────────┤ ├─────────┤ ├───┤┌─┴─┐├──────────┤├──────────┤├───┤└───┘\n",
       " q_2: ┤ Rz(θ_2) ├─┤ Ry(θ_3) ├─┤ X ├┤ X ├┤ Rz(θ_24) ├┤ Ry(θ_25) ├┤ H ├──■──\n",
       "      ├─────────┤ ├─────────┤ ├───┤└───┘├──────────┤├──────────┤├───┤┌─┴─┐\n",
       " q_3: ┤ Rz(θ_4) ├─┤ Ry(θ_5) ├─┤ H ├──■──┤ Rz(θ_26) ├┤ Ry(θ_27) ├┤ X ├┤ X ├\n",
       "      ├─────────┤ ├─────────┤ ├───┤┌─┴─┐├──────────┤├──────────┤├───┤└───┘\n",
       " q_4: ┤ Rz(θ_6) ├─┤ Ry(θ_7) ├─┤ X ├┤ X ├┤ Rz(θ_28) ├┤ Ry(θ_29) ├┤ H ├──■──\n",
       "      ├─────────┤ ├─────────┤ ├───┤└───┘├──────────┤├──────────┤├───┤┌─┴─┐\n",
       " q_5: ┤ Rz(θ_8) ├─┤ Ry(θ_9) ├─┤ H ├──■──┤ Rz(θ_30) ├┤ Ry(θ_31) ├┤ X ├┤ X ├\n",
       "      ├─────────┴┐├─────────┴┐├───┤┌─┴─┐├──────────┤├──────────┤├───┤└───┘\n",
       " q_6: ┤ Rz(θ_10) ├┤ Ry(θ_11) ├┤ X ├┤ X ├┤ Rz(θ_32) ├┤ Ry(θ_33) ├┤ H ├──■──\n",
       "      ├──────────┤├──────────┤├───┤└───┘├──────────┤├──────────┤├───┤┌─┴─┐\n",
       " q_7: ┤ Rz(θ_12) ├┤ Ry(θ_13) ├┤ H ├──■──┤ Rz(θ_34) ├┤ Ry(θ_35) ├┤ X ├┤ X ├\n",
       "      ├──────────┤├──────────┤├───┤┌─┴─┐├──────────┤├──────────┤├───┤└───┘\n",
       " q_8: ┤ Rz(θ_14) ├┤ Ry(θ_15) ├┤ X ├┤ X ├┤ Rz(θ_36) ├┤ Ry(θ_37) ├┤ H ├──■──\n",
       "      ├──────────┤├──────────┤├───┤└───┘├──────────┤├──────────┤├───┤┌─┴─┐\n",
       " q_9: ┤ Rz(θ_16) ├┤ Ry(θ_17) ├┤ H ├──■──┤ Rz(θ_38) ├┤ Ry(θ_39) ├┤ X ├┤ X ├\n",
       "      ├──────────┤├──────────┤├───┤┌─┴─┐├──────────┤├──────────┤├───┤└───┘\n",
       "q_10: ┤ Rz(θ_18) ├┤ Ry(θ_19) ├┤ X ├┤ X ├┤ Rz(θ_40) ├┤ Ry(θ_41) ├┤ H ├──■──\n",
       "      ├──────────┤├──────────┤├───┤└───┘└──────────┘└──────────┘└───┘┌─┴─┐\n",
       "q_11: ┤ Rz(θ_42) ├┤ Ry(θ_43) ├┤ X ├──────────────────────────────────┤ X ├\n",
       "      └──────────┘└──────────┘└───┘                                  └───┘"
      ]
     },
     "execution_count": 223,
     "metadata": {},
     "output_type": "execute_result"
    }
   ],
   "source": [
    "# Build a custom ansatz from scratch\n",
    "ansatz_next_layer = QuantumCircuit(12)\n",
    "\n",
    "# Next layer\n",
    "j = 0\n",
    "for i in range(1,11):\n",
    "    ansatz_next_layer.rz(Parameter('θ_' + str(j)), i)\n",
    "    j += 1\n",
    "    ansatz_next_layer.ry(Parameter('θ_' + str(j)), i)\n",
    "    j += 1\n",
    "ansatz_next_layer.h(range(1, 11, 2))    # <-- Create bell state: 1/root(2)*(|01> + |10>)\n",
    "ansatz_next_layer.x(range(2, 12, 2))\n",
    "ansatz_next_layer.cx(range(1, 11, 2), range(2, 12, 2))\n",
    "    \n",
    "for i in range(0,12):\n",
    "    ansatz_next_layer.rz(Parameter('θ_' + str(j)), i)\n",
    "    j += 1\n",
    "    ansatz_next_layer.ry(Parameter('θ_' + str(j)), i)\n",
    "    j += 1\n",
    "ansatz_next_layer.h(range(0, 11, 2))    # <-- Create bell state: 1/root(2)*(|01> + |10>)\n",
    "ansatz_next_layer.x(range(1, 12, 2))\n",
    "ansatz_next_layer.cx(range(0, 11, 2), range(1, 12, 2))\n",
    "\n",
    "ansatz_next_layer.draw(fold=250)"
   ]
  },
  {
   "cell_type": "code",
   "execution_count": 224,
   "id": "30cef33b",
   "metadata": {
    "scrolled": true
   },
   "outputs": [
    {
     "name": "stdout",
     "output_type": "stream",
     "text": [
      "number and type of gates in the cirucit: OrderedDict([('rz', 66), ('sx', 44), ('cx', 11)])\n",
      "number of parameters in the circuit: 44\n"
     ]
    },
    {
     "data": {
      "text/html": [
       "<pre style=\"word-wrap: normal;white-space: pre;background: #fff0;line-height: 1.1;font-family: &quot;Courier New&quot;,Courier,monospace\">global phase: 2π\n",
       "                                                                                                                                                             \n",
       " ancilla_0 -> 0 ─────────────────────────────────────────────────────────────────────────────────────────────────────────────────────────────────────────────\n",
       "                ┌──────────┐┌────┐┌──────────────┐┌──────────┐┌────┐                                                                                         \n",
       "       q_0 -> 1 ┤ Rz(θ_20) ├┤ √X ├┤ Rz(θ_21 + π) ├┤ Rz(-π/2) ├┤ √X ├───────────────────────────────────────────────────────────────────────────■─────────────\n",
       "                ├─────────┬┘├────┤├─────────────┬┘├──────────┤├────┤     ┌──────────┐   ┌────┐   ┌──────────────┐   ┌────────┐      ┌────┐   ┌─┴─┐           \n",
       "       q_1 -> 2 ┤ Rz(θ_0) ├─┤ √X ├┤ Rz(θ_1 + π) ├─┤ Rz(-π/2) ├┤ √X ├──■──┤ Rz(θ_22) ├───┤ √X ├───┤ Rz(θ_23 + π) ├───┤ Rz(-π) ├──────┤ √X ├───┤ X ├───────────\n",
       "                ├─────────┤ ├────┤├─────────────┤ └┬────────┬┘├────┤┌─┴─┐├──────────┤   ├────┤   ├──────────────┤  ┌┴────────┴┐     ├────┤   └───┘           \n",
       "       q_2 -> 3 ┤ Rz(θ_2) ├─┤ √X ├┤ Rz(θ_3 + π) ├──┤ Rz(-π) ├─┤ √X ├┤ X ├┤ Rz(θ_24) ├───┤ √X ├───┤ Rz(θ_25 + π) ├──┤ Rz(-π/2) ├─────┤ √X ├─────■─────────────\n",
       "                ├─────────┴┐├────┤├─────────────┴┐ ├────────┤ ├────┤└───┘└──────────┘   └────┘   └──────────────┘  └──────────┘     └────┘     │   ┌───┐     \n",
       "      q_11 -> 4 ┤ Rz(θ_42) ├┤ √X ├┤ Rz(θ_43 + π) ├─┤ Rz(-π) ├─┤ √X ├───────────────────────────────────────────────────────────────────────────┼───┤ X ├─────\n",
       "                ├─────────┬┘├────┤├─────────────┬┘┌┴────────┴┐├────┤     ┌──────────┐   ┌────┐   ┌──────────────┐   ┌────────┐      ┌────┐   ┌─┴─┐ └─┬─┘     \n",
       "       q_3 -> 5 ┤ Rz(θ_4) ├─┤ √X ├┤ Rz(θ_5 + π) ├─┤ Rz(-π/2) ├┤ √X ├──■──┤ Rz(θ_26) ├───┤ √X ├───┤ Rz(θ_27 + π) ├───┤ Rz(-π) ├──────┤ √X ├───┤ X ├───┼───────\n",
       "                └─────────┘ └────┘└─────────────┘ └──────────┘└────┘  │  └──────────┘   └────┘   └──────────────┘   └────────┘      └────┘   └───┘   │       \n",
       " ancilla_1 -> 6 ──────────────────────────────────────────────────────┼──────────────────────────────────────────────────────────────────────────────┼───────\n",
       "                ┌──────────┐┌────┐┌──────────────┐ ┌────────┐ ┌────┐  │     ┌───┐    ┌──────────┐     ┌────┐     ┌──────────────┐┌──────────┐┌────┐  │       \n",
       "      q_10 -> 7 ┤ Rz(θ_18) ├┤ √X ├┤ Rz(θ_19 + π) ├─┤ Rz(-π) ├─┤ √X ├──┼─────┤ X ├────┤ Rz(θ_40) ├─────┤ √X ├─────┤ Rz(θ_41 + π) ├┤ Rz(-π/2) ├┤ √X ├──■───────\n",
       "                ├─────────┬┘├────┤├─────────────┬┘ ├────────┤ ├────┤┌─┴─┐   └─┬─┘    ├──────────┤     ├────┤     ├──────────────┤├──────────┤├────┤          \n",
       "       q_4 -> 8 ┤ Rz(θ_6) ├─┤ √X ├┤ Rz(θ_7 + π) ├──┤ Rz(-π) ├─┤ √X ├┤ X ├─────┼──────┤ Rz(θ_28) ├─────┤ √X ├─────┤ Rz(θ_29 + π) ├┤ Rz(-π/2) ├┤ √X ├───────■──\n",
       "                └─────────┘ └────┘└─────────────┘  └────────┘ └────┘└───┘     │      └──────────┘     └────┘     └──────────────┘└──────────┘└────┘       │  \n",
       " ancilla_2 -> 9 ──────────────────────────────────────────────────────────────┼───────────────────────────────────────────────────────────────────────────┼──\n",
       "                ┌──────────┐┌────┐┌──────────────┐┌──────────┐┌────┐          │      ┌──────────┐     ┌────┐     ┌──────────────┐ ┌────────┐ ┌────┐┌───┐  │  \n",
       "      q_9 -> 10 ┤ Rz(θ_16) ├┤ √X ├┤ Rz(θ_17 + π) ├┤ Rz(-π/2) ├┤ √X ├──────────■──────┤ Rz(θ_38) ├─────┤ √X ├─────┤ Rz(θ_39 + π) ├─┤ Rz(-π) ├─┤ √X ├┤ X ├──┼──\n",
       "                ├─────────┬┘├────┤├─────────────┬┘├──────────┤├────┤                 ├──────────┤     ├────┤     ├──────────────┤ ├────────┤ ├────┤└─┬─┘┌─┴─┐\n",
       "      q_5 -> 11 ┤ Rz(θ_8) ├─┤ √X ├┤ Rz(θ_9 + π) ├─┤ Rz(-π/2) ├┤ √X ├──────────■──────┤ Rz(θ_30) ├─────┤ √X ├─────┤ Rz(θ_31 + π) ├─┤ Rz(-π) ├─┤ √X ├──┼──┤ X ├\n",
       "                ├─────────┴┐├────┤├─────────────┴┐└┬────────┬┘├────┤┌───┐     │      ├──────────┤     ├────┤     ├──────────────┤┌┴────────┴┐├────┤  │  └───┘\n",
       "      q_8 -> 12 ┤ Rz(θ_14) ├┤ √X ├┤ Rz(θ_15 + π) ├─┤ Rz(-π) ├─┤ √X ├┤ X ├─────┼──────┤ Rz(θ_36) ├─────┤ √X ├─────┤ Rz(θ_37 + π) ├┤ Rz(-π/2) ├┤ √X ├──■───────\n",
       "                ├──────────┤├────┤├──────────────┤┌┴────────┴┐├────┤└─┬─┘     │      ├──────────┤     ├────┤     ├──────────────┤└┬────────┬┘├────┤┌───┐     \n",
       "      q_7 -> 13 ┤ Rz(θ_12) ├┤ √X ├┤ Rz(θ_13 + π) ├┤ Rz(-π/2) ├┤ √X ├──■───────┼──────┤ Rz(θ_34) ├─────┤ √X ├─────┤ Rz(θ_35 + π) ├─┤ Rz(-π) ├─┤ √X ├┤ X ├─────\n",
       "                ├──────────┤├────┤├──────────────┤└┬────────┬┘├────┤        ┌─┴─┐    ├──────────┤     ├────┤     ├──────────────┤┌┴────────┴┐├────┤└─┬─┘     \n",
       "      q_6 -> 14 ┤ Rz(θ_10) ├┤ √X ├┤ Rz(θ_11 + π) ├─┤ Rz(-π) ├─┤ √X ├────────┤ X ├────┤ Rz(θ_32) ├─────┤ √X ├─────┤ Rz(θ_33 + π) ├┤ Rz(-π/2) ├┤ √X ├──■───────\n",
       "                └──────────┘└────┘└──────────────┘ └────────┘ └────┘        └───┘    └──────────┘     └────┘     └──────────────┘└──────────┘└────┘          \n",
       "ancilla_3 -> 15 ─────────────────────────────────────────────────────────────────────────────────────────────────────────────────────────────────────────────\n",
       "                                                                                                                                                             </pre>"
      ],
      "text/plain": [
       "global phase: 2π\n",
       "                                                                                                                                                             \n",
       " ancilla_0 -> 0 ─────────────────────────────────────────────────────────────────────────────────────────────────────────────────────────────────────────────\n",
       "                ┌──────────┐┌────┐┌──────────────┐┌──────────┐┌────┐                                                                                         \n",
       "       q_0 -> 1 ┤ Rz(θ_20) ├┤ √X ├┤ Rz(θ_21 + π) ├┤ Rz(-π/2) ├┤ √X ├───────────────────────────────────────────────────────────────────────────■─────────────\n",
       "                ├─────────┬┘├────┤├─────────────┬┘├──────────┤├────┤     ┌──────────┐   ┌────┐   ┌──────────────┐   ┌────────┐      ┌────┐   ┌─┴─┐           \n",
       "       q_1 -> 2 ┤ Rz(θ_0) ├─┤ √X ├┤ Rz(θ_1 + π) ├─┤ Rz(-π/2) ├┤ √X ├──■──┤ Rz(θ_22) ├───┤ √X ├───┤ Rz(θ_23 + π) ├───┤ Rz(-π) ├──────┤ √X ├───┤ X ├───────────\n",
       "                ├─────────┤ ├────┤├─────────────┤ └┬────────┬┘├────┤┌─┴─┐├──────────┤   ├────┤   ├──────────────┤  ┌┴────────┴┐     ├────┤   └───┘           \n",
       "       q_2 -> 3 ┤ Rz(θ_2) ├─┤ √X ├┤ Rz(θ_3 + π) ├──┤ Rz(-π) ├─┤ √X ├┤ X ├┤ Rz(θ_24) ├───┤ √X ├───┤ Rz(θ_25 + π) ├──┤ Rz(-π/2) ├─────┤ √X ├─────■─────────────\n",
       "                ├─────────┴┐├────┤├─────────────┴┐ ├────────┤ ├────┤└───┘└──────────┘   └────┘   └──────────────┘  └──────────┘     └────┘     │   ┌───┐     \n",
       "      q_11 -> 4 ┤ Rz(θ_42) ├┤ √X ├┤ Rz(θ_43 + π) ├─┤ Rz(-π) ├─┤ √X ├───────────────────────────────────────────────────────────────────────────┼───┤ X ├─────\n",
       "                ├─────────┬┘├────┤├─────────────┬┘┌┴────────┴┐├────┤     ┌──────────┐   ┌────┐   ┌──────────────┐   ┌────────┐      ┌────┐   ┌─┴─┐ └─┬─┘     \n",
       "       q_3 -> 5 ┤ Rz(θ_4) ├─┤ √X ├┤ Rz(θ_5 + π) ├─┤ Rz(-π/2) ├┤ √X ├──■──┤ Rz(θ_26) ├───┤ √X ├───┤ Rz(θ_27 + π) ├───┤ Rz(-π) ├──────┤ √X ├───┤ X ├───┼───────\n",
       "                └─────────┘ └────┘└─────────────┘ └──────────┘└────┘  │  └──────────┘   └────┘   └──────────────┘   └────────┘      └────┘   └───┘   │       \n",
       " ancilla_1 -> 6 ──────────────────────────────────────────────────────┼──────────────────────────────────────────────────────────────────────────────┼───────\n",
       "                ┌──────────┐┌────┐┌──────────────┐ ┌────────┐ ┌────┐  │     ┌───┐    ┌──────────┐     ┌────┐     ┌──────────────┐┌──────────┐┌────┐  │       \n",
       "      q_10 -> 7 ┤ Rz(θ_18) ├┤ √X ├┤ Rz(θ_19 + π) ├─┤ Rz(-π) ├─┤ √X ├──┼─────┤ X ├────┤ Rz(θ_40) ├─────┤ √X ├─────┤ Rz(θ_41 + π) ├┤ Rz(-π/2) ├┤ √X ├──■───────\n",
       "                ├─────────┬┘├────┤├─────────────┬┘ ├────────┤ ├────┤┌─┴─┐   └─┬─┘    ├──────────┤     ├────┤     ├──────────────┤├──────────┤├────┤          \n",
       "       q_4 -> 8 ┤ Rz(θ_6) ├─┤ √X ├┤ Rz(θ_7 + π) ├──┤ Rz(-π) ├─┤ √X ├┤ X ├─────┼──────┤ Rz(θ_28) ├─────┤ √X ├─────┤ Rz(θ_29 + π) ├┤ Rz(-π/2) ├┤ √X ├───────■──\n",
       "                └─────────┘ └────┘└─────────────┘  └────────┘ └────┘└───┘     │      └──────────┘     └────┘     └──────────────┘└──────────┘└────┘       │  \n",
       " ancilla_2 -> 9 ──────────────────────────────────────────────────────────────┼───────────────────────────────────────────────────────────────────────────┼──\n",
       "                ┌──────────┐┌────┐┌──────────────┐┌──────────┐┌────┐          │      ┌──────────┐     ┌────┐     ┌──────────────┐ ┌────────┐ ┌────┐┌───┐  │  \n",
       "      q_9 -> 10 ┤ Rz(θ_16) ├┤ √X ├┤ Rz(θ_17 + π) ├┤ Rz(-π/2) ├┤ √X ├──────────■──────┤ Rz(θ_38) ├─────┤ √X ├─────┤ Rz(θ_39 + π) ├─┤ Rz(-π) ├─┤ √X ├┤ X ├──┼──\n",
       "                ├─────────┬┘├────┤├─────────────┬┘├──────────┤├────┤                 ├──────────┤     ├────┤     ├──────────────┤ ├────────┤ ├────┤└─┬─┘┌─┴─┐\n",
       "      q_5 -> 11 ┤ Rz(θ_8) ├─┤ √X ├┤ Rz(θ_9 + π) ├─┤ Rz(-π/2) ├┤ √X ├──────────■──────┤ Rz(θ_30) ├─────┤ √X ├─────┤ Rz(θ_31 + π) ├─┤ Rz(-π) ├─┤ √X ├──┼──┤ X ├\n",
       "                ├─────────┴┐├────┤├─────────────┴┐└┬────────┬┘├────┤┌───┐     │      ├──────────┤     ├────┤     ├──────────────┤┌┴────────┴┐├────┤  │  └───┘\n",
       "      q_8 -> 12 ┤ Rz(θ_14) ├┤ √X ├┤ Rz(θ_15 + π) ├─┤ Rz(-π) ├─┤ √X ├┤ X ├─────┼──────┤ Rz(θ_36) ├─────┤ √X ├─────┤ Rz(θ_37 + π) ├┤ Rz(-π/2) ├┤ √X ├──■───────\n",
       "                ├──────────┤├────┤├──────────────┤┌┴────────┴┐├────┤└─┬─┘     │      ├──────────┤     ├────┤     ├──────────────┤└┬────────┬┘├────┤┌───┐     \n",
       "      q_7 -> 13 ┤ Rz(θ_12) ├┤ √X ├┤ Rz(θ_13 + π) ├┤ Rz(-π/2) ├┤ √X ├──■───────┼──────┤ Rz(θ_34) ├─────┤ √X ├─────┤ Rz(θ_35 + π) ├─┤ Rz(-π) ├─┤ √X ├┤ X ├─────\n",
       "                ├──────────┤├────┤├──────────────┤└┬────────┬┘├────┤        ┌─┴─┐    ├──────────┤     ├────┤     ├──────────────┤┌┴────────┴┐├────┤└─┬─┘     \n",
       "      q_6 -> 14 ┤ Rz(θ_10) ├┤ √X ├┤ Rz(θ_11 + π) ├─┤ Rz(-π) ├─┤ √X ├────────┤ X ├────┤ Rz(θ_32) ├─────┤ √X ├─────┤ Rz(θ_33 + π) ├┤ Rz(-π/2) ├┤ √X ├──■───────\n",
       "                └──────────┘└────┘└──────────────┘ └────────┘ └────┘        └───┘    └──────────┘     └────┘     └──────────────┘└──────────┘└────┘          \n",
       "ancilla_3 -> 15 ─────────────────────────────────────────────────────────────────────────────────────────────────────────────────────────────────────────────\n",
       "                                                                                                                                                             "
      ]
     },
     "execution_count": 224,
     "metadata": {},
     "output_type": "execute_result"
    }
   ],
   "source": [
    "# Force anstaz to be applied to qubits in the heavy hex.\n",
    "# Avoid the outer qubits 0, 6, 9, and 15 which we accounted for in the lattice definition.\n",
    "q_layout = [1, 2, 3, 5, 8, 11, 14, 13, 12, 10, 7, 4]\n",
    "ansatz_next_opt = transpile(ansatz_next_layer, backend=guadalupe, initial_layout=q_layout)\n",
    "\n",
    "print('number and type of gates in the cirucit:', ansatz_next_opt.count_ops())\n",
    "print('number of parameters in the circuit:', ansatz_next_opt.num_parameters)\n",
    "ansatz_next_opt.draw(fold=300)"
   ]
  },
  {
   "cell_type": "code",
   "execution_count": 225,
   "id": "eac0d46b",
   "metadata": {
    "scrolled": true
   },
   "outputs": [
    {
     "name": "stdout",
     "output_type": "stream",
     "text": [
      "number and type of gates in the cirucit: OrderedDict([('rz', 60), ('sx', 36), ('cx', 6)])\n",
      "number of parameters in the circuit: 0\n",
      "number and type of gates in the cirucit: OrderedDict([('rz', 66), ('sx', 44), ('cx', 11)])\n",
      "number of parameters in the circuit: 44\n",
      "number and type of gates in the cirucit: OrderedDict([('rz', 126), ('sx', 80), ('cx', 17)])\n",
      "number of parameters in the circuit: 44\n"
     ]
    },
    {
     "data": {
      "text/html": [
       "<pre style=\"word-wrap: normal;white-space: pre;background: #fff0;line-height: 1.1;font-family: &quot;Courier New&quot;,Courier,monospace\">global phase: π\n",
       "                                                                                                                                                                                                                                                                                                          \n",
       " ancilla_0 -> 0 ──────────────────────────────────────────────────────────────────────────────────────────────────────────────────────────────────────────────────────────────────────────────────────────────────────────────────────────────────────────────────────────────────────────────────────────\n",
       "                ┌─────────┐┌────┐┌─────────┐ ┌───────────────────────┐ ┌────┐┌──────────────────────┐┌──────────┐┌────┐     ┌──────────┐   ┌────┐   ┌──────────────┐  ┌──────────┐     ┌────┐                                                                                                             \n",
       "       q_0 -> 1 ┤ Rz(π/2) ├┤ √X ├┤ Rz(π/2) ├─┤ Rz(0.227199315583303) ├─┤ √X ├┤ Rz(4.85825047340731) ├┤ Rz(-π/2) ├┤ √X ├──■──┤ Rz(θ_20) ├───┤ √X ├───┤ Rz(θ_21 + π) ├──┤ Rz(-π/2) ├─────┤ √X ├──────────────────────────────────────────────────────────────────────────────────────■──────────────────────\n",
       "                ├─────────┤├────┤├─────────┤ ├───────────────────────┤ ├────┤├──────────────────────┤└┬────────┬┘├────┤┌─┴─┐├─────────┬┘   ├────┤   ├─────────────┬┘  ├──────────┤     ├────┤         ┌──────────┐   ┌────┐   ┌──────────────┐   ┌────────┐        ┌────┐        ┌─┴─┐                    \n",
       "       q_1 -> 2 ┤ Rz(π/2) ├┤ √X ├┤ Rz(π/2) ├─┤ Rz(-2.87085958139637) ├─┤ √X ├┤ Rz(4.48822958112429) ├─┤ Rz(-π) ├─┤ √X ├┤ X ├┤ Rz(θ_0) ├────┤ √X ├───┤ Rz(θ_1 + π) ├───┤ Rz(-π/2) ├─────┤ √X ├─────■───┤ Rz(θ_22) ├───┤ √X ├───┤ Rz(θ_23 + π) ├───┤ Rz(-π) ├────────┤ √X ├────────┤ X ├────────────────────\n",
       "                ├─────────┤├────┤├─────────┤┌┴───────────────────────┴┐├────┤├──────────────────────┤┌┴────────┴┐├────┤└───┘├─────────┤    ├────┤   ├─────────────┤   └┬────────┬┘     ├────┤   ┌─┴─┐ ├──────────┤   ├────┤   ├──────────────┤  ┌┴────────┴┐       ├────┤        └───┘                    \n",
       "       q_2 -> 3 ┤ Rz(π/2) ├┤ √X ├┤ Rz(π/2) ├┤ Rz(0.00371027946169436) ├┤ √X ├┤ Rz(4.69853498716394) ├┤ Rz(-π/2) ├┤ √X ├──■──┤ Rz(θ_2) ├────┤ √X ├───┤ Rz(θ_3 + π) ├────┤ Rz(-π) ├──────┤ √X ├───┤ X ├─┤ Rz(θ_24) ├───┤ √X ├───┤ Rz(θ_25 + π) ├──┤ Rz(-π/2) ├───────┤ √X ├───────────────────■─────────────\n",
       "                ├─────────┤├────┤├─────────┤├─────────────────────────┤├────┤├──────────────────────┤└┬────────┬┘├────┤  │  └──┬───┬──┘ ┌──┴────┴──┐└────┬────┬───┘ ┌──┴────────┴──┐ ┌─┴────┴─┐ ├───┴┐└──────────┘   └────┘   └──────────────┘  └──────────┘       └────┘                   │   ┌───┐     \n",
       "      q_11 -> 4 ┤ Rz(π/2) ├┤ √X ├┤ Rz(π/2) ├┤ Rz(-0.0852930691382786) ├┤ √X ├┤ Rz(1.68817332767078) ├─┤ Rz(-π) ├─┤ √X ├──┼─────┤ X ├────┤ Rz(θ_42) ├─────┤ √X ├─────┤ Rz(θ_43 + π) ├─┤ Rz(-π) ├─┤ √X ├──────────────────────────────────────────────────────────────────────────────────────┼───┤ X ├─────\n",
       "                ├─────────┤├────┤├─────────┤└┬────────────────────────┤├────┤├──────────────────────┤ ├────────┤ ├────┤┌─┴─┐   └─┬─┘    ├─────────┬┘     ├────┤     ├─────────────┬┘┌┴────────┴┐├────┤            ┌──────────┐     ┌────┐     ┌──────────────┐   ┌────────┐      ┌────┐   ┌─┴─┐ └─┬─┘     \n",
       "       q_3 -> 5 ┤ Rz(π/2) ├┤ √X ├┤ Rz(π/2) ├─┤ Rz(0.0470595144430683) ├┤ √X ├┤ Rz(1.68101513511185) ├─┤ Rz(-π) ├─┤ √X ├┤ X ├─────┼──────┤ Rz(θ_4) ├──────┤ √X ├─────┤ Rz(θ_5 + π) ├─┤ Rz(-π/2) ├┤ √X ├─────■──────┤ Rz(θ_26) ├─────┤ √X ├─────┤ Rz(θ_27 + π) ├───┤ Rz(-π) ├──────┤ √X ├───┤ X ├───┼───────\n",
       "                └─────────┘└────┘└─────────┘ └────────────────────────┘└────┘└──────────────────────┘ └────────┘ └────┘└───┘     │      └─────────┘      └────┘     └─────────────┘ └──────────┘└────┘     │      └──────────┘     └────┘     └──────────────┘   └────────┘      └────┘   └───┘   │       \n",
       " ancilla_1 -> 6 ─────────────────────────────────────────────────────────────────────────────────────────────────────────────────┼─────────────────────────────────────────────────────────────────────────┼──────────────────────────────────────────────────────────────────────────────────────┼───────\n",
       "                ┌─────────┐┌────┐┌─────────┐ ┌────────────────────────┐┌────┐┌──────────────────────┐┌──────────┐┌────┐          │      ┌──────────┐     ┌────┐     ┌──────────────┐ ┌────────┐ ┌────┐     │         ┌───┐      ┌──────────┐       ┌────┐     ┌──────────────┐┌──────────┐┌────┐  │       \n",
       "      q_10 -> 7 ┤ Rz(π/2) ├┤ √X ├┤ Rz(π/2) ├─┤ Rz(-0.108560713497927) ├┤ √X ├┤ Rz(4.56057804634941) ├┤ Rz(-π/2) ├┤ √X ├──────────■──────┤ Rz(θ_18) ├─────┤ √X ├─────┤ Rz(θ_19 + π) ├─┤ Rz(-π) ├─┤ √X ├─────┼─────────┤ X ├──────┤ Rz(θ_40) ├───────┤ √X ├─────┤ Rz(θ_41 + π) ├┤ Rz(-π/2) ├┤ √X ├──■───────\n",
       "                ├─────────┤├────┤├─────────┤ ├───────────────────────┬┘├────┤├──────────────────────┤├──────────┤├────┤     ┌─────────┐ └──┬────┬──┘┌────┴────┴───┐ └──┬────────┬──┘ └─┬────┬─┘ └────┘   ┌─┴─┐       └─┬─┘      ├──────────┤       ├────┤     ├──────────────┤├──────────┤├────┤          \n",
       "       q_4 -> 8 ┤ Rz(π/2) ├┤ √X ├┤ Rz(π/2) ├─┤ Rz(-3.23353029414373) ├─┤ √X ├┤ Rz(1.60731904232326) ├┤ Rz(-π/2) ├┤ √X ├──■──┤ Rz(θ_6) ├────┤ √X ├───┤ Rz(θ_7 + π) ├────┤ Rz(-π) ├──────┤ √X ├────────────┤ X ├─────────┼────────┤ Rz(θ_28) ├───────┤ √X ├─────┤ Rz(θ_29 + π) ├┤ Rz(-π/2) ├┤ √X ├───────■──\n",
       "                └─────────┘└────┘└─────────┘ └───────────────────────┘ └────┘└──────────────────────┘└──────────┘└────┘  │  └─────────┘    └────┘   └─────────────┘    └────────┘      └────┘            └───┘         │        └──────────┘       └────┘     └──────────────┘└──────────┘└────┘       │  \n",
       " ancilla_2 -> 9 ─────────────────────────────────────────────────────────────────────────────────────────────────────────┼─────────────────────────────────────────────────────────────────────────────────────────────┼───────────────────────────────────────────────────────────────────────────────┼──\n",
       "                ┌─────────┐┌────┐┌─────────┐ ┌────────────────────────┐┌────┐┌──────────────────────┐ ┌────────┐ ┌────┐  │     ┌───┐    ┌──────────┐     ┌────┐     ┌──────────────┐┌──────────┐┌────┐                 │        ┌──────────┐       ┌────┐     ┌──────────────┐ ┌────────┐ ┌────┐┌───┐  │  \n",
       "      q_9 -> 10 ┤ Rz(π/2) ├┤ √X ├┤ Rz(π/2) ├─┤ Rz(-0.325537724626089) ├┤ √X ├┤ Rz(1.65472411499219) ├─┤ Rz(-π) ├─┤ √X ├──┼─────┤ X ├────┤ Rz(θ_16) ├─────┤ √X ├─────┤ Rz(θ_17 + π) ├┤ Rz(-π/2) ├┤ √X ├─────────────────■────────┤ Rz(θ_38) ├───────┤ √X ├─────┤ Rz(θ_39 + π) ├─┤ Rz(-π) ├─┤ √X ├┤ X ├──┼──\n",
       "                ├─────────┤├────┤├─────────┤┌┴────────────────────────┤├────┤├──────────────────────┤ ├────────┤ ├────┤┌─┴─┐   └─┬─┘    ├─────────┬┘     ├────┤     ├─────────────┬┘├──────────┤├────┤                          ├──────────┤       ├────┤     ├──────────────┤ ├────────┤ ├────┤└─┬─┘┌─┴─┐\n",
       "      q_5 -> 11 ┤ Rz(π/2) ├┤ √X ├┤ Rz(π/2) ├┤ Rz(-0.0719124152454123) ├┤ √X ├┤ Rz(1.87418906727442) ├─┤ Rz(-π) ├─┤ √X ├┤ X ├─────┼──────┤ Rz(θ_8) ├──────┤ √X ├─────┤ Rz(θ_9 + π) ├─┤ Rz(-π/2) ├┤ √X ├─────────────────■────────┤ Rz(θ_30) ├───────┤ √X ├─────┤ Rz(θ_31 + π) ├─┤ Rz(-π) ├─┤ √X ├──┼──┤ X ├\n",
       "                ├─────────┤├────┤├─────────┤└┬───────────────────────┬┘├────┤├──────────────────────┤┌┴────────┴┐├────┤└───┘     │      ├─────────┴┐     ├────┤     ├─────────────┴┐└┬────────┬┘├────┤   ┌───┐         │        ├──────────┤       ├────┤     ├──────────────┤┌┴────────┴┐├────┤  │  └───┘\n",
       "      q_8 -> 12 ┤ Rz(π/2) ├┤ √X ├┤ Rz(π/2) ├─┤ Rz(-2.75087441561464) ├─┤ √X ├┤ Rz(1.46988234038888) ├┤ Rz(-π/2) ├┤ √X ├──────────■──────┤ Rz(θ_14) ├─────┤ √X ├─────┤ Rz(θ_15 + π) ├─┤ Rz(-π) ├─┤ √X ├───┤ X ├─────────┼────────┤ Rz(θ_36) ├───────┤ √X ├─────┤ Rz(θ_37 + π) ├┤ Rz(-π/2) ├┤ √X ├──■───────\n",
       "                ├─────────┤├────┤├─────────┤ ├───────────────────────┴┐├────┤├──────────────────────┤└┬────────┬┘├────┤┌───┐┌──────────┐└──┬────┬──┘┌────┴────┴────┐└─┬──────────┬─┘ └─┬────┬─┘ └────┘   └─┬─┘         │        ├──────────┤       ├────┤     ├──────────────┤└┬────────┬┘├────┤┌───┐     \n",
       "      q_7 -> 13 ┤ Rz(π/2) ├┤ √X ├┤ Rz(π/2) ├─┤ Rz(-0.115098919803511) ├┤ √X ├┤ Rz(1.52363929026936) ├─┤ Rz(-π) ├─┤ √X ├┤ X ├┤ Rz(θ_12) ├───┤ √X ├───┤ Rz(θ_13 + π) ├──┤ Rz(-π/2) ├─────┤ √X ├──────────────■───────────┼────────┤ Rz(θ_34) ├───────┤ √X ├─────┤ Rz(θ_35 + π) ├─┤ Rz(-π) ├─┤ √X ├┤ X ├─────\n",
       "                ├─────────┤├────┤├─────────┤┌┴────────────────────────┤├────┤├──────────────────────┤┌┴────────┴┐├────┤└─┬─┘├──────────┤   ├────┤   ├──────────────┤  └┬────────┬┘     ├────┤                        ┌─┴─┐      ├──────────┤       ├────┤     ├──────────────┤┌┴────────┴┐├────┤└─┬─┘     \n",
       "      q_6 -> 14 ┤ Rz(π/2) ├┤ √X ├┤ Rz(π/2) ├┤ Rz(-0.0912384656328045) ├┤ √X ├┤ Rz(4.61057615314624) ├┤ Rz(-π/2) ├┤ √X ├──■──┤ Rz(θ_10) ├───┤ √X ├───┤ Rz(θ_11 + π) ├───┤ Rz(-π) ├──────┤ √X ├────────────────────────┤ X ├──────┤ Rz(θ_32) ├───────┤ √X ├─────┤ Rz(θ_33 + π) ├┤ Rz(-π/2) ├┤ √X ├──■───────\n",
       "                └─────────┘└────┘└─────────┘└─────────────────────────┘└────┘└──────────────────────┘└──────────┘└────┘     └──────────┘   └────┘   └──────────────┘   └────────┘      └────┘                        └───┘      └──────────┘       └────┘     └──────────────┘└──────────┘└────┘          \n",
       "ancilla_3 -> 15 ──────────────────────────────────────────────────────────────────────────────────────────────────────────────────────────────────────────────────────────────────────────────────────────────────────────────────────────────────────────────────────────────────────────────────────────\n",
       "                                                                                                                                                                                                                                                                                                          </pre>"
      ],
      "text/plain": [
       "global phase: π\n",
       "                                                                                                                                                                                                                                                                                                          \n",
       " ancilla_0 -> 0 ──────────────────────────────────────────────────────────────────────────────────────────────────────────────────────────────────────────────────────────────────────────────────────────────────────────────────────────────────────────────────────────────────────────────────────────\n",
       "                ┌─────────┐┌────┐┌─────────┐ ┌───────────────────────┐ ┌────┐┌──────────────────────┐┌──────────┐┌────┐     ┌──────────┐   ┌────┐   ┌──────────────┐  ┌──────────┐     ┌────┐                                                                                                             \n",
       "       q_0 -> 1 ┤ Rz(π/2) ├┤ √X ├┤ Rz(π/2) ├─┤ Rz(0.227199315583303) ├─┤ √X ├┤ Rz(4.85825047340731) ├┤ Rz(-π/2) ├┤ √X ├──■──┤ Rz(θ_20) ├───┤ √X ├───┤ Rz(θ_21 + π) ├──┤ Rz(-π/2) ├─────┤ √X ├──────────────────────────────────────────────────────────────────────────────────────■──────────────────────\n",
       "                ├─────────┤├────┤├─────────┤ ├───────────────────────┤ ├────┤├──────────────────────┤└┬────────┬┘├────┤┌─┴─┐├─────────┬┘   ├────┤   ├─────────────┬┘  ├──────────┤     ├────┤         ┌──────────┐   ┌────┐   ┌──────────────┐   ┌────────┐        ┌────┐        ┌─┴─┐                    \n",
       "       q_1 -> 2 ┤ Rz(π/2) ├┤ √X ├┤ Rz(π/2) ├─┤ Rz(-2.87085958139637) ├─┤ √X ├┤ Rz(4.48822958112429) ├─┤ Rz(-π) ├─┤ √X ├┤ X ├┤ Rz(θ_0) ├────┤ √X ├───┤ Rz(θ_1 + π) ├───┤ Rz(-π/2) ├─────┤ √X ├─────■───┤ Rz(θ_22) ├───┤ √X ├───┤ Rz(θ_23 + π) ├───┤ Rz(-π) ├────────┤ √X ├────────┤ X ├────────────────────\n",
       "                ├─────────┤├────┤├─────────┤┌┴───────────────────────┴┐├────┤├──────────────────────┤┌┴────────┴┐├────┤└───┘├─────────┤    ├────┤   ├─────────────┤   └┬────────┬┘     ├────┤   ┌─┴─┐ ├──────────┤   ├────┤   ├──────────────┤  ┌┴────────┴┐       ├────┤        └───┘                    \n",
       "       q_2 -> 3 ┤ Rz(π/2) ├┤ √X ├┤ Rz(π/2) ├┤ Rz(0.00371027946169436) ├┤ √X ├┤ Rz(4.69853498716394) ├┤ Rz(-π/2) ├┤ √X ├──■──┤ Rz(θ_2) ├────┤ √X ├───┤ Rz(θ_3 + π) ├────┤ Rz(-π) ├──────┤ √X ├───┤ X ├─┤ Rz(θ_24) ├───┤ √X ├───┤ Rz(θ_25 + π) ├──┤ Rz(-π/2) ├───────┤ √X ├───────────────────■─────────────\n",
       "                ├─────────┤├────┤├─────────┤├─────────────────────────┤├────┤├──────────────────────┤└┬────────┬┘├────┤  │  └──┬───┬──┘ ┌──┴────┴──┐└────┬────┬───┘ ┌──┴────────┴──┐ ┌─┴────┴─┐ ├───┴┐└──────────┘   └────┘   └──────────────┘  └──────────┘       └────┘                   │   ┌───┐     \n",
       "      q_11 -> 4 ┤ Rz(π/2) ├┤ √X ├┤ Rz(π/2) ├┤ Rz(-0.0852930691382786) ├┤ √X ├┤ Rz(1.68817332767078) ├─┤ Rz(-π) ├─┤ √X ├──┼─────┤ X ├────┤ Rz(θ_42) ├─────┤ √X ├─────┤ Rz(θ_43 + π) ├─┤ Rz(-π) ├─┤ √X ├──────────────────────────────────────────────────────────────────────────────────────┼───┤ X ├─────\n",
       "                ├─────────┤├────┤├─────────┤└┬────────────────────────┤├────┤├──────────────────────┤ ├────────┤ ├────┤┌─┴─┐   └─┬─┘    ├─────────┬┘     ├────┤     ├─────────────┬┘┌┴────────┴┐├────┤            ┌──────────┐     ┌────┐     ┌──────────────┐   ┌────────┐      ┌────┐   ┌─┴─┐ └─┬─┘     \n",
       "       q_3 -> 5 ┤ Rz(π/2) ├┤ √X ├┤ Rz(π/2) ├─┤ Rz(0.0470595144430683) ├┤ √X ├┤ Rz(1.68101513511185) ├─┤ Rz(-π) ├─┤ √X ├┤ X ├─────┼──────┤ Rz(θ_4) ├──────┤ √X ├─────┤ Rz(θ_5 + π) ├─┤ Rz(-π/2) ├┤ √X ├─────■──────┤ Rz(θ_26) ├─────┤ √X ├─────┤ Rz(θ_27 + π) ├───┤ Rz(-π) ├──────┤ √X ├───┤ X ├───┼───────\n",
       "                └─────────┘└────┘└─────────┘ └────────────────────────┘└────┘└──────────────────────┘ └────────┘ └────┘└───┘     │      └─────────┘      └────┘     └─────────────┘ └──────────┘└────┘     │      └──────────┘     └────┘     └──────────────┘   └────────┘      └────┘   └───┘   │       \n",
       " ancilla_1 -> 6 ─────────────────────────────────────────────────────────────────────────────────────────────────────────────────┼─────────────────────────────────────────────────────────────────────────┼──────────────────────────────────────────────────────────────────────────────────────┼───────\n",
       "                ┌─────────┐┌────┐┌─────────┐ ┌────────────────────────┐┌────┐┌──────────────────────┐┌──────────┐┌────┐          │      ┌──────────┐     ┌────┐     ┌──────────────┐ ┌────────┐ ┌────┐     │         ┌───┐      ┌──────────┐       ┌────┐     ┌──────────────┐┌──────────┐┌────┐  │       \n",
       "      q_10 -> 7 ┤ Rz(π/2) ├┤ √X ├┤ Rz(π/2) ├─┤ Rz(-0.108560713497927) ├┤ √X ├┤ Rz(4.56057804634941) ├┤ Rz(-π/2) ├┤ √X ├──────────■──────┤ Rz(θ_18) ├─────┤ √X ├─────┤ Rz(θ_19 + π) ├─┤ Rz(-π) ├─┤ √X ├─────┼─────────┤ X ├──────┤ Rz(θ_40) ├───────┤ √X ├─────┤ Rz(θ_41 + π) ├┤ Rz(-π/2) ├┤ √X ├──■───────\n",
       "                ├─────────┤├────┤├─────────┤ ├───────────────────────┬┘├────┤├──────────────────────┤├──────────┤├────┤     ┌─────────┐ └──┬────┬──┘┌────┴────┴───┐ └──┬────────┬──┘ └─┬────┬─┘ └────┘   ┌─┴─┐       └─┬─┘      ├──────────┤       ├────┤     ├──────────────┤├──────────┤├────┤          \n",
       "       q_4 -> 8 ┤ Rz(π/2) ├┤ √X ├┤ Rz(π/2) ├─┤ Rz(-3.23353029414373) ├─┤ √X ├┤ Rz(1.60731904232326) ├┤ Rz(-π/2) ├┤ √X ├──■──┤ Rz(θ_6) ├────┤ √X ├───┤ Rz(θ_7 + π) ├────┤ Rz(-π) ├──────┤ √X ├────────────┤ X ├─────────┼────────┤ Rz(θ_28) ├───────┤ √X ├─────┤ Rz(θ_29 + π) ├┤ Rz(-π/2) ├┤ √X ├───────■──\n",
       "                └─────────┘└────┘└─────────┘ └───────────────────────┘ └────┘└──────────────────────┘└──────────┘└────┘  │  └─────────┘    └────┘   └─────────────┘    └────────┘      └────┘            └───┘         │        └──────────┘       └────┘     └──────────────┘└──────────┘└────┘       │  \n",
       " ancilla_2 -> 9 ─────────────────────────────────────────────────────────────────────────────────────────────────────────┼─────────────────────────────────────────────────────────────────────────────────────────────┼───────────────────────────────────────────────────────────────────────────────┼──\n",
       "                ┌─────────┐┌────┐┌─────────┐ ┌────────────────────────┐┌────┐┌──────────────────────┐ ┌────────┐ ┌────┐  │     ┌───┐    ┌──────────┐     ┌────┐     ┌──────────────┐┌──────────┐┌────┐                 │        ┌──────────┐       ┌────┐     ┌──────────────┐ ┌────────┐ ┌────┐┌───┐  │  \n",
       "      q_9 -> 10 ┤ Rz(π/2) ├┤ √X ├┤ Rz(π/2) ├─┤ Rz(-0.325537724626089) ├┤ √X ├┤ Rz(1.65472411499219) ├─┤ Rz(-π) ├─┤ √X ├──┼─────┤ X ├────┤ Rz(θ_16) ├─────┤ √X ├─────┤ Rz(θ_17 + π) ├┤ Rz(-π/2) ├┤ √X ├─────────────────■────────┤ Rz(θ_38) ├───────┤ √X ├─────┤ Rz(θ_39 + π) ├─┤ Rz(-π) ├─┤ √X ├┤ X ├──┼──\n",
       "                ├─────────┤├────┤├─────────┤┌┴────────────────────────┤├────┤├──────────────────────┤ ├────────┤ ├────┤┌─┴─┐   └─┬─┘    ├─────────┬┘     ├────┤     ├─────────────┬┘├──────────┤├────┤                          ├──────────┤       ├────┤     ├──────────────┤ ├────────┤ ├────┤└─┬─┘┌─┴─┐\n",
       "      q_5 -> 11 ┤ Rz(π/2) ├┤ √X ├┤ Rz(π/2) ├┤ Rz(-0.0719124152454123) ├┤ √X ├┤ Rz(1.87418906727442) ├─┤ Rz(-π) ├─┤ √X ├┤ X ├─────┼──────┤ Rz(θ_8) ├──────┤ √X ├─────┤ Rz(θ_9 + π) ├─┤ Rz(-π/2) ├┤ √X ├─────────────────■────────┤ Rz(θ_30) ├───────┤ √X ├─────┤ Rz(θ_31 + π) ├─┤ Rz(-π) ├─┤ √X ├──┼──┤ X ├\n",
       "                ├─────────┤├────┤├─────────┤└┬───────────────────────┬┘├────┤├──────────────────────┤┌┴────────┴┐├────┤└───┘     │      ├─────────┴┐     ├────┤     ├─────────────┴┐└┬────────┬┘├────┤   ┌───┐         │        ├──────────┤       ├────┤     ├──────────────┤┌┴────────┴┐├────┤  │  └───┘\n",
       "      q_8 -> 12 ┤ Rz(π/2) ├┤ √X ├┤ Rz(π/2) ├─┤ Rz(-2.75087441561464) ├─┤ √X ├┤ Rz(1.46988234038888) ├┤ Rz(-π/2) ├┤ √X ├──────────■──────┤ Rz(θ_14) ├─────┤ √X ├─────┤ Rz(θ_15 + π) ├─┤ Rz(-π) ├─┤ √X ├───┤ X ├─────────┼────────┤ Rz(θ_36) ├───────┤ √X ├─────┤ Rz(θ_37 + π) ├┤ Rz(-π/2) ├┤ √X ├──■───────\n",
       "                ├─────────┤├────┤├─────────┤ ├───────────────────────┴┐├────┤├──────────────────────┤└┬────────┬┘├────┤┌───┐┌──────────┐└──┬────┬──┘┌────┴────┴────┐└─┬──────────┬─┘ └─┬────┬─┘ └────┘   └─┬─┘         │        ├──────────┤       ├────┤     ├──────────────┤└┬────────┬┘├────┤┌───┐     \n",
       "      q_7 -> 13 ┤ Rz(π/2) ├┤ √X ├┤ Rz(π/2) ├─┤ Rz(-0.115098919803511) ├┤ √X ├┤ Rz(1.52363929026936) ├─┤ Rz(-π) ├─┤ √X ├┤ X ├┤ Rz(θ_12) ├───┤ √X ├───┤ Rz(θ_13 + π) ├──┤ Rz(-π/2) ├─────┤ √X ├──────────────■───────────┼────────┤ Rz(θ_34) ├───────┤ √X ├─────┤ Rz(θ_35 + π) ├─┤ Rz(-π) ├─┤ √X ├┤ X ├─────\n",
       "                ├─────────┤├────┤├─────────┤┌┴────────────────────────┤├────┤├──────────────────────┤┌┴────────┴┐├────┤└─┬─┘├──────────┤   ├────┤   ├──────────────┤  └┬────────┬┘     ├────┤                        ┌─┴─┐      ├──────────┤       ├────┤     ├──────────────┤┌┴────────┴┐├────┤└─┬─┘     \n",
       "      q_6 -> 14 ┤ Rz(π/2) ├┤ √X ├┤ Rz(π/2) ├┤ Rz(-0.0912384656328045) ├┤ √X ├┤ Rz(4.61057615314624) ├┤ Rz(-π/2) ├┤ √X ├──■──┤ Rz(θ_10) ├───┤ √X ├───┤ Rz(θ_11 + π) ├───┤ Rz(-π) ├──────┤ √X ├────────────────────────┤ X ├──────┤ Rz(θ_32) ├───────┤ √X ├─────┤ Rz(θ_33 + π) ├┤ Rz(-π/2) ├┤ √X ├──■───────\n",
       "                └─────────┘└────┘└─────────┘└─────────────────────────┘└────┘└──────────────────────┘└──────────┘└────┘     └──────────┘   └────┘   └──────────────┘   └────────┘      └────┘                        └───┘      └──────────┘       └────┘     └──────────────┘└──────────┘└────┘          \n",
       "ancilla_3 -> 15 ──────────────────────────────────────────────────────────────────────────────────────────────────────────────────────────────────────────────────────────────────────────────────────────────────────────────────────────────────────────────────────────────────────────────────────────\n",
       "                                                                                                                                                                                                                                                                                                          "
      ]
     },
     "execution_count": 225,
     "metadata": {},
     "output_type": "execute_result"
    }
   ],
   "source": [
    "# Bind the parameters to the ansatz compiled circuit\n",
    "myansatz_2 = ansatz_opt.bind_parameters(near_optimal_parameters)\n",
    "\n",
    "# Build a custom ansatz from scratch\n",
    "ansatz_custom_2layer = myansatz_2.compose(ansatz_next_opt)\n",
    "\n",
    "# Check that the gates and operations have been combined together\n",
    "print('number and type of gates in the cirucit:', myansatz_2.count_ops())\n",
    "print('number of parameters in the circuit:', myansatz_2.num_parameters)\n",
    "print('number and type of gates in the cirucit:', ansatz_next_opt.count_ops())\n",
    "print('number of parameters in the circuit:', ansatz_next_opt.num_parameters)\n",
    "print('number and type of gates in the cirucit:', ansatz_custom_2layer.count_ops())\n",
    "print('number of parameters in the circuit:', ansatz_custom_2layer.num_parameters)\n",
    "\n",
    "# Draw the new circuit\n",
    "ansatz_custom_2layer.draw(fold=300)"
   ]
  },
  {
   "cell_type": "code",
   "execution_count": 227,
   "id": "5f15c0dc",
   "metadata": {},
   "outputs": [
    {
     "name": "stdout",
     "output_type": "stream",
     "text": [
      "{   'aux_operator_eigenvalues': None,\n",
      "    'cost_function_evals': 300,\n",
      "    'eigenstate': None,\n",
      "    'eigenvalue': -9.163419553602798,\n",
      "    'optimal_circuit': None,\n",
      "    'optimal_parameters': array([-0.37522229,  2.03822061, -0.8025977 ,  1.10648221,  0.81756182,\n",
      "       -1.1953382 , -1.57714194,  1.26765022,  0.84721097,  0.69168632,\n",
      "        0.99138318, -0.93272357,  0.40886737,  0.87100809,  0.32430573,\n",
      "        1.43322394, -0.91772204,  0.01102579,  0.06248959, -1.59967019,\n",
      "       -1.4520117 ,  0.06216171,  0.06418264, -0.02773871,  1.46795558,\n",
      "        1.66873689,  0.34017611,  1.08233153,  0.892312  ,  0.41602667,\n",
      "       -0.97204815, -1.01929598, -0.1602212 , -0.88880141,  1.97273568,\n",
      "        0.68448806,  1.15062771,  0.26546531,  0.71448855, -1.51066594,\n",
      "        0.62167889,  3.23720141,  0.09165266, -1.37067434]),\n",
      "    'optimal_point': None,\n",
      "    'optimal_value': None,\n",
      "    'optimizer_evals': None,\n",
      "    'optimizer_result': None,\n",
      "    'optimizer_time': None}\n",
      "execution time (s): 208.31\n"
     ]
    }
   ],
   "source": [
    "# Define instance of qiskit-terra's Estimator primitive\n",
    "estimator = Estimator([ansatz_custom_2layer], [ham_16])\n",
    "\n",
    "# Setup VQE algorithm\n",
    "custom_vqe = CustomVQE(estimator, ansatz_custom_2layer, optimizer, callback=callback)\n",
    "\n",
    "# Run the custom VQE function and monitor execution time\n",
    "start = time()\n",
    "result, initial_points = custom_vqe.compute_minimum_eigenvalue(ham_16)\n",
    "end = time()\n",
    "\n",
    "print(result)\n",
    "print(f'execution time (s): {end - start:.2f}')\n",
    "winsound.Beep(325, 325)"
   ]
  },
  {
   "cell_type": "code",
   "execution_count": 228,
   "id": "0d068b94",
   "metadata": {},
   "outputs": [
    {
     "data": {
      "image/png": "[encoded data removed]",
      "text/plain": [
       "<Figure size 640x480 with 1 Axes>"
      ]
     },
     "metadata": {},
     "output_type": "display_data"
    }
   ],
   "source": [
    "end = len(intermediate_info) - 1\n",
    "plt.plot(intermediate_info, color='purple', lw=2, label='Simulated VQE')\n",
    "plt.ylabel('Energy')\n",
    "plt.xlabel('Iterations')\n",
    "# Exact ground state energy value\n",
    "plt.axhline(y=gs_energy, color=\"tab:red\", ls=\"--\", lw=2, label=\"Target: \" + str(gs_energy))\n",
    "plt.legend()\n",
    "plt.grid()\n",
    "plt.show()"
   ]
  },
  {
   "cell_type": "markdown",
   "id": "3a804131",
   "metadata": {},
   "source": [
    "The true ground state energy is -18.0. As a metric for how well the VQE found the ground state energy, we will compute the relative difference between -18.0 and what we just achieved with VQE. This will be the metric of performance in the judging criteria, though it's important to note that it's not the only useful metric when working with VQE. Remember that the lower the relative error the higher you will score."
   ]
  },
  {
   "cell_type": "code",
   "execution_count": 241,
   "id": "a3dfecfc",
   "metadata": {},
   "outputs": [
    {
     "name": "stdout",
     "output_type": "stream",
     "text": [
      "Expected ground state energy: -18.0000000000\n",
      "Computed ground state energy: -17.8600926593\n",
      "Relative error: 0.00777263\n"
     ]
    }
   ],
   "source": [
    "def rel_err(target, measured):\n",
    "    return abs((target - measured) / target)\n",
    "\n",
    "## Compute the relative error between the expected ground state energy and the VQE's output\n",
    "#rel_error = rel_err(gs_energy, result.eigenvalue)\n",
    "\n",
    "#print(f'Expected ground state energy: {gs_energy:.10f}')\n",
    "#print(f'Computed ground state energy: {result.eigenvalue:.10f}')\n",
    "#print(f'Relative error: {rel_error:.8f}')"
   ]
  },
  {
   "cell_type": "code",
   "execution_count": null,
   "id": "78bdaa37",
   "metadata": {},
   "outputs": [],
   "source": [
    "# Save the information. Create the latest entry\n",
    "Run_num = Run_num + 1\n",
    "Run_time = str(round(end - start, 2))\n",
    "Run_data = (Run_num, \\\n",
    "            Run_time, \\\n",
    "            result.eigenvalue, \\\n",
    "            rel_error, \\\n",
    "            initial_points, \\\n",
    "            result.optimal_parameters)\n",
    "\n",
    "# Package the data\n",
    "optimal_params.append(Run_data)"
   ]
  },
  {
   "cell_type": "code",
   "execution_count": 84,
   "id": "8c97df54",
   "metadata": {},
   "outputs": [
    {
     "ename": "NameError",
     "evalue": "name 'RTresult' is not defined",
     "output_type": "error",
     "traceback": [
      "\u001b[1;31m---------------------------------------------------------------------------\u001b[0m",
      "\u001b[1;31mNameError\u001b[0m                                 Traceback (most recent call last)",
      "Cell \u001b[1;32mIn[84], line 9\u001b[0m\n\u001b[0;32m      4\u001b[0m ansatz_measure \u001b[38;5;241m=\u001b[39m ansatz_opt\u001b[38;5;241m.\u001b[39mmeasure_all(inplace\u001b[38;5;241m=\u001b[39m\u001b[38;5;28;01mFalse\u001b[39;00m)\n\u001b[0;32m      5\u001b[0m \u001b[38;5;66;03m#ansatz_measure.draw()\u001b[39;00m\n\u001b[0;32m      7\u001b[0m job_viewcounts \u001b[38;5;241m=\u001b[39m sampler\u001b[38;5;241m.\u001b[39mrun(\n\u001b[0;32m      8\u001b[0m     circuits\u001b[38;5;241m=\u001b[39m[ansatz_measure],\n\u001b[1;32m----> 9\u001b[0m     parameter_values\u001b[38;5;241m=\u001b[39m[\u001b[43mRTresult\u001b[49m\u001b[38;5;241m.\u001b[39moptimal_parameters],\n\u001b[0;32m     10\u001b[0m     parameters\u001b[38;5;241m=\u001b[39m[ansatz_opt\u001b[38;5;241m.\u001b[39mparameters])\n\u001b[0;32m     11\u001b[0m job_result \u001b[38;5;241m=\u001b[39m job_viewcounts\u001b[38;5;241m.\u001b[39mresult()\n\u001b[0;32m     12\u001b[0m binary_probs \u001b[38;5;241m=\u001b[39m [q\u001b[38;5;241m.\u001b[39mbinary_probabilities() \u001b[38;5;28;01mfor\u001b[39;00m q \u001b[38;5;129;01min\u001b[39;00m job_result\u001b[38;5;241m.\u001b[39mquasi_dists]\n",
      "\u001b[1;31mNameError\u001b[0m: name 'RTresult' is not defined"
     ]
    }
   ],
   "source": [
    "# If you want to view the final state. Collect and graph the counts\n",
    "# Sampler runs a job on the parameterized circuits\n",
    "sampler = Sampler()\n",
    "ansatz_measure = ansatz_opt.measure_all(inplace=False)\n",
    "#ansatz_measure.draw()\n",
    "\n",
    "job_viewcounts = sampler.run(\n",
    "    circuits=[ansatz_measure],\n",
    "    parameter_values=[RTresult.optimal_parameters],\n",
    "    parameters=[ansatz_opt.parameters])\n",
    "job_result = job_viewcounts.result()\n",
    "binary_probs = [q.binary_probabilities() for q in job_result.quasi_dists]\n",
    "#print(job_result.quasi_dists)"
   ]
  },
  {
   "cell_type": "code",
   "execution_count": null,
   "id": "3eddb13c",
   "metadata": {
    "scrolled": true
   },
   "outputs": [],
   "source": [
    "Dist = job_result.quasi_dists[0]\n",
    "\n",
    "# Unused Qubits\n",
    "unused_qubits = [0, 6, 9, 15]\n",
    "\n",
    "# Get a new\n",
    "Dist_12 = {}\n",
    "\n",
    "# Get a dictionary for the number of digits that are 1\n",
    "numberOnes = {0:0, 1:0, 2:0, 3:0, 4:0, 5:0, 6:0, 7:0, 8:0, 9:0, 10:0, 11:0, 12:0}\n",
    "\n",
    "# Excited Qubit Distribution\n",
    "exq_dist = {0:0, 1:0, 2:0, 3:0, 4:0, 5:0, 6:0, 7:0, 8:0, 9:0, 10:0, 11:0, 12:0}\n",
    "\n",
    "# Total probability for state\n",
    "state_prob = [0]*13\n",
    "\n",
    "# Plotting x and y from the quasi-distribution\n",
    "x_counts = []\n",
    "y_counts = []\n",
    "\n",
    "# Build a 12 qubit equivalent result\n",
    "for key in Dist:\n",
    "    # Grab the value from the dictionary\n",
    "    val = Dist[key]\n",
    "    \n",
    "    # Create the binary value \n",
    "    binary = bin(key)[2:]\n",
    "    \n",
    "    while len(binary) < 16:\n",
    "        binary = \"0\"+binary\n",
    "        \n",
    "    binary16 = binary\n",
    "    \n",
    "    # Count all the 1s\n",
    "    if val != 0:\n",
    "        oneCount = binary.count(\"1\")\n",
    "        if oneCount > 12:\n",
    "            print(binary)\n",
    "        else:\n",
    "            # Sum the total probablity for a state having 0 up, 1 up, ... 12 up\n",
    "            state_prob[oneCount] += val\n",
    "            if val > 0.0000000000000001:\n",
    "                numberOnes[oneCount] = numberOnes[oneCount] + 1\n",
    "    \n",
    "    # Check if this has one of the unused qubits\n",
    "    if (binary16[0] == \"1\" or binary16[6] == \"1\" or\n",
    "        binary16[9] == \"1\" or binary16[15] == \"1\"):\n",
    "        if val != 0:\n",
    "            print(\"Value Should Be Zero!!! -- \" + str(key)+ \" : \" +str(val))\n",
    "    else:\n",
    "        # Remove the unused bits from the string. Now we have a 12 bit number\n",
    "        newbinary = binary[1:6]+binary[7:9]+binary[10:15]\n",
    "        newint = int(newbinary, 2)\n",
    "        \n",
    "        # Set up the new quasi-distribution and the plotting values\n",
    "        x_counts.append(newint)   # x plotting values\n",
    "        y_counts.append(val)      # y plotting values\n",
    "        Dist_12[newint] = val     # new distribution\n",
    "        \n",
    "        # Find all the excited qubits in this binary state\n",
    "        excitedIndices = findexcitedstate(newbinary, '1')\n",
    "        for excitedIdx in excitedIndices:\n",
    "            exq_dist[excitedIdx] += 1\n",
    "        \n",
    "    \n",
    "# Plot the final results of the count\n",
    "plt.scatter(x0, np.real(y0))\n",
    "plt.scatter(x1, np.real(y1))\n",
    "plt.scatter(x_counts, y_counts)\n",
    "plt.ylabel('Probability')\n",
    "plt.xlabel('State (integer)')\n",
    "plt.show()\n",
    "\n",
    "# GARRETT: Excited isn't the write term. It is spin up vs spin down.\n",
    "# Plot the distribution of the count of 1s\n",
    "plot_histogram(numberOnes, title=\"Distribution of Excited Qubits in a State\") # Should be mostly 6 excited"
   ]
  },
  {
   "cell_type": "code",
   "execution_count": null,
   "id": "4cf75e48",
   "metadata": {},
   "outputs": [],
   "source": [
    "x_axis_data = [i for i in range(13)]\n",
    "\n",
    "plt.bar(x_axis_data, state_prob)\n",
    "ax = plt.gca()\n",
    "ax.set_xlim([0,13])\n",
    "ax.set_ylim([0,1.0])\n",
    "print(state_prob)"
   ]
  },
  {
   "cell_type": "code",
   "execution_count": null,
   "id": "23202458",
   "metadata": {},
   "outputs": [],
   "source": [
    "# Plot distribution of excited qubits\n",
    "plot_histogram(exq_dist, title=\"Count of a Qubits Excitations\") # Should be uniformly distributed"
   ]
  },
  {
   "cell_type": "code",
   "execution_count": null,
   "id": "4b59e98f",
   "metadata": {},
   "outputs": [],
   "source": [
    "# Check out what the initial state is set to\n",
    "testcircuit = QuantumCircuit(8)\n",
    "# build initial state\n",
    "testcircuit.h(range(0, 8, 2))\n",
    "testcircuit.x(range(1, 9, 2))\n",
    "testcircuit.cx(range(0, 7, 2), range(1, 8, 2))\n",
    "\n",
    "testcircuit.measure_all()\n",
    "\n",
    "testcircuit.draw()"
   ]
  },
  {
   "cell_type": "code",
   "execution_count": null,
   "id": "8ccbdfad",
   "metadata": {},
   "outputs": [],
   "source": [
    "from qiskit.providers.aer import QasmSimulator\n",
    "from qiskit.visualization import plot_histogram"
   ]
  },
  {
   "cell_type": "code",
   "execution_count": null,
   "id": "27e49dcd",
   "metadata": {},
   "outputs": [],
   "source": [
    "# Use Aer's qasm_simulator\n",
    "simulator = QasmSimulator()\n",
    "\n",
    "# compile the circuit down to low-level QASM instructions\n",
    "# supported by the backend (not needed for simple circuits)\n",
    "compiled_circuit = transpile(testcircuit, guadalupe)\n",
    "\n",
    "# Execute the circuit on the qasm simulator\n",
    "job = simulator.run(compiled_circuit, shots=5000)\n",
    "\n",
    "# Grab results from the job\n",
    "result = job.result()\n",
    "\n",
    "# Returns counts\n",
    "counts = result.get_counts(compiled_circuit)\n",
    "print(\"\\nTotal count for 00 and 11 are:\",counts)\n",
    "\n",
    "plot_histogram(counts)"
   ]
  },
  {
   "cell_type": "markdown",
   "id": "e99fc0f9",
   "metadata": {},
   "source": [
    "## Loop -- Collect Data Overnight"
   ]
  },
  {
   "cell_type": "code",
   "execution_count": null,
   "id": "b48abfbf",
   "metadata": {
    "scrolled": false
   },
   "outputs": [],
   "source": [
    "# Create a loop and keep running tests overnight... Everything is in this block.\n",
    "\n",
    "for testloop in range(3):\n",
    "    # -----------------------------------------------------------------------------\n",
    "    # Define instance of qiskit-terra's Estimator primitive\n",
    "    estimator = Estimator([ansatz_opt], [ham_16])\n",
    "\n",
    "    # Setup VQE algorithm\n",
    "    custom_vqe = CustomVQE(estimator, ansatz_opt, optimizer, callback=callback)\n",
    "\n",
    "    # Run the custom VQE function and monitor execution time\n",
    "    start = time()\n",
    "    result, initial_points = custom_vqe.compute_minimum_eigenvalue(ham_16)\n",
    "    end = time()\n",
    "\n",
    "    print(result)\n",
    "    print(f'execution time (s): {end - start:.2f}')\n",
    "\n",
    "    # -----------------------------------------------------------------------------\n",
    "    # Plot the result\n",
    "    plt.plot(intermediate_info, color='purple', lw=2, label='Simulated VQE')\n",
    "    plt.ylabel('Energy')\n",
    "    plt.xlabel('Iterations')\n",
    "    # Exact ground state energy value\n",
    "    plt.axhline(y=gs_energy, color=\"tab:red\", ls=\"--\", lw=2, label=\"Target: \" + str(gs_energy))\n",
    "    plt.legend()\n",
    "    plt.grid()\n",
    "    plt.show()\n",
    "\n",
    "    # -----------------------------------------------------------------------------\n",
    "    # Compute the relative error between the expected ground state energy and the VQE's output\n",
    "    rel_error = rel_err(gs_energy, result.eigenvalue)\n",
    "\n",
    "    print(f'Expected ground state energy: {gs_energy:.10f}')\n",
    "    print(f'Computed ground state energy: {result.eigenvalue:.10f}')\n",
    "    print(f'Relative error: {rel_error:.8f}')\n",
    "\n",
    "    # -----------------------------------------------------------------------------\n",
    "    # Save the information. Create the latest entry\n",
    "    Run_num = Run_num + 1\n",
    "    Run_time = str(round(end - start, 2))\n",
    "    Run_data = (Run_num, \\\n",
    "                Run_time, \\\n",
    "                result.eigenvalue, \\\n",
    "                rel_error, \\\n",
    "                initial_points, \\\n",
    "                result.optimal_parameters)\n",
    "\n",
    "    # Package the data\n",
    "    optimal_params.append((initial_points, Run_data))"
   ]
  },
  {
   "cell_type": "markdown",
   "id": "b4f99a66",
   "metadata": {},
   "source": [
    "## Analyze Data Results"
   ]
  },
  {
   "cell_type": "markdown",
   "id": "b68157df",
   "metadata": {},
   "source": [
    "### 3-0 Error Mitigation (cloud simulator)\n",
    "Use the estimator primitive to calculate the expectation value of noisy and not noisy simulations. Start without VQE, instead map out the parameters and the noise levels from there."
   ]
  },
  {
   "cell_type": "code",
   "execution_count": 108,
   "id": "b684b84b",
   "metadata": {},
   "outputs": [],
   "source": [
    "from qiskit import ClassicalRegister\n",
    "cr = ClassicalRegister(2, 'c')"
   ]
  },
  {
   "cell_type": "code",
   "execution_count": 109,
   "id": "07886d3e",
   "metadata": {},
   "outputs": [],
   "source": [
    "from qiskit_ibm_runtime import (QiskitRuntimeService, Session,\n",
    "                                Estimator as RuntimeEstimator, \n",
    "                                Sampler as RuntimeSampler,\n",
    "                                Options)\n",
    "from qiskit import Aer\n",
    "\n",
    "from qiskit_aer.noise import NoiseModel\n",
    "\n",
    "# GARRETT: Added from above -- START\n",
    "# IBMQ.save_account('46aead5c7b98c3015ee89c00fdc3a0b1a909af490abe29443c4880cd57af86021e09f4f03c61702feb2d75fd7c7e76ddf49cb68aef1916f8f91c9d29052b0263', overwrite=True)\n",
    "#provider = IBMQ.load_account()\n",
    "#provider = IBMQ.get_provider(hub='ibm-q-community', group='ibmquantumawards', project='open-science-22')\n",
    "\n",
    "# Real backend; needed for transpilation later on\n",
    "#guadalupe = provider.get_backend(\"ibmq_guadalupe\")\n",
    "# GARRETT: Added from above -- END\n",
    "\n",
    "# Save an IBM Quantum account. See docs for credential security warning\n",
    "# https://github.com/Qiskit/qiskit-ibm-runtime/tree/stable/0.7#saving-account-on-disk\n",
    "#QiskitRuntimeService.save_account(channel=\"ibm_quantum\", token='46aead5c7b98c3015ee89c00fdc3a0b1a909af490abe29443c4880cd57af86021e09f4f03c61702feb2d75fd7c7e76ddf49cb68aef1916f8f91c9d29052b0263', overwrite=True)\n",
    "service = QiskitRuntimeService(channel='ibm_quantum')"
   ]
  },
  {
   "cell_type": "code",
   "execution_count": 110,
   "id": "245455bd",
   "metadata": {},
   "outputs": [
    {
     "name": "stdout",
     "output_type": "stream",
     "text": [
      "Simulators: [<IBMBackend('ibmq_qasm_simulator')>, <IBMBackend('simulator_statevector')>, <IBMBackend('simulator_mps')>, <IBMBackend('simulator_extended_stabilizer')>, <IBMBackend('simulator_stabilizer')>]\n"
     ]
    }
   ],
   "source": [
    "# print available backend and select one\n",
    "print('Simulators:', service.backends(simulator=True))\n",
    "\n",
    "# Select a simulator backend\n",
    "backend = 'ibmq_qasm_simulator'\n",
    "\n",
    "#noise model based on real machine\n",
    "guadalupe_noise_model = NoiseModel.from_backend(guadalupe)\n"
   ]
  },
  {
   "cell_type": "code",
   "execution_count": 111,
   "id": "7056f401",
   "metadata": {},
   "outputs": [],
   "source": [
    "# Select the Qiskit Runtime options\n",
    "service = QiskitRuntimeService()\n",
    "mit_options = Options()\n",
    "mit_options.resilience_level = 2\n",
    "mit_options.resilience.extrapolator = 'LinearExtrapolator'\n",
    "mit_options.optimization_level = 3\n",
    "mit_options.simulator.noise_model = guadalupe_noise_model\n",
    "#myshots = 0\n",
    "#mit_options.execution.shots = myshots"
   ]
  },
  {
   "cell_type": "markdown",
   "id": "61f8f59c",
   "metadata": {},
   "source": [
    "#### 3-0A Error Mitigation (cloud simulator). Create correction circuit\n",
    "Calculate the noisy counts versus non noisy and create the correction matrix. Try integrating the correction matrix into rotation gates to correct for future layers."
   ]
  },
  {
   "cell_type": "code",
   "execution_count": 31,
   "id": "11eeaa5b",
   "metadata": {},
   "outputs": [],
   "source": [
    "# Analyze the results to determine the correction matirx that is needed.\n",
    "correction_factors = [   [0, 0, 0, 0], #  0 -  0  1\n",
    "                         [0, 0, 0, 0], #  1 -  1  2\n",
    "                         [0, 0, 0, 0], #  2 -  2  3\n",
    "                         [0, 0, 0, 0], #  3 -  3  4\n",
    "                         [0, 0, 0, 0], #  4 -  4  5\n",
    "                         [0, 0, 0, 0], #  5 -  5  6\n",
    "                         [0, 0, 0, 0], #  6 -  6  7\n",
    "                         [0, 0, 0, 0], #  7 -  7  8\n",
    "                         [0, 0, 0, 0], #  8 -  8  9\n",
    "                         [0, 0, 0, 0], #  9 -  9 10\n",
    "                         [0, 0, 0, 0]] # 10 - 10 11"
   ]
  },
  {
   "cell_type": "code",
   "execution_count": 112,
   "id": "31d557a0",
   "metadata": {},
   "outputs": [],
   "source": [
    "# Get the optimal parameters from an ideal sampler run\n",
    "optimal_parameters = [ [-2.10613900e-03,  1.55408086e+00], \\\n",
    "                       [-9.67207287e-03, -1.53161721e+00], \\\n",
    "                       [-3.92545968e-02,  1.50280052e+00], \\\n",
    "                       [ 3.11831766e+00,  1.53385887e+00], \\\n",
    "                       [ 1.02886602e-02,  1.50171506e+00], \\\n",
    "                       [-4.45586989e-02, -1.53171757e+00], \\\n",
    "                       [ 1.53339082e-02,  4.90169015e-03], \\\n",
    "                       [ 1.56091517e+00, -1.74654711e-02], \\\n",
    "                       [-1.58644219e+00, -1.57206412e+00], \\\n",
    "                       [ 3.13870884e+00, -1.58844770e+00], \\\n",
    "                       [ 1.73282373e-02, -1.58503502e+00], \\\n",
    "                       [-4.73448953e-02,  1.57903999e+00] ]"
   ]
  },
  {
   "cell_type": "code",
   "execution_count": 243,
   "id": "40e48226",
   "metadata": {},
   "outputs": [],
   "source": [
    "# Get the optimal parameters from an ideal sampler run\n",
    "optimal_parameters_3 = [0.039132414908475216, 0.08869226331468366, 1.5882843319646531, -1.286001843939254, \\\n",
    "                        0.017542323528775612, -3.1129835952058764, -2.1307712529140357, -2.56738752903172, \\\n",
    "                        -0.6937095481200861, 0.007442119156307353, -0.11462454707676076, -0.15944765758865484, \\\n",
    "                        0.147473925635947, 0.090952400197258, -0.03324817248632682, 0.6878007917527036,  \\\n",
    "                        4.708099914674626, -2.5194351720717894, 1.7480922527322866, -0.24374899389209964, \\\n",
    "                        0.7604377981996437, 1.4034007688093586, -0.883105718332792, 1.434793074637571,  \\\n",
    "                        -0.8955596733527846, 2.549725098088919, -1.1623283179686805, -0.512142705994866, \\\n",
    "                        0.5826522812580801, 1.637839480045472, 1.0811644526161357, -0.39631925460535855, \\\n",
    "                        1.5493421607581215, -0.06697468247756333, 0.010707772762240265, 3.1588487702411916, \\\n",
    "                        -2.8524094943610603, -1.1923158102909432, -1.026029082880587, 0.843597483416666, \\\n",
    "                        1.7123354248729326, -1.5207810969218, -0.5972960960451354, 0.9776902541964552, \\\n",
    "                        -0.06398072609640304, -0.008706992372910826, -0.1886228139508264, 0.789236352484882, \\\n",
    "                        -1.1311318295083923, -0.08785518375804352, -0.17868406681343815, -0.632123460084103, \\\n",
    "                        0.7735745817011226, 0.6338644736628434, -3.102816669534695, 1.4939716234448077, \\\n",
    "                        0.654688480483794, 0.1742135032714712, 0.14353409359535949, -0.03272770306188361, \\\n",
    "                        -0.7723951435307501, 0.5302999392455316, -0.27781319359553913, 0.04264207818435907, \\\n",
    "                        -1.0300146232199567, 1.5595287935678093, -2.4753909868988986, -1.4867243314908192, \\\n",
    "                        0.08279928359849009, -3.014517463686639]"
   ]
  },
  {
   "cell_type": "code",
   "execution_count": 244,
   "id": "301c2599",
   "metadata": {},
   "outputs": [],
   "source": [
    "# Select the Qiskit Runtime options\n",
    "service = QiskitRuntimeService()\n",
    "mit_options = Options()\n",
    "mit_options.resilience_level = 2\n",
    "mit_options.resilience.extrapolator = 'LinearExtrapolator'\n",
    "mit_options.optimization_level = 3\n",
    "mit_options.simulator.noise_model = guadalupe_noise_model\n",
    "#myshots = 0\n",
    "#mit_options.execution.shots = myshots"
   ]
  },
  {
   "cell_type": "code",
   "execution_count": null,
   "id": "d054b69a",
   "metadata": {
    "scrolled": true
   },
   "outputs": [],
   "source": [
    "# ----------------------------------------------------- #\n",
    "# Select the qubits that this circuit will look at\n",
    "q0 = 10\n",
    "q1 = 11\n",
    "\n",
    "# Build a measurement circuit, build an ideal circuit, and build a noisy circuit.\n",
    "measure_baseline = QuantumCircuit(12)\n",
    "measure_baseline.add_register(cr)\n",
    "measure_baseline.measure(q0, 0)\n",
    "measure_baseline.measure(q1, 1)\n",
    "\n",
    "# Build the ideal circuit and noisy circuit -- they will be identical\n",
    "ideal_circuit = QuantumCircuit(12)\n",
    "\n",
    "# Build initial state\n",
    "ideal_circuit.h(q0)\n",
    "ideal_circuit.h(q1)\n",
    "\n",
    "# Create circuit\n",
    "j = 0\n",
    "ideal_circuit.rz(Parameter('θ_' + str(j)), q0)\n",
    "j += 1\n",
    "ideal_circuit.ry(Parameter('θ_' + str(j)), q0)\n",
    "j += 1\n",
    "ideal_circuit.rz(Parameter('θ_' + str(j)), q1)\n",
    "j += 1\n",
    "ideal_circuit.ry(Parameter('θ_' + str(j)), q1)\n",
    "\n",
    "# Create the bell state\n",
    "ideal_circuit.h(q0)    # <-- Create bell state: 1/root(2)*(|01> + |10>)\n",
    "ideal_circuit.x(q1)\n",
    "ideal_circuit.cx(q0,q1)\n",
    "\n",
    "# Measure the ideal circuit\n",
    "ideal_circuit.add_register(cr)\n",
    "ideal_circuit.measure(q0, 0)\n",
    "ideal_circuit.measure(q1, 1)\n",
    "\n",
    "# ----------------------------------------------------- #\n",
    "# Create a copy for the noisy circuit\n",
    "noisy_circuit = ideal_circuit.copy()\n",
    "\n",
    "noisy_circuit.draw(fold=250)"
   ]
  },
  {
   "cell_type": "code",
   "execution_count": null,
   "id": "408bbcc3",
   "metadata": {},
   "outputs": [],
   "source": [
    "# Now that we have three circuits made up. Transpile them for the guadalupe backend\n",
    "\n",
    "# Force anstaz to be applied to qubits in the heavy hex. \n",
    "# Avoid the outer qubits 0, 6, 9, and 15 which we accounted for in the lattice definition.\n",
    "q_layout = [1, 2, 3, 5, 8, 11, 14, 13, 12, 10, 7, 4]\n",
    "ideal_transpiled = transpile(ideal_circuit, backend=guadalupe, initial_layout=q_layout)\n",
    "\n",
    "print('number and type of gates in the cirucit:', ideal_transpiled.count_ops())\n",
    "print('number of parameters in the circuit:', ideal_transpiled.num_parameters)\n",
    "ideal_transpiled.draw(fold=300)"
   ]
  },
  {
   "cell_type": "code",
   "execution_count": null,
   "id": "fcee5eaa",
   "metadata": {},
   "outputs": [],
   "source": [
    "# Calculate the optimal parameters for this run\n",
    "initial_optimal = [optimal_parameters[q0], optimal_parameters[q1]]\n",
    "\n",
    "# Convert the two lists into one for the sampler format\n",
    "myoptimal = [optimal_parameters[q0][0], optimal_parameters[q0][1], optimal_parameters[q1][0], optimal_parameters[q1][1]]"
   ]
  },
  {
   "cell_type": "code",
   "execution_count": null,
   "id": "3aa0dcaa",
   "metadata": {},
   "outputs": [],
   "source": [
    "# Run the circuit through sampler under ideal conditions\n",
    "sampler = Sampler()\n",
    "\n",
    "# Run sampler\n",
    "job_viewcounts = sampler.run(\n",
    "    circuits=[ideal_transpiled],\n",
    "    parameter_values=[myoptimal],\n",
    "    parameters=[ideal_transpiled.parameters])\n",
    "job_result = job_viewcounts.result()\n",
    "int_probs = job_result.quasi_dists[0]\n",
    "binary_probs = [q.binary_probabilities() for q in job_result.quasi_dists]\n",
    "binary_probs = binary_probs[0] # Have it just be the dictionary"
   ]
  },
  {
   "cell_type": "code",
   "execution_count": null,
   "id": "0b0f8763",
   "metadata": {},
   "outputs": [],
   "source": [
    "# Run the circuit through sampler with noisy conditions\n",
    "with Session(service=service, backend=backend) as session:\n",
    "    # Prepare primitive\n",
    "    sampler = RuntimeSampler(session=session, options=mit_options)\n",
    "    # Run sampler\n",
    "    job_viewcounts = sampler.run(\n",
    "        circuits=[ideal_transpiled],\n",
    "        parameter_values=[myoptimal],\n",
    "        parameters=[ideal_transpiled.parameters])\n",
    "    job_result = job_viewcounts.result()\n",
    "    int_noise_probs = job_result.quasi_dists[0]\n",
    "    noise_binary_probs = [q.binary_probabilities() for q in job_result.quasi_dists]\n",
    "    noise_binary_probs = noise_binary_probs[0] # Have it just be the dictionary"
   ]
  },
  {
   "cell_type": "code",
   "execution_count": null,
   "id": "68093d9c",
   "metadata": {},
   "outputs": [],
   "source": [
    "# Use the results to create the correction factors for these circuits\n",
    "for key in int_probs:\n",
    "    correction_factors[q0][key] = int_probs[key]/int_noise_probs[key]"
   ]
  },
  {
   "cell_type": "code",
   "execution_count": null,
   "id": "52189041",
   "metadata": {},
   "outputs": [],
   "source": [
    "print(correction_factors)"
   ]
  },
  {
   "cell_type": "code",
   "execution_count": null,
   "id": "46321851",
   "metadata": {},
   "outputs": [],
   "source": [
    "from math import sqrt\n",
    "\n",
    "def normalize(state_list):\n",
    "    #normalization = 0\n",
    "    #for i in range(len(state_list)):\n",
    "    #    normalization += state_list[i] * state_list[i]\n",
    "    \n",
    "    #normalization = 1/sqrt(normalization)\n",
    "    normalization = sum(state_list) # Since these are counts we've already squared each state\n",
    "    normalization = 1/normalization\n",
    "    print(normalization)\n",
    "\n",
    "    normal_state_list = [0]*len(state_list)\n",
    "    for i in range(len(state_list)):\n",
    "        normal_state_list[i] = normalization *state_list[i]\n",
    "        \n",
    "    return normal_state_list"
   ]
  },
  {
   "cell_type": "code",
   "execution_count": null,
   "id": "55ef8506",
   "metadata": {},
   "outputs": [],
   "source": [
    "ideal = [0]*4\n",
    "noisy = [0]*4\n",
    "corrected = [0]*4\n",
    "\n",
    "# Create the mitigated solution\n",
    "for key in int_probs:\n",
    "    ideal[key] = int_probs[key]\n",
    "    noisy[key] = int_noise_probs[key]\n",
    "    corrected[key] = noisy[key] * correction_factors[q0][key]\n",
    "\n",
    "# Normalize the corrected state\n",
    "corrected = normalize(corrected)"
   ]
  },
  {
   "cell_type": "code",
   "execution_count": null,
   "id": "0e73d12b",
   "metadata": {},
   "outputs": [],
   "source": [
    "# Plot the corrected results versus the ideal\n",
    "states = [0, 1, 2, 3]\n",
    "plt.scatter(states, ideal)\n",
    "plt.scatter(states, noisy, marker='X')\n",
    "plt.scatter(states, corrected, marker='*')\n",
    "plt.ylabel('Quasi-probability')\n",
    "plt.xlabel('Theta')\n",
    "plt.legend(['Ideal', 'Noisy', 'Mitigated'], loc='upper right')\n",
    "plt.title('Mitigated Results')\n",
    "\n",
    "ax = plt.gca()\n",
    "ax.set_xlim(right = 5.25)\n",
    "#ax.set_ylim([-0.25, 1.5])\n",
    "plt.show()"
   ]
  },
  {
   "cell_type": "code",
   "execution_count": null,
   "id": "c54d386b",
   "metadata": {},
   "outputs": [],
   "source": [
    "# ------------------------------------------ #\n",
    "# ------------------------------------------ #\n",
    "# ------------------------------------------ #\n",
    "# ------------------------------------------ #\n",
    "# ------------------------------------------ #"
   ]
  },
  {
   "cell_type": "code",
   "execution_count": null,
   "id": "aa82a4d2",
   "metadata": {},
   "outputs": [],
   "source": [
    "# Get the optimal parameters for the entire circuit\n",
    "myoptimal = [item for sublist in optimal_parameters for item in sublist]"
   ]
  },
  {
   "cell_type": "code",
   "execution_count": null,
   "id": "5894af73",
   "metadata": {},
   "outputs": [],
   "source": [
    "# Create all the keys for the input strings\n",
    "all_keys = []\n",
    "# Iterate through all the numbers, make them binary\n",
    "for num in range(2**12):\n",
    "    binary = bin(num)[2:]\n",
    "    binary = binary.zfill(12)\n",
    "    all_keys.append(binary)\n",
    "        \n",
    "# Create all the correction factors\n",
    "all_correction_factors = [0]*(2**12)\n",
    "# Iterate through all the numbers, multiple the factors together\n",
    "for num in range(2**12):\n",
    "    # Map the index for the C_0 correction factor\n",
    "    idx0 = num % (4**1)\n",
    "    # Map the index for the C_2 correction factor\n",
    "    temp_mod = num % (4**2)\n",
    "    idx2 = temp_mod // (4**1)\n",
    "    # Map the index for the C_4 correction factor\n",
    "    temp_mod = num % (4**3)\n",
    "    idx4 = temp_mod // (4**2)\n",
    "    # Map the index for the C_6 correction factor\n",
    "    temp_mod = num % (4**4)\n",
    "    idx6 = temp_mod // (4**3)\n",
    "    # Map the index for the C_8 correction factor\n",
    "    temp_mod = num % (4**5)\n",
    "    idx8 = temp_mod // (4**4)\n",
    "    # Map the index for the C_10 correction factor\n",
    "    temp_mod = num % (4**6)\n",
    "    idx10 = temp_mod // (4**5)\n",
    "    \n",
    "    # Create the combined correction factor based on the tensor product\n",
    "    # C10 @ C8 @ C6 @ C4 @ C2 @ C0  -->  where @ is tensor product\n",
    "    if num == 1242:\n",
    "        print(correction_factors[0][idx0])\n",
    "        print(correction_factors[2][idx2])\n",
    "        print(correction_factors[4][idx4])\n",
    "        print(correction_factors[6][idx6])\n",
    "        print(correction_factors[8][idx8])\n",
    "        print(correction_factors[10][idx10])\n",
    "    all_correction_factors[num] = correction_factors[0][idx0] * correction_factors[2][idx2] * \\\n",
    "                                  correction_factors[4][idx4] * correction_factors[6][idx6] * \\\n",
    "                                  correction_factors[8][idx8] * correction_factors[10][idx10]\n",
    "    "
   ]
  },
  {
   "cell_type": "code",
   "execution_count": 219,
   "id": "fa7c7b61",
   "metadata": {},
   "outputs": [
    {
     "name": "stdout",
     "output_type": "stream",
     "text": [
      "Ideal Conditions. Optimal Points = -17.977625425722902\n"
     ]
    }
   ],
   "source": [
    "# Try the full circuit with all of the optimal points.\n",
    "# Run the circuit through estimator under ideal conditions\n",
    "estimator = Estimator()\n",
    "\n",
    "# Run sampler\n",
    "job_est = estimator.run(\n",
    "    circuits=[ansatz_opt],\n",
    "    parameter_values=[myoptimal],\n",
    "    parameters=[ansatz_opt.parameters],\n",
    "    observables=[ham_16])\n",
    "job_est_result = job_est.result()\n",
    "myvalue = job_est_result.values[0]\n",
    "print('Ideal Conditions. Optimal Points = ' + str(myvalue))"
   ]
  },
  {
   "cell_type": "code",
   "execution_count": 246,
   "id": "0a2eee47",
   "metadata": {},
   "outputs": [
    {
     "name": "stderr",
     "output_type": "stream",
     "text": [
      "WARNING - Retrying (PostForcelistRetry(total=4, connect=3, read=None, redirect=None, status=None)) after connection broken by 'ProtocolError('Connection aborted.', RemoteDisconnected('Remote end closed connection without response'))': /jobs/cgavs30vpak4rpo72vn0\n"
     ]
    },
    {
     "name": "stdout",
     "output_type": "stream",
     "text": [
      "Noisy conditions. Optimal points built in mitigation = -10.296999999999983\n",
      "Noisy conditions. Optimal points built in mitigation = -11.371000000000015\n"
     ]
    },
    {
     "name": "stderr",
     "output_type": "stream",
     "text": [
      "WARNING - Retrying (PostForcelistRetry(total=4, connect=3, read=None, redirect=None, status=None)) after connection broken by 'ProtocolError('Connection aborted.', RemoteDisconnected('Remote end closed connection without response'))': /jobs/cgb03u2i9ptbt6e33i5g\n"
     ]
    },
    {
     "name": "stdout",
     "output_type": "stream",
     "text": [
      "Noisy conditions. Optimal points built in mitigation = -10.443999999999992\n",
      "Met 1% benchmark 0/3 or 0.0% of the time\n",
      "execution time (s): 1694.59\n"
     ]
    }
   ],
   "source": [
    "# List of noise amplifiers\n",
    "noise_amps = ['TwoQubitAmplifier', 'CxAmplifier', 'LocalFoldingAmplifier', 'GlobalFoldingAmplifier']\n",
    "extrapolators = ['LinearExtrapolator', 'QuadraticExtrapolator', 'CubicExtrapolator', 'QuarticExtrapolator']\n",
    "noise_factors = [(1, 3, 5), (1, 2, 3), (1, 3, 5, 7), (1, 2, 3, 4), (1, 3, 5, 7, 9), (1, 2, 3, 4, 5)]\n",
    "\n",
    "# Run the circuit through the estimator under noisy conditions.\n",
    "# Select the Qiskit Runtime options\n",
    "service = QiskitRuntimeService()\n",
    "mit_options = Options()\n",
    "mit_options.resilience_level = 2\n",
    "mit_options.resilience.noise_amplifier='LocalFoldingAmplifier'\n",
    "                                    #                                Linear | Quad  | Cubic \n",
    "                                    # 'TwoQubitAmplifier'[Default] = -15.49  -15.49\n",
    "                                    #'CxAmplifier' =                 -15.54  -15.60\n",
    "                                    #'LocalFoldingAmplifier' =       -15.76  -16.01  -16.42 --> factors: (1, 3, 5, 7)\n",
    "                                    #                                        -16.82  -18.00 --> factors: (1, 2, 3, 4) \n",
    "                                    #'GlobalFoldingAmplifier' =      -15.63  -15.97\n",
    "                                    #                                                -16.79 --> factors: (1, 2, 3, 4)\n",
    "mit_options.resilience.extrapolator = 'CubicExtrapolator'\n",
    "mit_options.resilience.noise_factors = (1,2,3,4)\n",
    "mit_options.optimization_level = 3\n",
    "mit_options.simulator.noise_model = guadalupe_noise_model\n",
    "\n",
    "# Create array\n",
    "myval_array = [0]*3\n",
    "rel_error_array = [0]*len(myval_array)\n",
    "beat_cutoff = 0\n",
    "\n",
    "# Get the start time\n",
    "start = time()\n",
    "for i in range(len(rel_error_array)):\n",
    "    # No corrections other than the built in mitigation options\n",
    "    with Session(service=service, backend=backend) as session:\n",
    "        # Prepare primitive\n",
    "        estimator = RuntimeEstimator(session=session, options=mit_options)\n",
    "        # Run sampler\n",
    "        job_est = estimator.run(\n",
    "            circuits=[ansatz_opt],\n",
    "            parameter_values=[optimal_parameters_3],\n",
    "            parameters=[ansatz_opt.parameters],\n",
    "            observables=[ham_16])\n",
    "        job_est_result = job_est.result()\n",
    "        myvalue = job_est_result.values[0]\n",
    "        print('Noisy conditions. Optimal points built in mitigation = ' + str(myvalue))\n",
    "    \n",
    "    # Compute the relative error between the expected ground state energy and the measured\n",
    "    myval_array[i] = myvalue\n",
    "    rel_error_array[i] = rel_err(gs_energy, myvalue)\n",
    "    \n",
    "    if rel_error_array[i] < 0.01:\n",
    "        beat_cutoff += 1\n",
    "\n",
    "# Print the final tally\n",
    "print('Met 1% benchmark '+str(beat_cutoff)+'/'+str(len(rel_error_array))+ ' or '+str(100*beat_cutoff/len(rel_error_array))+'% of the time')\n",
    "\n",
    "# Print the execution time\n",
    "end = time()\n",
    "print(f'execution time (s): {end - start:.2f}')"
   ]
  },
  {
   "cell_type": "code",
   "execution_count": null,
   "id": "0d74ef43",
   "metadata": {},
   "outputs": [],
   "source": [
    "import numpy as np\n",
    "\n",
    "# List when no shots are specified for the options\n",
    "noshot_array = [-17.330,-17.577,-16.740,-17.041,-17.316,-16.640,-17.064,-17.603,-16.510,-17.064,-17.148,-17.604,-16.882,-17.262,-17.303,-18.154,-16.591,-17.467,-17.394,-17.004,-15.865,-17.038,-17.050,-17.441,-16.852]\n",
    "\n",
    "# Set the list to take stats\n",
    "stat_list = noshot_array\n",
    "\n",
    "# Get the mean of the list \n",
    "res = np.mean(stat_list)\n",
    "print(\"The mean without shots is : \" + str(res))\n",
    "\n",
    "# Variance of List\n",
    "# using numpy.var()\n",
    "res = np.var(stat_list)\n",
    "print(\"The variance without shots is : \" + str(res))\n",
    "\n",
    "# ---------------------------------- #\n",
    "# Look at the list with shots\n",
    "\n",
    "# Set the list to take stats\n",
    "stat_list = myval_array\n",
    "\n",
    "# Get the mean of the list \n",
    "res = np.mean(stat_list)\n",
    "print(\"The mean with shots is : \" + str(res))\n",
    "\n",
    "# Variance of List\n",
    "# using numpy.var()\n",
    "res = np.var(stat_list)\n",
    "print(\"The variance with shots is : \" + str(res))\n",
    "\n"
   ]
  },
  {
   "cell_type": "code",
   "execution_count": null,
   "id": "375e4ebe",
   "metadata": {},
   "outputs": [],
   "source": [
    "import warnings\n",
    "# Plotting different ZNE extrapolations\n",
    "x = [1,2,3,4,5]\n",
    "y = [-13.8, -12.7, -12.15,-11.65, -11.18]\n",
    "ylog = [13.8, 12.7, 12.15, 11.65, 11.18]\n",
    "\n",
    "# Create the fitting polynomials\n",
    "with warnings.catch_warnings():\n",
    "    warnings.simplefilter('ignore', np.RankWarning)\n",
    "    p1 = np.poly1d(np.polyfit(x, y, 1))\n",
    "    \n",
    "with warnings.catch_warnings():\n",
    "    warnings.simplefilter('ignore', np.RankWarning)\n",
    "    p2 = np.poly1d(np.polyfit(x, y, 2))\n",
    "    \n",
    "with warnings.catch_warnings():\n",
    "    warnings.simplefilter('ignore', np.RankWarning)\n",
    "    p3 = np.poly1d(np.polyfit(x, y, 3))\n",
    "    \n",
    "with warnings.catch_warnings():\n",
    "    warnings.simplefilter('ignore', np.RankWarning)\n",
    "    p4 = np.poly1d(np.polyfit(x, y, 4))\n",
    "\n",
    "# Get ready to create the graphs\n",
    "xp = np.linspace(-1, 6, 100)\n",
    "\n",
    "plt.plot(x, y, 'o', xp, p1(xp), '-', xp, p2(xp), '--', xp, p3(xp), '-.', xp, p4(xp), '-')\n",
    "ax = plt.gca()\n",
    "ax.set_xlim([0,6])\n",
    "ax.set_ylim([-18,-10])\n",
    "plt.show()"
   ]
  },
  {
   "cell_type": "code",
   "execution_count": null,
   "id": "7798a331",
   "metadata": {},
   "outputs": [],
   "source": [
    "# Create values for exponential fit\n",
    "x = [1,2,3,4]#,5]\n",
    "# Flip the y values for a more traditional looking exponential plot. And remove negative sign\n",
    "# y = [-13.8, -12.7, -12.15,-11.65, -11.18]  # standard\n",
    "y = [0.01, 11.65-11.18, 12.15-11.18, 12.7-11.18]#, 13.8-11.18]  # 5 points\n",
    "\n",
    "## 4 points\n",
    "#x = [1, 2, 3, 4]\n",
    "#y = [0.01, 12.15-11.65, 12.7-11.65, 13.8-11.65]\n",
    "\n",
    "# 3 points\n",
    "#x = [1, 2, 3]\n",
    "#y = [0.01, 12.7-12.15, 13.8-12.15]\n",
    "\n",
    "\n",
    "# Get exponential fit\n",
    "# Fit a weighted polynomial of degree 1 (a linear function) to the data\n",
    "pexp = np.polyfit(x, np.log(y), 1, w=np.sqrt(y))\n",
    "\n",
    "# Convert the polynomial back into an exponential\n",
    "a = np.exp(pexp[1])\n",
    "b = pexp[0]\n",
    "x_fitted_weighted = np.linspace(min(x)-1, max(x)+2, 100)\n",
    "y_fitted_weighted = a * np.exp(b * x_fitted_weighted)\n",
    "\n",
    "plt.plot(x, y, '.', x_fitted_weighted, y_fitted_weighted, '-')\n",
    "ax = plt.gca()\n",
    "ax.set_xlim([0,6])\n",
    "ax.set_ylim([0,18])\n",
    "plt.show()\n",
    "print(y_fitted_weighted[-1]+11.18)"
   ]
  },
  {
   "cell_type": "code",
   "execution_count": null,
   "id": "0209973f",
   "metadata": {},
   "outputs": [],
   "source": []
  },
  {
   "cell_type": "code",
   "execution_count": null,
   "id": "b1365408",
   "metadata": {},
   "outputs": [],
   "source": [
    ",# REAL BACKEND!\n",
    "\n",
    "# Run the circuit through the estimator under noisy conditions.\n",
    "# Select the Qiskit Runtime options\n",
    "service = QiskitRuntimeService(channel='ibm_quantum')\n",
    "backend = 'ibmq_guadalupe'\n",
    "\n",
    "mit_options = Options()\n",
    "mit_options.resilience_level = 2\n",
    "mit_options.resilience.noise_amplifier='LocalFoldingAmplifier'\n",
    "                                    #                                Linear | Quad  | Cubic \n",
    "                                    # 'TwoQubitAmplifier'[Default] = -15.49  -15.49\n",
    "                                    #'CxAmplifier' =                 -15.54  -15.60\n",
    "                                    #'LocalFoldingAmplifier' =       -15.76  -16.01  -16.42 --> factors: (1, 3, 5, 7)\n",
    "                                    #                                        -16.82  -18.00 --> factors: (1, 2, 3, 4) \n",
    "                                    #'GlobalFoldingAmplifier' =      -15.63  -15.97\n",
    "                                    #                                                -16.79 --> factors: (1, 2, 3, 4)\n",
    "mit_options.resilience.extrapolator = 'CubicExtrapolator'\n",
    "mit_options.resilience.noise_factors = (1, 2, 3, 4)\n",
    "mit_options.optimization_level = 3\n",
    "#mit_options.simulator.noise_model = guadalupe_noise_model\n",
    "\n",
    "# Create array\n",
    "rel_error_array = [0]*3\n",
    "beat_cutoff = 0\n",
    "\n",
    "# Get the start time\n",
    "start = time()\n",
    "for i in range(len(rel_error_array)):\n",
    "    # No corrections other than the built in mitigation options\n",
    "    with Session(service=service, backend=backend) as session:\n",
    "        # Prepare primitive\n",
    "        estimator = RuntimeEstimator(session=session, options=mit_options)\n",
    "        # Run sampler\n",
    "        job_est = estimator.run(\n",
    "            circuits=[ansatz_opt],\n",
    "            parameter_values=[myoptimal],\n",
    "            parameters=[ansatz_opt.parameters],\n",
    "            observables=[ham_16])\n",
    "        job_est_result = job_est.result()\n",
    "        myvalue = job_est_result.values[0]\n",
    "        print('Noisy conditions. Optimal points built in mitigation = ' + str(myvalue))\n",
    "    \n",
    "    # Compute the relative error between the expected ground state energy and the measured\n",
    "    rel_error_array[i] = rel_err(gs_energy, myvalue)\n",
    "    \n",
    "    if rel_error < 0.01:\n",
    "        beat_cutoff += 1\n",
    "\n",
    "# Print the final tally\n",
    "print('Met 1% benchmark '+str(beat_cutoff)+'/'+str(len(rel_error_array))+ ' or '+str(100*beat_cutoff/len(rel_error_array))+'% of the time')\n",
    "\n",
    "# Print the execution time\n",
    "end = time()\n",
    "print(f'execution time (s): {end - start:.2f}')"
   ]
  },
  {
   "cell_type": "code",
   "execution_count": null,
   "id": "8817332b",
   "metadata": {},
   "outputs": [],
   "source": [
    "# Compute the relative error between the expected ground state energy and the measured\n",
    "rel_error = rel_err(gs_energy, myvalue)\n",
    "\n",
    "print(f'Expected ground state energy: {gs_energy:.10f}')\n",
    "print(f'Computed ground state energy: {myvalue:.10f}')\n",
    "print(f'Relative error: {rel_error:.8f}')"
   ]
  },
  {
   "cell_type": "code",
   "execution_count": null,
   "id": "7df81620",
   "metadata": {},
   "outputs": [],
   "source": [
    "# Loop through the options to see the results\n",
    "\n",
    "# List of noise amplifiers\n",
    "noise_amps = ['TwoQubitAmplifier', 'CxAmplifier', 'LocalFoldingAmplifier', 'GlobalFoldingAmplifier']\n",
    "extrapolators = ['LinearExtrapolator', 'QuadraticExtrapolator', 'CubicExtrapolator', 'QuarticExtrapolator']\n",
    "noise_factors = [(1, 3, 5), (1, 2, 3), (1, 3, 5, 7), (1, 2, 3, 4), (1, 3, 5, 7, 9), (1, 2, 3, 4, 5)]\n",
    "\n",
    "\n",
    "# Run the circuit through the estimator under noisy conditions.\n",
    "# Select the Qiskit Runtime options\n",
    "service = QiskitRuntimeService()\n",
    "mit_options = Options()\n",
    "mit_options.resilience_level = 2\n",
    "mit_options.resilience.noise_amplifier='TwoQubitAmplifier'\n",
    "                                                           #                                Linear | Quad  | Cubic | Quartic\n",
    "                                                           # 'TwoQubitAmplifier'[Default] =         -15.49\n",
    "                                                           #'CxAmplifier' =                         -15.60\n",
    "                                                           #'LocalFoldingAmplifier' =               -16.01\n",
    "                                                           #'GlobalFoldingAmplifier' =              -15.97\n",
    "mit_options.resilience.extrapolator = 'LinearExtrapolator'\n",
    "#mit_options.noise_factor = (1, 3, 5)\n",
    "mit_options.optimization_level = 3\n",
    "mit_options.simulator.noise_model = guadalupe_noise_model\n",
    "\n",
    "# No corrections other than the built in mitigation options\n",
    "with Session(service=service, backend=backend) as session:\n",
    "    # Prepare primitive\n",
    "    estimator = RuntimeEstimator(session=session, options=mit_options)\n",
    "    # Run sampler\n",
    "    job_est = estimator.run(\n",
    "        circuits=[ansatz_opt],\n",
    "        parameter_values=[myoptimal],\n",
    "        parameters=[ansatz_opt.parameters],\n",
    "        observables=[ham_16])\n",
    "    job_est_result = job_est.result()\n",
    "    myvalue = job_est_result.values[0]\n",
    "    print('Noisy conditions. Optimal points built in mitigation = ' + str(myvalue))"
   ]
  },
  {
   "cell_type": "code",
   "execution_count": null,
   "id": "723ba9f7",
   "metadata": {},
   "outputs": [],
   "source": [
    "# Run the circuit through the estimator under noisy conditions.\n",
    "# Select the Qiskit Runtime options\n",
    "service = QiskitRuntimeService()\n",
    "noise_options = Options()\n",
    "noise_options.simulator.noise_model = guadalupe_noise_model\n",
    "\n",
    "# No corrections\n",
    "with Session(service=service, backend=backend) as session:\n",
    "    # Prepare primitive\n",
    "    estimator = RuntimeEstimator(session=session, options=noise_options)\n",
    "    # Run sampler\n",
    "    job_est = estimator.run(\n",
    "        circuits=[ansatz_opt],\n",
    "        parameter_values=[myoptimal],\n",
    "        parameters=[ansatz_opt.parameters],\n",
    "        observables=[ham_16])\n",
    "    job_est_result = job_est.result()\n",
    "    myvalue = job_est_result.values[0]\n",
    "    print('Noisy conditions. Optimal points no mitigation = ' + str(myvalue))"
   ]
  },
  {
   "cell_type": "code",
   "execution_count": null,
   "id": "7329570c",
   "metadata": {},
   "outputs": [],
   "source": [
    "def build_myansatz(parameters, num_layers):\n",
    "    # Build a custom ansatz from scratch\n",
    "    ansatz_custom = QuantumCircuit(12)\n",
    "    # build initial state\n",
    "    ansatz_custom.h(range(0, 12, 1))\n",
    "    #ansatz_custom.cx(range(0, 11, 2), range(1, 12, 2))\n",
    "    # total = parameters/qubit * number qubits * number layers\n",
    "    parameter_total = 2 * 12 * num_layers\n",
    "    if len(parameters) != parameter_total:\n",
    "        # Parameters will be unknown and optimized by VQE\n",
    "        j = 0\n",
    "        for k in range(num_layers):\n",
    "            for i in range(12):\n",
    "                ansatz_custom.rz(Parameter('θ_' + str(j)), i)\n",
    "                j += 1\n",
    "                ansatz_custom.ry(Parameter('θ_' + str(j)), i)\n",
    "                j += 1\n",
    "            ansatz_custom.h(range(0, 12, 2))    # <-- Create bell state: 1/root(2)*(|01> + |10>)\n",
    "            ansatz_custom.x(range(1, 13, 2))\n",
    "            ansatz_custom.cx(range(0, 11, 2), range(1, 12, 2))\n",
    "    else:\n",
    "        j = 0\n",
    "        for k in range(num_layers):\n",
    "            for i in range(12):\n",
    "                ansatz_custom.rz(parameters[j], i)\n",
    "                j += 1\n",
    "                ansatz_custom.ry(parameters[j], i)\n",
    "                j += 1\n",
    "            ansatz_custom.h(range(0, 12, 2))    # <-- Create bell state: 1/root(2)*(|01> + |10>)\n",
    "            ansatz_custom.x(range(1, 13, 2))\n",
    "            ansatz_custom.cx(range(0, 11, 2), range(1, 12, 2))\n",
    "\n",
    "    return ansatz_custom"
   ]
  },
  {
   "cell_type": "code",
   "execution_count": null,
   "id": "16b034be",
   "metadata": {
    "scrolled": true
   },
   "outputs": [],
   "source": [
    "# Run a VQE session that tries to rotate correction factors\n",
    "# so the optimal point under noisy conditions is closer to \n",
    "# the optimal point under ideal conditions.\n",
    "\n",
    "# Get the optimal parameters for the entire circuit\n",
    "myoptimal = [item for sublist in optimal_parameters for item in sublist]\n",
    "\n",
    "# Start by creating the new circuit that will be optimized\n",
    "# Create the circuit with the optimized parameters in place\n",
    "mitigate_ansatz = build_myansatz(myoptimal, 1)\n",
    "\n",
    "# Add parameterized Rz and P gates that will be for correcting noise\n",
    "j = mitigate_ansatz.num_parameters\n",
    "for qubitnum in range(12):\n",
    "    mitigate_ansatz.rz(Parameter('θ_' + str(j)), qubitnum)\n",
    "    j += 1\n",
    "    mitigate_ansatz.p(Parameter('θ_' + str(j)), qubitnum)\n",
    "    j += 1\n",
    "    \n",
    "# Force anstaz to be applied to qubits in the heavy hex.\n",
    "# Avoid the outer qubits 0, 6, 9, and 15 which we accounted for in the lattice definition.\n",
    "q_layout = [1, 2, 3, 5, 8, 11, 14, 13, 12, 10, 7, 4]\n",
    "mitigate_transpiled = transpile(mitigate_ansatz, backend=guadalupe, initial_layout=q_layout)\n",
    "\n",
    "print('number and type of gates in the cirucit:', mitigate_transpiled.count_ops())\n",
    "print('number of parameters in the circuit:', mitigate_transpiled.num_parameters)\n",
    "mitigate_transpiled.draw(fold=300)"
   ]
  },
  {
   "cell_type": "code",
   "execution_count": null,
   "id": "0632107a",
   "metadata": {},
   "outputs": [],
   "source": [
    "# Select optimizer and iteration limit\n",
    "mymaxiter = 150\n",
    "optimizer = SPSA(maxiter=mymaxiter)\n",
    "\n",
    "# Select the Qiskit Runtime options\n",
    "service = QiskitRuntimeService()\n",
    "mit_options = Options()\n",
    "mit_options.resilience_level = 2\n",
    "mit_options.resilience.extrapolator = 'LinearExtrapolator'\n",
    "mit_options.optimization_level = 3\n",
    "mit_options.simulator.noise_model = guadalupe_noise_model\n",
    "#myshots = 0\n",
    "#mit_options.execution.shots = myshots"
   ]
  },
  {
   "cell_type": "code",
   "execution_count": null,
   "id": "df6050fe",
   "metadata": {},
   "outputs": [],
   "source": [
    "# Define a simple callback function\n",
    "mitigate_intermediate_info = []\n",
    "def callback_mitigate(value):\n",
    "        mitigate_intermediate_info.append(value)\n",
    "        \n",
    "# Setup Estimator\n",
    "start = time()\n",
    "with Session(service=service, backend=backend) as session:\n",
    "    # Prepare primitive\n",
    "    rt_estimator = RuntimeEstimator(session=session, options=mit_options)\n",
    "    # Set up algorithm\n",
    "    custom_vqe = CustomVQE(rt_estimator, mitigate_transpiled, optimizer, callback=callback_mitigate)\n",
    "    # Run algorithm\n",
    "    RTresult, RTinitial_points = custom_vqe.compute_minimum_eigenvalue(ham_16)\n",
    "end = time()\n",
    "print(f'execution time (s): {end - start:.2f}')\n",
    "winsound.Beep(325, 325)"
   ]
  },
  {
   "cell_type": "code",
   "execution_count": null,
   "id": "ded9e750",
   "metadata": {},
   "outputs": [],
   "source": [
    "plt.plot(mitigate_intermediate_info, color='purple', lw=2, label='Simulated VQE')\n",
    "plt.ylabel('Energy')\n",
    "plt.xlabel('Iterations')\n",
    "plt.axhline(y=gs_energy, color=\"tab:red\", ls=\"--\", lw=2, label=\"Target: \" + str(gs_energy))\n",
    "plt.legend()\n",
    "plt.grid()\n",
    "plt.show()"
   ]
  },
  {
   "cell_type": "code",
   "execution_count": null,
   "id": "b6b68862",
   "metadata": {},
   "outputs": [],
   "source": [
    "def rel_err(target, measured):\n",
    "    return abs((target - measured) / target)"
   ]
  },
  {
   "cell_type": "code",
   "execution_count": null,
   "id": "86dac0f1",
   "metadata": {},
   "outputs": [],
   "source": [
    "# Compute the relative error between the expected ground state energy and the measured\n",
    "rel_error = rel_err(gs_energy, RTresult.eigenvalue)\n",
    "\n",
    "print(f'Expected ground state energy: {gs_energy:.10f}')\n",
    "print(f'Computed ground state energy: {RTresult.eigenvalue:.10f}')\n",
    "print(f'Relative error: {rel_error:.8f}')"
   ]
  },
  {
   "cell_type": "code",
   "execution_count": null,
   "id": "b7c74119",
   "metadata": {},
   "outputs": [],
   "source": [
    "# ----------------------------------------------- #\n",
    "# ----------------------------------------------- #\n",
    "# ----------------------------------------------- #\n",
    "# ----------------------------------------------- #\n",
    "# ----------------------------------------------- #\n",
    "# ----------------------------------------------- #\n",
    "# ----------------------------------------------- #\n",
    "# ----------------------------------------------- #\n",
    "# ----------------------------------------------- #\n",
    "# ----------------------------------------------- #\n",
    "# ----------------------------------------------- #"
   ]
  },
  {
   "cell_type": "code",
   "execution_count": null,
   "id": "6ae185b8",
   "metadata": {},
   "outputs": [],
   "source": [
    "# Now take the noisy results and mitigate them\n",
    "# Create 12 qubit dictionaries of the result instead of 16 qubit\n",
    "ideal12_list = [0] * (2**12)\n",
    "noisy12_list = [0] * (2**12)\n",
    "\n",
    "# 1. The noisy results will have to be grouped by \n",
    "# removing the excited qubits that are not used fir the 12 qubits.\n",
    "\n",
    "# Setup the noisy probabilities in a 12 qubit base \n",
    "for key in noise_binary_probs:\n",
    "    # Strip away the qubits that should be zero. Ancilla qubits\n",
    "    newbinary = key[1:6]+key[7:9]+key[10:15]\n",
    "    newint = int(newbinary, 2)\n",
    "    # Combine values into the list\n",
    "    noisy12_list[newint] = noisy12_list[newint] + noise_binary_probs[key]\n",
    "        \n",
    "# Setup the ideal probabilities in a 12 qubit base\n",
    "for key in binary_probs:\n",
    "    # Strip away the qubits that should be zero. Ancilla qubits\n",
    "    newbinary = key[1:6]+key[7:9]+key[10:15]\n",
    "    newint = int(newbinary, 2)\n",
    "    # Combine values into the list\n",
    "    ideal12_list[newint] = ideal12_list[newint] + binary_probs[key]\n",
    "\n",
    "# ------------------------------------------------------------------------------ #\n",
    "# 2 Multiply each noisy result by the correction factor it needs.\n",
    "# Correct the noisy results to create the error mitigated answer\n",
    "corrected12 = [noisy12_list[i] * all_correction_factors[i] for i in range(len(noisy12_list))]"
   ]
  },
  {
   "cell_type": "code",
   "execution_count": null,
   "id": "cdb71611",
   "metadata": {},
   "outputs": [],
   "source": [
    "maxval = 0\n",
    "maxidx = 0\n",
    "for i in range(len(ideal12_list)):\n",
    "    if ideal12_list[i] > maxval:\n",
    "        maxval = ideal12_list[i]\n",
    "        maxidx = i\n",
    "        \n",
    "print(maxval)\n",
    "print(maxidx)"
   ]
  },
  {
   "cell_type": "code",
   "execution_count": null,
   "id": "fb407d74",
   "metadata": {},
   "outputs": [],
   "source": [
    "maxval_corrected = 0\n",
    "maxidx_corrected = 0\n",
    "for i in range(len(corrected12)):\n",
    "    if corrected12[i] > maxval_corrected:\n",
    "        maxval_corrected = corrected12[i]\n",
    "        maxidx_corrected = i\n",
    "        \n",
    "print(maxval_corrected)\n",
    "print(maxidx_corrected)\n",
    "print(ideal12_list[maxidx_corrected])\n",
    "print(corrected12[maxidx])"
   ]
  },
  {
   "cell_type": "code",
   "execution_count": null,
   "id": "37a902f5",
   "metadata": {},
   "outputs": [],
   "source": [
    "noisy12_list[maxidx]"
   ]
  },
  {
   "cell_type": "code",
   "execution_count": null,
   "id": "580c1890",
   "metadata": {},
   "outputs": [],
   "source": [
    "ideal12_list[maxidx]/noisy12_list[maxidx]"
   ]
  },
  {
   "cell_type": "code",
   "execution_count": null,
   "id": "6357934c",
   "metadata": {},
   "outputs": [],
   "source": [
    "# Try running everything with shots to maybe fix the error in the correction factor. All correction factors are on the  low side!\n",
    "# Also maybe try normalizing everything after the mitigation is done.\n",
    "all_correction_factors[maxidx]"
   ]
  },
  {
   "cell_type": "code",
   "execution_count": null,
   "id": "cea686b8",
   "metadata": {
    "scrolled": true
   },
   "outputs": [],
   "source": [
    "print(max(all_correction_factors))"
   ]
  },
  {
   "cell_type": "code",
   "execution_count": null,
   "id": "8f6cf263",
   "metadata": {},
   "outputs": [],
   "source": [
    "normal_corrected12 = normalize(corrected12)"
   ]
  },
  {
   "cell_type": "code",
   "execution_count": null,
   "id": "a20df3eb",
   "metadata": {},
   "outputs": [],
   "source": [
    "# Plot the corrected results versus the ideal\n",
    "states = [i for i in range(len(ideal12_list))]\n",
    "plt.scatter(states, ideal12_list)\n",
    "plt.scatter(states, noisy12_list, marker='X')\n",
    "plt.scatter(states, normal_corrected12, marker='*')\n",
    "plt.ylabel('Quasi-probability')\n",
    "plt.xlabel('Theta')\n",
    "plt.legend(['Ideal', 'Noisy', 'Mitigated'], loc='upper right')\n",
    "plt.title('Mitigated Results')\n",
    "\n",
    "ax = plt.gca()\n",
    "#ax.set_xlim(right = 5.25)\n",
    "#ax.set_ylim([-0.25, 1.5])\n",
    "plt.show()"
   ]
  },
  {
   "cell_type": "code",
   "execution_count": null,
   "id": "76aa3ed0",
   "metadata": {},
   "outputs": [],
   "source": [
    "# Run the circuit through the estimator under noisy conditions\n",
    "\n",
    "# Run the circuit through sampler with noisy conditions\n",
    "with Session(service=service, backend=backend) as session:\n",
    "    # Prepare primitive\n",
    "    estimator = RuntimeEstimator(session=session, options=mit_options)\n",
    "    # Run sampler\n",
    "    job_viewcounts = estimator.run(\n",
    "        circuits=[measure_circuit],\n",
    "        parameter_values=[myoptimal],\n",
    "        parameters=[measure_circuit.parameters],\n",
    "        observables=ham_16)\n",
    "    job_result = job_viewcounts.result()\n",
    "    #int_noise_probs = job_result.quasi_dists[0]\n",
    "    #noise_binary_probs = [q.binary_probabilities() for q in job_result.quasi_dists]\n",
    "    #noise_binary_probs = noise_binary_probs[0] # Have it just be the dictionary"
   ]
  },
  {
   "cell_type": "code",
   "execution_count": null,
   "id": "ad22fdcd",
   "metadata": {},
   "outputs": [],
   "source": [
    "job_result.values"
   ]
  },
  {
   "cell_type": "code",
   "execution_count": null,
   "id": "9f9c2d2c",
   "metadata": {},
   "outputs": [],
   "source": [
    "# Below is older code for testing. Not part of    #\n",
    "# current mitigation effort.                      #\n",
    "# ----------------------------------------------- #\n",
    "# ----------------------------------------------- #\n",
    "# ----------------------------------------------- #\n",
    "# ----------------------------------------------- #\n",
    "# ----------------------------------------------- #"
   ]
  },
  {
   "cell_type": "code",
   "execution_count": null,
   "id": "c09f4493",
   "metadata": {},
   "outputs": [],
   "source": [
    "# Select parameters for this sampler run\n",
    "theta_range = np.linspace(start = -pi,\n",
    "               stop = pi,\n",
    "               num = 16)\n",
    "\n",
    "theta0 = 0\n",
    "theta1 = 0\n",
    "theta2 = 0\n",
    "theta3 = 0\n",
    "\n",
    "# Classify everything into these four states\n",
    "probVthetaKeys = ['00', '01', '10', '11']"
   ]
  },
  {
   "cell_type": "code",
   "execution_count": null,
   "id": "2a662b3d",
   "metadata": {
    "scrolled": true
   },
   "outputs": [],
   "source": [
    "noisy_sample = True\n",
    "\n",
    "# Probability vs theta for ideal states\n",
    "if noisy_sample:\n",
    "    # Probability vs theta for noisy states\n",
    "    noiseProbVtheta = { '00' : [0]*len(theta_range), \n",
    "                        '01' : [0]*len(theta_range), \n",
    "                        '10' : [0]*len(theta_range), \n",
    "                        '11' : [0]*len(theta_range) }\n",
    "    if myshots == 1024:\n",
    "        noiseProbVtheta1024 = noiseProbVtheta\n",
    "    if myshots == 5000:\n",
    "        noiseProbVtheta5000 = noiseProbVtheta\n",
    "else:\n",
    "    probVtheta = { '00' : [0]*len(theta_range), \n",
    "                   '01' : [0]*len(theta_range), \n",
    "                   '10' : [0]*len(theta_range), \n",
    "                   '11' : [0]*len(theta_range) }\n",
    "\n",
    "\n",
    "# List of states in ascending order\n",
    "binStates16Qubits = state_binary(ansatz_opt.num_qubits, [q_layout[q1],q_layout[q2]])\n",
    "\n",
    "loopNum = 0\n",
    "start = time()\n",
    "\n",
    "# Loop through theta range and see how counts change\n",
    "for theta2 in theta_range:\n",
    "    Theta = [theta0, theta1, theta2+pi/4, theta2]\n",
    "    \n",
    "    # Sampler runs a job on the parameterized circuits\n",
    "    ansatz_measure = ansatz_opt.copy()\n",
    "    ansatz_measure.add_register(cr)\n",
    "    ansatz_measure.measure(q_layout[q1], 0)\n",
    "    ansatz_measure.measure(q_layout[q2], 1)\n",
    "    \n",
    "    #ansatz_measure = ansatz_opt.measure_all(inplace=False)\n",
    "    #ansatz_measure.draw()\n",
    "\n",
    "    if noisy_sample == True:\n",
    "        with Session(service=service, backend=backend) as session:\n",
    "            # Prepare primitive\n",
    "            sampler = RuntimeSampler(session=session, options=options)\n",
    "            # Run sampler\n",
    "            job_viewcounts = sampler.run(\n",
    "                circuits=[ansatz_measure],\n",
    "                parameter_values=[Theta],\n",
    "                parameters=[ansatz_opt.parameters])\n",
    "            job_result = job_viewcounts.result()\n",
    "            noise_binary_probs = [q.binary_probabilities() for q in job_result.quasi_dists]\n",
    "            noise_binary_probs = noise_binary_probs[0] # Have it just be the dictionary\n",
    "            \n",
    "            # Loop through every state that was measured in the noisy circuit\n",
    "            for key in noise_binary_probs:\n",
    "                # Check if the circuit measures all qubits or just the two of interest\n",
    "                if ansatz_measure.num_clbits > 2:\n",
    "                    # We are measuring all qubits. Group the keys into only two qubits\n",
    "                    # Start with the |00> state\n",
    "                    twoQubitKey = '00'\n",
    "                    # Check if q1 is equal to 1 : |01> state\n",
    "                    if key[-1-q_layout[q1]] == '1':\n",
    "                        twoQubitKey = twoQubitKey[0:1]+'1'\n",
    "                    # Check if q2 is equal to 1 : |10> state\n",
    "                    if key[-1-q_layout[q2]] == '1':\n",
    "                        twoQubitKey = '1'+twoQubitKey[1:]\n",
    "                    # Note if both q1 and q2 were 1 we make the |11> state\n",
    "                else:\n",
    "                    # The state only has two qubits being measured. The key is correct\n",
    "                    twoQubitKey = key\n",
    "                \n",
    "                # Sum the all the states with the same q1 and q2 value\n",
    "                #     Ex. q1 = 0, q2 = 1 then |011> and |111> are mapped to the |11> bucket\n",
    "                noiseProbVtheta[twoQubitKey][loopNum] += noise_binary_probs[key]\n",
    "\n",
    "    else:\n",
    "        sampler = Sampler()\n",
    "\n",
    "        # Run sampler\n",
    "        job_viewcounts = sampler.run(\n",
    "            circuits=[ansatz_measure],\n",
    "            parameter_values=[Theta],\n",
    "            parameters=[ansatz_opt.parameters])\n",
    "        job_result = job_viewcounts.result()\n",
    "        binary_probs = [q.binary_probabilities() for q in job_result.quasi_dists]\n",
    "        binary_probs = binary_probs[0] # Have it just be the dictionary\n",
    "            \n",
    "        # Loop through every state that was measured in the noisy circuit\n",
    "        for key in binary_probs:\n",
    "            # Check if the circuit measures all qubits or just the two of interest\n",
    "            if ansatz_measure.num_clbits > 2:\n",
    "                # We are measuring all qubits. Group the keys into only two qubits\n",
    "                # Start with the |00> state\n",
    "                twoQubitKey = '00'\n",
    "                # Check if q1 is equal to 1 : |01> state\n",
    "                if key[-1-q_layout[q1]] == '1':\n",
    "                    twoQubitKey = twoQubitKey[0:1]+'1'\n",
    "                # Check if q2 is equal to 1 : |10> state\n",
    "                if key[-1-q_layout[q2]] == '1':\n",
    "                    twoQubitKey = '1'+twoQubitKey[1:]\n",
    "                # Note if both q1 and q2 were 1 we make the |11> state\n",
    "            else:\n",
    "                # The state only has two qubits being measured. The key is correct\n",
    "                twoQubitKey = key\n",
    "\n",
    "            # Sum the all the states with the same q1 and q2 value\n",
    "            #     Ex. q1 = 0, q2 = 1 then |011> and |111> are mapped to the |11> bucket\n",
    "            probVtheta[twoQubitKey][loopNum] += binary_probs[key]\n",
    "    \n",
    "    # Increase loop number\n",
    "    loopNum += 1\n",
    "\n",
    "if noisy_sample and myshots == 1024:\n",
    "    noiseProbVtheta1024 = noiseProbVtheta\n",
    "if noisy_sample and myshots == 5000:\n",
    "    noiseProbVtheta5000 = noiseProbVtheta\n",
    "    \n",
    "#print(job_result.quasi_dists)\n",
    "end = time()\n",
    "print(f'execution time (s): {end - start:.2f}')"
   ]
  },
  {
   "cell_type": "code",
   "execution_count": null,
   "id": "2c7472bf",
   "metadata": {},
   "outputs": [],
   "source": [
    "job_result.metadata"
   ]
  },
  {
   "cell_type": "code",
   "execution_count": null,
   "id": "ba428dac",
   "metadata": {},
   "outputs": [],
   "source": [
    "# |00> State\n",
    "plt.scatter(theta_range, probVtheta['00'])\n",
    "plt.scatter(theta_range, noiseProbVtheta1024['00'], marker='X')\n",
    "plt.scatter(theta_range, noiseProbVtheta5000['00'], marker='*')\n",
    "plt.scatter(theta_range, noiseProbVtheta['00'], marker='>')\n",
    "plt.ylabel('Quasi-probability')\n",
    "plt.xlabel('Theta')\n",
    "plt.legend(['Ideal', '1024 Shots', '5000 Shots', 'Sampler'], loc='upper right')\n",
    "plt.title('|00> State')\n",
    "\n",
    "ax = plt.gca()\n",
    "ax.set_xlim(right = 1.75*pi)\n",
    "ax.set_ylim([-0.25, 1.5])\n",
    "plt.show()\n",
    "\n",
    "# |01> State\n",
    "plt.scatter(theta_range, probVtheta['01'])\n",
    "plt.scatter(theta_range, noiseProbVtheta1024['01'], marker='X')\n",
    "plt.scatter(theta_range, noiseProbVtheta5000['01'], marker='*')\n",
    "plt.scatter(theta_range, noiseProbVtheta['01'], marker='>')\n",
    "plt.ylabel('Quasi-probability')\n",
    "plt.xlabel('Theta')\n",
    "plt.legend(['Ideal', '1024 Shots', '5000 Shots', 'Sampler'], loc='upper right')\n",
    "plt.title('|01> State')\n",
    "\n",
    "ax = plt.gca()\n",
    "ax.set_xlim(right = 1.75*pi)\n",
    "ax.set_ylim([-0.25, 1.5])\n",
    "plt.show()\n",
    "\n",
    "# |10> State\n",
    "plt.scatter(theta_range, probVtheta['10'])\n",
    "plt.scatter(theta_range, noiseProbVtheta1024['10'], marker='X')\n",
    "plt.scatter(theta_range, noiseProbVtheta5000['10'], marker='*')\n",
    "plt.scatter(theta_range, noiseProbVtheta['10'], marker='>')\n",
    "plt.ylabel('Quasi-probability')\n",
    "plt.xlabel('Theta')\n",
    "plt.legend(['Ideal', '1024 Shots', '5000 Shots', 'Sampler'], loc='upper right')\n",
    "plt.title('|10> State')\n",
    "\n",
    "ax = plt.gca()\n",
    "ax.set_xlim(right = 1.75*pi)\n",
    "ax.set_ylim([-0.25, 1.5])\n",
    "plt.show()\n",
    "\n",
    "# |11> State\n",
    "plt.scatter(theta_range, probVtheta['11'])\n",
    "plt.scatter(theta_range, noiseProbVtheta1024['11'], marker='X')\n",
    "plt.scatter(theta_range, noiseProbVtheta5000['11'], marker='*')\n",
    "plt.scatter(theta_range, noiseProbVtheta['11'], marker='>')\n",
    "plt.ylabel('Quasi-probability')\n",
    "plt.xlabel('Theta')\n",
    "plt.legend(['Ideal', '1024 Shots', '5000 Shots', 'Sampler'], loc='upper right')\n",
    "plt.title('|11> State')\n",
    "\n",
    "ax = plt.gca()\n",
    "ax.set_xlim(right = 1.75*pi)\n",
    "ax.set_ylim([-0.25, 1.5])\n",
    "plt.show()"
   ]
  },
  {
   "cell_type": "code",
   "execution_count": null,
   "id": "e70da630",
   "metadata": {},
   "outputs": [],
   "source": [
    "S = binary_probs[binStates16Qubits[0]] + binary_probs[binStates16Qubits[1]] \\\n",
    "      + binary_probs[binStates16Qubits[2]] + binary_probs[binStates16Qubits[3]]\n",
    "print(binary_probs[binStates16Qubits[0]])\n",
    "print(binary_probs[binStates16Qubits[1]])\n",
    "print(binary_probs[binStates16Qubits[2]])\n",
    "print(binary_probs[binStates16Qubits[3]])\n",
    "print(S)\n",
    "maxval = 0\n",
    "for key in binary_probs:\n",
    "    if binary_probs[key] > maxval:\n",
    "        maxval = binary_probs[key]\n",
    "        maxkey = key\n",
    "        \n",
    "print(maxkey + ' : ' + str(maxval))\n",
    "#print(noise_binary_probs)\n",
    "\n",
    "if ansatz_measure.num_clbits > 2:\n",
    "    print('      Perfect Sim  |  Noisy Sim')\n",
    "    print('|00>  ' + str(binary_probs[binStates16Qubits[0]]) + ' | ' + str(noise_binary_probs[binStates16Qubits[0]]))\n",
    "    print('|01>  ' + str(binary_probs[binStates16Qubits[1]]) + ' | ' + str(noise_binary_probs[binStates16Qubits[1]]))\n",
    "    print('|10>  ' + str(binary_probs[binStates16Qubits[2]]) + ' | ' + str(noise_binary_probs[binStates16Qubits[2]]))\n",
    "    print('|11>  ' + str(binary_probs[binStates16Qubits[3]]) + ' | ' + str(noise_binary_probs[binStates16Qubits[3]]))\n",
    "else:\n",
    "    print('      Perfect Sim  |  Noisy Sim')\n",
    "    print('|00>  ' + str(binary_probs[binStates16Qubits[0]]) + ' | ' + str(noise_binary_probs[probVthetaKeys[0]]))\n",
    "    print('|01>  ' + str(binary_probs[binStates16Qubits[1]]) + ' | ' + str(noise_binary_probs[probVthetaKeys[1]]))\n",
    "    print('|10>  ' + str(binary_probs[binStates16Qubits[2]]) + ' | ' + str(noise_binary_probs[probVthetaKeys[2]]))\n",
    "    print('|11>  ' + str(binary_probs[binStates16Qubits[3]]) + ' | ' + str(noise_binary_probs[probVthetaKeys[3]]))"
   ]
  },
  {
   "cell_type": "code",
   "execution_count": null,
   "id": "d88e4897",
   "metadata": {
    "scrolled": true
   },
   "outputs": [],
   "source": [
    "Dist = job_result.quasi_dists[0]\n",
    "threshold = 0.000001\n",
    "\n",
    "plot_binary_dist(Dist, threshold)"
   ]
  },
  {
   "cell_type": "code",
   "execution_count": null,
   "id": "c3fe56f1",
   "metadata": {},
   "outputs": [],
   "source": [
    "def state_binary(numQubits, qubitsOfInterest):\n",
    "    # numQubits is the total number of qubits in the circuit\n",
    "    # qubitsOfInterest is a list that contains the qubits you want to create the binary states for.\n",
    "    #     ex. numQubits = 4, qubitsOfInterest = [0, 2]\n",
    "    #     state_binary --> ['0000', '0001', '0100', '0101']\n",
    "    #\n",
    "    #     ex. numQubits = 4, qubitsOfInterest = [0, 1, 3]\n",
    "    #     state_binary --> ['0000', '0001', '0010', '0011', '1000', '1001', '1010', '1011']\n",
    "    listOfStates = ['0'*numQubits]*2**len(qubitsOfInterest)\n",
    "    \n",
    "    # Get list in numeric order\n",
    "    qubitsOfInterest.sort()\n",
    "\n",
    "    # Iterate through the states turning the 0's to 1's when the state should be excited\n",
    "    for i in range(len(listOfStates)):\n",
    "        listOfStates[i] = make_a_bin_state(i, numQubits, qubitsOfInterest)\n",
    "    return listOfStates\n",
    "\n",
    "# Example\n",
    "mystates = state_binary(8, [1, 3, 6])\n",
    "print(mystates)  "
   ]
  },
  {
   "cell_type": "code",
   "execution_count": null,
   "id": "4c659173",
   "metadata": {},
   "outputs": [],
   "source": [
    "def make_a_bin_state(i, numQubits, qubits):\n",
    "    # i -- the integer number for this state. Is it the 1st, 2nd, 3rd, etc state to make with these qubits\n",
    "    # numQubits -- total number of qubits in the circuit\n",
    "    # qubits -- list of qubits that will be looked at with this state\n",
    "    state = '0'*numQubits\n",
    "    if i >= 2**len(qubits):\n",
    "        print(\"Error! State larger then what is possible!\")\n",
    "    else:\n",
    "        for j in range(len(qubits)):\n",
    "            modNum = 2**(j+1) # 0 --> mod 2\n",
    "                              # 1 --> mod 4\n",
    "                              # 2 --> mod 8 \n",
    "                              # etc.\n",
    "            compareVal = 2**j # 0 --> >= 1\n",
    "                              # 1 --> >= 2\n",
    "                              # 2 --> >= 4\n",
    "                              # etc.\n",
    "            if i%modNum >= compareVal:\n",
    "                state = state[0:qubits[j]] + '1' + state[qubits[j]+1:]\n",
    "        state = state[::-1]\n",
    "    return state"
   ]
  },
  {
   "cell_type": "code",
   "execution_count": null,
   "id": "b0674634",
   "metadata": {},
   "outputs": [],
   "source": [
    "state = '0000'\n",
    "state1 = state[0:3]+'1'+state[4:]\n",
    "print(state1)"
   ]
  },
  {
   "cell_type": "code",
   "execution_count": null,
   "id": "e6a2d048",
   "metadata": {},
   "outputs": [],
   "source": [
    "#            i:  0    1    2    3    4    5    6    7\n",
    "# Three qubits: 000, 001, 010, 011, 100, 101, 110, 111\n",
    "# q1 -- off, on, off, on, off, on, off, on\n",
    "# q2 -- off, off, on, on, off, off, on, on\n",
    "# q3 -- off, off, off, off, on, on, on, on\n",
    "i = 1\n",
    "if i%2 == 1:\n",
    "    print('on')\n",
    "else:\n",
    "    print('off')\n",
    "if i%4 >= 2:\n",
    "    print('on')\n",
    "else:\n",
    "    print('off')\n",
    "if i%8 >= 4:\n",
    "    print('on')\n",
    "else:\n",
    "    print('off')"
   ]
  },
  {
   "cell_type": "code",
   "execution_count": null,
   "id": "e70500c2",
   "metadata": {},
   "outputs": [],
   "source": [
    "def plot_binary_dist(Dist, threshold):\n",
    "    # Unused Qubits\n",
    "    unused_qubits = [0, 6, 9, 15]\n",
    "\n",
    "    # Get a new\n",
    "    Dist_12 = {}\n",
    "\n",
    "    # Get a dictionary for the number of digits that are 1\n",
    "    numberOnes = {0:0, 1:0, 2:0, 3:0, 4:0, 5:0, 6:0, 7:0, 8:0, 9:0, 10:0, 11:0, 12:0}\n",
    "\n",
    "    # Excited Qubit Distribution\n",
    "    exq_dist = {0:0, 1:0, 2:0, 3:0, 4:0, 5:0, 6:0, 7:0, 8:0, 9:0, 10:0, 11:0, 12:0}\n",
    "\n",
    "    # Total probability for state\n",
    "    state_prob = [0]*13\n",
    "\n",
    "    # Plotting x and y from the quasi-distribution\n",
    "    x_counts = []\n",
    "    y_counts = []\n",
    "    labels = []\n",
    "    labels16 = []\n",
    "\n",
    "    # Build a 12 qubit equivalent result\n",
    "    for key in Dist:\n",
    "        # Grab the value from the dictionary\n",
    "        val = Dist[key]\n",
    "\n",
    "        # Create the binary value \n",
    "        binary = bin(key)[2:]\n",
    "\n",
    "        while len(binary) < 16:\n",
    "            binary = \"0\"+binary\n",
    "\n",
    "        binary16 = binary\n",
    "        \n",
    "        # Record all the states with a value greater than the threshold\n",
    "        if val > threshold:\n",
    "            # Remove the unused bits from the string. Now we have a 12 bit number\n",
    "            newbinary = binary[1:6]+binary[7:9]+binary[10:15]\n",
    "            newint = int(newbinary, 2)\n",
    "\n",
    "            # Set up the new quasi-distribution and the plotting values\n",
    "            x_counts.append(newint)   # x plotting values\n",
    "            y_counts.append(val)      # y plotting values\n",
    "            labels.append(newbinary)\n",
    "            labels16.append(binary16)\n",
    "\n",
    "    # Plot the final results of the count\n",
    "    #plt.scatter(x0, np.real(y0))\n",
    "    #plt.scatter(x1, np.real(y1))\n",
    "    plt.bar(x_counts, y_counts)\n",
    "    plt.ylabel('Probability')\n",
    "    plt.xlabel('State (integer)')\n",
    "    plt.show()"
   ]
  },
  {
   "cell_type": "markdown",
   "id": "d46f7f5e",
   "metadata": {},
   "source": [
    "## 3-1 Qiskit runtime (cloud simulator)\n",
    "\n",
    "Next we demonstrate how to run VQE using [qiskit_ibm_runtime](https://github.com/Qiskit/qiskit-ibm-runtime) **which has different syntax from qiskit terra's runtime**. The qiskit_ibm_runtime module includes the same programming model as qiskit terra, but qiskit_ibm_runtime has access to a cloud simulator and more importantly the ibmq_guadalupe device. To learn more about qiskit_ibm_runtime check out these tutorials from the docs: [a tutorial on the estimator](https://github.com/Qiskit/qiskit-ibm-runtime/blob/main/docs/tutorials/how-to-getting-started-with-estimator.ipynb) and [a tutorial on the sampler](https://github.com/Qiskit/qiskit-ibm-runtime/blob/main/docs/tutorials/how-to-getting-started-with-sampler.ipynb).\n",
    "\n",
    "We will use all the same VQE components we've built up so far, but the syntax for executing on the hardware is wrapped in [a session](https://quantum-computing.ibm.com/lab/docs/iql/manage/systems/sessions/) as shown in the following cells.\n",
    "\n",
    "We first demonstrate running VQE with the cloud simulator backend to check everything is working correctly. This may take a few minutes. After running on the cloud simulator, we make a simple switch of backends to the real ibmq_guadalupe device to get the final result. Depending on how your VQE is setup, this may take a couple hours."
   ]
  },
  {
   "cell_type": "code",
   "execution_count": 141,
   "id": "a0732a91",
   "metadata": {
    "scrolled": true
   },
   "outputs": [
    {
     "name": "stdout",
     "output_type": "stream",
     "text": [
      "NoiseModel:\n",
      "  Basis gates: ['cx', 'id', 'reset', 'rz', 'sx', 'x']\n",
      "  Instructions with noise: ['reset', 'id', 'x', 'cx', 'measure', 'sx']\n",
      "  Qubits with noise: [0, 1, 2, 3, 4, 5, 6, 7, 8, 9, 10, 11, 12, 13, 14, 15]\n",
      "  Specific qubit errors: [('id', (0,)), ('id', (1,)), ('id', (2,)), ('id', (3,)), ('id', (4,)), ('id', (5,)), ('id', (6,)), ('id', (7,)), ('id', (8,)), ('id', (9,)), ('id', (10,)), ('id', (11,)), ('id', (12,)), ('id', (13,)), ('id', (14,)), ('id', (15,)), ('sx', (0,)), ('sx', (1,)), ('sx', (2,)), ('sx', (3,)), ('sx', (4,)), ('sx', (5,)), ('sx', (6,)), ('sx', (7,)), ('sx', (8,)), ('sx', (9,)), ('sx', (10,)), ('sx', (11,)), ('sx', (12,)), ('sx', (13,)), ('sx', (14,)), ('sx', (15,)), ('x', (0,)), ('x', (1,)), ('x', (2,)), ('x', (3,)), ('x', (4,)), ('x', (5,)), ('x', (6,)), ('x', (7,)), ('x', (8,)), ('x', (9,)), ('x', (10,)), ('x', (11,)), ('x', (12,)), ('x', (13,)), ('x', (14,)), ('x', (15,)), ('cx', (12, 15)), ('cx', (15, 12)), ('cx', (12, 10)), ('cx', (10, 12)), ('cx', (14, 13)), ('cx', (13, 14)), ('cx', (2, 3)), ('cx', (3, 2)), ('cx', (5, 3)), ('cx', (3, 5)), ('cx', (7, 4)), ('cx', (4, 7)), ('cx', (12, 13)), ('cx', (13, 12)), ('cx', (0, 1)), ('cx', (1, 0)), ('cx', (11, 8)), ('cx', (8, 11)), ('cx', (10, 7)), ('cx', (7, 10)), ('cx', (7, 6)), ('cx', (6, 7)), ('cx', (11, 14)), ('cx', (14, 11)), ('cx', (4, 1)), ('cx', (1, 4)), ('cx', (5, 8)), ('cx', (8, 5)), ('cx', (2, 1)), ('cx', (1, 2)), ('cx', (8, 9)), ('cx', (9, 8)), ('reset', (0,)), ('reset', (1,)), ('reset', (2,)), ('reset', (3,)), ('reset', (4,)), ('reset', (5,)), ('reset', (6,)), ('reset', (7,)), ('reset', (8,)), ('reset', (9,)), ('reset', (10,)), ('reset', (11,)), ('reset', (12,)), ('reset', (13,)), ('reset', (14,)), ('reset', (15,)), ('measure', (0,)), ('measure', (1,)), ('measure', (2,)), ('measure', (3,)), ('measure', (4,)), ('measure', (5,)), ('measure', (6,)), ('measure', (7,)), ('measure', (8,)), ('measure', (9,)), ('measure', (10,)), ('measure', (11,)), ('measure', (12,)), ('measure', (13,)), ('measure', (14,)), ('measure', (15,))]\n"
     ]
    }
   ],
   "source": [
    "print(guadalupe_noise_model)"
   ]
  },
  {
   "cell_type": "code",
   "execution_count": 192,
   "id": "2dc7b963",
   "metadata": {},
   "outputs": [],
   "source": [
    "# Define a simple callback function\n",
    "intermediate_info_sim_backend = []\n",
    "params_list_sim = []\n",
    "def callback_sim(value, params):\n",
    "        intermediate_info_sim_backend.append(value)\n",
    "        params_list_sim.append(params)\n",
    "                \n",
    "# Define list to store optimization results\n",
    "RToptimized_parms = []\n",
    "RTrun_num = 0"
   ]
  },
  {
   "cell_type": "code",
   "execution_count": 193,
   "id": "faeb2ef4",
   "metadata": {},
   "outputs": [],
   "source": [
    "# Set up the test case\n",
    "\n",
    "# Select the ansatz to test. \n",
    "#test_ansatz = ansatz1         # Single layer of Heis gates\n",
    "#test_ansatz = ansatz         # Efficient SU2 ansatz\n",
    "test_ansatz = ansatz_custom  # Open Science default custom ansatz\n",
    "\n",
    "# Select optimizer and iteration limit\n",
    "mymaxiter = 600\n",
    "optimizer = SPSA(maxiter=mymaxiter)\n",
    "\n",
    "# Select the Qiskit Runtime options\n",
    "service = QiskitRuntimeService()\n",
    "options = Options()\n",
    "#options.resilience_level = 2\n",
    "#options.resilience.extrapolator = 'LinearExtrapolator'\n",
    "#options.optimization_level = 3\n",
    "options.simulator.noise_model = guadalupe_noise_model\n",
    "#options.execution.shots = 1024"
   ]
  },
  {
   "cell_type": "code",
   "execution_count": 184,
   "id": "d34b4965",
   "metadata": {},
   "outputs": [],
   "source": [
    "# Select the description information\n",
    "# ansatz descrition\n",
    "if test_ansatz == ansatz:\n",
    "    ansatz_type = 'EfficientSU2'\n",
    "elif test_ansatz == ansatz_custom:\n",
    "    ansatz_type = 'IBM_custom'\n",
    "    \n",
    "# optimizer info\n",
    "optimizer_type = 'SPSA_'+str(mymaxiter)\n",
    "\n",
    "# options info\n",
    "resilience_type = 'level - ' + str(options.resilience_level) + ' extrapolator - ' + options.resilience.extrapolator"
   ]
  },
  {
   "cell_type": "code",
   "execution_count": 194,
   "id": "d2031c46",
   "metadata": {
    "scrolled": true
   },
   "outputs": [
    {
     "name": "stdout",
     "output_type": "stream",
     "text": [
      "execution time (s): 30180.35\n"
     ]
    }
   ],
   "source": [
    "# Setup Estimator\n",
    "start = time()\n",
    "with Session(service=service, backend=backend) as session:\n",
    "    # Prepare primitive\n",
    "    rt_estimator = RuntimeEstimator(session=session, options=options)\n",
    "    # Set up algorithm\n",
    "    custom_vqe = CustomVQE(rt_estimator, ansatz_opt, optimizer, callback=callback_sim)\n",
    "    # Run algorithm\n",
    "    RTresult, RTinitial_points = custom_vqe.compute_minimum_eigenvalue(ham_16)\n",
    "end = time()\n",
    "print(f'execution time (s): {end - start:.2f}')\n",
    "winsound.Beep(325, 325)"
   ]
  },
  {
   "cell_type": "code",
   "execution_count": 195,
   "id": "90706165",
   "metadata": {},
   "outputs": [
    {
     "name": "stdout",
     "output_type": "stream",
     "text": [
      "-15.283510725766426 : 1224\n",
      "[-0.08367763  1.4726193  -0.09546887 -1.46191971 -0.14914017  1.39502457\n",
      "  0.06986602 -1.65539214  0.09808901  1.46375021  0.12835742 -1.65110144\n",
      "  0.07670867  0.10610745  1.48589594  0.10855675 -1.42598887 -1.6828342\n",
      " -0.04696212  1.32390146  0.28538655 -1.07248731  0.10763779  1.64080451]\n",
      "1251\n"
     ]
    }
   ],
   "source": [
    "minval = min(intermediate_info_sim_backend)\n",
    "minidx = intermediate_info_sim_backend.index(minval)\n",
    "print(str(minval) + ' : ' + str(minidx))\n",
    "print(params_list_sim[minidx])\n",
    "print(len(intermediate_info_sim_backend))"
   ]
  },
  {
   "cell_type": "code",
   "execution_count": 198,
   "id": "2d78f244",
   "metadata": {},
   "outputs": [],
   "source": [
    "# Get the optimal parameters from an ideal sampler run\n",
    "noisy_optimal_parameters =[-0.08367763,  1.4726193,  -0.09546887, -1.46191971, -0.14914017,  1.39502457,\\\n",
    "  0.06986602, -1.65539214,  0.09808901,  1.46375021,  0.12835742, -1.65110144,\\\n",
    "  0.07670867,  0.10610745,  1.48589594,  0.10855675, -1.42598887, -1.6828342,\\\n",
    " -0.04696212,  1.32390146,  0.28538655, -1.07248731,  0.10763779,  1.64080451]"
   ]
  },
  {
   "cell_type": "code",
   "execution_count": 197,
   "id": "71fcb197",
   "metadata": {},
   "outputs": [
    {
     "data": {
      "image/png": "[encoded data removed]",
      "text/plain": [
       "<Figure size 640x480 with 1 Axes>"
      ]
     },
     "metadata": {},
     "output_type": "display_data"
    }
   ],
   "source": [
    "#RToptimized_parms.append((RTresult.optimal_parameters))\n",
    "plt.plot(intermediate_info_sim_backend, color='purple', lw=2, label='Simulated VQE')\n",
    "plt.ylabel('Energy')\n",
    "plt.xlabel('Iterations')\n",
    "plt.axhline(y=gs_energy, color=\"tab:red\", ls=\"--\", lw=2, label=\"Target: \" + str(gs_energy))\n",
    "plt.legend()\n",
    "plt.grid()\n",
    "plt.show()"
   ]
  },
  {
   "cell_type": "code",
   "execution_count": null,
   "id": "66223bd1",
   "metadata": {},
   "outputs": [],
   "source": [
    "# Compute the relative error between the expected ground state energy and the measured\n",
    "rel_error = rel_err(gs_energy, RTresult.eigenvalue)\n",
    "\n",
    "print(f'Expected ground state energy: {gs_energy:.10f}')\n",
    "print(f'Computed ground state energy: {RTresult.eigenvalue:.10f}')\n",
    "print(f'Relative error: {rel_error:.8f}')"
   ]
  },
  {
   "cell_type": "code",
   "execution_count": null,
   "id": "72d618d0",
   "metadata": {},
   "outputs": [],
   "source": [
    "# Save the information. Create the latest entry\n",
    "RTrun_num = RTrun_num + 1\n",
    "RTrun_time = str(round(end - start, 2))\n",
    "RTdescription = 'ansantz: ' + ansatz_type + ' optimizer: ' + optimizer_type + ' resilience' + resilience_type\n",
    "RTrun_data = (RTrun_num, \\\n",
    "              RTrun_time, \\\n",
    "              RTresult.eigenvalue, \\\n",
    "              rel_error, \\\n",
    "              RTinitial_points, \\\n",
    "              RTresult.optimal_parameters, \\\n",
    "              RTdescription)\n",
    "\n",
    "RToptimized_parms.append(RTrun_data)"
   ]
  },
  {
   "cell_type": "markdown",
   "id": "c061f03a",
   "metadata": {},
   "source": [
    "## 3-2 Qiskit runtime Real backend (ibmq_guadalupe)\n",
    "\n",
    "If our `qiskit_ibm_runtime` code is working on the cloud simulator backend, we can simply change the backend to the ibmq_guadalupe to run on the real backend. This may take a couple hours. Your performance score will be determined by the calculated relative error between the true ground state energy of -18.0 and the measured energy from the real ibmq_guadalupe backend."
   ]
  },
  {
   "cell_type": "code",
   "execution_count": null,
   "id": "13b4c8ee",
   "metadata": {},
   "outputs": [],
   "source": [
    "service = QiskitRuntimeService(channel='ibm_quantum')\n",
    "\n",
    "backend = 'ibmq_guadalupe'"
   ]
  },
  {
   "cell_type": "code",
   "execution_count": null,
   "id": "89310382",
   "metadata": {},
   "outputs": [],
   "source": [
    "# Define a simple callback function\n",
    "intermediate_info_real_backend = []\n",
    "def callback_real(value):\n",
    "        intermediate_info_real_backend.append(value)"
   ]
  },
  {
   "cell_type": "code",
   "execution_count": null,
   "id": "04664145",
   "metadata": {},
   "outputs": [],
   "source": [
    "# Setup Estimator\n",
    "start = time()\n",
    "with Session(service=service, backend=backend) as session:\n",
    "    # Prepare primitive\n",
    "    rt_estimator = RuntimeEstimator(session=session)\n",
    "    # set up algorithm\n",
    "    custom_vqe = CustomVQE(rt_estimator, ansatz_opt, optimizer, callback=callback_real)\n",
    "    # run algorithm\n",
    "    result = custom_vqe.compute_minimum_eigenvalue(ham_16)\n",
    "end = time()\n",
    "print(f'execution time (s): {end - start:.2f}')"
   ]
  },
  {
   "cell_type": "code",
   "execution_count": null,
   "id": "e25153d0",
   "metadata": {},
   "outputs": [],
   "source": [
    "plt.plot(intermediate_info_real_backend, color='purple', lw=2, label='VQE')\n",
    "plt.ylabel('Energy')\n",
    "plt.xlabel('Iterations')\n",
    "plt.axhline(y=gs_energy, color=\"tab:red\", ls=\"--\", lw=2, label=\"Target: \" + str(gs_energy))\n",
    "plt.legend()\n",
    "plt.grid()\n",
    "plt.show()"
   ]
  },
  {
   "cell_type": "markdown",
   "id": "b13205ac",
   "metadata": {},
   "source": [
    "## 3-3 Performance Score\n",
    "Compute the relative error between the expected ground state energy and the VQE result."
   ]
  },
  {
   "cell_type": "code",
   "execution_count": null,
   "id": "0649cc75",
   "metadata": {},
   "outputs": [],
   "source": [
    "# Compute the relative error between the expected ground state energy and the measured\n",
    "computed_gse = intermediate_info_real_backend[-1]\n",
    "\n",
    "print(f'Expected ground state energy: {gs_energy:.8f}')\n",
    "print(f'Computed ground state energy: {computed_gse:.8f}')\n",
    "print(f'Relative error: {100 * rel_err(gs_energy, computed_gse):.8f} %')"
   ]
  },
  {
   "cell_type": "markdown",
   "id": "ae2c52d0",
   "metadata": {},
   "source": [
    "## 4-1 Measurement (SPAM) Error Mitigation\n",
    "Use a calibration matrix and see if it produces better results. Apply it to the Hamiltonian."
   ]
  },
  {
   "cell_type": "code",
   "execution_count": 253,
   "id": "d3ddee20",
   "metadata": {},
   "outputs": [],
   "source": [
    "from qiskit import QuantumCircuit, QuantumRegister, Aer, transpile, assemble\n",
    "from qiskit.visualization import array_to_latex"
   ]
  },
  {
   "cell_type": "code",
   "execution_count": 247,
   "id": "0cd673a9",
   "metadata": {},
   "outputs": [],
   "source": [
    "from qiskit.providers.aer.noise import NoiseModel\n",
    "from qiskit.providers.aer.noise.errors import pauli_error, depolarizing_error\n",
    "\n",
    "def get_noise(p):\n",
    "\n",
    "    error_meas = pauli_error([('X',p), ('I', 1 - p)])\n",
    "\n",
    "    noise_model = NoiseModel()\n",
    "    noise_model.add_all_qubit_quantum_error(error_meas, \"measure\") # measurement error is applied to measurements\n",
    "        \n",
    "    return noise_model"
   ]
  },
  {
   "cell_type": "code",
   "execution_count": 248,
   "id": "3987e6fb",
   "metadata": {},
   "outputs": [],
   "source": [
    "noise_model = get_noise(0.01)"
   ]
  },
  {
   "cell_type": "code",
   "execution_count": 532,
   "id": "c8679f85",
   "metadata": {},
   "outputs": [
    {
     "name": "stdout",
     "output_type": "stream",
     "text": [
      "00 becomes {'00': 97947, '01': 906, '10': 1141, '11': 6}\n",
      "01 becomes {'01': 96934, '00': 1958, '11': 1083, '10': 25}\n",
      "10 becomes {'10': 97149, '11': 805, '00': 2033, '01': 13}\n",
      "11 becomes {'11': 95922, '01': 2137, '10': 1903, '00': 38}\n"
     ]
    }
   ],
   "source": [
    "# Prepare |00>, |01>, |10>, and |11> state\n",
    "aer_sim = Aer.get_backend('aer_simulator')\n",
    "myshots = 100000\n",
    "for state in ['00','01','10','11']:\n",
    "    qc = QuantumCircuit(2,2)\n",
    "    if state[0]=='1':\n",
    "        qc.x(1)\n",
    "    if state[1]=='1':\n",
    "        qc.x(0)  \n",
    "    qc.measure([0, 1], [0, 1])\n",
    "    qobj = transpile(qc, aer_sim)\n",
    "    counts = aer_sim.run(qobj, noise_model=guadalupe_noise_model, shots=myshots).result().get_counts()\n",
    "    print(state+' becomes', counts)"
   ]
  },
  {
   "cell_type": "code",
   "execution_count": 678,
   "id": "7048c2d8",
   "metadata": {},
   "outputs": [
    {
     "name": "stdout",
     "output_type": "stream",
     "text": [
      "Current State: 00\n",
      "[{'00': 0.9999247259831572, '01': -0.0010486690642048358, '10': 0.0009609953647871044, '11': 0.0001629477162605317}]\n",
      "{2: 0.0005181346908149523, 0: 0.999481865309185}\n",
      "\n",
      "Current State: 01\n",
      "[{'00': 0.0014238509207693997, '01': 0.9949630475439137, '11': 0.003613101535316881}]\n",
      "{0: 0.0014238509207693997, 3: 0.003613101535316881, 1: 0.9949630475439137}\n",
      "\n",
      "Current State: 10\n",
      "[{'00': 0.001793724775536937, '10': 0.9984540618615312, '11': -0.00024778663706805716}]\n",
      "{0: 0.0016698314570029085, 2: 0.9983301685429972}\n",
      "\n",
      "Current State: 11\n",
      "[{'00': -3.976544735117773e-05, '01': 0.0009912008738424513, '10': 0.0029826367018786736, '11': 0.99606592787163}]\n",
      "{1: 0.0009779457247253921, 2: 0.0029693815527616144, 3: 0.9960526727225129}\n",
      "\n"
     ]
    }
   ],
   "source": [
    "# If you want to view the final state. Collect and graph the counts\n",
    "# Sampler runs a job on the parameterized circuits\n",
    "\n",
    "# Prepare |00>, |01>, |10>, and |11> state\n",
    "myshots = 100000\n",
    "\n",
    "sampler = Sampler()\n",
    "\n",
    "M_qasm = [0]*4\n",
    "\n",
    "# Build circuits\n",
    "for state in ['00','01','10','11']:\n",
    "    print('Current State: '  + state)\n",
    "    qc = QuantumCircuit(2,2)\n",
    "    if state[0]=='1':\n",
    "        qc.x(1)\n",
    "    if state[1]=='1':\n",
    "        qc.x(0)  \n",
    "    qc.measure([0, 1], [0, 1])\n",
    "    \n",
    "    service = QiskitRuntimeService()\n",
    "    noise_options = Options()\n",
    "    noise_options.simulator.noise_model = guadalupe_noise_model\n",
    "    #noise_options.shots = myshots\n",
    "\n",
    "    # Get the start time\n",
    "    start = time()\n",
    "    with Session(service=service, backend=backend) as session:\n",
    "        # Prepare primitive\n",
    "        sampler = RuntimeSampler(session=session, options=noise_options)\n",
    "        job_viewcounts = sampler.run(circuits=[qc])\n",
    "        job_result = job_viewcounts.result()\n",
    "        binary_probs = [q.binary_probabilities() for q in job_result.quasi_dists]\n",
    "        print(binary_probs)\n",
    "        entries = [0] * 4\n",
    "        quasi_dist_dict = job_result.quasi_dists[0]\n",
    "        mydist = quasi_dist_dict.nearest_probability_distribution()\n",
    "        print(mydist)\n",
    "        for idx in mydist:\n",
    "            entries[idx] = mydist[idx]\n",
    "        ent_idx = int(state, 2)\n",
    "        M_qasm[ent_idx] = entries\n",
    "    \n",
    "    print()\n"
   ]
  },
  {
   "cell_type": "code",
   "execution_count": 679,
   "id": "06fd0545",
   "metadata": {},
   "outputs": [
    {
     "data": {
      "text/latex": [
       "$$\n",
       "\n",
       "\\begin{bmatrix}\n",
       "0.9994818653 & 0 & 0.0005181347 & 0  \\\\\n",
       " 0.0014238509 & 0.9949630475 & 0 & 0.0036131015  \\\\\n",
       " 0.0016698315 & 0 & 0.9983301685 & 0  \\\\\n",
       " 0 & 0.0009779457 & 0.0029693816 & 0.9960526727  \\\\\n",
       " \\end{bmatrix}\n",
       "$$"
      ],
      "text/plain": [
       "<IPython.core.display.Latex object>"
      ]
     },
     "execution_count": 679,
     "metadata": {},
     "output_type": "execute_result"
    }
   ],
   "source": [
    "array_to_latex(M_qasm)"
   ]
  },
  {
   "cell_type": "code",
   "execution_count": 680,
   "id": "b33aefb4",
   "metadata": {},
   "outputs": [],
   "source": [
    "M_qasm4 = M_qasm"
   ]
  },
  {
   "cell_type": "code",
   "execution_count": 681,
   "id": "00de57a9",
   "metadata": {},
   "outputs": [],
   "source": [
    "# Save off old M_qasm's to create an average\n",
    "M_qasm_list = [M_qasm0, M_qasm1, M_qasm2, M_qasm3, M_qasm4]"
   ]
  },
  {
   "cell_type": "code",
   "execution_count": 682,
   "id": "9917dec8",
   "metadata": {},
   "outputs": [
    {
     "name": "stdout",
     "output_type": "stream",
     "text": [
      "[[[0.9988927456388845, 0, 0.0011072543611154002, 0], [0, 0.9999999999999999, 0, 0], [0.005725084687277403, 0.00016758549003363776, 0.9941073298226888, 0], [0, 0, 0, 0.9999999999999999]], [[1.0, 0, 0, 0], [0, 0.9997029096781355, 0, 0.0002970903218645684], [0, 0, 0.999539646349657, 0.000460353650342901], [0, 0.0009064343632153, 0, 0.9990935656367846]], [[0.9999999999999999, 0, 0, 0], [0, 1.0000000000000002, 0, 0], [0.00010585034981630792, 0, 0.9998941496501836, 0], [0, 0, 0, 1.0000000000000002]], [[0.9990392005944447, 0.0009607994055553273, 0, 0], [0.0004389638624042362, 0.9981252637126896, 0.00025167234754917367, 0.0011841000773568323], [0, 0, 1.0, 0], [0, 0, 0.00048414587884918224, 0.999515854121151]], [[0.999481865309185, 0, 0.0005181346908149523, 0], [0.0014238509207693997, 0.9949630475439137, 0, 0.003613101535316881], [0.0016698314570029085, 0, 0.9983301685429972, 0], [0, 0.0009779457247253921, 0.0029693815527616144, 0.9960526727225129]]]\n"
     ]
    }
   ],
   "source": [
    "# Create an average M_qasm\n",
    "print(M_qasm_list)"
   ]
  },
  {
   "cell_type": "code",
   "execution_count": 717,
   "id": "b6d4ae23",
   "metadata": {},
   "outputs": [
    {
     "data": {
      "text/latex": [
       "$$\n",
       "\n",
       "\\begin{bmatrix}\n",
       "0.9994827623 & 0.0001921599 & 0.0003250778 & 0  \\\\\n",
       " 0.000372563 & 0.9985582442 & 5.03345 \\cdot 10^{-5} & 0.0010188584  \\\\\n",
       " 0.0015001533 & 3.35171 \\cdot 10^{-5} & 0.9983742589 & 9.20707 \\cdot 10^{-5}  \\\\\n",
       " 0 & 0.000376876 & 0.0006907055 & 0.9989324185  \\\\\n",
       " \\end{bmatrix}\n",
       "$$"
      ],
      "text/plain": [
       "<IPython.core.display.Latex object>"
      ]
     },
     "execution_count": 717,
     "metadata": {},
     "output_type": "execute_result"
    }
   ],
   "source": [
    "M_qasm_average = [[0,0,0,0],[0,0,0,0],[0,0,0,0],[0,0,0,0]]\n",
    "\n",
    "# n is the first index\n",
    "for n in range(4):\n",
    "    # m is the second index\n",
    "    for m in range(4):\n",
    "        # set the sum to zero for this element\n",
    "        element_sum = 0\n",
    "        # Loop through all the matrices to get the total sum\n",
    "        for matrix in M_qasm_list:\n",
    "            element_sum += matrix[n][m]\n",
    "            \n",
    "        # Done adding ... now divide \n",
    "        element_mean = element_sum/len(M_qasm_list)\n",
    "        # Store the mean in position\n",
    "        M_qasm_average[n][m] = element_mean\n",
    "\n",
    "array_to_latex(M_qasm_average)"
   ]
  },
  {
   "cell_type": "code",
   "execution_count": 543,
   "id": "3870b3e4",
   "metadata": {},
   "outputs": [
    {
     "name": "stdout",
     "output_type": "stream",
     "text": [
      "[[0.97947, 0.00906, 0.01141, 6e-05], [0.01958, 0.96934, 0.00025, 0.01083], [0.02033, 0.00013, 0.97149, 0.00805], [0.00038, 0.02137, 0.01903, 0.95922]]\n"
     ]
    }
   ],
   "source": [
    "C_00 = {'00': 97947, '01': 906, '10': 1141, '11': 6}\n",
    "C_01 = {'01': 96934, '00': 1958, '11': 1083, '10': 25}\n",
    "C_10 = {'10': 97149, '11': 805, '00': 2033, '01': 13}\n",
    "C_11 = {'11': 95922, '01': 2137, '10': 1903, '00': 38}\n",
    "\n",
    "M_aer = [0] * 4\n",
    "c = [0] * 4\n",
    "\n",
    "for key in C_00:\n",
    "    idx = int(key, 2)\n",
    "    c[idx] = C_00[key]/myshots\n",
    "M_aer[0] = c.copy()\n",
    "for key in C_01:\n",
    "    idx = int(key, 2)\n",
    "    c[idx] = C_01[key]/myshots\n",
    "M_aer[1] = c.copy()\n",
    "for key in C_10:\n",
    "    idx = int(key, 2)\n",
    "    c[idx] = C_10[key]/myshots\n",
    "M_aer[2] = c.copy()\n",
    "for key in C_11:\n",
    "    idx = int(key, 2)\n",
    "    c[idx] = C_11[key]/myshots\n",
    "M_aer[3] = c.copy()\n",
    "\n",
    "print(M_aer)"
   ]
  },
  {
   "cell_type": "code",
   "execution_count": 259,
   "id": "d51b5d5e",
   "metadata": {},
   "outputs": [
    {
     "name": "stdout",
     "output_type": "stream",
     "text": [
      "{'11': 4796, '00': 4832, '01': 185, '10': 187}\n"
     ]
    }
   ],
   "source": [
    "# Create the standard bell state\n",
    "qc = QuantumCircuit(2,2)\n",
    "qc.h(0)\n",
    "qc.cx(0,1)  \n",
    "qc.measure([0, 1], [0, 1])\n",
    "qobj = transpile(qc, aer_sim)\n",
    "counts = aer_sim.run(qobj, noise_model=guadalupe_noise_model, shots=10000).result().get_counts()\n",
    "print(counts)"
   ]
  },
  {
   "cell_type": "code",
   "execution_count": 260,
   "id": "1185ea96",
   "metadata": {},
   "outputs": [
    {
     "data": {
      "text/latex": [
       "$$\n",
       "\\text{C}_\\text{noisy} = \n",
       "\\begin{bmatrix}\n",
       "4903.5  \\\\\n",
       " \\frac{303}{2}  \\\\\n",
       " \\frac{287}{2}  \\\\\n",
       " 4787.0  \\\\\n",
       " \\end{bmatrix}\n",
       "$$"
      ],
      "text/plain": [
       "<IPython.core.display.Latex object>"
      ]
     },
     "execution_count": 260,
     "metadata": {},
     "output_type": "execute_result"
    }
   ],
   "source": [
    "M = [[0.9802,0.0111,0.0082,0.0005],\n",
    "    [0.0195,0.9694,0.0003,0.0108],\n",
    "    [0.0205,0.0003,0.9710,0.0082],\n",
    "    [0.0004,0.0210,0.0216,0.9570]]\n",
    "\n",
    "Cideal = [[5000],\n",
    "          [0],\n",
    "          [0],\n",
    "          [5000]]\n",
    "\n",
    "Cnoisy = np.dot(M, Cideal)\n",
    "array_to_latex(Cnoisy, prefix=\"\\\\text{C}_\\\\text{noisy} = \")"
   ]
  },
  {
   "cell_type": "code",
   "execution_count": 395,
   "id": "f663841f",
   "metadata": {},
   "outputs": [
    {
     "data": {
      "text/latex": [
       "$$\n",
       "\n",
       "\\begin{bmatrix}\n",
       "1.0206124169 & - \\frac{49 \\cdot 2^{\\frac{33}{113}} \\cdot 3^{\\frac{69}{113}} \\cdot 5^{\\frac{20}{113}} \\cdot 7^{\\frac{103}{113}}}{78732} & -0.0086080746 & -0.0003277036  \\\\\n",
       " -0.0205291815 & 1.0320530451 & 0.0001133756 & -0.0116372393  \\\\\n",
       " -0.0215453958 & 0.0001188898 & 1.0302441795 & -0.0088176735  \\\\\n",
       " 0.0005101864 & -0.0226447349 & -0.0232520501 & 1.0453865986  \\\\\n",
       " \\end{bmatrix}\n",
       "$$"
      ],
      "text/plain": [
       "<IPython.core.display.Latex object>"
      ]
     },
     "execution_count": 395,
     "metadata": {},
     "output_type": "execute_result"
    }
   ],
   "source": [
    "import scipy.linalg as la\n",
    "\n",
    "Minv = la.inv(M)\n",
    "\n",
    "array_to_latex(Minv)"
   ]
  },
  {
   "cell_type": "code",
   "execution_count": 262,
   "id": "c7b332ed",
   "metadata": {},
   "outputs": [
    {
     "data": {
      "text/latex": [
       "$$\n",
       "\\text{C}_\\text{mitigated}=\n",
       "\\begin{bmatrix}\n",
       "5000  \\\\\n",
       " 0  \\\\\n",
       " 0  \\\\\n",
       " 5000  \\\\\n",
       " \\end{bmatrix}\n",
       "$$"
      ],
      "text/plain": [
       "<IPython.core.display.Latex object>"
      ]
     },
     "execution_count": 262,
     "metadata": {},
     "output_type": "execute_result"
    }
   ],
   "source": [
    "Cmitigated = np.dot(Minv, Cnoisy)\n",
    "array_to_latex(Cmitigated, prefix=\"\\\\text{C}_\\\\text{mitigated}=\")"
   ]
  },
  {
   "cell_type": "code",
   "execution_count": 275,
   "id": "2e8e5618",
   "metadata": {},
   "outputs": [
    {
     "data": {
      "text/plain": [
       "<qiskit.circuit.instructionset.InstructionSet at 0x20f8c979ba0>"
      ]
     },
     "execution_count": 275,
     "metadata": {},
     "output_type": "execute_result"
    }
   ],
   "source": [
    "# Build a custom ansatz from scratch\n",
    "MEM_test = QuantumCircuit(2, 2)\n",
    "\n",
    "# Next layer\n",
    "j = 0\n",
    "for i in range(2):\n",
    "    MEM_test.rz(Parameter('θ_' + str(j)), i)\n",
    "    j += 1\n",
    "    MEM_test.ry(Parameter('θ_' + str(j)), i)\n",
    "    j += 1\n",
    "MEM_test.h(0)    # <-- Create bell state: 1/root(2)*(|01> + |10>)\n",
    "MEM_test.x(1)\n",
    "MEM_test.cx(0,1)\n",
    "MEM_test.measure([0, 1], [0, 1])"
   ]
  },
  {
   "cell_type": "code",
   "execution_count": 276,
   "id": "628c7038",
   "metadata": {},
   "outputs": [],
   "source": [
    "# Choose a couple of parameters\n",
    "MEM_params = [0.125*pi, 1.25*pi, 0, 0.6*pi]\n",
    "\n",
    "# Bind the parameters\n",
    "qc = MEM_test.bind_parameters(MEM_params)"
   ]
  },
  {
   "cell_type": "code",
   "execution_count": 292,
   "id": "09fed17e",
   "metadata": {},
   "outputs": [
    {
     "name": "stdout",
     "output_type": "stream",
     "text": [
      "{'11': 5602, '01': 2947, '00': 933, '10': 518}\n"
     ]
    }
   ],
   "source": [
    "qobj = transpile(qc, aer_sim)\n",
    "ideal_counts = aer_sim.run(qobj, shots=10000).result().get_counts()\n",
    "print(ideal_counts)\n",
    "#array_to_latex(counts, prefix=\"\\\\text{C}_\\\\text{mitigated}=\")"
   ]
  },
  {
   "cell_type": "code",
   "execution_count": 293,
   "id": "bc1a4f76",
   "metadata": {},
   "outputs": [
    {
     "name": "stdout",
     "output_type": "stream",
     "text": [
      "[933, 2947, 518, 5602]\n"
     ]
    }
   ],
   "source": [
    "my_perfect = [0]*4\n",
    "for key in ideal_counts:\n",
    "    idx = int(key, 2)\n",
    "    my_perfect[idx] = ideal_counts[key]\n",
    "print(my_perfect)"
   ]
  },
  {
   "cell_type": "code",
   "execution_count": 286,
   "id": "85e1ca7e",
   "metadata": {},
   "outputs": [
    {
     "name": "stdout",
     "output_type": "stream",
     "text": [
      "{'00': 1035, '01': 2986, '11': 5336, '10': 643}\n"
     ]
    }
   ],
   "source": [
    "counts = aer_sim.run(qobj, noise_model=guadalupe_noise_model, shots=10000).result().get_counts()\n",
    "print(counts)"
   ]
  },
  {
   "cell_type": "code",
   "execution_count": 295,
   "id": "2f4d9ca7",
   "metadata": {},
   "outputs": [
    {
     "name": "stdout",
     "output_type": "stream",
     "text": [
      "My noisey counts: [1035, 2986, 643, 5336]\n"
     ]
    }
   ],
   "source": [
    "my_noisy = [0]*4\n",
    "for key in counts:\n",
    "    idx = int(key, 2)\n",
    "    my_noisy[idx] = counts[key]\n",
    "print('My noisey counts: ' + str(my_noisy))"
   ]
  },
  {
   "cell_type": "code",
   "execution_count": 296,
   "id": "391a3f53",
   "metadata": {},
   "outputs": [
    {
     "data": {
      "text/latex": [
       "$$\n",
       "\\text{C}_\\text{mitigated}=\n",
       "\\begin{bmatrix}\n",
       "1014.1837900144 & 2998.4392816746 & 593.4514217219 & 5496.1426863737  \\\\\n",
       " \\end{bmatrix}\n",
       "$$"
      ],
      "text/plain": [
       "<IPython.core.display.Latex object>"
      ]
     },
     "execution_count": 296,
     "metadata": {},
     "output_type": "execute_result"
    }
   ],
   "source": [
    "my_mitigated = np.dot(Minv, my_noisy)\n",
    "array_to_latex(my_mitigated, prefix=\"\\\\text{C}_\\\\text{mitigated}=\")"
   ]
  },
  {
   "cell_type": "code",
   "execution_count": 313,
   "id": "a1ce7465",
   "metadata": {},
   "outputs": [
    {
     "data": {
      "text/plain": [
       "[<matplotlib.lines.Line2D at 0x21002758410>,\n",
       " <matplotlib.lines.Line2D at 0x210026d9250>,\n",
       " <matplotlib.lines.Line2D at 0x210026dafd0>]"
      ]
     },
     "execution_count": 313,
     "metadata": {},
     "output_type": "execute_result"
    },
    {
     "data": {
      "image/png": "[encoded data removed]",
      "text/plain": [
       "<Figure size 640x480 with 1 Axes>"
      ]
     },
     "metadata": {},
     "output_type": "display_data"
    }
   ],
   "source": [
    "# Plot the ideal, the noisy, and the mitigated\n",
    "x = [0, 1, 2, 3]\n",
    "plt.plot(x, my_perfect, '*', x, my_noisy, 'o', x, my_mitigated, 'x')\n",
    "#plot_histogram([my_perfect, my_noisy, my_mitigated], legend=['noisy', 'mitigated'])"
   ]
  },
  {
   "cell_type": "markdown",
   "id": "b9b77771",
   "metadata": {},
   "source": [
    "#### Test Noisy Hamiltonian Idea : [sqrt(M)]^-1 H [sqrt(M)]^-1"
   ]
  },
  {
   "cell_type": "code",
   "execution_count": 736,
   "id": "cb6df40f",
   "metadata": {},
   "outputs": [
    {
     "data": {
      "text/latex": [
       "$$\n",
       "\n",
       "\\begin{bmatrix}\n",
       "\\frac{21 \\cdot \\sqrt[8]{2} \\cdot 3^{\\frac{35}{78}} \\cdot 5^{\\frac{5}{104}} \\cdot 7^{\\frac{73}{78}}}{250} & -0.0137968463 & -0.0179848033 & 0.0006132872  \\\\\n",
       " -0.0191089366 & 1.0016414369 & -0.005927395 & -0.0319321293  \\\\\n",
       " -0.0387133191 & -0.0050832549 & 1.0017972243 & -0.0094553877  \\\\\n",
       " 0.0013891446 & -0.0193218827 & -0.0262274431 & 1.0014030899  \\\\\n",
       " \\end{bmatrix}\n",
       "$$"
      ],
      "text/plain": [
       "<IPython.core.display.Latex object>"
      ]
     },
     "execution_count": 736,
     "metadata": {},
     "output_type": "execute_result"
    }
   ],
   "source": [
    "# Set matrix M, use qasm or aer result\n",
    "M = M_qasm_average\n",
    "\n",
    "# Get the square root of every matrix element\n",
    "Msqrt = np.sqrt(M)\n",
    "\n",
    "# Get the inverse of the Msqrt\n",
    "Msqrt_inv = la.inv(Msqrt)\n",
    "\n",
    "array_to_latex(Msqrt_inv)"
   ]
  },
  {
   "cell_type": "code",
   "execution_count": 737,
   "id": "9766b93c",
   "metadata": {},
   "outputs": [
    {
     "data": {
      "text/latex": [
       "$$\n",
       "\n",
       "\\begin{bmatrix}\n",
       "\\frac{2 \\cdot 2^{\\frac{65}{854}} \\cdot 3^{\\frac{51}{854}} \\cdot 5^{\\frac{601}{854}} \\cdot \\sqrt[854]{7}}{7} & -0.0001925262 & - \\frac{3818359678559237054532197194091389403909457544994410227445769123733043670654296875 \\cdot 2^{\\frac{2}{5}} \\cdot 21^{\\frac{3}{5}} \\cdot \\sqrt[5]{5}}{132589232300045501276419036773916265508669027169355984024437999129482058476067112353792} & 2.264 \\cdot 10^{-7}  \\\\\n",
       " -0.0003732196 & 1.0014442965 & -4.96611 \\cdot 10^{-5} & -0.0010214158  \\\\\n",
       " -0.0015033622 & -3.3296 \\cdot 10^{-5} & 1.0016289435 & -9.22853 \\cdot 10^{-5}  \\\\\n",
       " 1.1803 \\cdot 10^{-6} & -0.0003778007 & -0.0006925512 & 1.0010691716  \\\\\n",
       " \\end{bmatrix}\n",
       "$$"
      ],
      "text/plain": [
       "<IPython.core.display.Latex object>"
      ]
     },
     "execution_count": 737,
     "metadata": {},
     "output_type": "execute_result"
    }
   ],
   "source": [
    "# Get the inverse of M\n",
    "Minv = la.inv(M)\n",
    "\n",
    "array_to_latex(Minv)"
   ]
  },
  {
   "cell_type": "code",
   "execution_count": 720,
   "id": "b8edcb1d",
   "metadata": {},
   "outputs": [],
   "source": [
    "from qiskit_ibm_runtime import QiskitRuntimeService\n",
    "\n",
    "service = QiskitRuntimeService()\n",
    "backend = service.backend(\"ibmq_qasm_simulator\")"
   ]
  },
  {
   "cell_type": "code",
   "execution_count": 721,
   "id": "a6c86c29",
   "metadata": {
    "scrolled": true
   },
   "outputs": [
    {
     "name": "stdout",
     "output_type": "stream",
     "text": [
      "OrderedDict([('cx', 44), ('rz', 24), ('h', 18), ('u1', 14), ('sdg', 10), ('p', 9), ('u3', 9), ('s', 8), ('ry', 6), ('u', 6), ('rzx', 4), ('rx', 4), ('sx', 3), ('sxdg', 3), ('t', 3), ('tdg', 3), ('r', 3), ('x', 2), ('id', 2), ('u2', 1)])\n"
     ]
    }
   ],
   "source": [
    "from qiskit.circuit.random import random_circuit\n",
    "from qiskit.quantum_info import SparsePauliOp\n",
    "\n",
    "circuit = random_circuit(2, 40, seed=7).decompose(reps=1)\n",
    "print(circuit.count_ops())\n",
    "#display(circuit.draw())"
   ]
  },
  {
   "cell_type": "code",
   "execution_count": 724,
   "id": "7683bc60",
   "metadata": {},
   "outputs": [
    {
     "name": "stdout",
     "output_type": "stream",
     "text": [
      ">>> Observable: ['XX', 'YY', 'ZZ']\n"
     ]
    }
   ],
   "source": [
    "observable = SparsePauliOp(\"XX\")+SparsePauliOp(\"YY\")+SparsePauliOp(\"ZZ\")\n",
    "print(f\">>> Observable: {observable.paulis}\")"
   ]
  },
  {
   "cell_type": "code",
   "execution_count": 725,
   "id": "a146bacd",
   "metadata": {},
   "outputs": [
    {
     "name": "stdout",
     "output_type": "stream",
     "text": [
      "Ideal Conditions. Expectation Value = -1.2975495049163859\n",
      "EstimatorResult(values=array([-1.2975495]), metadata=[{}])\n"
     ]
    }
   ],
   "source": [
    "# Try the full circuit with all of the optimal points.\n",
    "# Run the circuit through estimator under ideal conditions\n",
    "estimator = Estimator()\n",
    "\n",
    "# Run sampler\n",
    "job_est = estimator.run(\n",
    "    circuits=[circuit],\n",
    "    observables=[observable])\n",
    "job_est_result = job_est.result()\n",
    "myvalue = job_est_result.values[0]\n",
    "print('Ideal Conditions. Expectation Value = ' + str(myvalue))\n",
    "print(job_est_result)"
   ]
  },
  {
   "cell_type": "code",
   "execution_count": 726,
   "id": "4ed6c0d4",
   "metadata": {},
   "outputs": [
    {
     "name": "stdout",
     "output_type": "stream",
     "text": [
      "Noisy conditions. Expectation Value = -1.1905365599791828\n",
      "execution time (s): 12.44\n"
     ]
    }
   ],
   "source": [
    "# Run the estimator under noisy conditions\n",
    "# Run the circuit through the estimator under noisy conditions.\n",
    "# Select the Qiskit Runtime options\n",
    "service = QiskitRuntimeService()\n",
    "noise_options = Options()\n",
    "noise_options.simulator.noise_model = guadalupe_noise_model\n",
    "#noise_options.shots = 10000\n",
    "\n",
    "# Get the start time\n",
    "start = time()\n",
    "with Session(service=service, backend=backend) as session:\n",
    "    # Prepare primitive\n",
    "    estimator = RuntimeEstimator(session=session, options=noise_options)\n",
    "    # Run sampler\n",
    "    job_est = estimator.run(\n",
    "        circuits=[circuit],\n",
    "        observables=[observable])\n",
    "    job_est_result = job_est.result()\n",
    "    myNoisyValue = job_est_result.values[0]\n",
    "    print('Noisy conditions. Expectation Value = ' + str(myNoisyValue))\n",
    "\n",
    "# Print the execution time\n",
    "end = time()\n",
    "print(f'execution time (s): {end - start:.2f}')"
   ]
  },
  {
   "cell_type": "code",
   "execution_count": 727,
   "id": "efa3cd4a",
   "metadata": {},
   "outputs": [],
   "source": [
    "H = observable.to_matrix()"
   ]
  },
  {
   "cell_type": "code",
   "execution_count": 728,
   "id": "097b729f",
   "metadata": {},
   "outputs": [],
   "source": [
    "H_noise_step = np.matmul(Msqrt_inv,H)\n",
    "H_noise = np.matmul(H_noise_step, Msqrt_inv)\n",
    "#H_noise = np.matmul(Minv, H)\n",
    "H_noise2 = np.matmul(H, Minv)"
   ]
  },
  {
   "cell_type": "code",
   "execution_count": 729,
   "id": "d54bbad9",
   "metadata": {},
   "outputs": [],
   "source": [
    "from qiskit.opflow import X, Y, Z, I, CX, T, H, S, PrimitiveOp"
   ]
  },
  {
   "cell_type": "code",
   "execution_count": 730,
   "id": "0d2d9cea",
   "metadata": {},
   "outputs": [],
   "source": [
    "H_noise_obs = PrimitiveOp(H_noise).to_pauli_op().reduce()\n",
    "H_noise_obs2 = PrimitiveOp(H_noise2).to_pauli_op().reduce()"
   ]
  },
  {
   "cell_type": "code",
   "execution_count": 731,
   "id": "452bc144",
   "metadata": {},
   "outputs": [
    {
     "name": "stdout",
     "output_type": "stream",
     "text": [
      "Noisy conditions. Expectation Value = (-1.2819799522101212-0.006035916228044948j)\n",
      "execution time (s): 18.75\n"
     ]
    }
   ],
   "source": [
    "# Run the estimator under noisy conditions\n",
    "# Run the circuit through the estimator under noisy conditions.\n",
    "# Select the Qiskit Runtime options\n",
    "service = QiskitRuntimeService()\n",
    "noise_options = Options()\n",
    "noise_options.simulator.noise_model = guadalupe_noise_model\n",
    "#noise_options.shots = 10000\n",
    "\n",
    "# Get the start time\n",
    "start = time()\n",
    "with Session(service=service, backend=backend) as session:\n",
    "    # Prepare primitive\n",
    "    estimator = RuntimeEstimator(session=session, options=noise_options)\n",
    "    # Run sampler\n",
    "    job_est = estimator.run(\n",
    "        circuits=[circuit, circuit],\n",
    "        observables=[H_noise_obs, H_noise_obs2])\n",
    "    job_est_result = job_est.result()\n",
    "    myMitNoisyValue = job_est_result.values[0]\n",
    "    print('Noisy conditions. Expectation Value = ' + str(myMitNoisyValue))\n",
    "\n",
    "# Print the execution time\n",
    "end = time()\n",
    "print(f'execution time (s): {end - start:.2f}')"
   ]
  },
  {
   "cell_type": "code",
   "execution_count": 732,
   "id": "1cca67c9",
   "metadata": {},
   "outputs": [
    {
     "name": "stdout",
     "output_type": "stream",
     "text": [
      "(-1.2481148848516426+3.658944381524493e-05j)\n"
     ]
    }
   ],
   "source": [
    "#print(job_est_result.values[1])\n",
    "myMitNoisyValue2 = job_est_result.values[1]\n",
    "print(myMitNoisyValue2)"
   ]
  },
  {
   "cell_type": "code",
   "execution_count": 733,
   "id": "f6dad142",
   "metadata": {},
   "outputs": [
    {
     "name": "stdout",
     "output_type": "stream",
     "text": [
      "Ideal to noisy error: 8.247311145488737\n",
      "Ideal to mitigated error: 1.2869335900223613\n",
      "Ideal to sqrt mitigated error: 3.8098456681941464\n"
     ]
    }
   ],
   "source": [
    "print('Ideal to noisy error: ' + str(rel_err(myvalue, myNoisyValue)*100))\n",
    "print('Ideal to mitigated error: ' + str(rel_err(myvalue, myMitNoisyValue)*100))\n",
    "print('Ideal to sqrt mitigated error: ' + str(rel_err(myvalue, myMitNoisyValue2)*100))"
   ]
  },
  {
   "cell_type": "markdown",
   "id": "54e28cec",
   "metadata": {},
   "source": [
    "### Calibration Matrix Improved Noisy Expectation Value\n",
    "Loop through multiple estimator runs testing if the improvement holds for multiple circuits. Note the matrix M that is inverted to adjust the hamiltonian was found above."
   ]
  },
  {
   "cell_type": "code",
   "execution_count": 757,
   "id": "d5f684ba",
   "metadata": {},
   "outputs": [
    {
     "name": "stdout",
     "output_type": "stream",
     "text": [
      "Circuit Seed: [571, 708]\n",
      "Circuit depth: [26, 13]\n",
      "Observables: [PauliList(['IX', 'XX', 'IZ', 'XY', 'YY', 'II', 'II', 'IY', 'IY', 'IY',\n",
      "           'YY', 'ZZ', 'ZX']), PauliList(['YY', 'XI', 'IY', 'II', 'IX', 'IZ', 'ZX'])]\n",
      "\n",
      "# ---- Values ---- #\n",
      "Ideal Values:     [2.037872942956112, 0.4936991864191972]\n",
      "Noisy Values:     [(2.0752296436717224+0j), (0.5004083520110375+0j)]\n",
      "Mitigated Values: [(2.1057096325653273+0.0013519040808472058j), (0.4579076105996407-0.0011043113339050687j)]\n",
      "Mit Sqrt Values:  [(2.199272001620296+0.04709735265162489j), (0.4470765724148412+0.011890696641082018j)]\n",
      "Mit Step Values:  [(2.0427012393392854+0.030275579612707083j), (0.4749471089314147-0.011884761414098808j)]\n",
      "\n",
      "# ---- Errors ---- #\n",
      "Noisy Error:     [1.833122170090802, 1.358958202970098]\n",
      "Mitigated Error: [3.329459739975935, 7.253122738090731]\n",
      "Mit Sqrt Error:  [8.250286508020075, 9.745820634806474]\n",
      "Mit Step Error:  [1.5044199150562647, 4.4968841055854005]\n"
     ]
    }
   ],
   "source": [
    "print('Circuit Seed: ' + str(circuit_seed))\n",
    "print('Circuit depth: ' + str(circuit_depth))\n",
    "print('Observables: ' + str(observable_string))\n",
    "print()\n",
    "print('# ---- Values ---- #')\n",
    "print('Ideal Values:     ' + str(ideal_val))\n",
    "print('Noisy Values:     ' + str(noisy_val))\n",
    "print('Mitigated Values: ' + str(mitigated_val))\n",
    "print('Mit Sqrt Values:  ' + str(mitsqrt_val))\n",
    "print('Mit Step Values:  ' + str(mitstep_val))\n",
    "print()\n",
    "print('# ---- Errors ---- #')\n",
    "print('Noisy Error:     ' + str(noisy_err))\n",
    "print('Mitigated Error: ' + str(mitigated_err))\n",
    "print('Mit Sqrt Error:  ' + str(mitsqrt_err))\n",
    "print('Mit Step Error:  ' + str(mitstep_err))"
   ]
  },
  {
   "cell_type": "code",
   "execution_count": 758,
   "id": "f6efb76c",
   "metadata": {},
   "outputs": [],
   "source": [
    "from qiskit.opflow import X, Y, Z, I, CX, T, H, S, PrimitiveOp\n",
    "from qiskit.circuit.random import random_circuit\n",
    "from qiskit.quantum_info import SparsePauliOp\n",
    "import random\n",
    "\n",
    "# ------------------------------------------------------------- #\n",
    "# Select the Qiskit Runtime options\n",
    "service = QiskitRuntimeService()\n",
    "noise_options = Options()\n",
    "noise_options.simulator.noise_model = guadalupe_noise_model\n",
    "#noise_options.shots = 100000\n",
    "\n",
    "# ------------------------------------------------------------- #\n",
    "# Set up the lists that are going to store all the run information\n",
    "num = 20  # The number of runs\n",
    "\n",
    "# Create lists for storing information\n",
    "circuit_seed = [0]*num\n",
    "circuit_depth = [0]*num\n",
    "observable_string = []\n",
    "ideal_val = [0]*num\n",
    "noisy_val = [0]*num\n",
    "noisy_err = [0]*num\n",
    "mitigated_val = [0]*num\n",
    "mitigated_err = [0]*num\n",
    "mitsqrt_val = [0]*num\n",
    "mitsqrt_err = [0]*num\n",
    "mitstep_val = [0]*num\n",
    "mitstep_err = [0]*num\n",
    "\n",
    "# My list of pauli operators to sample\n",
    "myop_list = ['I','X','Y','Z']\n",
    "\n",
    "###############################\n",
    "##### START THE LOOP HERE #####\n",
    "###############################\n",
    "for i in range(num):\n",
    "\n",
    "    # Set up some randomized testing variables\n",
    "    # Create a random circuit for testing\n",
    "    rand_circuit_seed = random.randint(0,1000)\n",
    "    rand_circuit_depth = random.randint(5, 30)\n",
    "    circuit = random_circuit(2, rand_circuit_depth, seed=rand_circuit_seed).decompose(reps=1)\n",
    "\n",
    "    # Store the circuit random values\n",
    "    circuit_seed[i] = rand_circuit_seed\n",
    "    circuit_depth[i] = rand_circuit_depth\n",
    "\n",
    "    # Select a random Pauli Op from the list for each qubit\n",
    "    # Also select a random number of pauli strings\n",
    "    num_obs = 0\n",
    "    tot_obs = random.randint(1, 16)\n",
    "    while num_obs < tot_obs:\n",
    "        # Generate a new random observable\n",
    "        q1_obs = random.choice(myop_list)\n",
    "        q2_obs = random.choice(myop_list)\n",
    "        new_obs = q1_obs+q2_obs\n",
    "\n",
    "        # Add the new observable to the sparse pauli op\n",
    "        if num_obs == 0:\n",
    "            observable = SparsePauliOp(new_obs)\n",
    "        else:\n",
    "            observable = observable + SparsePauliOp(new_obs)\n",
    "\n",
    "        # Increment the number of paulis\n",
    "        num_obs += 1\n",
    "\n",
    "    # Store the observable\n",
    "    observable_string.append(observable.paulis)\n",
    "\n",
    "\n",
    "    # ------------------------------------------------------------- #\n",
    "    # Run the circuit through estimator under ideal conditions\n",
    "    estimator = Estimator()\n",
    "\n",
    "    # Run sampler\n",
    "    job_est = estimator.run(\n",
    "        circuits=[circuit],\n",
    "        observables=[observable])\n",
    "    job_est_result = job_est.result()\n",
    "    myvalue = job_est_result.values[0]\n",
    "\n",
    "    # Store the ideal info\n",
    "    ideal_val[i] = myvalue\n",
    "    #print('Ideal Conditions. Expectation Value = ' + str(myvalue))\n",
    "\n",
    "    # ------------------------------------------------------------- #\n",
    "    # Run the estimator under noisy conditions with adjusted Hamiltonian\n",
    "\n",
    "    # Multiply the hamiltonian matrix by the calibration matrix\n",
    "    H = observable.to_matrix()\n",
    "    H_noise = np.matmul(Minv, H)\n",
    "    # Create other calibration with sqrt of M\n",
    "    H_noise_step = np.matmul(Msqrt_inv,H)\n",
    "    H_noise_sqrt = np.matmul(H_noise_step, Msqrt_inv)\n",
    "\n",
    "    # Take the adjusted noise hamiltonian and turn into an observable for estimator\n",
    "    H_noise_obs = PrimitiveOp(H_noise).to_pauli_op().reduce()\n",
    "    H_noise_obs_sqrt = PrimitiveOp(H_noise_sqrt).to_pauli_op().reduce()\n",
    "    H_noise_obs_step_sqrt = PrimitiveOp(H_noise_step).to_pauli_op().reduce()\n",
    "\n",
    "    # Get the start time\n",
    "    start = time()\n",
    "    with Session(service=service, backend=backend) as session:\n",
    "        # Prepare primitive\n",
    "        estimator = RuntimeEstimator(session=session, options=noise_options)\n",
    "        # Run sampler\n",
    "        job_est = estimator.run(\n",
    "            circuits=[circuit, circuit, circuit, circuit],\n",
    "            observables=[observable, H_noise_obs, H_noise_obs_sqrt, H_noise_obs_step_sqrt])\n",
    "        job_est_result = job_est.result()\n",
    "        myNoisyValue = job_est_result.values[0]\n",
    "        myMitNoisyValue = job_est_result.values[1]\n",
    "        myMitNoisyValueSqrt = job_est_result.values[2]\n",
    "        myMitNoisyValueSqrtStep = job_est_result.values[3]\n",
    "        #print('Noisy conditions. Expectation Value = ' + str(myMitNoisyValue))\n",
    "\n",
    "    # Print the execution time\n",
    "    end = time()\n",
    "    #print(f'execution time (s): {end - start:.2f}')\n",
    "\n",
    "    # Store the noisy info\n",
    "    noisy_val[i] = myNoisyValue\n",
    "    noisy_err[i] = rel_err(myvalue, myNoisyValue)*100\n",
    "    \n",
    "    # Store the mitigated info\n",
    "    mitigated_val[i] = myMitNoisyValue\n",
    "    mitigated_err[i] = rel_err(myvalue, myMitNoisyValue)*100\n",
    "    \n",
    "    # Store the mitigated sqrt info\n",
    "    mitsqrt_val[i] = myMitNoisyValueSqrt\n",
    "    mitsqrt_err[i] = rel_err(myvalue, myMitNoisyValueSqrt)*100\n",
    "    \n",
    "    # Store the mitigated sqrt step info\n",
    "    mitstep_val[i] = myMitNoisyValueSqrtStep\n",
    "    mitstep_err[i] = rel_err(myvalue, myMitNoisyValueSqrtStep)*100\n",
    "\n",
    "    # View the ideal compared to noisy and the ideal compared to mitigated\n",
    "    #print('Ideal to noisy error: ' + str(rel_err(myvalue, myNoisyValue)*100))\n",
    "    #print('Ideal to mitigated error: ' + str(rel_err(myvalue, myMitNoisyValue)*100))"
   ]
  },
  {
   "cell_type": "code",
   "execution_count": 759,
   "id": "f7850469",
   "metadata": {},
   "outputs": [
    {
     "name": "stdout",
     "output_type": "stream",
     "text": [
      "Noisy Error Mean:     6.490579306887659\n",
      "Mitigated Error Mean: 7.8331108991592\n",
      "Sqrt Mit Error Mean:  9.453716086145935\n",
      "Step Mit Error Mean:  12.016911240043175\n"
     ]
    }
   ],
   "source": [
    "#print('Ideal Values:     ' + str(ideal_val))\n",
    "#print('Noisy Values:     ' + str(noisy_val))\n",
    "#print('Mitigated Values: ' + str(mitigated_val))\n",
    "print('Noisy Error Mean:     ' + str(np.mean(noisy_err)))\n",
    "print('Mitigated Error Mean: ' + str(np.mean(mitigated_err)))\n",
    "print('Sqrt Mit Error Mean:  ' + str(np.mean(mitsqrt_err)))\n",
    "print('Step Mit Error Mean:  ' + str(np.mean(mitstep_err)))\n",
    "#print('Noisy Time:     ' + str(noisy_time))\n",
    "#print('Mitigated Time: ' + str(mitigated_time))"
   ]
  },
  {
   "cell_type": "code",
   "execution_count": 762,
   "id": "5aae1e3f",
   "metadata": {
    "scrolled": true
   },
   "outputs": [
    {
     "name": "stdout",
     "output_type": "stream",
     "text": [
      "19\n",
      "Noisy Error Mean:     5.92\n",
      "Mitigated Error Mean: 4.75\n",
      "Sqrt Mit Error Mean:  7.42\n",
      "Step Mit Error Mean:  5.74\n"
     ]
    }
   ],
   "source": [
    "# View the error but remove ideal values that are too small and skew the data\n",
    "noise_sum = 0\n",
    "mitigated_sum = 0\n",
    "mitsqrt_sum = 0\n",
    "mitstep_sum = 0\n",
    "count = 0\n",
    "\n",
    "for k in range(i+1):\n",
    "    if abs(ideal_val[k]) > 0.1:\n",
    "        count += 1\n",
    "        noise_sum += noisy_err[k]\n",
    "        mitigated_sum += mitigated_err[k]\n",
    "        mitsqrt_sum += mitsqrt_err[k]\n",
    "        mitstep_sum += mitstep_err[k]\n",
    "\n",
    "print(count)\n",
    "print('Noisy Error Mean:     ' + str(round(noise_sum/count, 2)))\n",
    "print('Mitigated Error Mean: ' + str(round(mitigated_sum/count, 2)))\n",
    "print('Sqrt Mit Error Mean:  ' + str(round(mitsqrt_sum/count, 2)))\n",
    "print('Step Mit Error Mean:  ' + str(round(mitstep_sum/count, 2)))"
   ]
  },
  {
   "cell_type": "code",
   "execution_count": 763,
   "id": "fd73d7a9",
   "metadata": {},
   "outputs": [
    {
     "name": "stderr",
     "output_type": "stream",
     "text": [
      "C:\\Users\\gboha\\Anaconda3\\envs\\mitiqEnv\\Lib\\site-packages\\matplotlib\\cbook\\__init__.py:1335: ComplexWarning: Casting complex values to real discards the imaginary part\n",
      "  return np.asarray(x, float)\n"
     ]
    },
    {
     "data": {
      "image/png": "[encoded data removed]",
      "text/plain": [
       "<Figure size 640x480 with 1 Axes>"
      ]
     },
     "metadata": {},
     "output_type": "display_data"
    }
   ],
   "source": [
    "x = [k for k in range(i)]\n",
    "\n",
    "plt.plot(x, noisy_val[0:i], 'o', x, mitigated_val[0:i], 'x', x, ideal_val[0:i], '*')\n",
    "ax = plt.gca()\n",
    "#ax.set_xlim([0,8])\n",
    "#ax.set_ylim([-2,2])\n",
    "plt.show()"
   ]
  },
  {
   "cell_type": "markdown",
   "id": "a9843a6c",
   "metadata": {},
   "source": [
    "#### Use Qiskit's Built in Functions"
   ]
  },
  {
   "cell_type": "code",
   "execution_count": 764,
   "id": "69551ef0",
   "metadata": {},
   "outputs": [],
   "source": [
    "from qiskit.utils.mitigation import complete_meas_cal, CompleteMeasFitter\n",
    "#from qiskit.ignis.mitigation.measurement import complete_meas_cal, CompleteMeasFitter"
   ]
  },
  {
   "cell_type": "code",
   "execution_count": 766,
   "id": "7a75253b",
   "metadata": {},
   "outputs": [],
   "source": [
    "qr = QuantumRegister(12)\n",
    "meas_calibs, state_labels = complete_meas_cal(qr=qr, circlabel='mcal')"
   ]
  },
  {
   "cell_type": "code",
   "execution_count": 301,
   "id": "334466d0",
   "metadata": {},
   "outputs": [],
   "source": [
    "# Execute the calibration circuits without noise\n",
    "qobj = transpile(meas_calibs, aer_sim)\n",
    "cal_results = aer_sim.run(qobj, shots=10000).result()"
   ]
  },
  {
   "cell_type": "code",
   "execution_count": 302,
   "id": "f14a319a",
   "metadata": {},
   "outputs": [
    {
     "data": {
      "text/latex": [
       "$$\n",
       "\n",
       "\\begin{bmatrix}\n",
       "1 & 0 & 0 & 0  \\\\\n",
       " 0 & 1 & 0 & 0  \\\\\n",
       " 0 & 0 & 1 & 0  \\\\\n",
       " 0 & 0 & 0 & 1  \\\\\n",
       " \\end{bmatrix}\n",
       "$$"
      ],
      "text/plain": [
       "<IPython.core.display.Latex object>"
      ]
     },
     "execution_count": 302,
     "metadata": {},
     "output_type": "execute_result"
    }
   ],
   "source": [
    "meas_fitter = CompleteMeasFitter(cal_results, state_labels, circlabel='mcal')\n",
    "array_to_latex(meas_fitter.cal_matrix)"
   ]
  },
  {
   "cell_type": "code",
   "execution_count": 303,
   "id": "d3b865d4",
   "metadata": {},
   "outputs": [],
   "source": [
    "noise_model = get_noise(0.1)"
   ]
  },
  {
   "cell_type": "code",
   "execution_count": 304,
   "id": "f0dc6bf0",
   "metadata": {},
   "outputs": [
    {
     "data": {
      "text/latex": [
       "$$\n",
       "\n",
       "\\begin{bmatrix}\n",
       "0.8038 & 0.093 & 0.0957 & 0.0104  \\\\\n",
       " 0.094 & 0.8009 & 0.011 & 0.0939  \\\\\n",
       " 0.0916 & 0.0114 & 0.8008 & 0.0915  \\\\\n",
       " 0.0106 & 0.0947 & 0.0925 & 0.8042  \\\\\n",
       " \\end{bmatrix}\n",
       "$$"
      ],
      "text/plain": [
       "<IPython.core.display.Latex object>"
      ]
     },
     "execution_count": 304,
     "metadata": {},
     "output_type": "execute_result"
    }
   ],
   "source": [
    "qobj = transpile(meas_calibs, aer_sim)\n",
    "cal_results = aer_sim.run(qobj, noise_model=noise_model, shots=10000).result()\n",
    "\n",
    "meas_fitter = CompleteMeasFitter(cal_results, state_labels, circlabel='mcal')\n",
    "array_to_latex(meas_fitter.cal_matrix)"
   ]
  },
  {
   "cell_type": "code",
   "execution_count": 305,
   "id": "7eab6be0",
   "metadata": {},
   "outputs": [
    {
     "name": "stdout",
     "output_type": "stream",
     "text": [
      "{'10': 913, '00': 4120, '11': 4080, '01': 887}\n"
     ]
    }
   ],
   "source": [
    "qc = QuantumCircuit(2,2)\n",
    "qc.h(0)\n",
    "qc.cx(0,1)  \n",
    "qc.measure([0, 1], [0, 1])\n",
    "\n",
    "qobj = transpile(qc, aer_sim)\n",
    "results = aer_sim.run(qobj, noise_model=noise_model, shots=10000).result()\n",
    "noisy_counts = results.get_counts()\n",
    "print(noisy_counts)"
   ]
  },
  {
   "cell_type": "code",
   "execution_count": 306,
   "id": "090d753a",
   "metadata": {},
   "outputs": [],
   "source": [
    "# Get the filter object\n",
    "meas_filter = meas_fitter.filter\n",
    "\n",
    "# Results with mitigation\n",
    "mitigated_results = meas_filter.apply(results)\n",
    "mitigated_counts = mitigated_results.get_counts()"
   ]
  },
  {
   "cell_type": "code",
   "execution_count": 307,
   "id": "78cb8793",
   "metadata": {
    "scrolled": true
   },
   "outputs": [
    {
     "data": {
      "image/png": "[encoded data removed]",
      "text/plain": [
       "<Figure size 700x500 with 1 Axes>"
      ]
     },
     "execution_count": 307,
     "metadata": {},
     "output_type": "execute_result"
    }
   ],
   "source": [
    "from qiskit.visualization import plot_histogram \n",
    "noisy_counts = results.get_counts()\n",
    "plot_histogram([noisy_counts, mitigated_counts], legend=['noisy', 'mitigated'])"
   ]
  },
  {
   "cell_type": "markdown",
   "id": "074b6101",
   "metadata": {},
   "source": [
    "### 4-1.1 Try Implementing the Measurement Calibration Matrix on Estimator\n",
    "Implmenet Qiskit's built in calibration matrix on the estimator value of the optimal points. Also look into mitiq's REM capabilities."
   ]
  },
  {
   "cell_type": "code",
   "execution_count": null,
   "id": "f6cfc9c2",
   "metadata": {},
   "outputs": [],
   "source": []
  },
  {
   "cell_type": "code",
   "execution_count": 767,
   "id": "6c66eaa2",
   "metadata": {},
   "outputs": [],
   "source": [
    "from qiskit.utils.mitigation import complete_meas_cal, CompleteMeasFitter\n",
    "#from qiskit.ignis.mitigation.measurement import complete_meas_cal, CompleteMeasFitter"
   ]
  },
  {
   "cell_type": "code",
   "execution_count": 299,
   "id": "a746fb8d",
   "metadata": {},
   "outputs": [],
   "source": [
    "qr = QuantumRegister(2)\n",
    "meas_calibs, state_labels = complete_meas_cal(qr=qr, circlabel='mcal')"
   ]
  },
  {
   "cell_type": "code",
   "execution_count": 768,
   "id": "aa44ab24",
   "metadata": {},
   "outputs": [],
   "source": [
    "qr12 = QuantumRegister(12)\n",
    "meas_calibs12, state_labels12 = complete_meas_cal(qr=qr12, circlabel='mcal')"
   ]
  },
  {
   "cell_type": "code",
   "execution_count": 301,
   "id": "34c1abc1",
   "metadata": {},
   "outputs": [],
   "source": [
    "# Execute the calibration circuits without noise\n",
    "qobj = transpile(meas_calibs, aer_sim)\n",
    "cal_results = aer_sim.run(qobj, shots=10000).result()"
   ]
  },
  {
   "cell_type": "code",
   "execution_count": 302,
   "id": "6938dee1",
   "metadata": {
    "scrolled": true
   },
   "outputs": [
    {
     "data": {
      "text/latex": [
       "$$\n",
       "\n",
       "\\begin{bmatrix}\n",
       "1 & 0 & 0 & 0  \\\\\n",
       " 0 & 1 & 0 & 0  \\\\\n",
       " 0 & 0 & 1 & 0  \\\\\n",
       " 0 & 0 & 0 & 1  \\\\\n",
       " \\end{bmatrix}\n",
       "$$"
      ],
      "text/plain": [
       "<IPython.core.display.Latex object>"
      ]
     },
     "execution_count": 302,
     "metadata": {},
     "output_type": "execute_result"
    }
   ],
   "source": [
    "meas_fitter = CompleteMeasFitter(cal_results, state_labels, circlabel='mcal')\n",
    "array_to_latex(meas_fitter.cal_matrix)"
   ]
  },
  {
   "cell_type": "code",
   "execution_count": 769,
   "id": "66f28fae",
   "metadata": {},
   "outputs": [],
   "source": [
    "# Avoid the outer qubits 0, 6, 9, and 15 which we accounted for in the lattice definition.\n",
    "q_layout = [1, 2, 3, 5, 8, 11, 14, 13, 12, 10, 7, 4]\n",
    "qobj = transpile(meas_calibs12, backend=guadalupe, initial_layout=q_layout)"
   ]
  },
  {
   "cell_type": "code",
   "execution_count": 770,
   "id": "e53c7fef",
   "metadata": {},
   "outputs": [],
   "source": [
    "# Avoid the outer qubits 0, 6, 9, and 15 which we accounted for in the lattice definition.\n",
    "cal_results = aer_sim.run(qobj, noise_model=guadalupe_noise_model, shots=10000).result()\n",
    "\n",
    "meas_fitter = CompleteMeasFitter(cal_results, state_labels, circlabel='mcal')\n",
    "#array_to_latex(meas_fitter.cal_matrix)"
   ]
  },
  {
   "cell_type": "code",
   "execution_count": 774,
   "id": "fbf464bc",
   "metadata": {},
   "outputs": [
    {
     "name": "stdout",
     "output_type": "stream",
     "text": [
      "<class 'numpy.ndarray'>\n",
      "4096\n"
     ]
    }
   ],
   "source": [
    "M12 = meas_fitter.cal_matrix\n",
    "print(type(M12))\n",
    "print(len(M12))"
   ]
  },
  {
   "cell_type": "code",
   "execution_count": 776,
   "id": "1830a40e",
   "metadata": {},
   "outputs": [],
   "source": [
    "# Set matrix M, use qasm or aer result\n",
    "M = M12\n",
    "\n",
    "# Get the square root of every matrix element\n",
    "Msqrt = np.sqrt(M)\n",
    "\n",
    "# Get the inverse of the Msqrt\n",
    "Msqrt_inv = la.inv(Msqrt)\n",
    "\n",
    "# Get the inverse of M\n",
    "Minv = la.inv(M)\n",
    "\n",
    "#array_to_latex(Minv)"
   ]
  },
  {
   "cell_type": "code",
   "execution_count": 779,
   "id": "69d6d01c",
   "metadata": {},
   "outputs": [
    {
     "name": "stdout",
     "output_type": "stream",
     "text": [
      "<class 'qiskit.opflow.primitive_ops.pauli_sum_op.PauliSumOp'>\n"
     ]
    }
   ],
   "source": [
    "print(type(ham))"
   ]
  },
  {
   "cell_type": "code",
   "execution_count": null,
   "id": "e3b4cfb1",
   "metadata": {},
   "outputs": [],
   "source": [
    "print(type(Minv_op))"
   ]
  },
  {
   "cell_type": "code",
   "execution_count": 781,
   "id": "ee88e96b",
   "metadata": {},
   "outputs": [
    {
     "ename": "KeyboardInterrupt",
     "evalue": "",
     "output_type": "error",
     "traceback": [
      "\u001b[1;31m---------------------------------------------------------------------------\u001b[0m",
      "\u001b[1;31mKeyboardInterrupt\u001b[0m                         Traceback (most recent call last)",
      "Cell \u001b[1;32mIn[781], line 2\u001b[0m\n\u001b[0;32m      1\u001b[0m \u001b[38;5;66;03m# Create the operator version of the inverse measurement matrix\u001b[39;00m\n\u001b[1;32m----> 2\u001b[0m Minv_op \u001b[38;5;241m=\u001b[39m \u001b[43mPrimitiveOp\u001b[49m\u001b[43m(\u001b[49m\u001b[43mMinv\u001b[49m\u001b[43m)\u001b[49m\u001b[38;5;241;43m.\u001b[39;49m\u001b[43mto_pauli_op\u001b[49m\u001b[43m(\u001b[49m\u001b[43m)\u001b[49m\u001b[38;5;241m.\u001b[39mreduce()\n\u001b[0;32m      4\u001b[0m \u001b[38;5;66;03m# Compose (matrix multiply) the inversion matrix with the hamiltonian\u001b[39;00m\n\u001b[0;32m      5\u001b[0m \u001b[38;5;66;03m#H_op = ham\u001b[39;00m\n\u001b[0;32m      6\u001b[0m \u001b[38;5;66;03m#my_op = M_op@H_op\u001b[39;00m\n\u001b[1;32m   (...)\u001b[0m\n\u001b[0;32m     17\u001b[0m \u001b[38;5;66;03m#H_noise_obs_sqrt = PrimitiveOp(H_noise_sqrt).to_pauli_op().reduce()\u001b[39;00m\n\u001b[0;32m     18\u001b[0m \u001b[38;5;66;03m#H_noise_obs_step_sqrt = PrimitiveOp(H_noise_step).to_pauli_op().reduce()\u001b[39;00m\n",
      "File \u001b[1;32m~\\Anaconda3\\envs\\mitiqEnv\\Lib\\site-packages\\qiskit\\opflow\\primitive_ops\\primitive_op.py:295\u001b[0m, in \u001b[0;36mPrimitiveOp.to_pauli_op\u001b[1;34m(self, massive)\u001b[0m\n\u001b[0;32m    292\u001b[0m \u001b[38;5;28;01mfrom\u001b[39;00m \u001b[38;5;21;01m.\u001b[39;00m\u001b[38;5;21;01mmatrix_op\u001b[39;00m \u001b[38;5;28;01mimport\u001b[39;00m MatrixOp\n\u001b[0;32m    294\u001b[0m mat_op \u001b[38;5;241m=\u001b[39m cast(MatrixOp, \u001b[38;5;28mself\u001b[39m\u001b[38;5;241m.\u001b[39mto_matrix_op(massive\u001b[38;5;241m=\u001b[39mmassive))\n\u001b[1;32m--> 295\u001b[0m sparse_pauli \u001b[38;5;241m=\u001b[39m \u001b[43mSparsePauliOp\u001b[49m\u001b[38;5;241;43m.\u001b[39;49m\u001b[43mfrom_operator\u001b[49m\u001b[43m(\u001b[49m\u001b[43mmat_op\u001b[49m\u001b[38;5;241;43m.\u001b[39;49m\u001b[43mprimitive\u001b[49m\u001b[43m)\u001b[49m\n\u001b[0;32m    296\u001b[0m \u001b[38;5;28;01mif\u001b[39;00m \u001b[38;5;129;01mnot\u001b[39;00m sparse_pauli\u001b[38;5;241m.\u001b[39mto_list():\n\u001b[0;32m    297\u001b[0m     \u001b[38;5;28;01mfrom\u001b[39;00m \u001b[38;5;21;01m.\u001b[39;00m\u001b[38;5;21;01m.\u001b[39;00m\u001b[38;5;21;01moperator_globals\u001b[39;00m \u001b[38;5;28;01mimport\u001b[39;00m I\n",
      "File \u001b[1;32m~\\Anaconda3\\envs\\mitiqEnv\\Lib\\site-packages\\qiskit\\quantum_info\\operators\\symplectic\\sparse_pauli_op.py:730\u001b[0m, in \u001b[0;36mSparsePauliOp.from_operator\u001b[1;34m(obj, atol, rtol)\u001b[0m\n\u001b[0;32m    728\u001b[0m basis \u001b[38;5;241m=\u001b[39m pauli_basis(num_qubits)\n\u001b[0;32m    729\u001b[0m \u001b[38;5;28;01mfor\u001b[39;00m i, mat \u001b[38;5;129;01min\u001b[39;00m \u001b[38;5;28menumerate\u001b[39m(basis\u001b[38;5;241m.\u001b[39mmatrix_iter()):\n\u001b[1;32m--> 730\u001b[0m     coeff \u001b[38;5;241m=\u001b[39m np\u001b[38;5;241m.\u001b[39mtrace(mat\u001b[38;5;241m.\u001b[39mdot(data)) \u001b[38;5;241m/\u001b[39m denom\n\u001b[0;32m    731\u001b[0m     \u001b[38;5;28;01mif\u001b[39;00m \u001b[38;5;129;01mnot\u001b[39;00m np\u001b[38;5;241m.\u001b[39misclose(coeff, \u001b[38;5;241m0\u001b[39m, atol\u001b[38;5;241m=\u001b[39matol, rtol\u001b[38;5;241m=\u001b[39mrtol):\n\u001b[0;32m    732\u001b[0m         inds\u001b[38;5;241m.\u001b[39mappend(i)\n",
      "\u001b[1;31mKeyboardInterrupt\u001b[0m: "
     ]
    }
   ],
   "source": [
    "# Create the operator version of the inverse measurement matrix\n",
    "Minv_op = PrimitiveOp(Minv).to_pauli_op().reduce()\n",
    "\n",
    "# Compose (matrix multiply) the inversion matrix with the hamiltonian\n",
    "H_op = ham\n",
    "my_op = M_op@H_op\n",
    "\n",
    "## Multiply the hamiltonian matrix by the calibration matrix\n",
    "#H = ham.to_matrix()\n",
    "#H_noise = np.matmul(Minv, H)\n",
    "## Create other calibration with sqrt of M\n",
    "#H_noise_step = np.matmul(Msqrt_inv,H)\n",
    "#H_noise_sqrt = np.matmul(H_noise_step, Msqrt_inv)\n",
    "\n",
    "## Take the adjusted noise hamiltonian and turn into an observable for estimator\n",
    "#H_noise_obs = PrimitiveOp(H_noise).to_pauli_op().reduce()\n",
    "#H_noise_obs_sqrt = PrimitiveOp(H_noise_sqrt).to_pauli_op().reduce()\n",
    "#H_noise_obs_step_sqrt = PrimitiveOp(H_noise_step).to_pauli_op().reduce()\n"
   ]
  },
  {
   "cell_type": "code",
   "execution_count": 305,
   "id": "46fc8fa8",
   "metadata": {},
   "outputs": [
    {
     "name": "stdout",
     "output_type": "stream",
     "text": [
      "{'10': 913, '00': 4120, '11': 4080, '01': 887}\n"
     ]
    }
   ],
   "source": [
    "qc = QuantumCircuit(2,2)\n",
    "qc.h(0)\n",
    "qc.cx(0,1)  \n",
    "qc.measure([0, 1], [0, 1])\n",
    "\n",
    "qobj = transpile(qc, aer_sim)\n",
    "results = aer_sim.run(qobj, noise_model=noise_model, shots=10000).result()\n",
    "noisy_counts = results.get_counts()\n",
    "print(noisy_counts)"
   ]
  },
  {
   "cell_type": "code",
   "execution_count": 306,
   "id": "16044b63",
   "metadata": {},
   "outputs": [],
   "source": [
    "# Get the filter object\n",
    "meas_filter = meas_fitter.filter\n",
    "\n",
    "# Results with mitigation\n",
    "mitigated_results = meas_filter.apply(results)\n",
    "mitigated_counts = mitigated_results.get_counts()"
   ]
  },
  {
   "cell_type": "code",
   "execution_count": 307,
   "id": "b6e62438",
   "metadata": {
    "scrolled": true
   },
   "outputs": [
    {
     "data": {
      "image/png": "[encoded data removed]",
      "text/plain": [
       "<Figure size 700x500 with 1 Axes>"
      ]
     },
     "execution_count": 307,
     "metadata": {},
     "output_type": "execute_result"
    }
   ],
   "source": [
    "from qiskit.visualization import plot_histogram \n",
    "noisy_counts = results.get_counts()\n",
    "plot_histogram([noisy_counts, mitigated_counts], legend=['noisy', 'mitigated'])"
   ]
  },
  {
   "cell_type": "markdown",
   "id": "9b428dd7",
   "metadata": {},
   "source": [
    "## 4-2 Mitiq Error Correction Techniques\n",
    "Use Mitiq open source software platform to try and improve the noise of the simulation. Start with the some near optimal points found by the ideal simulator and try to approach that expectation value.\n"
   ]
  },
  {
   "cell_type": "code",
   "execution_count": 114,
   "id": "08c80b68",
   "metadata": {},
   "outputs": [],
   "source": [
    "# Import mitiq tools\n",
    "from mitiq import zne"
   ]
  },
  {
   "cell_type": "code",
   "execution_count": 115,
   "id": "49a945c4",
   "metadata": {},
   "outputs": [],
   "source": [
    "# Get the optimal parameters from an ideal sampler run\n",
    "optimal_parameters = [ [-2.10613900e-03,  1.55408086e+00], \\\n",
    "                       [-9.67207287e-03, -1.53161721e+00], \\\n",
    "                       [-3.92545968e-02,  1.50280052e+00], \\\n",
    "                       [ 3.11831766e+00,  1.53385887e+00], \\\n",
    "                       [ 1.02886602e-02,  1.50171506e+00], \\\n",
    "                       [-4.45586989e-02, -1.53171757e+00], \\\n",
    "                       [ 1.53339082e-02,  4.90169015e-03], \\\n",
    "                       [ 1.56091517e+00, -1.74654711e-02], \\\n",
    "                       [-1.58644219e+00, -1.57206412e+00], \\\n",
    "                       [ 3.13870884e+00, -1.58844770e+00], \\\n",
    "                       [ 1.73282373e-02, -1.58503502e+00], \\\n",
    "                       [-4.73448953e-02,  1.57903999e+00] ]\n",
    "\n",
    "# Get the optimal parameters for the entire circuit\n",
    "myoptimal = [item for sublist in optimal_parameters for item in sublist]"
   ]
  },
  {
   "cell_type": "code",
   "execution_count": 116,
   "id": "846beef7",
   "metadata": {},
   "outputs": [],
   "source": [
    "def build_myansatz(parameters, num_layers):\n",
    "    # Build a custom ansatz from scratch\n",
    "    ansatz_custom = QuantumCircuit(12)\n",
    "    # build initial state\n",
    "    ansatz_custom.h(range(0, 12, 1))\n",
    "    #ansatz_custom.cx(range(0, 11, 2), range(1, 12, 2))\n",
    "    # total = parameters/qubit * number qubits * number layers\n",
    "    parameter_total = 2 * 12 * num_layers\n",
    "    if len(parameters) != parameter_total:\n",
    "        # Parameters will be unknown and optimized by VQE\n",
    "        j = 0\n",
    "        for k in range(num_layers):\n",
    "            for i in range(12):\n",
    "                ansatz_custom.rz(Parameter('θ_' + str(j)), i)\n",
    "                j += 1\n",
    "                ansatz_custom.ry(Parameter('θ_' + str(j)), i)\n",
    "                j += 1\n",
    "            ansatz_custom.h(range(0, 12, 2))    # <-- Create bell state: 1/root(2)*(|01> + |10>)\n",
    "            ansatz_custom.x(range(1, 13, 2))\n",
    "            ansatz_custom.cx(range(0, 11, 2), range(1, 12, 2))\n",
    "    else:\n",
    "        j = 0\n",
    "        for k in range(num_layers):\n",
    "            for i in range(12):\n",
    "                ansatz_custom.rz(parameters[j], i)\n",
    "                j += 1\n",
    "                ansatz_custom.ry(parameters[j], i)\n",
    "                j += 1\n",
    "            ansatz_custom.h(range(0, 12, 2))    # <-- Create bell state: 1/root(2)*(|01> + |10>)\n",
    "            ansatz_custom.x(range(1, 13, 2))\n",
    "            ansatz_custom.cx(range(0, 11, 2), range(1, 12, 2))\n",
    "\n",
    "    return ansatz_custom"
   ]
  },
  {
   "cell_type": "code",
   "execution_count": 201,
   "id": "2b307c7d",
   "metadata": {},
   "outputs": [],
   "source": [
    "# Build some more operators to run error mitigation on\n",
    "# Build Z-Symmetry opterator\n",
    "Z_16 = 4 * log_mapper.map(heis_16.z_symmetry_ops().simplify())\n",
    "\n",
    "# Build Y-Symmetry opterator\n",
    "Y_16 = 4 * log_mapper.map(heis_16.y_symmetry_ops().simplify())\n",
    "\n",
    "# Build X-Symmetry opterator\n",
    "X_16 = 4 * log_mapper.map(heis_16.x_symmetry_ops().simplify())"
   ]
  },
  {
   "cell_type": "code",
   "execution_count": 203,
   "id": "e65f08d1",
   "metadata": {
    "scrolled": true
   },
   "outputs": [
    {
     "name": "stdout",
     "output_type": "stream",
     "text": [
      "number and type of gates in the cirucit: OrderedDict([('rz', 60), ('sx', 36), ('cx', 6)])\n",
      "number of parameters in the circuit: 0\n"
     ]
    }
   ],
   "source": [
    "# Run a VQE session that tries to rotate correction factors\n",
    "# so the optimal point under noisy conditions is closer to \n",
    "# the optimal point under ideal conditions.\n",
    "\n",
    "# Get the optimal parameters for the entire circuit\n",
    "myoptimal = [item for sublist in optimal_parameters for item in sublist]\n",
    "\n",
    "# Bind the parameters to the ansatz compiled circuit\n",
    "myansatz = ansatz_opt.bind_parameters(myoptimal)\n",
    "#myansatz = ansatz_opt.bind_parameters(noisy_optimal_parameters)\n",
    "\n",
    "# View the compiled circuit\n",
    "print('number and type of gates in the cirucit:', myansatz.count_ops())\n",
    "print('number of parameters in the circuit:', myansatz.num_parameters)\n",
    "#myansatz.draw(fold=300)"
   ]
  },
  {
   "cell_type": "code",
   "execution_count": 204,
   "id": "3bb3595a",
   "metadata": {},
   "outputs": [
    {
     "name": "stdout",
     "output_type": "stream",
     "text": [
      "Ideal Conditions. Optimal Points = -17.977625425722902\n",
      "EstimatorResult(values=array([-17.97762543,  -5.99584089,  -5.98881045,  -5.99297408]), metadata=[{}, {}, {}, {}])\n"
     ]
    }
   ],
   "source": [
    "# Try the full circuit with all of the optimal points.\n",
    "# Run the circuit through estimator under ideal conditions\n",
    "estimator = Estimator()\n",
    "\n",
    "# Run sampler\n",
    "job_est = estimator.run(\n",
    "    circuits=[myansatz, myansatz, myansatz, myansatz],\n",
    "    observables=[ham_16, Z_16, Y_16, X_16])\n",
    "job_est_result = job_est.result()\n",
    "myvalue = job_est_result.values[0]\n",
    "print('Ideal Conditions. Optimal Points = ' + str(myvalue))\n",
    "print(job_est_result)"
   ]
  },
  {
   "cell_type": "code",
   "execution_count": 119,
   "id": "d13a6b1d",
   "metadata": {},
   "outputs": [],
   "source": [
    "# If you want to view the final state. Collect and graph the counts\n",
    "# Sampler runs a job on the parameterized circuits\n",
    "sampler = Sampler()\n",
    "ansatz_measure = myansatz.measure_all(inplace=False)\n",
    "#ansatz_measure.draw()\n",
    "\n",
    "job_viewcounts = sampler.run(\n",
    "    circuits=[ansatz_measure])\n",
    "job_result = job_viewcounts.result()\n",
    "binary_probs = [q.binary_probabilities() for q in job_result.quasi_dists]\n",
    "x = []\n",
    "y = []\n",
    "for i in job_result.quasi_dists:\n",
    "    for key in i:\n",
    "        x.append(key)\n",
    "        y.append(i[key])\n",
    "#print(job_result.quasi_dists)"
   ]
  },
  {
   "cell_type": "code",
   "execution_count": 120,
   "id": "5f18fcf2",
   "metadata": {},
   "outputs": [
    {
     "data": {
      "image/png": "[encoded data removed]",
      "text/plain": [
       "<Figure size 640x480 with 1 Axes>"
      ]
     },
     "metadata": {},
     "output_type": "display_data"
    }
   ],
   "source": [
    "plt.scatter(x, y)\n",
    "#plt.scatter(x_reverse, y_reverse)\n",
    "#plt.scatter(x2, y2)\n",
    "plt.ylabel('Imaginary')\n",
    "plt.xlabel('Real')\n",
    "plt.show()"
   ]
  },
  {
   "cell_type": "code",
   "execution_count": 205,
   "id": "c4d5a88e",
   "metadata": {},
   "outputs": [
    {
     "name": "stdout",
     "output_type": "stream",
     "text": [
      "Noisy conditions. No ZNE mitigation, just TREX = -5.112537226096513\n",
      "execution time (s): 39.19\n"
     ]
    }
   ],
   "source": [
    "# Run the circuit through the estimator under noisy conditions.\n",
    "# Select the Qiskit Runtime options\n",
    "service = QiskitRuntimeService()\n",
    "noise_options = Options()\n",
    "noise_options.simulator.noise_model = guadalupe_noise_model\n",
    "\n",
    "# Get the start time\n",
    "start = time()\n",
    "with Session(service=service, backend=backend) as session:\n",
    "    # Prepare primitive\n",
    "    estimator = RuntimeEstimator(session=session, options=noise_options)\n",
    "    # Run sampler\n",
    "    job_est = estimator.run(\n",
    "        circuits=[myansatz, myansatz, myansatz],\n",
    "        observables=[Z_16, Y_16, X_16])\n",
    "    job_est_result = job_est.result()\n",
    "    myvalue = job_est_result.values[0]\n",
    "    print('Noisy conditions. No ZNE mitigation, just TREX = ' + str(myvalue))\n",
    "\n",
    "# Print the execution time\n",
    "end = time()\n",
    "print(f'execution time (s): {end - start:.2f}')\n"
   ]
  },
  {
   "cell_type": "code",
   "execution_count": 206,
   "id": "1d08220b",
   "metadata": {},
   "outputs": [
    {
     "data": {
      "text/plain": [
       "EstimatorResult(values=array([-5.11253723, -5.00811508, -5.34138681]), metadata=[{'variance': 19.83704122733552, 'shots': 4000, 'readout_mitigation_num_twirled_circuits': 16, 'readout_mitigation_shots_calibration': 8192}, {'variance': 19.909864051102794, 'shots': 4000, 'readout_mitigation_num_twirled_circuits': 16, 'readout_mitigation_shots_calibration': 8192}, {'variance': 19.665149130326245, 'shots': 4000, 'readout_mitigation_num_twirled_circuits': 16, 'readout_mitigation_shots_calibration': 8192}])"
      ]
     },
     "execution_count": 206,
     "metadata": {},
     "output_type": "execute_result"
    }
   ],
   "source": [
    "job_est_result"
   ]
  },
  {
   "cell_type": "code",
   "execution_count": 207,
   "id": "96e6dceb",
   "metadata": {},
   "outputs": [],
   "source": [
    "import mitiq\n",
    "#zne.scaling.fold_gates_at_random\n",
    "@mitiq.zne.zne_decorator()\n",
    "def executor(circuit_to_run):#, obs_to_measure):\n",
    "    # Create the service with the guadalupe noise model. \n",
    "    # Do not include qiskit mitigation. Other than defualt (TREX I think?)\n",
    "    service = QiskitRuntimeService()\n",
    "    noise_options = Options()\n",
    "    noise_options.simulator.noise_model = guadalupe_noise_model\n",
    "\n",
    "    obs_to_measure = Z_16\n",
    "    \n",
    "    # Get the start time\n",
    "    start = time()\n",
    "    with Session(service=service, backend=backend) as session:\n",
    "        # Prepare primitive\n",
    "        estimator = RuntimeEstimator(session=session, options=noise_options)\n",
    "        # Run sampler\n",
    "        job_est = estimator.run(\n",
    "            circuits=[circuit_to_run],\n",
    "            observables=[obs_to_measure])\n",
    "        job_est_result = job_est.result()\n",
    "        myvalue = job_est_result.values[0]\n",
    "        #print('Noisy conditions. No built in mitigation except TREX = ' + str(myvalue))\n",
    "        \n",
    "    # Print the execution time\n",
    "    end = time()\n",
    "    #print(f'execution time (s): {end - start:.2f}')\n",
    "    \n",
    "    # Return the expectation value\n",
    "    return myvalue"
   ]
  },
  {
   "cell_type": "code",
   "execution_count": 208,
   "id": "dfd2e3be",
   "metadata": {},
   "outputs": [],
   "source": [
    "# Local fold gates at random\n",
    "my_scale_factors = [1, 1.2, 1.5, 1.7, 2, 3, 4, 5,]\n",
    "locFold1_2 = zne.scaling.fold_gates_at_random(myansatz, scale_factor=1.2)\n",
    "locFold1_5 = zne.scaling.fold_gates_at_random(myansatz, scale_factor=1.5)\n",
    "locFold1_7 = zne.scaling.fold_gates_at_random(myansatz, scale_factor=1.7)\n",
    "locFold2 = zne.scaling.fold_gates_at_random(myansatz, scale_factor=2)\n",
    "locFold3 = zne.scaling.fold_gates_at_random(myansatz, scale_factor=3)\n",
    "locFold4 = zne.scaling.fold_gates_at_random(myansatz, scale_factor=4)\n",
    "locFold5 = zne.scaling.fold_gates_at_random(myansatz, scale_factor=5)\n",
    "\n",
    "# Infinite approx\n",
    "locFold25 = zne.scaling.fold_gates_at_random(myansatz, scale_factor=25)"
   ]
  },
  {
   "cell_type": "code",
   "execution_count": 135,
   "id": "68b10234",
   "metadata": {},
   "outputs": [
    {
     "name": "stdout",
     "output_type": "stream",
     "text": [
      "number and type of gates in the global fold x 3: OrderedDict([('rz', 180), ('sx', 72), ('sxdg', 36), ('cx', 18)])\n",
      "number and type of gates in the cirucit: OrderedDict([('rz', 60), ('sx', 36), ('cx', 6)])\n"
     ]
    }
   ],
   "source": [
    "# Global fold gates\n",
    "globFold3 = zne.scaling.fold_global(myansatz, scale_factor=3)\n",
    "globFold5 = zne.scaling.fold_global(myansatz, scale_factor=5)\n",
    "globFold7 = zne.scaling.fold_global(myansatz, scale_factor=7)\n",
    "print('number and type of gates in the global fold x 3:', globFold3.count_ops())\n",
    "print('number and type of gates in the cirucit:', myansatz.count_ops())"
   ]
  },
  {
   "cell_type": "code",
   "execution_count": 213,
   "id": "b5e078f4",
   "metadata": {},
   "outputs": [
    {
     "name": "stdout",
     "output_type": "stream",
     "text": [
      "Noisy conditions. No ZNE mitigation, just TREX = -5.117896922657346\n",
      "execution time (s): 113.08\n"
     ]
    }
   ],
   "source": [
    "# Run the circuit through the estimator under noisy conditions.\n",
    "# Select the Qiskit Runtime options\n",
    "service = QiskitRuntimeService()\n",
    "noise_options = Options()\n",
    "noise_options.simulator.noise_model = guadalupe_noise_model\n",
    "#noise_options.shots = 10000\n",
    "\n",
    "# Get the start time\n",
    "start = time()\n",
    "with Session(service=service, backend=backend) as session:\n",
    "    # Prepare primitive\n",
    "    estimator = RuntimeEstimator(session=session, options=noise_options)\n",
    "    # Run sampler\n",
    "    job_est = estimator.run(\n",
    "        circuits=[myansatz, locFold1_2, locFold1_5, locFold1_7, locFold2, locFold3, locFold4, locFold5],\n",
    "        observables=[Z_16, Z_16, Z_16, Z_16, Z_16, Z_16, Z_16, Z_16])\n",
    "    job_est_result = job_est.result()\n",
    "    myvalue = job_est_result.values[0]\n",
    "    print('Noisy conditions. No ZNE mitigation, just TREX = ' + str(myvalue))\n",
    "\n",
    "# Print the execution time\n",
    "end = time()\n",
    "print(f'execution time (s): {end - start:.2f}')\n"
   ]
  },
  {
   "cell_type": "code",
   "execution_count": 214,
   "id": "6bb2a6c1",
   "metadata": {
    "scrolled": false
   },
   "outputs": [
    {
     "data": {
      "text/plain": [
       "EstimatorResult(values=array([-5.11789692, -4.94705329, -5.13322999, -4.91027468, -4.96516625,\n",
       "       -4.92330015, -4.8397969 , -4.90706944]), metadata=[{'variance': 19.93983040203575, 'shots': 4000, 'readout_mitigation_num_twirled_circuits': 16, 'readout_mitigation_shots_calibration': 8192}, {'variance': 19.942138000265697, 'shots': 4000, 'readout_mitigation_num_twirled_circuits': 16, 'readout_mitigation_shots_calibration': 8192}, {'variance': 19.90384445934972, 'shots': 4000, 'readout_mitigation_num_twirled_circuits': 16, 'readout_mitigation_shots_calibration': 8192}, {'variance': 19.958237171673336, 'shots': 4000, 'readout_mitigation_num_twirled_circuits': 16, 'readout_mitigation_shots_calibration': 8192}, {'variance': 19.99196362603598, 'shots': 4000, 'readout_mitigation_num_twirled_circuits': 16, 'readout_mitigation_shots_calibration': 8192}, {'variance': 19.94684504756102, 'shots': 4000, 'readout_mitigation_num_twirled_circuits': 16, 'readout_mitigation_shots_calibration': 8192}, {'variance': 20.037839579914255, 'shots': 4000, 'readout_mitigation_num_twirled_circuits': 16, 'readout_mitigation_shots_calibration': 8192}, {'variance': 20.015123104003866, 'shots': 4000, 'readout_mitigation_num_twirled_circuits': 16, 'readout_mitigation_shots_calibration': 8192}])"
      ]
     },
     "execution_count": 214,
     "metadata": {},
     "output_type": "execute_result"
    }
   ],
   "source": [
    "job_est_result"
   ]
  },
  {
   "cell_type": "code",
   "execution_count": 216,
   "id": "d5dac1b4",
   "metadata": {},
   "outputs": [
    {
     "data": {
      "image/png": "[encoded data removed]",
      "text/plain": [
       "<Figure size 640x480 with 1 Axes>"
      ]
     },
     "metadata": {},
     "output_type": "display_data"
    }
   ],
   "source": [
    "# Do some of my own extrapolation\n",
    "import warnings\n",
    "# Plotting different ZNE extrapolations\n",
    "#x = [1,3,5,7]\n",
    "x = my_scale_factors\n",
    "#y = [-15.44421469, -14.90110905, -14.70538572]\n",
    "y = job_est_result.values.tolist()\n",
    "#ylog = [15.44421469, 14.90110905, 14.70538572]\n",
    "\n",
    "# Create the fitting polynomials\n",
    "with warnings.catch_warnings():\n",
    "    warnings.simplefilter('ignore', np.RankWarning)\n",
    "    p1 = np.poly1d(np.polyfit(x, y, 1))\n",
    "    \n",
    "with warnings.catch_warnings():\n",
    "    warnings.simplefilter('ignore', np.RankWarning)\n",
    "    p2 = np.poly1d(np.polyfit(x, y, 2))\n",
    "    \n",
    "with warnings.catch_warnings():\n",
    "    warnings.simplefilter('ignore', np.RankWarning)\n",
    "    p3 = np.poly1d(np.polyfit(x, y, 3))\n",
    "    \n",
    "with warnings.catch_warnings():\n",
    "    warnings.simplefilter('ignore', np.RankWarning)\n",
    "    p4 = np.poly1d(np.polyfit(x, y, 4))\n",
    "\n",
    "# Get ready to create the graphs\n",
    "xp = np.linspace(-1, 6, 100)\n",
    "\n",
    "plt.plot(x, y, '.')#, xp, p1(xp), '-', xp, p2(xp), '--', xp, p3(xp), '-.', xp, p4(xp), '-')\n",
    "ax = plt.gca()\n",
    "ax.set_xlim([0,8])\n",
    "ax.set_ylim([-6,-0])\n",
    "plt.show()"
   ]
  },
  {
   "cell_type": "code",
   "execution_count": 133,
   "id": "c7624eae",
   "metadata": {},
   "outputs": [
    {
     "name": "stdout",
     "output_type": "stream",
     "text": [
      "-16.42804389943764\n"
     ]
    }
   ],
   "source": [
    "# Try some of mitiq's zne features --> See online example for original source\n",
    "from functools import partial\n",
    "\n",
    "# Random local folding applied to two-qubit gates\n",
    "random_state = np.random.RandomState(0)\n",
    "noise_scaling_function = partial(zne.scaling.fold_gates_at_random, \n",
    "                                 #fidelities= {\"single\": 1.0}, # Avoid folding single qubit gates\n",
    "                                 random_state=random_state    # Useful to get reproducible results\n",
    "                                )\n",
    "\n",
    "# Exponential fit with scale factors [1,2,3]\n",
    "factory = zne.inference.ExpFactory(scale_factors=[1,1.2,1.4,1.6,1.8,3], asymptote=-13.5)\n",
    "\n",
    "# Run mitiq zero noise extrapolation\n",
    "zne_value = zne.execute_with_zne(\n",
    "    circuit=myansatz,\n",
    "    executor=executor,\n",
    "    observable=None,\n",
    "    factory=factory,\n",
    "    scale_noise=noise_scaling_function,\n",
    "    #num_to_average=1,\n",
    ")\n",
    "\n",
    "print(zne_value)\n",
    "winsound.Beep(325, 325)"
   ]
  },
  {
   "cell_type": "code",
   "execution_count": 134,
   "id": "cf1e6d5f",
   "metadata": {},
   "outputs": [
    {
     "data": {
      "image/png": "[encoded data removed]",
      "text/plain": [
       "<Figure size 700x500 with 1 Axes>"
      ]
     },
     "metadata": {},
     "output_type": "display_data"
    }
   ],
   "source": [
    "_ = factory.plot_fit()"
   ]
  },
  {
   "cell_type": "code",
   "execution_count": null,
   "id": "ca4aef73",
   "metadata": {
    "scrolled": true
   },
   "outputs": [],
   "source": [
    "noise_val = executor(myansatz)\n",
    "print(noise_val)"
   ]
  },
  {
   "cell_type": "code",
   "execution_count": null,
   "id": "43164c39",
   "metadata": {},
   "outputs": [],
   "source": [
    "noise_val_list = [0]*30\n",
    "for i in range(len(noise_val_list)):\n",
    "    noise_val_list[i] = executor(myansatz)\n",
    "    print(noise_val_list[i])\n",
    "    \n",
    "# Mean of list\n",
    "print(np.mean(noise_val_list))"
   ]
  },
  {
   "cell_type": "code",
   "execution_count": null,
   "id": "1fcc16cc",
   "metadata": {},
   "outputs": [],
   "source": [
    "noise_val_list3 = [item for item in noise_val_list2]\n",
    "for item in noise_val_list:\n",
    "    noise_val_list3.append(item)\n",
    "print(len(noise_val_list3))\n",
    "print(np.mean(noise_val_list3))\n",
    "print(rel_err(gs_energy, np.mean(noise_val_list3))*100)"
   ]
  },
  {
   "cell_type": "code",
   "execution_count": null,
   "id": "91b680d0",
   "metadata": {},
   "outputs": [],
   "source": [
    "# noise_val_list2 is a copy of the 1st iteration of the noise_val_list data\n",
    "# Mean of list\n",
    "move_average = [0]*(len(noise_val_list3)-1)\n",
    "total = 0\n",
    "for i in range(len(move_average)):\n",
    "    total += noise_val_list3[i]\n",
    "    move_average[i] = total/(i+1)\n",
    "    \n",
    "# Plot the moving average\n",
    "x = [i for i in range(len(move_average))]\n",
    "x2 = [i for i in range(len(noise_val_list3))]\n",
    "plt.plot(x, move_average, 'x', x2, noise_val_list3, 'o')\n",
    "plt.show()\n"
   ]
  },
  {
   "cell_type": "code",
   "execution_count": null,
   "id": "fc7c5ea8",
   "metadata": {
    "scrolled": true
   },
   "outputs": [],
   "source": [
    "zne_value = zne.execute_with_zne(myansatz, executor)"
   ]
  },
  {
   "cell_type": "code",
   "execution_count": null,
   "id": "abe2d92c",
   "metadata": {},
   "outputs": [],
   "source": [
    "# Benchmark Cell: Use for getting multiple samples of a mitigation option setting.\n",
    "\n",
    "# Run the circuit through the estimator under noisy conditions.\n",
    "# Select the Qiskit Runtime options\n",
    "service = QiskitRuntimeService()\n",
    "mit_options = Options()\n",
    "#mit_options.resilience_level = 2\n",
    "#mit_options.resilience.noise_amplifier='LocalFoldingAmplifier'\n",
    "                                    #                                Linear | Quad  | Cubic \n",
    "                                    # 'TwoQubitAmplifier'[Default] = -15.49  -15.49\n",
    "                                    #'CxAmplifier' =                 -15.54  -15.60\n",
    "                                    #'LocalFoldingAmplifier' =       -15.76  -16.01  -16.42 --> factors: (1, 3, 5, 7)\n",
    "                                    #                                        -16.82  -18.00 --> factors: (1, 2, 3, 4) \n",
    "                                    #'GlobalFoldingAmplifier' =      -15.63  -15.97\n",
    "                                    #                                                -16.79 --> factors: (1, 2, 3, 4)\n",
    "#mit_options.resilience.extrapolator = 'LinearExtrapolator'\n",
    "#mit_options.resilience.noise_factors = (1,1)\n",
    "#mit_options.optimization_level = 3\n",
    "mit_options.simulator.noise_model = guadalupe_noise_model\n",
    "\n",
    "# Create array\n",
    "myval_array = [0]*3\n",
    "rel_error_array = [0]*len(myval_array)\n",
    "beat_cutoff = 0\n",
    "\n",
    "# Get the start time\n",
    "start = time()\n",
    "for i in range(len(rel_error_array)):\n",
    "    # No corrections other than the built in mitigation options\n",
    "    with Session(service=service, backend=backend) as session:\n",
    "        # Prepare primitive\n",
    "        estimator = RuntimeEstimator(session=session, options=mit_options)\n",
    "        # Run sampler\n",
    "        job_est = estimator.run(\n",
    "            circuits=[ansatz_opt],\n",
    "            parameter_values=[myoptimal],\n",
    "            parameters=[ansatz_opt.parameters],\n",
    "            observables=[ham_16])\n",
    "        job_est_result = job_est.result()\n",
    "        myvalue = job_est_result.values[0]\n",
    "        print('Noisy conditions. Optimal points built in mitigation = ' + str(myvalue))\n",
    "    \n",
    "    # Compute the relative error between the expected ground state energy and the measured\n",
    "    myval_array[i] = myvalue\n",
    "    rel_error_array[i] = rel_err(gs_energy, myvalue)\n",
    "    \n",
    "    if rel_error_array[i] < 0.01:\n",
    "        beat_cutoff += 1\n",
    "\n",
    "# Print the final tally\n",
    "print('Met 1% benchmark '+str(beat_cutoff)+'/'+str(len(rel_error_array))+ ' or '+str(100*beat_cutoff/len(rel_error_array))+'% of the time')\n",
    "\n",
    "# Print the execution time\n",
    "end = time()\n",
    "print(f'execution time (s): {end - start:.2f}')"
   ]
  },
  {
   "cell_type": "markdown",
   "id": "8f728ba0",
   "metadata": {},
   "source": [
    "# Considerations\n",
    "Feeling stuck? Below are a list of questions and considerations to help spark new ideas for your VQE implementation.\n",
    "\n",
    "**Ansatz.** Carefully consult research literature for the best approach of ansatz selection. How might errors affect your ansatz? How many parameters are needed to reach the ground state? What properties of the Hamiltonian could help simplify the ansatz?\n",
    "\n",
    "**Classical optimizer.** What optimizer will pair well with for your choice of ansatz and measurement parameters? What noise do you expect from the quantum computer, and what noise sensitivity can the classical optimizer withstand? How many iterations will be needed?\n",
    "\n",
    "**Initial state/point.** Is there an initial quantum state that really helps things get going? What about a starting point for the circuit parameters? Does the VQE give the same results for different initial parameter values?\n",
    "\n",
    "**Number of measurements.** How does the number of shots affect the VQE's convergence to the ground state energy? The expectation value of the Hamiltonian is a sum of the expectation values of each of the 54 terms. What is the least number of circuit executions necessary to compute the expectation value of the Hamiltonian? What is the optimal number of circuit executions for stable convergence?\n",
    "\n",
    "**Many qubits.** Working with larger numbers of qubits is its own challenge. For example, what's a concise way of writing down or even visualizing the 4096 digit ground state? What methods and techniques will not scale well? What techniques would scale well if this VQE were to be done on a larger system? How can you reduce your execution time of the real device?\n",
    "\n",
    "**Error mitigation.** What errors are most prevalent, and how can you reduce them efficiently? What error mitigation techniques will scale well?"
   ]
  },
  {
   "cell_type": "code",
   "execution_count": null,
   "id": "cb1d7ca9",
   "metadata": {},
   "outputs": [],
   "source": [
    "import qiskit_ibm_runtime\n",
    "qiskit_ibm_runtime.version.get_version_info()"
   ]
  },
  {
   "cell_type": "code",
   "execution_count": null,
   "id": "e751e2e7",
   "metadata": {},
   "outputs": [],
   "source": [
    "import qiskit.tools.jupyter\n",
    "%qiskit_version_table"
   ]
  }
 ],
 "metadata": {
  "kernelspec": {
   "display_name": "Python 3 (ipykernel)",
   "language": "python",
   "name": "python3"
  },
  "language_info": {
   "codemirror_mode": {
    "name": "ipython",
    "version": 3
   },
   "file_extension": ".py",
   "mimetype": "text/x-python",
   "name": "python",
   "nbconvert_exporter": "python",
   "pygments_lexer": "ipython3",
   "version": "3.11.0"
  }
 },
 "nbformat": 4,
 "nbformat_minor": 5
}
