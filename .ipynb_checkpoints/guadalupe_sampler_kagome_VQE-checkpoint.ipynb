{
 "cells": [
  {
   "cell_type": "markdown",
   "id": "aa3af4fc",
   "metadata": {},
   "source": []
  },
  {
   "cell_type": "markdown",
   "id": "395a1ba5",
   "metadata": {},
   "source": [
    "# 1 Introduction\n",
    "## 1-1 Quantum State Preparation\n",
    "Quantum state preparation is fundamental to quantum computing. It lies at the heart of quantum algorithms, quantum machine learning, quantum error correction, and quantum physics research, but it can be very difficult to start from an initial state $|0\\dots 0 \\rangle$ and efficiently prepare an arbitrary state $|\\psi \\rangle$ with high fidelity. Your objective for this year's Open Science Prize is to significantly improve state-of-the-art state preparation in the context of the Variational Quantum Eigensolver (VQE) algorithm.\n",
    "\n",
    "The state you will prepare is the highly entangled ground state of a Heisenberg spin-1/2 model on a kagome lattice. That sentence is jam packed with physics jargon, but do not despair. Though the problem statement originates deep within quantum physics research, we will avoid jargon as much as possible. A deep dive into the physics literature (which is very fascinating) is left as an exercise for the reader.\n",
    "\n",
    "Why the ground state of a Heisenberg model? Well, the ground state of a system is it's lowest energy configuration, and the ground state tends to be where exciting and unexpected quantum affects flourish. For example, when the element Mercury is cooled down near its ground state (below 4 Kelvin), it has no electrical resistance. None. Zero! Near its thermal ground state, a chunk of Mercury is [a superconductor](https://en.wikipedia.org/wiki/History_of_superconductivity). Researchers have been trying to understand what materials exhibit superconductivity and how it's even possible ever since it was first discovered. If that isn't cool enough for you, consider the [Bose-Einstein condensate](https://en.wikipedia.org/wiki/Bose–Einstein_condensate). This is quantum phase of matter where a dilute gas of individual atoms (bosonic atoms such as [Rubidium](https://en.wikipedia.org/wiki/Rubidium))--when cooled to their ground state--effectively become one giant particle!\n",
    "\n",
    "A system's ground state determines important and fascinating physical properties (see the two examples highlighted above), yet some quantum systems have ground states (and their associated energies) which are difficult to make and measure in the lab as well as being intractable for classical computers to calculate. The Variational Quantum Eigensolver (VQE) is a promising quantum algorithm that could find these ground states and their energies.\n",
    "\n",
    "You will implement the VQE algorithm on [ibmq_guadalupe](https://quantum-computing.ibm.com/services/resources?system=ibmq_guadalupe) a 16 qubit [heavy-hex](https://research.ibm.com/blog/heavy-hex-lattice) device. This is the largest device used in an Open Science Prize to date. Working with more qubits presents its own challenges. Be mindful of how your solution scales as this will be part of the judging criteria this year.\n",
    "\n",
    "We'll get more into the principles of VQE later, but for now, remember that VQE relies on iterative cycles of quantum and classical computation. Fast iterations and fast communication between the classical and quantum computer are essential for a fast VQE, and [Qiskit runtime](https://github.com/Qiskit/qiskit-ibm-runtime) does just that. [Qiskit runtime](https://medium.com/qiskit/so-what-is-qiskit-runtime-anyway-c78aecf3742) is a programming model and containerized environment designed to reduce the computational cycle time between quantum and classical computers. Later in this notebook, we will demonstrate how to leverage the latest release of runtime for fast VQE.\n",
    "\n",
    "The notebook is organized as follows: Section 1 gives a brief introduction to the Heisenberg model, the kagome lattice, and VQE algorithm. It also provides a classical calculation of the ground state(s) energy. Section 2 introduces how to construct a VQE experiment and simulate it on your local computer. Section 3 introduces Qiskit runtime and how to run VQE on a cloud simulator or real backend. Finally, if you are feeling stuck, we've provided some questions to consider as you design and implement your solution.\n",
    "\n",
    "#### Objective\n",
    "**Your task is to use the VQE algorithm to compute the ground state of a Heisenberg spin-1/2 system on a kagome lattice unit cell with the lowest possible relative error of the measured state's energy expectation value wrt to the exact value.** There are actually two ground states in this specific case, and you may prepare any combination of the two including only one or the other.\n"
   ]
  },
  {
   "cell_type": "markdown",
   "id": "9543492f",
   "metadata": {},
   "source": [
    "## 1-2 Heisenberg spin-1/2 model on the kagome lattice\n",
    "For the Open Science Prize, (get ready for some jargon) you will work with the antiferromagnetic $XXX$ Heisenberg model arranged on a kagome lattice. The $XXX$ Heisenberg model Hamiltonian for this Prize will be defined as\n",
    "$$\n",
    "\\begin{equation}\n",
    "H = \\sum_{\\langle i j \\rangle}^N X_i X_{i+1} + Y_i Y_{i+1} + Z_i Z_{i+1}\n",
    "\\end{equation}\n",
    "$$\n",
    "where $\\langle i j \\rangle$ is sum over neighboring spins and $X$, $Y$, and $Z$ are the usual Pauli matrices. The Heisenberg model hosts a wide variety of exotic quantum physics all of which heavily depend on the arrangement of the spins. The arrangement we are interested in is a kagome lattice.\n",
    "\n",
    "![title](kagome_unit_cell.png)\n",
    "\n",
    "The kagome lattice is a unique lattice structure made up of corner-sharing triangles (see the unit cell above). In general, the kagome lattice (i.e. many unit cells tiled together) is theorized to host a fascinating quantum phase of matter called a quantum spin liquid--a research topic at the forefront of quantum physics [1-3]. Additionally, excitations from that ground state are theorized to show exotic quantum behavior such a fractionalized particle excitations [1-3]. For those interested in a deeper dive into the physics check out Refs. [1-3] and other papers.\n",
    "\n",
    "This year's Prize will focus on a single unit cell (the base pattern shown above) which has 12 spin-1/2 particles represented in as blue dots in the image below. Each spin will be represented by a single qubit. The lines connecting the spin-1/2 particles called edges--borrowing a term from [graph theory](https://en.wikipedia.org/wiki/Graph_theory)--and they specify which spins are neighbors.\n",
    "\n",
    "\\[1\\] \"Modern condensed matter physics.\" Girvin, Steven M., and Kun Yang. Cambridge University Press, (2019).\n",
    "\n",
    "\\[2\\] \"Spin liquids in frustrated magnets.\" Balents, Leon. [Nature 464, 199–208](https://doi.org/10.1038/nature08917) (2010). \n",
    "\n",
    "\\[3\\] \"Probing topological spin liquids on a programmable quantum simulator.\" Semeghini, Giulia, et al. [Science 374.6572: 1242-1247.](https://www.science.org/doi/10.1126/science.abi8794) (2021). [arXiv link](https://arxiv.org/abs/2104.04119)\n",
    "\n",
    "\\[4\\] \"Kagome: The Story of the Basketweave Lattice.\" Mekata, Mamoru. [Physics Today 56, 2, 12](https://physicstoday.scitation.org/doi/10.1063/1.1564329) (2003)."
   ]
  },
  {
   "cell_type": "markdown",
   "id": "ad355034",
   "metadata": {},
   "source": [
    "## 1-3 VQE\n",
    "The Variational Quantum Eigensolver (VQE) is a quantum algorithm that can find the ground state(s) of a given Hamiltonian [5-7]. The VQE algorithm is based on the [variational principle](https://en.wikipedia.org/wiki/Variational_method_(quantum_mechanics)) of quantum mechanics and relies on both quantum and classical computations. Below, we briefly sketch out the main principles of VQE, and encourage you to review educational material and the research literature for details.\n",
    "\n",
    "Given a Hamiltonian $H$ and ground state $|\\psi_g \\rangle$, the variational principle says that even if we don't know the exact ground state an approximate ground state $|\\tilde{ \\psi}_g\\rangle \\approx |\\psi_g \\rangle$ can be found. To find the approximate ground state $|\\tilde{ \\psi}_g\\rangle$, we start with a parameterized state called an ansatz $|\\psi(\\boldsymbol{\\theta})\\rangle$ where $\\boldsymbol{\\theta} \\equiv (\\theta_1, \\theta_2,\\dots)$ are the parameters. In theory, there is a combination of parameter values where the anstaz approximates the ground state $|\\psi(\\boldsymbol{\\theta})\\rangle \\approx |\\psi_g\\rangle$, but we need a way to find those parameter values. This is done with a combination of quantum and classical computing.\n",
    "\n",
    "To optimize the parameters, many cycles of quantum and classical computing drive the ansatz toward the approximate ground state. The quantum computer computes the energy expectation value of Hamiltonian $H$ acting on the the parameterized anstaz for a given set of parameter values\n",
    "$$\n",
    "E(\\boldsymbol{\\theta}) = \\langle \\psi(\\boldsymbol{\\theta}) | H | \\psi(\\boldsymbol{\\theta}) \\rangle \\;.\n",
    "$$\n",
    "For those familiar with optimization terminology this is the cost function. A classical computer uses the measurement data from the quantum computer to determine how the parameters values should be adjusted to further minimize the energy $E(\\boldsymbol{\\theta})$. As the classical and quantum computer loop through many iterations, they search the parameter space and converge to the approximate ground state.\n",
    "\n",
    "How can we know the state that gives the minimum energy expectation value is the ground state? The variation principle guarantees that the minimal energy expectation value can only be achieved if the quantum state is the ground state. No other state can give a lower energy--hence the name ground state. In this way, we can be confident that minimizing $E(\\boldsymbol{\\theta})$ with respect to the parameters $\\boldsymbol{\\theta}$ will drive the ansatz toward an accurate approximation of the true ground state and not some other state.\n",
    "\n",
    "Of course, the actual implementation of the algorithm comes with challenges. The ansatz $|\\psi(\\boldsymbol{\\theta})\\rangle$ may never reach the ground state for any combination of parameters. The ansatz could have too many parameters and encounter a barren plateau during optimization. When implementing the VQE, it may take an unreasonable amount of time to execute the ansatz or measure the expectation value on quantum hardware. The quantum hardware may be too noisy. The classical optimizer may not pair well with the optimization landscape or the level of noise from the quantum measurements. Etc.\n",
    "\n",
    "To jump into more details about VQE, we included three review articles on the topic below. We encourage you to review additional educational material and research literature as you work out your solution.\n",
    "\n",
    "\\[5\\] \"A variational eigenvalue solver on a quantum processor.\" A. Peruzzo, et al. [arXiv:1304.3061](https://arxiv.org/abs/1304.3061) [quant-ph] (2013).\n",
    "\n",
    "\\[6\\] \"Variational quantum algorithms.\" M. Cerezo, et al. [arXiv:2012.09265v2](https://arxiv.org/abs/2012.09265v2) [quant-ph] (2021).\n",
    "\n",
    "\\[7\\] \"The Variational Quantum Eigensolver: a review of methods and best practices.\" J. Tilly, et al. [arXiv:2111.05176v3](https://arxiv.org/abs/2111.05176v3) [quant-ph] (2022).\n"
   ]
  },
  {
   "cell_type": "code",
   "execution_count": 1,
   "id": "a7d1f53d",
   "metadata": {},
   "outputs": [],
   "source": [
    "import numpy as np\n",
    "\n",
    "from time import time\n",
    "\n",
    "from qiskit.visualization import plot_histogram, plot_bloch_vector\n",
    "\n",
    "from qiskit.quantum_info import Statevector\n",
    "\n",
    "from math import pi\n",
    "\n",
    "import mitiq as mq\n",
    "\n",
    "import mthree\n",
    "\n",
    "import matplotlib.pyplot as plt\n",
    "plt.rcParams.update({\"font.size\": 16})  # enlarge matplotlib fonts"
   ]
  },
  {
   "cell_type": "markdown",
   "id": "89a66f85",
   "metadata": {},
   "source": [
    "## 1-4 Classical computation of ground state energy\n",
    "The twelve qubit state space isn't terribly large $2^{12} = 4096$, but it also isn't small. A classical computer can still diagonalize the Hamiltonian and thus compute the ground state and its associated energy. For the Open Science Prize, we don't need a full energy spectrum, just a calculation of the ground state energy. When working on your solution, remember that brute force approaches that work on 5 or 7-qubit devices may not work as well with ibmq_guadalupe's 16 qubits.\n",
    "\n",
    "Below is an example classical calculation of the ground state energy. It will be used as a reference to your VQE results. First, the kagome lattice is defined on a graph. Second, we built the Hamiltonian from the graph edges. Finally, the expected ground state energy is calculated.\n",
    "\n",
    "### Qiskit nature kagome unit cell\n",
    "Using Qiskit nature's [`Lattice` object](https://qiskit.org/documentation/nature/tutorials/10_lattice_models.html), we can represent any spin lattice as a graph. Here we construct the unit cell of a kagome lattice by defining a list of edges between the twelve sites. This `Lattice` representation will be convenient to use when defining the $XXX$ Hamiltonian terms."
   ]
  },
  {
   "cell_type": "code",
   "execution_count": 2,
   "id": "c30ca21a",
   "metadata": {},
   "outputs": [],
   "source": [
    "import rustworkx as rx\n",
    "\n",
    "from qiskit_nature.problems.second_quantization.lattice import Lattice\n",
    "\n",
    "# Custom Heisenberg couplings\n",
    "from heisenberg_model import HeisenbergModel"
   ]
  },
  {
   "cell_type": "code",
   "execution_count": 3,
   "id": "f754709a",
   "metadata": {},
   "outputs": [
    {
     "data": {
      "image/png": "[encoded data removed]",
      "text/plain": [
       "<Figure size 640x480 with 1 Axes>"
      ]
     },
     "metadata": {},
     "output_type": "display_data"
    }
   ],
   "source": [
    "# Kagome unit cell\n",
    "num_sites = 12\n",
    "# Edge weight\n",
    "t = 1.0\n",
    "\n",
    "# Generate graph of kagome unit cell\n",
    "# Start by defining all the edges\n",
    "graph = rx.PyGraph(multigraph=False)\n",
    "graph.add_nodes_from(range(num_sites))\n",
    "edge_list = [\n",
    "    (0, 1, t),\n",
    "    (1, 2, t),\n",
    "    (2, 3, t),\n",
    "    (3, 4, t),\n",
    "    (4, 5, t),\n",
    "    (5, 0, t),\n",
    "    (0, 6, t),\n",
    "    (1, 6, t),\n",
    "    (1, 7, t),\n",
    "    (2, 7, t),\n",
    "    (2, 8, t),\n",
    "    (3, 8, t),\n",
    "    (3, 9, t),\n",
    "    (4, 9, t),\n",
    "    (4, 10, t),\n",
    "    (5, 10, t),\n",
    "    (5, 11, t),\n",
    "    (0, 11, t),\n",
    "]\n",
    "# Generate graph from the list of edges\n",
    "graph.add_edges_from(edge_list)\n",
    "\n",
    "# Make a Lattice from graph\n",
    "kagome_unit_cell = Lattice(graph)\n",
    "\n",
    "# Draw Lattice\n",
    "kagome_unit_cell.draw(style={'node_color':'purple'})\n",
    "# plt.savefig('kagome_unit_cell.png')\n",
    "plt.show()"
   ]
  },
  {
   "cell_type": "markdown",
   "id": "cfe98615",
   "metadata": {},
   "source": [
    "Now that we have the lattice geometry, we can place each term in the Hamiltonian on its corresponding edge. This is done by using the custom `HeisenbergModel` found in the heisenberg_model.py file. This model is based on Qiskit Nature's [`IsingModel` class](https://qiskit.org/documentation/nature/stubs/qiskit_nature.problems.second_quantization.lattice.IsingModel.html) . It places $XX + YY + ZZ$ on each edge of the lattice (per the Hamiltonian's definition).\n",
    "\n",
    "We will also need to specify how the spin-1/2 particles map to qubits. Using Qiskit nature's `LogarithmicMapper`, we can map each spin-1/2 site to a single qubit. For more information on Qiskit nature's spin mappings see [here]( https://qiskit.org/documentation/nature/stubs/qiskit_nature.mappers.second_quantization.SpinMapper.html#qiskit_nature.mappers.second_quantization.SpinMapper)."
   ]
  },
  {
   "cell_type": "code",
   "execution_count": 4,
   "id": "e7f15d0d",
   "metadata": {},
   "outputs": [],
   "source": [
    "from qiskit_nature.mappers.second_quantization import LogarithmicMapper"
   ]
  },
  {
   "cell_type": "code",
   "execution_count": 5,
   "id": "522722d0",
   "metadata": {},
   "outputs": [
    {
     "data": {
      "text/plain": [
       "PauliSumOp(SparsePauliOp(['ZIIIIIZIIIII', 'IZIIIIZIIIII', 'IZIIIIIZIIII', 'IIZIIIIZIIII', 'IIIIIIZZIIII', 'IIZIIIIIZIII', 'IIIZIIIIZIII', 'IIIIIIIZZIII', 'IIIZIIIIIZII', 'IIIIZIIIIZII', 'IIIIIIIIZZII', 'IIIIZIIIIIZI', 'IIIIIZIIIIZI', 'IIIIIIIIIZZI', 'ZIIIIIIIIIIZ', 'IIIIIZIIIIIZ', 'IIIIIIZIIIIZ', 'IIIIIIIIIIZZ', 'YIIIIIYIIIII', 'IYIIIIYIIIII', 'IYIIIIIYIIII', 'IIYIIIIYIIII', 'IIIIIIYYIIII', 'IIYIIIIIYIII', 'IIIYIIIIYIII', 'IIIIIIIYYIII', 'IIIYIIIIIYII', 'IIIIYIIIIYII', 'IIIIIIIIYYII', 'IIIIYIIIIIYI', 'IIIIIYIIIIYI', 'IIIIIIIIIYYI', 'YIIIIIIIIIIY', 'IIIIIYIIIIIY', 'IIIIIIYIIIIY', 'IIIIIIIIIIYY', 'XIIIIIXIIIII', 'IXIIIIXIIIII', 'IXIIIIIXIIII', 'IIXIIIIXIIII', 'IIIIIIXXIIII', 'IIXIIIIIXIII', 'IIIXIIIIXIII', 'IIIIIIIXXIII', 'IIIXIIIIIXII', 'IIIIXIIIIXII', 'IIIIIIIIXXII', 'IIIIXIIIIIXI', 'IIIIIXIIIIXI', 'IIIIIIIIIXXI', 'XIIIIIIIIIIX', 'IIIIIXIIIIIX', 'IIIIIIXIIIIX', 'IIIIIIIIIIXX'],\n",
       "              coeffs=[1.+0.j, 1.+0.j, 1.+0.j, 1.+0.j, 1.+0.j, 1.+0.j, 1.+0.j, 1.+0.j, 1.+0.j,\n",
       " 1.+0.j, 1.+0.j, 1.+0.j, 1.+0.j, 1.+0.j, 1.+0.j, 1.+0.j, 1.+0.j, 1.+0.j,\n",
       " 1.+0.j, 1.+0.j, 1.+0.j, 1.+0.j, 1.+0.j, 1.+0.j, 1.+0.j, 1.+0.j, 1.+0.j,\n",
       " 1.+0.j, 1.+0.j, 1.+0.j, 1.+0.j, 1.+0.j, 1.+0.j, 1.+0.j, 1.+0.j, 1.+0.j,\n",
       " 1.+0.j, 1.+0.j, 1.+0.j, 1.+0.j, 1.+0.j, 1.+0.j, 1.+0.j, 1.+0.j, 1.+0.j,\n",
       " 1.+0.j, 1.+0.j, 1.+0.j, 1.+0.j, 1.+0.j, 1.+0.j, 1.+0.j, 1.+0.j, 1.+0.j]), coeff=1)"
      ]
     },
     "execution_count": 5,
     "metadata": {},
     "output_type": "execute_result"
    }
   ],
   "source": [
    "# Build Hamiltonian from graph edges\n",
    "heis = HeisenbergModel.uniform_parameters(\n",
    "    lattice=kagome_unit_cell,\n",
    "    uniform_interaction=1.0,  # same spin-spin interaction weight as used in graph\n",
    "    uniform_onsite_potential=0.0,  # No singe site external field\n",
    ")\n",
    "\n",
    "# The Lattice needs an explicit mapping to the qubit states.\n",
    "# We map 1 qubit for 1 spin-1/2 particle using the LogarithmicMapper\n",
    "log_mapper = LogarithmicMapper()\n",
    "# Multiply by factor of 4 to account for (1/2)^2 terms from spin operators in the HeisenbergModel\n",
    "ham = 4 * log_mapper.map(heis.second_q_ops().simplify())\n",
    "# Print Hamiltonian to check it's what we expect.\n",
    "# There are 18 edges and 3 terms per edge (XX, YY, and ZZ),\n",
    "# so there should be 54 equally weighted terms.\n",
    "ham"
   ]
  },
  {
   "cell_type": "markdown",
   "id": "e24cc980",
   "metadata": {},
   "source": [
    "### Compute ground state energy\n",
    "With the Hamiltonian in hand, we can now calculate the expected ground state and its energy. Qiskit offers different methods to do this. The method [here](https://qiskit.org/documentation/apidoc/algorithms.html#minimum-eigensolvers) computes the ground state energy. This [method](https://qiskit.org/documentation/apidoc/algorithms.html#eigensolvers) computes the ground state ($k=0$) and potentially higher energy states if the users wishes ($k>0$).\n",
    "\n",
    "Below is an example calculation of finding the lowest 3 energies ($k=3$) of the system using the second method. Remember that for this year's Prize, you will only need to use VQE to find the ground state energy and not any excited state energies."
   ]
  },
  {
   "cell_type": "code",
   "execution_count": 6,
   "id": "0b639fb6",
   "metadata": {},
   "outputs": [
    {
     "name": "stdout",
     "output_type": "stream",
     "text": [
      "[-18.         -18.         -16.96132284 -16.96132284 -16.96132284\n",
      " -16.94488902 -16.94488902]\n"
     ]
    }
   ],
   "source": [
    "from qiskit.algorithms import NumPyEigensolver\n",
    "\n",
    "# find the first three (k=3) eigenvalues\n",
    "exact_solver = NumPyEigensolver(k=7)\n",
    "exact_result = exact_solver.compute_eigenvalues(ham)\n",
    "print(exact_result.eigenvalues)\n",
    "\n",
    "# Save ground state energy for later\n",
    "gs_energy = np.round(exact_result.eigenvalues[0], 4)"
   ]
  },
  {
   "cell_type": "markdown",
   "id": "a4b22921",
   "metadata": {},
   "source": [
    "You'll note that -18 is found twice. This means there are actually two ground states for this system. The -16.96 energy is the first excited state, which is not part of this year's challenge. **For this year's Prize, we will only be judging based off the measured ground state energy. This means it does not matter which of the two ground states, or combination of them, your VQE implementation finds.**"
   ]
  },
  {
   "cell_type": "markdown",
   "id": "8748d8c9",
   "metadata": {},
   "source": [
    "## 2-1 VQE with local runtime primitives\n",
    "\n",
    "To compute the ground state energy using VQE, we first pick an appropriate device. This year's Prize will use ibmq_guadalupe which has 16 qubits. This is 4 extra qubits than the Hamiltonian, so we will need to \"inflate\" the Hamiltonian with identity operators so we can measure 12 qubit Hamiltonian's energy expectation value on a 16 qubit device.\n",
    "After inflating the Hamiltonian, the anstaz and classical optimizer components are built up. Finally, a class is defined to bring everything together for the VQE algorithm, and it's executed on a local simulator.\n",
    "\n",
    "The code below is largely based off of this example [tutorial](https://github.com/mberna/qce22-qiskit-runtime-tutorial/blob/main/docs/tutorials/Building%20algorithms%20with%20Qiskit%20Runtime.ipynb) of using qiskit runtime primitives from IEEE week. Feel free to read through to learn more about qiskit runtime and VQE."
   ]
  },
  {
   "cell_type": "markdown",
   "id": "f296de94",
   "metadata": {},
   "source": [
    "## 2-2 Qiskit runtime\n",
    "\n",
    "[Qiskit runtime](https://github.com/Qiskit/qiskit-ibm-runtime) is a paradigm which brings classical and quantum computing resources closer together--speeding up quantum algorithms especially variational ones. We will be using runtime because of its [speed boost](https://research.ibm.com/blog/120x-quantum-speedup) relative to the traditional way quantum circuits are executed using qiskit. In this notebook, we'll demonstrate an example VQE executed with qiskit runtime, but we encourage you to get a deeper understanding of the tool by checking out an overview of qiskit runtime and some tutorials on the [qiskit docs section on runtime](https://qiskit.org/documentation/partners/qiskit_ibm_runtime/) as well as the IBM [research blog](https://research.ibm.com/blog/qiskit-runtime-capabilities-integration)."
   ]
  },
  {
   "cell_type": "code",
   "execution_count": 7,
   "id": "3446419b",
   "metadata": {},
   "outputs": [],
   "source": [
    "from qiskit import QuantumCircuit, transpile\n",
    "from qiskit.circuit import Parameter\n",
    "\n",
    "from qiskit import IBMQ\n",
    "\n",
    "from qiskit_ibm_provider import IBMProvider"
   ]
  },
  {
   "cell_type": "code",
   "execution_count": null,
   "id": "570848e8",
   "metadata": {},
   "outputs": [
    {
     "name": "stderr",
     "output_type": "stream",
     "text": [
      "C:\\Users\\gboha\\AppData\\Local\\Temp\\ipykernel_5940\\4233409759.py:3: DeprecationWarning: The package qiskit.providers.ibmq is being deprecated. Please see https://ibm.biz/provider_migration_guide to get instructions on how to migrate to qiskit-ibm-provider (https://github.com/Qiskit/qiskit-ibm-provider) and qiskit-ibm-runtime (https://github.com/Qiskit/qiskit-ibm-runtime).\n",
      "  provider = IBMQ.load_account()\n",
      "C:\\Users\\gboha\\AppData\\Local\\Temp\\ipykernel_5940\\4233409759.py:3: DeprecationWarning: The qiskit.IBMQ entrypoint and the qiskit-ibmq-provider package (accessible from 'qiskit.providers.ibmq`) are deprecated and will be removed in a future release. Instead you should use the qiskit-ibm-provider package which is accessible from 'qiskit_ibm_provider'. You can install it with 'pip install qiskit_ibm_provider'. Just replace 'qiskit.IBMQ' with 'qiskit_ibm_provider.IBMProvider'\n",
      "  provider = IBMQ.load_account()\n"
     ]
    }
   ],
   "source": [
    "# Doc for loading IBMQ account https://quantum-computing.ibm.com/lab/docs/iql/manage/account/ibmq#the-account\n",
    "# IBMQ.save_account('46aead5c7b98c3015ee89c00fdc3a0b1a909af490abe29443c4880cd57af86021e09f4f03c61702feb2d75fd7c7e76ddf49cb68aef1916f8f91c9d29052b0263', overwrite=True)\n",
    "provider = IBMQ.load_account()\n",
    "provider = IBMQ.get_provider(hub='ibm-q-community', group='ibmquantumawards', project='open-science-22')\n",
    "\n",
    "provider = IBMProvider.load_accound()\n",
    "provider = IBMProvider.get_provider(hub='ibm-q-community', group='ibmquantumawards', project='open-science-22')\n",
    "\n",
    "# Real backend; needed for transpilation later on\n",
    "guadalupe = provider.get_backend(\"ibmq_guadalupe\")\n",
    "\n",
    "# Get fake backend if you like\n",
    "from qiskit.providers.fake_provider import FakeGuadalupe\n",
    "\n",
    "# Noisy simulator backend\n",
    "noisy_sim = FakeGuadalupe()\n"
   ]
  },
  {
   "cell_type": "markdown",
   "id": "d9403fff",
   "metadata": {},
   "source": [
    "As mentioned at the beginning of this section, the system Hamiltonian is defined over 12 qubits, but ibmq_guadalupe has 16 qubits. To execute VQE on ibmq_guadalupe, we will \"inflate\" the Hamilontian from 12 qubits to 16 qubits to match ibmq_guadalupe, but those extra 4 qubits will not participate in the energy expectation value. Here, we've chosen the 4 qubits that won't participate to be 0, 6, 9, 15. You may pick different qubits."
   ]
  },
  {
   "cell_type": "code",
   "execution_count": null,
   "id": "0cd43af4",
   "metadata": {},
   "outputs": [],
   "source": [
    "# Kagome unit cell\n",
    "num_qubits = 16\n",
    "# Edge weight\n",
    "t = 1.0\n",
    "\n",
    "# Generate graph of kagome unit cell\n",
    "# Start by defining all the edges\n",
    "graph_16 = rx.PyGraph(multigraph=False)\n",
    "graph_16.add_nodes_from(range(num_qubits))\n",
    "edge_list = [\n",
    "    (1, 2, t),\n",
    "    (2, 3, t),\n",
    "    (3, 5, t),\n",
    "    (5, 8, t),\n",
    "    (8, 11, t),\n",
    "    (11, 14, t),\n",
    "    (14, 13, t),\n",
    "    (13, 12, t),\n",
    "    (12, 10, t),\n",
    "    (10, 7, t),\n",
    "    (7, 4, t),\n",
    "    (4, 1, t),\n",
    "    (4, 2, t),\n",
    "    (2, 5, t),\n",
    "    (5, 11, t),\n",
    "    (11, 13, t),\n",
    "    (13, 10, t),\n",
    "    (10, 4, t),\n",
    "]\n",
    "# Generate graph from the list of edges\n",
    "graph_16.add_edges_from(edge_list)\n",
    "\n",
    "# Make a Lattice from graph\n",
    "kagome_unit_cell_16 = Lattice(graph_16)\n",
    "\n",
    "# Draw Lattice and include labels to check we exclude the right spins\n",
    "# Specify node locations for better visualizations\n",
    "kagome_pos = {0:[1,-1], 6:[1.5,-1], 9:[2,-1], 15:[2.5,-1], \n",
    "              1:[0,-0.8], 2:[-0.6,1], 4:[0.6,1], 10:[1.2,3], \n",
    "              13:[0.6,5], 11:[-0.6,5], 5:[-1.2,3], 3:[-1.8,0.9], \n",
    "              8:[-1.8,5.1], 14:[0,6.8], 7:[1.8,0.9], 12:[1.8,5.1]}\n",
    "kagome_unit_cell_16.draw(style={'with_labels':True, 'font_color':'white', 'node_color':'purple', 'pos':kagome_pos})\n",
    "plt.show()\n"
   ]
  },
  {
   "cell_type": "code",
   "execution_count": null,
   "id": "4dfd5af1",
   "metadata": {
    "scrolled": false
   },
   "outputs": [],
   "source": [
    "# Build Hamiltonian from graph edges\n",
    "heis_16 = HeisenbergModel.uniform_parameters(\n",
    "    lattice=kagome_unit_cell_16,\n",
    "    uniform_interaction=t,\n",
    "    uniform_onsite_potential=0.0,  # No singe site external field\n",
    ")\n",
    "\n",
    "# Map from SpinOp to qubits just as before.\n",
    "log_mapper = LogarithmicMapper()\n",
    "ham_16 = 4 * log_mapper.map(heis_16.second_q_ops().simplify())\n",
    "# Print Hamiltonian to check it's what we expect:\n",
    "# 18 ZZ, 18 YY, and 18 XX terms over 16 qubits instead of over 12 qubits\n",
    "ham_16"
   ]
  },
  {
   "cell_type": "markdown",
   "id": "0cbeb67e",
   "metadata": {},
   "source": [
    "## 2-3 Define an ansatz\n",
    "Crafting the ansatz is critical to VQE. You may use a prebuilt ansatz from the [qiskit circuit library](https://qiskit.org/documentation/apidoc/circuit_library.html#n-local-circuits). You may also make your own custom ansatz. Keep in mind that a custom ansatz should have no measurement gates at the end and the circuit parameters are defined by using `Parameter()` [objects](https://qiskit.org/documentation/stubs/qiskit.circuit.Parameter.html). We've demonstrated both options below. The ansatz can be defined over 12 qubits without needed to inflate it to 16 qubits at this point. The transpiler will take care of that later on.\n",
    "\n",
    "Here's an example using `EfficientSU2()` to generate an ansatz"
   ]
  },
  {
   "cell_type": "code",
   "execution_count": null,
   "id": "62e012d6",
   "metadata": {},
   "outputs": [],
   "source": [
    "from qiskit.circuit.library import EfficientSU2"
   ]
  },
  {
   "cell_type": "code",
   "execution_count": null,
   "id": "fea9bffd",
   "metadata": {},
   "outputs": [],
   "source": [
    "# Construct ansatz from qiskit circuit library functions\n",
    "# See docs for full details\n",
    "ansatz = EfficientSU2(12, entanglement='linear', reps=3, skip_final_rotation_layer=True).decompose()\n",
    "ansatz.draw(fold=300)"
   ]
  },
  {
   "cell_type": "markdown",
   "id": "afe20ebe",
   "metadata": {},
   "source": [
    "Here's an example of building a custom ansatz. We'll continue using this one for the rest of the notebook."
   ]
  },
  {
   "cell_type": "code",
   "execution_count": null,
   "id": "537b0f69",
   "metadata": {
    "scrolled": true
   },
   "outputs": [],
   "source": [
    "# Build a custom ansatz from scratch\n",
    "ansatz_custom = QuantumCircuit(12)\n",
    "# build initial state\n",
    "ansatz_custom.h(range(0, 12, 1))\n",
    "#ansatz_custom.cx(range(0, 11, 2), range(1, 12, 2))\n",
    "# First layer\n",
    "j = 0\n",
    "for i in range(12):\n",
    "    ansatz_custom.rz(Parameter('θ_' + str(j)), i)\n",
    "    j += 1\n",
    "    ansatz_custom.ry(Parameter('θ_' + str(j)), i)\n",
    "    j += 1\n",
    "ansatz_custom.h(range(0, 12, 2))    # <-- Create bell state: 1/root(2)*(|01> + |10>)\n",
    "ansatz_custom.x(range(1, 13, 2))\n",
    "ansatz_custom.cx(range(0, 11, 2), range(1, 12, 2))\n",
    "\n",
    "ansatz_custom.draw(fold=250)"
   ]
  },
  {
   "cell_type": "markdown",
   "id": "74e80449",
   "metadata": {},
   "source": [
    "### Match qubit layout\n",
    "The ansatz is currently defined over 12 qubits, but it will be executed on guadalupe which has 16 qubits. To make the ansatz compatible with guadalupe and the inflated Hamiltonian, we can specify the qubit layout on the real device using the transpiler (shown below). We exclude the four qubits with fewest neighbors."
   ]
  },
  {
   "cell_type": "code",
   "execution_count": null,
   "id": "3665fe90",
   "metadata": {
    "scrolled": true
   },
   "outputs": [],
   "source": [
    "# Select the ansatz to test. \n",
    "#test_ansatz = ansatz         # Efficient SU2 ansatz\n",
    "test_ansatz = ansatz_custom  # Open Science default custom ansatz"
   ]
  },
  {
   "cell_type": "code",
   "execution_count": null,
   "id": "7cfdee38",
   "metadata": {},
   "outputs": [],
   "source": [
    "# Force anstaz to be applied to qubits in the heavy hex.\n",
    "# Avoid the outer qubits 0, 6, 9, and 15 which we accounted for in the lattice definition.\n",
    "q_layout = [1, 2, 3, 5, 8, 11, 14, 13, 12, 10, 7, 4]\n",
    "ansatz_opt = transpile(test_ansatz, backend=guadalupe, initial_layout=q_layout)\n",
    "\n",
    "print('number and type of gates in the cirucit:', ansatz_opt.count_ops())\n",
    "print('number of parameters in the circuit:', ansatz_opt.num_parameters)\n",
    "ansatz_opt.draw(fold=300)"
   ]
  },
  {
   "cell_type": "markdown",
   "id": "987cd3f8",
   "metadata": {},
   "source": [
    "## 2-4 Choose a classical optimizer\n",
    "Select a [classical optimizer](https://qiskit.org/documentation/stubs/qiskit.algorithms.optimizers.html#local-optimizers). The classical optimizer will encounter errored and stochastic results from the quantum computer due to gate errors, measurement errors, and other noise sources as well as finite sampling affects [8]. Choose a classical optimizer that pairs well with your approach to VQE. Along with choosing a classical optimizer, picking an initial set of parameters plays a significant role in VQE. In this example, a random set of values is picked (shown in the `CustomVQE` class section 2-5).\n",
    "\n",
    "\\[8\\] \"Using models to improve optimizers for variational quantum algorithms\" K. Sung, et al. [arXiv:2005.11011v2](https://arxiv.org/abs/2005.11011v2) [quant-ph] (2020)"
   ]
  },
  {
   "cell_type": "code",
   "execution_count": null,
   "id": "c98f0341",
   "metadata": {},
   "outputs": [],
   "source": [
    "from qiskit.algorithms.optimizers import SPSA\n",
    "\n",
    "optimizer = SPSA(maxiter=500)"
   ]
  },
  {
   "cell_type": "markdown",
   "id": "0fd2553d",
   "metadata": {},
   "source": [
    "## 2-5 Define custom VQE program\n",
    "The VQE calculation can be efficiently orchestrated between the quantum and classical computer using qiskit's [primitives](https://qiskit.org/documentation/apidoc/primitives.html). Below is a simple example of using the [Estimator primitive](https://qiskit.org/documentation/apidoc/primitives.html#overview-of-estimator) with your computer as a local simulator of a quantum computer. It's convenient to bring the components of VQE together into a custom class which we've called `CustomVQE`.\n",
    "\n",
    "If you want more control over the measurement results and how the expectation values are computed, use the [Sampler primitive](https://qiskit.org/documentation/apidoc/primitives.html#overview-of-sampler) which will output the probabilities (or quasi-probabilities) of every measured state instead of expectation values."
   ]
  },
  {
   "cell_type": "code",
   "execution_count": null,
   "id": "8788607b",
   "metadata": {},
   "outputs": [],
   "source": [
    "from qiskit.algorithms import MinimumEigensolver, VQEResult\n",
    "\n",
    "\n",
    "# Define a custome VQE class to orchestra the ansatz, classical optimizers, \n",
    "# initial point, callback, and final result\n",
    "class CustomVQE_Sampler(MinimumEigensolver):\n",
    "    \n",
    "    def __init__(self, sampler, circuit, optimizer, q_layout, mit_q_layout=None, m3_mit=None, initial_point=None, callback=None):\n",
    "        self._sampler = sampler\n",
    "        self._optimizer = optimizer\n",
    "        self._callback = callback\n",
    "        self._initialpt = initial_point\n",
    "        self._qlayout = q_layout\n",
    "        self._mitqlayout = mit_q_layout\n",
    "        self._m3mit = m3_mit\n",
    "        \n",
    "        # Create the 3 circuits for measuring <XX>, <YY>, and <ZZ>\n",
    "        mycirc_X = circuit.copy()\n",
    "        mycirc_Y = circuit.copy()\n",
    "        mycirc_Z = circuit.copy()\n",
    "        \n",
    "        # Setup X basis. Iterate through q_layout, adding H gates to circuit\n",
    "        for q in self._qlayout:\n",
    "            mycirc_X.h(q)\n",
    "        mycirc_X.measure_all()\n",
    "            \n",
    "        # Setup Y basis. Iterate through q_layout, adding S_dagger and H gates to circuit\n",
    "        for q in self._qlayout:\n",
    "            mycirc_Y.sdg(q)\n",
    "            mycirc_Y.h(q)\n",
    "        mycirc_Y.measure_all()\n",
    "            \n",
    "        # mycirc_Z is in Z basis by default\n",
    "        mycirc_Z.measure_all()\n",
    "        \n",
    "        # Package the circuits.\n",
    "        self._circuit = [mycirc_X, mycirc_Y, mycirc_Z]\n",
    "        \n",
    "    def compute_minimum_eigenvalue(self, operators, aux_operators=None):\n",
    "                \n",
    "        # Define objective function to classically minimize over\n",
    "        def objective(x):\n",
    "            # Bind the parameters to the circuits\n",
    "            X_circ = self._circuit[0].bind_parameters(x)\n",
    "            Y_circ = self._circuit[1].bind_parameters(x)\n",
    "            Z_circ = self._circuit[2].bind_parameters(x)\n",
    "            \n",
    "            # Execute job with sampler primitive\n",
    "            job = self._sampler.run(circuits=[X_circ, Y_circ, Z_circ])\n",
    "            # Get results from jobs\n",
    "            samp_result = job.result()\n",
    "            \n",
    "            # Get the measured energy value from the counts\n",
    "            value = 0\n",
    "            # Analyze the counts dictionaries with mitigation option\n",
    "            binary_probs = [q.binary_probabilities() for q in samp_result.quasi_dists]\n",
    "            # Create an M3 distribution\n",
    "            for index in range(len(binary_probs)):\n",
    "                # Three element in binary_probs\n",
    "                myraw = binary_probs[index]\n",
    "                # Create quasi distribution\n",
    "                if self._m3mit == None:\n",
    "                    m3_dist = mthree.classes.QuasiDistribution(myraw)\n",
    "                else:               \n",
    "                    m3_dist = self._m3mit.apply_correction(counts=myraw, qubits=self._mitqlayout)\n",
    "                # Calculate expected values\n",
    "                partial_val = expval_from_pauli_sum(operators, m3_dist)\n",
    "                value += partial_val\n",
    "                \n",
    "            # Save result information using callback function\n",
    "            if self._callback is not None:\n",
    "                self._callback(value, x)\n",
    "            return value\n",
    "        \n",
    "        # Define helper function for the objective function.\n",
    "        #    Given a pauli string, calculate the expectation value.\n",
    "        def expval_from_pauli_sum(observable, m3_quasi_dist):\n",
    "            obs = observable.primitive.paulis.to_labels()\n",
    "            myval = 0\n",
    "            # Loop through the labels calculating expectation of each one\n",
    "            for pauli_str in obs:\n",
    "                mytempval = m3_quasi_dist.expval(pauli_str)\n",
    "                myval += mytempval\n",
    "            return myval\n",
    "            \n",
    "        # Select an initial point for the ansatzs' parameters\n",
    "        #x0 = np.pi/4 * np.random.rand(self._circuit.num_parameters)\n",
    "        if self._initialpt is None:\n",
    "            x0 = [0]*self._circuit[0].num_parameters\n",
    "        else:\n",
    "            x0 = self._initialpt\n",
    "            \n",
    "        # Run optimization\n",
    "        res = self._optimizer.minimize(objective, x0=x0)\n",
    "        \n",
    "        # Populate VQE result\n",
    "        result = VQEResult()\n",
    "        result.cost_function_evals = res.nfev\n",
    "        result.eigenvalue = res.fun\n",
    "        result.optimal_parameters = res.x\n",
    "        return result, x0\n"
   ]
  },
  {
   "cell_type": "markdown",
   "id": "259d92d6",
   "metadata": {},
   "source": [
    "### Callback\n",
    "It's important to know what's going on between the classical and quantum computer during the optimization. What parameter values is the classical optimizer picking? How does the convergence to the ground state energy behave?\n",
    "\n",
    "Defining a callback function gives us a chance to peek in. A simple callback method is defined below. See [this tutorial](https://qiskit.org/documentation/tutorials/algorithms/02_vqe_convergence.html) for more information and be sure to read the classical [optimizers' docs](https://qiskit.org/documentation/stubs/qiskit.algorithms.optimizers.html) for what specific values can be extracted during optimization. For example [SPSA](https://qiskit.org/documentation/stubs/qiskit.algorithms.optimizers.SPSA.html#qiskit.algorithms.optimizers.SPSA) returns: (nfev, parameters, value, stepsize, accepted)."
   ]
  },
  {
   "cell_type": "code",
   "execution_count": null,
   "id": "5419c2be",
   "metadata": {},
   "outputs": [],
   "source": [
    "# Define a simple callback function\n",
    "intermediate_info = []\n",
    "params_list = [] # Store the parameters that create the best value\n",
    "\n",
    "def callback(value, params):\n",
    "    intermediate_info.append(value)\n",
    "    params_list.append(params)"
   ]
  },
  {
   "cell_type": "markdown",
   "id": "3bfd86fb",
   "metadata": {},
   "source": [
    "## 2-6 Execute simulated VQE\n",
    "The VQE is built! Time to test it out on a simulator. This may take a few seconds."
   ]
  },
  {
   "cell_type": "code",
   "execution_count": null,
   "id": "cf6bf162",
   "metadata": {},
   "outputs": [],
   "source": [
    "from qiskit.primitives import Estimator, Sampler"
   ]
  },
  {
   "cell_type": "code",
   "execution_count": null,
   "id": "9849f4f5",
   "metadata": {
    "scrolled": true
   },
   "outputs": [],
   "source": [
    "# Build Z-Symmetry opterator\n",
    "Z_16 = 4 * log_mapper.map(heis_16.z_symmetry_ops().simplify())\n",
    "Z_16"
   ]
  },
  {
   "cell_type": "code",
   "execution_count": null,
   "id": "6c42af39",
   "metadata": {
    "scrolled": true
   },
   "outputs": [],
   "source": [
    "# Define instance of qiskit-terra's Sampler primitive\n",
    "sampler = Sampler(ansatz_opt)\n",
    "\n",
    "# Setup VQE algorithm   \n",
    "custom_vqe = CustomVQE_Sampler(sampler, ansatz_opt, optimizer, q_layout, callback=callback)\n",
    "\n",
    "# Run the custom VQE function and monitor execution time\n",
    "start = time()\n",
    "result, initial_points = custom_vqe.compute_minimum_eigenvalue(Z_16)\n",
    "end = time()\n",
    "\n",
    "print(result)\n",
    "print(f'execution time (s): {end - start:.2f}')"
   ]
  },
  {
   "cell_type": "code",
   "execution_count": null,
   "id": "61ed53ee",
   "metadata": {},
   "outputs": [],
   "source": [
    "plt.plot(intermediate_info, color='purple', lw=2, label='Simulated VQE')\n",
    "plt.ylabel('Energy')\n",
    "plt.xlabel('Iterations')\n",
    "# Exact ground state energy value\n",
    "plt.axhline(y=gs_energy, color=\"tab:red\", ls=\"--\", lw=2, label=\"Target: \" + str(gs_energy))\n",
    "plt.legend()\n",
    "plt.grid()\n",
    "plt.show()"
   ]
  },
  {
   "cell_type": "markdown",
   "id": "3a804131",
   "metadata": {},
   "source": [
    "The true ground state energy is -18.0. As a metric for how well the VQE found the ground state energy, we will compute the relative difference between -18.0 and what we just achieved with VQE. This will be the metric of performance in the judging criteria, though it's important to note that it's not the only useful metric when working with VQE. Remember that the lower the relative error the higher you will score."
   ]
  },
  {
   "cell_type": "code",
   "execution_count": null,
   "id": "a3dfecfc",
   "metadata": {},
   "outputs": [],
   "source": [
    "def rel_err(target, measured):\n",
    "    return abs((target - measured) / target)\n",
    "\n",
    "# Compute the relative error between the expected ground state energy and the VQE's output\n",
    "rel_error = rel_err(gs_energy, result.eigenvalue)\n",
    "\n",
    "print(f'Expected ground state energy: {gs_energy:.10f}')\n",
    "print(f'Computed ground state energy: {result.eigenvalue:.10f}')\n",
    "print(f'Relative error: {rel_error:.8f}')"
   ]
  },
  {
   "cell_type": "markdown",
   "id": "d46f7f5e",
   "metadata": {},
   "source": [
    "## 3-1 Qiskit runtime (cloud simulator)\n",
    "\n",
    "Next we demonstrate how to run VQE using [qiskit_ibm_runtime](https://github.com/Qiskit/qiskit-ibm-runtime) **which has different syntax from qiskit terra's runtime**. The qiskit_ibm_runtime module includes the same programming model as qiskit terra, but qiskit_ibm_runtime has access to a cloud simulator and more importantly the ibmq_guadalupe device. To learn more about qiskit_ibm_runtime check out these tutorials from the docs: [a tutorial on the estimator](https://github.com/Qiskit/qiskit-ibm-runtime/blob/main/docs/tutorials/how-to-getting-started-with-estimator.ipynb) and [a tutorial on the sampler](https://github.com/Qiskit/qiskit-ibm-runtime/blob/main/docs/tutorials/how-to-getting-started-with-sampler.ipynb).\n",
    "\n",
    "We will use all the same VQE components we've built up so far, but the syntax for executing on the hardware is wrapped in [a session](https://quantum-computing.ibm.com/lab/docs/iql/manage/systems/sessions/) as shown in the following cells.\n",
    "\n",
    "We first demonstrate running VQE with the cloud simulator backend to check everything is working correctly. This may take a few minutes. After running on the cloud simulator, we make a simple switch of backends to the real ibmq_guadalupe device to get the final result. Depending on how your VQE is setup, this may take a couple hours."
   ]
  },
  {
   "cell_type": "code",
   "execution_count": null,
   "id": "07886d3e",
   "metadata": {},
   "outputs": [],
   "source": [
    "from qiskit_ibm_runtime import (QiskitRuntimeService, Session,\n",
    "                                Estimator as RuntimeEstimator, \n",
    "                                Sampler as RuntimeSampler,\n",
    "                                Options)\n",
    "from qiskit import Aer\n",
    "\n",
    "from qiskit_aer.noise import NoiseModel\n",
    "\n",
    "# GARRETT: Added from above -- START\n",
    "# IBMQ.save_account('46aead5c7b98c3015ee89c00fdc3a0b1a909af490abe29443c4880cd57af86021e09f4f03c61702feb2d75fd7c7e76ddf49cb68aef1916f8f91c9d29052b0263', overwrite=True)\n",
    "#provider = IBMQ.load_account()\n",
    "#provider = IBMQ.get_provider(hub='ibm-q-community', group='ibmquantumawards', project='open-science-22')\n",
    "\n",
    "# Real backend; needed for transpilation later on\n",
    "#guadalupe = provider.get_backend(\"ibmq_guadalupe\")\n",
    "# GARRETT: Added from above -- END\n",
    "\n",
    "# Save an IBM Quantum account. See docs for credential security warning\n",
    "# https://github.com/Qiskit/qiskit-ibm-runtime/tree/stable/0.7#saving-account-on-disk\n",
    "#QiskitRuntimeService.save_account(channel=\"ibm_quantum\", token='46aead5c7b98c3015ee89c00fdc3a0b1a909af490abe29443c4880cd57af86021e09f4f03c61702feb2d75fd7c7e76ddf49cb68aef1916f8f91c9d29052b0263', overwrite=True)\n",
    "service = QiskitRuntimeService(channel='ibm_quantum')"
   ]
  },
  {
   "cell_type": "code",
   "execution_count": null,
   "id": "245455bd",
   "metadata": {},
   "outputs": [],
   "source": [
    "# print available backend and select one\n",
    "print('Simulators:', service.backends(simulator=True))\n",
    "\n",
    "# Select a simulator backend\n",
    "backend = 'ibmq_qasm_simulator'\n",
    "\n",
    "#noise model based on real machine\n",
    "guadalupe_noise_model = NoiseModel.from_backend(guadalupe)\n"
   ]
  },
  {
   "cell_type": "code",
   "execution_count": null,
   "id": "a0732a91",
   "metadata": {
    "scrolled": true
   },
   "outputs": [],
   "source": [
    "print(guadalupe_noise_model)"
   ]
  },
  {
   "cell_type": "code",
   "execution_count": null,
   "id": "2dc7b963",
   "metadata": {},
   "outputs": [],
   "source": [
    "# Define a simple callback function\n",
    "intermediate_info_sim_backend = []\n",
    "params_list_sim = []\n",
    "def callback_sim(value, params):\n",
    "        intermediate_info_sim_backend.append(value)\n",
    "        params_list_sim.append(params)\n",
    "                \n",
    "# Define list to store optimization results\n",
    "RToptimized_parms = []\n",
    "RTrun_num = 0"
   ]
  },
  {
   "cell_type": "code",
   "execution_count": null,
   "id": "faeb2ef4",
   "metadata": {},
   "outputs": [],
   "source": [
    "# Set up the test case\n",
    "\n",
    "# Select the ansatz to test. \n",
    "#test_ansatz = ansatz1         # Single layer of Heis gates\n",
    "#test_ansatz = ansatz         # Efficient SU2 ansatz\n",
    "test_ansatz = ansatz_custom  # Open Science default custom ansatz\n",
    "\n",
    "# Select optimizer and iteration limit\n",
    "mymaxiter = 700\n",
    "optimizer = SPSA(maxiter=mymaxiter)\n",
    "\n",
    "# Select the Qiskit Runtime options\n",
    "service = QiskitRuntimeService()\n",
    "options = Options()\n",
    "#options.resilience_level = 2\n",
    "#options.resilience.extrapolator = 'LinearExtrapolator'\n",
    "#options.optimization_level = 3\n",
    "options.simulator.noise_model = guadalupe_noise_model\n",
    "#options.execution.shots = 1024\n",
    "\n",
    "# Setup the noisy backend for the m3 mitigator\n",
    "noisy_backend = FakeGuadalupe()"
   ]
  },
  {
   "cell_type": "code",
   "execution_count": null,
   "id": "d34b4965",
   "metadata": {},
   "outputs": [],
   "source": [
    "# Select the description information\n",
    "# ansatz descrition\n",
    "if test_ansatz == ansatz:\n",
    "    ansatz_type = 'EfficientSU2'\n",
    "elif test_ansatz == ansatz_custom:\n",
    "    ansatz_type = 'IBM_custom'\n",
    "    \n",
    "# optimizer info\n",
    "optimizer_type = 'SPSA_'+str(mymaxiter)\n",
    "\n",
    "# options info\n",
    "resilience_type = 'level - ' + str(options.resilience_level) + ' extrapolator - ' + options.resilience.extrapolator"
   ]
  },
  {
   "cell_type": "code",
   "execution_count": null,
   "id": "4f954cbd",
   "metadata": {},
   "outputs": [],
   "source": [
    "mit_q_layout = [0, 1, 2, 3, 5, 8, 6, 11, 14, 9, 13, 12, 10, 7, 4, 15]"
   ]
  },
  {
   "cell_type": "code",
   "execution_count": null,
   "id": "d2031c46",
   "metadata": {
    "scrolled": true
   },
   "outputs": [],
   "source": [
    "# Use the M3 package to calculate the expectation value of from the above counts\n",
    "mit_backend = mthree.M3Mitigation(noisy_backend)\n",
    "mit_backend.cals_from_system(mit_q_layout)\n",
    "\n",
    "###########\n",
    "## Setup VQE algorithm   \n",
    "#custom_vqe = CustomVQE_Sampler(sampler, ansatz_opt, optimizer, q_layout, callback=callback)\n",
    "\n",
    "## Run the custom VQE function and monitor execution time\n",
    "#start = time()\n",
    "#result, initial_points = custom_vqe.compute_minimum_eigenvalue(Z_16)\n",
    "###########\n",
    "#(self, sampler, circuit, optimizer, q_layout, mit_q_layout=None, m3_mit=None, callback=None):\n",
    "\n",
    "\n",
    "# Setup Estimator\n",
    "start = time()\n",
    "with Session(service=service, backend=backend) as session:\n",
    "    # Prepare primitive\n",
    "    rt_sampler = RuntimeSampler(session=session, options=options)\n",
    "    # Set up algorithm\n",
    "    custom_vqe = CustomVQE_Sampler(rt_sampler, ansatz_opt, optimizer, q_layout, \\\n",
    "                                   mit_q_layout=mit_q_layout, m3_mit=mit_backend, \\\n",
    "                                   callback=callback_sim, initial_point=noisy_optimal_parameters)\n",
    "    # Run algorithm\n",
    "    RTresult, RTinitial_points = custom_vqe.compute_minimum_eigenvalue(Z_16)\n",
    "end = time()\n",
    "print(f'execution time (s): {end - start:.2f}')\n",
    "winsound.Beep(325, 325)"
   ]
  },
  {
   "cell_type": "code",
   "execution_count": null,
   "id": "90706165",
   "metadata": {},
   "outputs": [],
   "source": [
    "minval = min(intermediate_info_sim_backend)\n",
    "minidx = intermediate_info_sim_backend.index(minval)\n",
    "print(str(minval) + ' : ' + str(minidx))\n",
    "print(params_list_sim[minidx])\n",
    "print(len(intermediate_info_sim_backend))"
   ]
  },
  {
   "cell_type": "code",
   "execution_count": null,
   "id": "71fcb197",
   "metadata": {
    "scrolled": false
   },
   "outputs": [],
   "source": [
    "#RToptimized_parms.append((RTresult.optimal_parameters))\n",
    "plt.plot(intermediate_info_sim_backend, color='purple', lw=2, label='Simulated VQE')\n",
    "plt.ylabel('Energy')\n",
    "plt.xlabel('Iterations')\n",
    "plt.axhline(y=gs_energy, color=\"tab:red\", ls=\"--\", lw=2, label=\"Target: \" + str(gs_energy))\n",
    "plt.legend()\n",
    "plt.grid()\n",
    "plt.show()"
   ]
  },
  {
   "cell_type": "code",
   "execution_count": null,
   "id": "c683b67a",
   "metadata": {},
   "outputs": [],
   "source": [
    "# Store the run information\n",
    "intermediate_info_sim_backend_04062023 = intermediate_info_sim_backend\n",
    "params_list_sim_04062023 = params_list_sim\n",
    "%store intermediate_info_sim_backend_04062023\n",
    "%store params_list_sim_04062023"
   ]
  },
  {
   "cell_type": "code",
   "execution_count": null,
   "id": "66223bd1",
   "metadata": {},
   "outputs": [],
   "source": [
    "# Compute the relative error between the expected ground state energy and the measured\n",
    "rel_error = rel_err(gs_energy, minval)\n",
    "\n",
    "print(f'Expected ground state energy: {gs_energy:.10f}')\n",
    "print(f'Computed ground state energy: {minval:.10f}')\n",
    "print(f'Relative error: {rel_error:.8f}')"
   ]
  },
  {
   "cell_type": "code",
   "execution_count": null,
   "id": "72d618d0",
   "metadata": {},
   "outputs": [],
   "source": [
    "# Save the information. Create the latest entry\n",
    "RTrun_num = RTrun_num + 1\n",
    "RTrun_time = str(round(end - start, 2))\n",
    "RTdescription = 'ansantz: ' + ansatz_type + ' optimizer: ' + optimizer_type + ' resilience' + resilience_type\n",
    "RTrun_data = (RTrun_num, \\\n",
    "              RTrun_time, \\\n",
    "              RTresult.eigenvalue, \\\n",
    "              rel_error, \\\n",
    "              RTinitial_points, \\\n",
    "              RTresult.optimal_parameters, \\\n",
    "              RTdescription)\n",
    "\n",
    "RToptimized_parms.append(RTrun_data)"
   ]
  },
  {
   "cell_type": "code",
   "execution_count": null,
   "id": "94ed7f68",
   "metadata": {},
   "outputs": [],
   "source": [
    "def create_parm_list(list_length, parm_num):\n",
    "    parmlist = parm0 = [0]*list_length\n",
    "    for i in range(list_length-1,-1,-1):\n",
    "        parmlist[list_length-i-1]= params_list[-1-i].tolist()[parm_num]\n",
    "    return parmlist"
   ]
  },
  {
   "cell_type": "code",
   "execution_count": null,
   "id": "96ab066a",
   "metadata": {},
   "outputs": [],
   "source": [
    "parm0 = create_parm_list(700, 0)\n",
    "parm1 = create_parm_list(700, 1)\n",
    "parm2 = create_parm_list(700, 2)\n",
    "parm3 = create_parm_list(700, 3)\n",
    "parm4 = create_parm_list(700, 4)\n",
    "parm5 = create_parm_list(700, 5)\n",
    "parm6 = create_parm_list(700, 6)\n",
    "parm7 = create_parm_list(700, 7)\n",
    "\n",
    "plt.plot(parm0, lw=2, label='Parm0')\n",
    "plt.plot(parm1, lw=2, label='Parm1')\n",
    "plt.plot(parm2, lw=2, label='Parm2')\n",
    "plt.plot(parm3, lw=2, label='Parm3')\n",
    "plt.plot(parm4, lw=2, label='Parm4')\n",
    "plt.plot(parm5, lw=2, label='Parm5')\n",
    "plt.plot(parm6, lw=2, label='Parm6')\n",
    "plt.plot(parm7, lw=2, label='Parm7')\n",
    "#plt.plot(penalty_list, color='green', lw=2, label='Penalty')\n",
    "plt.ylabel('Energy')\n",
    "plt.xlabel('Iterations')\n",
    "# Exact ground state energy value\n",
    "#plt.axhline(y=gs_energy, color=\"tab:red\", ls=\"--\", lw=2, label=\"Target: \" + str(gs_energy))\n",
    "plt.legend()\n",
    "plt.grid()\n",
    "plt.show()"
   ]
  },
  {
   "cell_type": "code",
   "execution_count": null,
   "id": "fdcffee4",
   "metadata": {},
   "outputs": [],
   "source": [
    "parm8  = create_parm_list(700, 8)\n",
    "parm9  = create_parm_list(700, 9)\n",
    "parm10 = create_parm_list(700, 10)\n",
    "parm11 = create_parm_list(700, 11)\n",
    "parm12 = create_parm_list(700, 12)\n",
    "parm13 = create_parm_list(700, 13)\n",
    "parm14 = create_parm_list(700, 14)\n",
    "parm15 = create_parm_list(700, 15)\n",
    "plt.plot(parm8, lw=2, label='Parm8')\n",
    "plt.plot(parm9, lw=2, label='Parm9')\n",
    "plt.plot(parm10, lw=2, label='Parm10')\n",
    "plt.plot(parm11, lw=2, label='Parm11')\n",
    "plt.plot(parm12, lw=2, label='Parm12')\n",
    "plt.plot(parm13, lw=2, label='Parm13')\n",
    "plt.plot(parm14, lw=2, label='Parm14')\n",
    "plt.plot(parm15, lw=2, label='Parm15')\n",
    "#plt.plot(penalty_list, color='green', lw=2, label='Penalty')\n",
    "plt.ylabel('Energy')\n",
    "plt.xlabel('Iterations')\n",
    "# Exact ground state energy value\n",
    "#plt.axhline(y=gs_energy, color=\"tab:red\", ls=\"--\", lw=2, label=\"Target: \" + str(gs_energy))\n",
    "plt.legend()\n",
    "plt.grid()\n",
    "plt.show()"
   ]
  },
  {
   "cell_type": "code",
   "execution_count": null,
   "id": "6a53e636",
   "metadata": {},
   "outputs": [],
   "source": [
    "parm16 = create_parm_list(700, 16)\n",
    "parm17 = create_parm_list(700, 17)\n",
    "parm18 = create_parm_list(700, 18)\n",
    "parm19 = create_parm_list(700, 19)\n",
    "parm20 = create_parm_list(700, 20)\n",
    "parm21 = create_parm_list(700, 21)\n",
    "parm22 = create_parm_list(700, 22)\n",
    "parm23 = create_parm_list(700, 23)\n",
    "plt.plot(parm16, lw=2, label='Parm16')\n",
    "plt.plot(parm17, lw=2, label='Parm17')\n",
    "plt.plot(parm18, lw=2, label='Parm18')\n",
    "plt.plot(parm19, lw=2, label='Parm19')\n",
    "plt.plot(parm20, lw=2, label='Parm20')\n",
    "plt.plot(parm21, lw=2, label='Parm21')\n",
    "plt.plot(parm22, lw=2, label='Parm22')\n",
    "plt.plot(parm23, lw=2, label='Parm23')\n",
    "#plt.plot(penalty_list, color='green', lw=2, label='Penalty')\n",
    "plt.ylabel('Energy')\n",
    "plt.xlabel('Iterations')\n",
    "# Exact ground state energy value\n",
    "#plt.axhline(y=gs_energy, color=\"tab:red\", ls=\"--\", lw=2, label=\"Target: \" + str(gs_energy))\n",
    "plt.legend()\n",
    "plt.grid()\n",
    "plt.show()"
   ]
  },
  {
   "cell_type": "code",
   "execution_count": null,
   "id": "5c398c24",
   "metadata": {},
   "outputs": [],
   "source": [
    "# Break the data into buckets and analyze each bucket\n",
    "def data_buckets(mylist, bucket_size):\n",
    "    # Break the data into buckets\n",
    "    total_size = len(mylist)\n",
    "    remainder = total_size%bucket_size\n",
    "    num_buckets = total_size//bucket_size\n",
    "    \n",
    "    # Evenly split the remainder\n",
    "    extra_per_bucket = int(np.floor(remainder/num_buckets))\n",
    "    leftover = remainder - extra_per_bucket*num_buckets\n",
    "    \n",
    "    # Adjust the bucket size\n",
    "    bucket_size += extra_per_bucket\n",
    "        \n",
    "    # The bucket size is now set. Store data in buckets\n",
    "    all_buckets = []\n",
    "    need_bucket = True\n",
    "    \n",
    "    # Go through all the data filling buckets as you go\n",
    "    for i in range(total_size): # Loop through all data\n",
    "        \n",
    "        # If we do not need a bucket yet (accounts for initializing) and this \n",
    "        # bucket is full then save the bucket and indicate we need a new bucket\n",
    "        if not need_bucket and this_bucket_count >= len(this_bucket):\n",
    "            all_buckets.append(this_bucket)\n",
    "            need_bucket = True\n",
    "        \n",
    "        # Create a bucket and fill it\n",
    "        if need_bucket:\n",
    "            if leftover > 0:    # IF there's a leftover add it to the bucket\n",
    "                this_bucket = [0] * (bucket_size+1)\n",
    "                leftover = leftover - 1\n",
    "            else:\n",
    "                this_bucket = [0] * bucket_size\n",
    "            need_bucket = False # We don't need a bucket at this point\n",
    "            this_bucket_count = 0 # No data in bucket yet\n",
    "                        \n",
    "        # Fill the bucket\n",
    "        this_bucket[this_bucket_count] = mylist[i]\n",
    "        this_bucket_count += 1\n",
    "        \n",
    "    # We never appending the last bucket. Do so now\n",
    "    all_buckets.append(this_bucket)\n",
    "    \n",
    "    # We filled all the buckets. Return them\n",
    "    return all_buckets\n",
    "    "
   ]
  },
  {
   "cell_type": "code",
   "execution_count": null,
   "id": "920723a4",
   "metadata": {},
   "outputs": [],
   "source": [
    "# Program to calculate exponential\n",
    "# moving average using formula\n",
    "  \n",
    "import numpy as np\n",
    " \n",
    "def exp_moving_average(arr):\n",
    "    x=0.07  # smoothening factor\n",
    "\n",
    "    i = 1\n",
    "    # Initialize an empty list to\n",
    "    # store exponential moving averages\n",
    "    moving_averages = []\n",
    "\n",
    "    # Insert first exponential average in the list\n",
    "    moving_averages.append(arr[0])\n",
    "\n",
    "    # Loop through the array elements\n",
    "    while i < len(arr):\n",
    "\n",
    "        # Calculate the exponential\n",
    "        # average by using the formula\n",
    "        window_average = round((x*arr[i])+\n",
    "                               (1-x)*moving_averages[-1], 2)\n",
    "\n",
    "        # Store the cumulative average\n",
    "        # of current window in moving average list\n",
    "        moving_averages.append(window_average)\n",
    "\n",
    "        # Shift window to right by one position\n",
    "        i += 1\n",
    "\n",
    "    return moving_averages"
   ]
  },
  {
   "cell_type": "code",
   "execution_count": null,
   "id": "b34a91bc",
   "metadata": {},
   "outputs": [],
   "source": [
    "def parm_distance(val):\n",
    "    myval = abs(val)\n",
    "    \n",
    "    # Divide by pi/2\n",
    "    whole = myval//(0.5*pi)\n",
    "    fraction = (myval/(0.5*pi))%1\n",
    "    \n",
    "    # Decide what value to return\n",
    "    if fraction > 0.5:\n",
    "        whole += 1\n",
    "        returnval = whole*0.5*pi - myval\n",
    "    else:\n",
    "        returnval = myval - whole*0.5*pi\n",
    "    \n",
    "    if val < 0:\n",
    "        whole = -whole\n",
    "    return [returnval, whole]"
   ]
  },
  {
   "cell_type": "code",
   "execution_count": null,
   "id": "5239b986",
   "metadata": {},
   "outputs": [],
   "source": [
    "# Get moving averages\n",
    "parm0_mov_avg = exp_moving_average(parm0)\n",
    "parm1_mov_avg = exp_moving_average(parm1)\n",
    "parm2_mov_avg = exp_moving_average(parm2)\n",
    "parm3_mov_avg = exp_moving_average(parm3)\n",
    "plt.plot(parm0_mov_avg, lw=2, label='Parm0')\n",
    "plt.plot(parm1_mov_avg, lw=2, label='Parm1')\n",
    "plt.plot(parm2_mov_avg, lw=2, label='Parm2')\n",
    "plt.plot(parm3_mov_avg, lw=2, label='Parm3')\n",
    "#plt.plot(penalty_list, color='green', lw=2, label='Penalty')\n",
    "plt.ylabel('Parm Value')\n",
    "plt.xlabel('Iterations')\n",
    "# Exact ground state energy value\n",
    "plt.title('Exponential Moving Average')\n",
    "plt.legend()\n",
    "plt.grid()\n",
    "plt.show()"
   ]
  },
  {
   "cell_type": "code",
   "execution_count": null,
   "id": "9d032bdb",
   "metadata": {},
   "outputs": [],
   "source": [
    "# Get moving averages\n",
    "parm4_mov_avg = exp_moving_average(parm4)\n",
    "parm5_mov_avg = exp_moving_average(parm5)\n",
    "parm6_mov_avg = exp_moving_average(parm6)\n",
    "parm7_mov_avg = exp_moving_average(parm7)\n",
    "plt.plot(parm4_mov_avg, lw=2, label='Parm4')\n",
    "plt.plot(parm5_mov_avg, lw=2, label='Parm5')\n",
    "plt.plot(parm6_mov_avg, lw=2, label='Parm6')\n",
    "plt.plot(parm7_mov_avg, lw=2, label='Parm7')\n",
    "#plt.plot(penalty_list, color='green', lw=2, label='Penalty')\n",
    "plt.ylabel('Parm Value')\n",
    "plt.xlabel('Iterations')\n",
    "# Exact ground state energy value\n",
    "plt.title('Exponential Moving Average')\n",
    "plt.legend()\n",
    "plt.grid()\n",
    "plt.show()"
   ]
  },
  {
   "cell_type": "code",
   "execution_count": null,
   "id": "80a3f0c5",
   "metadata": {},
   "outputs": [],
   "source": [
    "# Get moving averages\n",
    "parm8_mov_avg = exp_moving_average(parm8)\n",
    "parm9_mov_avg = exp_moving_average(parm9)\n",
    "parm10_mov_avg = exp_moving_average(parm10)\n",
    "parm11_mov_avg = exp_moving_average(parm11)\n",
    "plt.plot(parm8_mov_avg, lw=2, label='Parm8')\n",
    "plt.plot(parm9_mov_avg, lw=2, label='Parm9')\n",
    "plt.plot(parm10_mov_avg, lw=2, label='Parm10')\n",
    "plt.plot(parm11_mov_avg, lw=2, label='Parm11')\n",
    "#plt.plot(penalty_list, color='green', lw=2, label='Penalty')\n",
    "plt.ylabel('Parm Value')\n",
    "plt.xlabel('Iterations')\n",
    "# Exact ground state energy value\n",
    "plt.title('Exponential Moving Average')\n",
    "plt.legend()\n",
    "plt.grid()\n",
    "plt.show()"
   ]
  },
  {
   "cell_type": "code",
   "execution_count": null,
   "id": "6881ab9f",
   "metadata": {},
   "outputs": [],
   "source": [
    "# Get moving averages\n",
    "parm12_mov_avg = exp_moving_average(parm12)\n",
    "parm13_mov_avg = exp_moving_average(parm13)\n",
    "parm14_mov_avg = exp_moving_average(parm14)\n",
    "parm15_mov_avg = exp_moving_average(parm15)\n",
    "plt.plot(parm12_mov_avg, lw=2, label='Parm12')\n",
    "plt.plot(parm13_mov_avg, lw=2, label='Parm13')\n",
    "plt.plot(parm14_mov_avg, lw=2, label='Parm14')\n",
    "plt.plot(parm15_mov_avg, lw=2, label='Parm15')\n",
    "#plt.plot(penalty_list, color='green', lw=2, label='Penalty')\n",
    "plt.ylabel('Parm Value')\n",
    "plt.xlabel('Iterations')\n",
    "# Exact ground state energy value\n",
    "plt.title('Exponential Moving Average')\n",
    "plt.legend()\n",
    "plt.grid()\n",
    "plt.show()"
   ]
  },
  {
   "cell_type": "code",
   "execution_count": null,
   "id": "a20a2007",
   "metadata": {},
   "outputs": [],
   "source": [
    "# Get moving averages\n",
    "parm16_mov_avg = exp_moving_average(parm16)\n",
    "parm17_mov_avg = exp_moving_average(parm17)\n",
    "parm18_mov_avg = exp_moving_average(parm18)\n",
    "parm19_mov_avg = exp_moving_average(parm19)\n",
    "plt.plot(parm16_mov_avg, lw=2, label='Parm16')\n",
    "plt.plot(parm17_mov_avg, lw=2, label='Parm17')\n",
    "plt.plot(parm18_mov_avg, lw=2, label='Parm18')\n",
    "plt.plot(parm19_mov_avg, lw=2, label='Parm19')\n",
    "#plt.plot(penalty_list, color='green', lw=2, label='Penalty')\n",
    "plt.ylabel('Parm Value')\n",
    "plt.xlabel('Iterations')\n",
    "# Exact ground state energy value\n",
    "plt.title('Exponential Moving Average')\n",
    "plt.legend()\n",
    "plt.grid()\n",
    "plt.show()"
   ]
  },
  {
   "cell_type": "code",
   "execution_count": null,
   "id": "8e1565b4",
   "metadata": {
    "scrolled": false
   },
   "outputs": [],
   "source": [
    "# Get moving averages\n",
    "parm20_mov_avg = exp_moving_average(parm20)\n",
    "parm21_mov_avg = exp_moving_average(parm21)\n",
    "parm22_mov_avg = exp_moving_average(parm22)\n",
    "parm23_mov_avg = exp_moving_average(parm23)\n",
    "plt.plot(parm20_mov_avg, lw=2, label='Parm20')\n",
    "plt.plot(parm21_mov_avg, lw=2, label='Parm21')\n",
    "plt.plot(parm22_mov_avg, lw=2, label='Parm22')\n",
    "plt.plot(parm23_mov_avg, lw=2, label='Parm23')\n",
    "#plt.plot(penalty_list, color='green', lw=2, label='Penalty')\n",
    "plt.ylabel('Parm Value')\n",
    "plt.xlabel('Iterations')\n",
    "# Exact ground state energy value\n",
    "plt.title('Exponential Moving Average')\n",
    "plt.legend()\n",
    "plt.grid()\n",
    "plt.show()"
   ]
  },
  {
   "cell_type": "code",
   "execution_count": null,
   "id": "e5467daf",
   "metadata": {},
   "outputs": [],
   "source": [
    "tol = 0.1*(0.5*pi)\n",
    "index = -1\n",
    "all_parms0_11 = [parm0_mov_avg, parm1_mov_avg, parm2_mov_avg, parm3_mov_avg, \\\n",
    "                 parm4_mov_avg, parm5_mov_avg, parm6_mov_avg, parm7_mov_avg, \\\n",
    "                 parm8_mov_avg, parm9_mov_avg, parm10_mov_avg, parm11_mov_avg]\n",
    "all_parms12_23 = [parm12_mov_avg, parm13_mov_avg, parm14_mov_avg, parm15_mov_avg, \\\n",
    "                  parm16_mov_avg, parm17_mov_avg, parm18_mov_avg, parm19_mov_avg, \\\n",
    "                  parm20_mov_avg, parm21_mov_avg, parm22_mov_avg, parm23_mov_avg]\n",
    "\n",
    "all_dist = []\n",
    "all_mults = []\n",
    "\n",
    "for myparm in all_parms0_11:\n",
    "    dist_result = parm_distance(myparm[index])\n",
    "    all_dist.append(dist_result[0])\n",
    "    all_mults.append(dist_result[1])\n",
    "    if dist_result[0] > tol:\n",
    "        print('No Good!')\n",
    "    #print(dist_result[0])\n",
    "    #print(dist_result[1])\n",
    "for myparm in all_parms12_23:\n",
    "    dist_result = parm_distance(myparm[index])\n",
    "    all_dist.append(dist_result[0])\n",
    "    all_mults.append(dist_result[1])\n",
    "    if dist_result[0] > tol:\n",
    "        print('No Good!')\n",
    "    #print(dist_result[0])\n",
    "    #print(dist_result[1])\n",
    "print(all_dist)\n",
    "print(all_mults)"
   ]
  },
  {
   "cell_type": "code",
   "execution_count": null,
   "id": "d2af2ac4",
   "metadata": {},
   "outputs": [],
   "source": [
    "print(parm20_mov_avg[-1])\n",
    "parm_distance(parm20_mov_avg[-1])"
   ]
  },
  {
   "cell_type": "code",
   "execution_count": null,
   "id": "725873ff",
   "metadata": {},
   "outputs": [],
   "source": [
    "myoptimal_noisy_parms = [0.5*pi*factor for factor in all_mults]\n",
    "print(myoptimal_noisy_parms)"
   ]
  },
  {
   "cell_type": "markdown",
   "id": "c061f03a",
   "metadata": {},
   "source": [
    "## 3-2 Qiskit runtime Real backend (ibmq_guadalupe)\n",
    "\n",
    "If our `qiskit_ibm_runtime` code is working on the cloud simulator backend, we can simply change the backend to the ibmq_guadalupe to run on the real backend. This may take a couple hours. Your performance score will be determined by the calculated relative error between the true ground state energy of -18.0 and the measured energy from the real ibmq_guadalupe backend."
   ]
  },
  {
   "cell_type": "code",
   "execution_count": null,
   "id": "93318f60",
   "metadata": {},
   "outputs": [],
   "source": [
    "import mthree"
   ]
  },
  {
   "cell_type": "code",
   "execution_count": null,
   "id": "13b4c8ee",
   "metadata": {},
   "outputs": [],
   "source": [
    "service = QiskitRuntimeService(channel='ibm_quantum')\n",
    "\n",
    "backend = 'ibmq_guadalupe'"
   ]
  },
  {
   "cell_type": "code",
   "execution_count": null,
   "id": "89310382",
   "metadata": {},
   "outputs": [],
   "source": [
    "# Define a simple callback function\n",
    "intermediate_info_real_backend = []\n",
    "params_list_real_backend = []\n",
    "def callback_real(value, params):\n",
    "        intermediate_info_real_backend.append(value)\n",
    "        params_list_real_backend.append(params)"
   ]
  },
  {
   "cell_type": "code",
   "execution_count": null,
   "id": "4ecaf4b9",
   "metadata": {},
   "outputs": [],
   "source": [
    "# Select optimizer and iteration limit\n",
    "maxiter = 500"
   ]
  },
  {
   "cell_type": "code",
   "execution_count": null,
   "id": "02d56f35",
   "metadata": {},
   "outputs": [],
   "source": [
    "mit_q_layout = [0, 1, 2, 3, 5, 8, 6, 11, 14, 9, 13, 12, 10, 7, 4, 15]"
   ]
  },
  {
   "cell_type": "code",
   "execution_count": null,
   "id": "67216203",
   "metadata": {},
   "outputs": [],
   "source": [
    "mymit_backend = guadalupe # Actual guadalupe backend"
   ]
  },
  {
   "cell_type": "code",
   "execution_count": null,
   "id": "530ee13a",
   "metadata": {},
   "outputs": [],
   "source": [
    "import signal, time\n",
    "\n",
    "from qiskit_ibm_runtime import Sampler, Session\n",
    "from qiskit.providers import JobStatus\n",
    "\n",
    "def timeout_handler(signum, frame):\n",
    "    raise Exception('Iteration timed out')\n",
    "    \n",
    "class RetrySampler(Sampler):\n",
    "    \"\"\"RuntimeRetrySampler class.\n",
    "    \n",
    "    This class inherits from Qiskit IBM Runtime's Sampler and overwrites its run method such that it retries calling it\n",
    "    a maximum of 'max_retries' consecutive times, if it encounters one of the following randomly occuring errors:\n",
    "    \n",
    "    * A Sampler error (in this case \"Job.ERROR\" is printed, and the job is cancelled automatically)\n",
    "    * A timeout error where the job either remains running or completes but does not return anything, for a time larger \n",
    "      than 'timeout' (in this case the job is cancelled by the patch and \"Job.CANCELLED\" is printed)\n",
    "    * A creation error, where the job fails to be created because connection is lost between the runtime server and the\n",
    "      quantum computer (in this case \"Failed to create job.\" is printed). If this error occurs, the patch connects the user\n",
    "      to a new Session (to be handled with care! also, this will unfortunately put the next job in the queue). \n",
    "    \"\"\"\n",
    "    \n",
    "    def __init__(self, *args, max_retries: int = 10, timeout: int = 3600, **kwargs) -> None:\n",
    "        super().__init__(*args, **kwargs)\n",
    "        self.max_retries = max_retries\n",
    "        self.timeout = timeout\n",
    "        self.backend = super().session._backend\n",
    "        #signal.signal(signal.SIGALRM, timeout_handler)\n",
    "    \n",
    "    def run(self, circuits, **kwargs):\n",
    "        result = None\n",
    "        for i in range(self.max_retries):\n",
    "            try:\n",
    "                job = super().run(circuits, **kwargs)\n",
    "                while job.status() in [JobStatus.INITIALIZING, JobStatus.QUEUED, JobStatus.VALIDATING]:\n",
    "                    time.sleep(5) # Check every 5 seconds whether job status has changed\n",
    "                #signal.alarm(self.timeout) # Once job starts running, set timeout to 1 hour by default\n",
    "                result = job.result()\n",
    "                if result is not None:\n",
    "                    #signal.alarm(0) # reset timer\n",
    "                    return job\n",
    "            except Exception as e:\n",
    "                # Save off some information --> Gives us information as we go.\n",
    "                intermediate_info_real_backend_04112023 = intermediate_info_real_backend\n",
    "                params_list_real_backend_04112023 = params_list_real_backend\n",
    "                # Use magic\n",
    "                %store intermediate_info_real_backend_04112023\n",
    "                %store params_list_real_backend_04112023\n",
    "                # Handle the error\n",
    "                print(\"\\nSomething went wrong...\")\n",
    "                print(f\"\\n\\nERROR MESSAGE:\\n{e}\\n\\n\")\n",
    "                if 'job' in locals(): # Sometimes job fails to create\n",
    "                    print(f\"Job ID: {job.job_id}. Job status: {job.status()}.\")\n",
    "                    if job.status() not in [JobStatus.DONE, JobStatus.ERROR, JobStatus.CANCELLED]:\n",
    "                        job.cancel()\n",
    "                else:\n",
    "                    print(\"Failed to create job.\")\n",
    "                print(f\"Starting trial number {i+2}...\\n\")\n",
    "                print(f\"Creating new session...\\n\")\n",
    "                #signal.alarm(0) # reset timer\n",
    "                super().session.close()\n",
    "                self._session = Session(backend=self.backend)\n",
    "        if result is None:\n",
    "            raise RuntimeError(f\"Program failed! Maximum number of retries ({self.max_retries}) exceeded\")\n"
   ]
  },
  {
   "cell_type": "code",
   "execution_count": null,
   "id": "5932ae4e",
   "metadata": {},
   "outputs": [],
   "source": [
    "# Old estimator custom vqe. I use the sampler now for measurement error mitigation.\n",
    "\n",
    "## Setup Estimator with session error handling reconnection work around\n",
    "#start = time.time()\n",
    "#with Session(service=service, backend=backend) as session:\n",
    "#    # Prepare extended primitive\n",
    "#    rt_estimator = RetryEstimator(session=session)\n",
    "#    # set up algorithm\n",
    "#    custom_vqe = CustomVQE(rt_estimator, ansatz_opt, optimizer, callback=callback_real)\n",
    "#    # run algorithm\n",
    "#    result = custom_vqe.compute_minimum_eigenvalue(ham_16)\n",
    "#end = time.time()\n",
    "#print(f'execution time (s): {end - start:.2f}')"
   ]
  },
  {
   "cell_type": "code",
   "execution_count": null,
   "id": "7553512f",
   "metadata": {},
   "outputs": [],
   "source": [
    "# Set up optimizer\n",
    "optimizer = SPSA(maxiter=mymaxiter)"
   ]
  },
  {
   "cell_type": "code",
   "execution_count": null,
   "id": "04664145",
   "metadata": {},
   "outputs": [],
   "source": [
    "myintial_point = None\n",
    "# Setup Sampler\n",
    "start = time.time()\n",
    "with Session(service=service, backend=backend) as session:\n",
    "    # Create the m3 mitigation in the session\n",
    "    mit_backend = mthree.M3Mitigation(mymit_backend)\n",
    "    # Prepare primitive\n",
    "    rt_sampler = RetrySampler(session=session)\n",
    "    # Create the mitigation\n",
    "    mit_backend.cals_from_system(mit_q_layout)\n",
    "    # Set up algorithm\n",
    "    custom_vqe = CustomVQE_Sampler(rt_sampler, ansatz_opt, optimizer, q_layout, \\\n",
    "                                   mit_q_layout=mit_q_layout, m3_mit=mit_backend, \\\n",
    "                                   callback=callback_real, initial_point=myintial_point)    \n",
    "    # run algorithm\n",
    "    result = custom_vqe.compute_minimum_eigenvalue(Z_16)\n",
    "end = time.time()\n",
    "print(f'execution time (s): {end - start:.2f}')\n",
    "\n",
    "# Error message is usually RuntimeJobFailureError"
   ]
  },
  {
   "cell_type": "code",
   "execution_count": null,
   "id": "e25153d0",
   "metadata": {},
   "outputs": [],
   "source": [
    "plt.plot(intermediate_info_real_backend, color='purple', lw=2, label='VQE')\n",
    "plt.ylabel('Energy')\n",
    "plt.xlabel('Iterations')\n",
    "plt.axhline(y=gs_energy, color=\"tab:red\", ls=\"--\", lw=2, label=\"Target: \" + str(gs_energy))\n",
    "plt.legend()\n",
    "plt.grid()\n",
    "plt.show()"
   ]
  },
  {
   "cell_type": "markdown",
   "id": "b13205ac",
   "metadata": {},
   "source": [
    "## 3-3 Performance Score\n",
    "Compute the relative error between the expected ground state energy and the VQE result."
   ]
  },
  {
   "cell_type": "code",
   "execution_count": null,
   "id": "0649cc75",
   "metadata": {},
   "outputs": [],
   "source": [
    "# Compute the relative error between the expected ground state energy and the measured\n",
    "computed_gse = intermediate_info_real_backend[-1]\n",
    "\n",
    "print(f'Expected ground state energy: {gs_energy:.8f}')\n",
    "print(f'Computed ground state energy: {computed_gse:.8f}')\n",
    "print(f'Relative error: {100 * rel_err(gs_energy, computed_gse):.8f} %')"
   ]
  },
  {
   "cell_type": "markdown",
   "id": "ae2c52d0",
   "metadata": {},
   "source": [
    "## 4-1 Expectation Values from Sampler\n",
    "Use a calibration matrix and see if it produces better results. Apply it to the Hamiltonian."
   ]
  },
  {
   "cell_type": "code",
   "execution_count": null,
   "id": "d3ddee20",
   "metadata": {},
   "outputs": [],
   "source": [
    "from qiskit import QuantumCircuit, QuantumRegister, Aer, transpile, assemble\n",
    "from qiskit.visualization import array_to_latex"
   ]
  },
  {
   "cell_type": "markdown",
   "id": "8bf57503",
   "metadata": {},
   "source": [
    "#### Example of M3 -- Calculate Expecation Value from Counts"
   ]
  },
  {
   "cell_type": "code",
   "execution_count": null,
   "id": "3207c7d7",
   "metadata": {},
   "outputs": [],
   "source": [
    "##########################################################\n",
    "#      DELETE LATER!!!!                                  #\n",
    "##########################################################\n",
    "import numpy as np\n",
    "from qiskit import *\n",
    "import mthree"
   ]
  },
  {
   "cell_type": "markdown",
   "id": "2e82f87a",
   "metadata": {},
   "source": [
    "### Expectation Value from the Estimator Primitive"
   ]
  },
  {
   "cell_type": "code",
   "execution_count": null,
   "id": "361d2118",
   "metadata": {},
   "outputs": [],
   "source": [
    "# Get the optimal parameters from an ideal sampler run\n",
    "optimal_parameters = [ [-2.10613900e-03,  1.55408086e+00], \\\n",
    "                       [-9.67207287e-03, -1.53161721e+00], \\\n",
    "                       [-3.92545968e-02,  1.50280052e+00], \\\n",
    "                       [ 3.11831766e+00,  1.53385887e+00], \\\n",
    "                       [ 1.02886602e-02,  1.50171506e+00], \\\n",
    "                       [-4.45586989e-02, -1.53171757e+00], \\\n",
    "                       [ 1.53339082e-02,  4.90169015e-03], \\\n",
    "                       [ 1.56091517e+00, -1.74654711e-02], \\\n",
    "                       [-1.58644219e+00, -1.57206412e+00], \\\n",
    "                       [ 3.13870884e+00, -1.58844770e+00], \\\n",
    "                       [ 1.73282373e-02, -1.58503502e+00], \\\n",
    "                       [-4.73448953e-02,  1.57903999e+00] ]\n",
    "\n",
    "# Get the optimal parameters for the entire circuit\n",
    "myoptimal = [item for sublist in optimal_parameters for item in sublist]\n",
    "\n",
    "# Set optimal to the optimal parameters found with the noisy simulator \n",
    "#myoptimal = myoptimal_noisy_parms"
   ]
  },
  {
   "cell_type": "code",
   "execution_count": null,
   "id": "60b828b6",
   "metadata": {},
   "outputs": [],
   "source": [
    "# Build some more operators to run error mitigation on\n",
    "# Build Z-Symmetry opterator\n",
    "Z_16 = 4 * log_mapper.map(heis_16.z_symmetry_ops().simplify())\n",
    "\n",
    "# Build Y-Symmetry opterator\n",
    "Y_16 = 4 * log_mapper.map(heis_16.y_symmetry_ops().simplify())\n",
    "\n",
    "# Build X-Symmetry opterator\n",
    "X_16 = 4 * log_mapper.map(heis_16.x_symmetry_ops().simplify())"
   ]
  },
  {
   "cell_type": "code",
   "execution_count": null,
   "id": "1fe01b39",
   "metadata": {
    "scrolled": true
   },
   "outputs": [],
   "source": [
    "# Run a VQE session that tries to rotate correction factors\n",
    "# so the optimal point under noisy conditions is closer to \n",
    "# the optimal point under ideal conditions.\n",
    "\n",
    "# Get the optimal parameters for the entire circuit\n",
    "#myoptimal = [item for sublist in optimal_parameters for item in sublist]\n",
    "\n",
    "# Bind the parameters to the ansatz compiled circuit\n",
    "myansatz = ansatz_opt.bind_parameters(myoptimal)\n",
    "#myansatz = ansatz_opt.bind_parameters(noisy_optimal_parameters)\n",
    "\n",
    "# View the compiled circuit\n",
    "print('number and type of gates in the cirucit:', myansatz.count_ops())\n",
    "print('number of parameters in the circuit:', myansatz.num_parameters)\n",
    "#myansatz.draw(fold=300)"
   ]
  },
  {
   "cell_type": "code",
   "execution_count": null,
   "id": "cfbefde0",
   "metadata": {
    "scrolled": true
   },
   "outputs": [],
   "source": [
    "# Try the full circuit with all of the optimal points.\n",
    "# Run the circuit through estimator under ideal conditions\n",
    "estimator = Estimator()\n",
    "\n",
    "# Run sampler\n",
    "job_est = estimator.run(\n",
    "    circuits=[myansatz, myansatz, myansatz, myansatz],\n",
    "    observables=[ham_16, Z_16, Y_16, X_16])\n",
    "job_est_result = job_est.result()\n",
    "myvalue = job_est_result.values[0]\n",
    "print('Ideal Conditions. Optimal Points = ' + str(myvalue))\n",
    "\n",
    "# Save off the estimator values as benchmarks for the following tests\n",
    "val_benchmark = job_est_result.values[0]\n",
    "Z_val_benchmark = job_est_result.values[1]\n",
    "Y_val_benchmark = job_est_result.values[2]\n",
    "X_val_benchmark = job_est_result.values[3]\n",
    "\n",
    "# Print results\n",
    "print('Total Expectation Value: ' + str(val_benchmark))\n",
    "print('Z_16 Expectation Value: ' + str(Z_val_benchmark))\n",
    "print('Y_16 Expectation Value: ' + str(Y_val_benchmark))\n",
    "print('X_16 Expectation Value: ' + str(X_val_benchmark))"
   ]
  },
  {
   "cell_type": "markdown",
   "id": "a0d032a8",
   "metadata": {},
   "source": [
    "### M3 Expectation Value of Ideal Sampler"
   ]
  },
  {
   "cell_type": "code",
   "execution_count": null,
   "id": "3b232399",
   "metadata": {},
   "outputs": [],
   "source": [
    "myansatz_X = myansatz.copy()"
   ]
  },
  {
   "cell_type": "code",
   "execution_count": null,
   "id": "6ceb6881",
   "metadata": {},
   "outputs": [],
   "source": [
    "# Iterate through the q_layout, adding H gates to circuit\n",
    "for q in q_layout:\n",
    "    myansatz_X.h(q)"
   ]
  },
  {
   "cell_type": "code",
   "execution_count": null,
   "id": "f82c6466",
   "metadata": {},
   "outputs": [],
   "source": [
    "#myansatz_X.draw()"
   ]
  },
  {
   "cell_type": "code",
   "execution_count": null,
   "id": "0cf13021",
   "metadata": {},
   "outputs": [],
   "source": [
    "myansatz_Y = myansatz.copy()"
   ]
  },
  {
   "cell_type": "code",
   "execution_count": null,
   "id": "286288b8",
   "metadata": {},
   "outputs": [],
   "source": [
    "# Iterate through the q_layout, adding S_dagger and H gates to circuit\n",
    "for q in q_layout:\n",
    "    myansatz_Y.sdg(q)\n",
    "    myansatz_Y.h(q)"
   ]
  },
  {
   "cell_type": "code",
   "execution_count": null,
   "id": "5b75a9a6",
   "metadata": {},
   "outputs": [],
   "source": [
    "#myansatz_Y.draw()"
   ]
  },
  {
   "cell_type": "markdown",
   "id": "69b98a5b",
   "metadata": {},
   "source": [
    "#### Get Z Expectation Value"
   ]
  },
  {
   "cell_type": "code",
   "execution_count": null,
   "id": "58740864",
   "metadata": {},
   "outputs": [],
   "source": [
    "# Run for Z expectation values\n",
    "# Sampler runs a job on the parameterized circuits\n",
    "sampler = Sampler()\n",
    "ansatz_measure_Z = myansatz.measure_all(inplace=False)\n",
    "#ansatz_measure.draw()\n",
    "\n",
    "job_viewcounts = sampler.run(circuits=[ansatz_measure_Z])\n",
    "job_result = job_viewcounts.result()\n",
    "binary_probs = [q.binary_probabilities() for q in job_result.quasi_dists]"
   ]
  },
  {
   "cell_type": "code",
   "execution_count": null,
   "id": "5b9a3682",
   "metadata": {},
   "outputs": [],
   "source": [
    "#myraw = mynew_counts\n",
    "myraw_ideal = binary_probs[0]"
   ]
  },
  {
   "cell_type": "code",
   "execution_count": null,
   "id": "7ae6004d",
   "metadata": {},
   "outputs": [],
   "source": [
    "quasi_ideal = mthree.classes.QuasiDistribution(myraw_ideal)"
   ]
  },
  {
   "cell_type": "code",
   "execution_count": null,
   "id": "3dd62ece",
   "metadata": {},
   "outputs": [],
   "source": [
    "# Create a function that takes a hamiltonian. Preferably the [type of whatever Z_16 is GARRETT!!!]\n",
    "# and a mthree quasi dictionary and returns the expectation value.\n",
    "def expval_from_pauli_sum(hamiltonian, m3_quasi):\n",
    "    ham = hamiltonian.primitive.paulis.to_labels()\n",
    "    myval = 0\n",
    "\n",
    "    # Loop through the labels calculating expectation of each one\n",
    "    for pauli_str in ham:\n",
    "        mytempval = m3_quasi.expval(pauli_str)\n",
    "        #print('<'+pauli_str+'> = ' + str(mytempval))\n",
    "        myval += mytempval\n",
    "\n",
    "    return myval"
   ]
  },
  {
   "cell_type": "code",
   "execution_count": null,
   "id": "c3b81f03",
   "metadata": {
    "scrolled": true
   },
   "outputs": [],
   "source": [
    "# Get the expectation value of the ideal counts\n",
    "ideal_val_Z = expval_from_pauli_sum(Z_16, quasi_ideal)\n",
    "print('Ideal <Z_16> = ' + str(ideal_val_Z))"
   ]
  },
  {
   "cell_type": "markdown",
   "id": "77171545",
   "metadata": {},
   "source": [
    "#### Get X Expectation Value"
   ]
  },
  {
   "cell_type": "code",
   "execution_count": null,
   "id": "b0e8d9fb",
   "metadata": {},
   "outputs": [],
   "source": [
    "# Run for X expectation values\n",
    "# Sampler runs a job on the parameterized circuits for the X expectation value\n",
    "sampler = Sampler()\n",
    "ansatz_measure_X = myansatz_X.measure_all(inplace=False)\n",
    "#ansatz_measure_X.draw()\n",
    "\n",
    "job_viewcounts = sampler.run(circuits=[ansatz_measure_X])\n",
    "job_result = job_viewcounts.result()\n",
    "binary_probs = [q.binary_probabilities() for q in job_result.quasi_dists]"
   ]
  },
  {
   "cell_type": "code",
   "execution_count": null,
   "id": "99db106c",
   "metadata": {},
   "outputs": [],
   "source": [
    "#myraw = mynew_counts\n",
    "myraw_ideal = binary_probs[0]"
   ]
  },
  {
   "cell_type": "code",
   "execution_count": null,
   "id": "0a1f9969",
   "metadata": {},
   "outputs": [],
   "source": [
    "quasi_ideal = mthree.classes.QuasiDistribution(myraw_ideal)"
   ]
  },
  {
   "cell_type": "code",
   "execution_count": null,
   "id": "80e6e3cf",
   "metadata": {
    "scrolled": true
   },
   "outputs": [],
   "source": [
    "# Get the expectation value of the ideal counts\n",
    "ideal_val_X = expval_from_pauli_sum(Z_16, quasi_ideal)\n",
    "print('Ideal <X_16> = ' + str(ideal_val_X))"
   ]
  },
  {
   "cell_type": "markdown",
   "id": "ea49cc7d",
   "metadata": {},
   "source": [
    "#### Get Y Expectation Value"
   ]
  },
  {
   "cell_type": "code",
   "execution_count": null,
   "id": "76ae5992",
   "metadata": {},
   "outputs": [],
   "source": [
    "# Run for Y expectation values\n",
    "# Sampler runs a job on the parameterized circuits for the X expectation value\n",
    "sampler = Sampler()\n",
    "ansatz_measure_Y = myansatz_Y.measure_all(inplace=False)\n",
    "#ansatz_measure_Y.draw()\n",
    "\n",
    "job_viewcounts = sampler.run(circuits=[ansatz_measure_Y])\n",
    "job_result = job_viewcounts.result()\n",
    "binary_probs = [q.binary_probabilities() for q in job_result.quasi_dists]"
   ]
  },
  {
   "cell_type": "code",
   "execution_count": null,
   "id": "86311b8e",
   "metadata": {},
   "outputs": [],
   "source": [
    "#myraw = mynew_counts\n",
    "myraw_ideal = binary_probs[0]"
   ]
  },
  {
   "cell_type": "code",
   "execution_count": null,
   "id": "c81b338a",
   "metadata": {},
   "outputs": [],
   "source": [
    "quasi_ideal = mthree.classes.QuasiDistribution(myraw_ideal)"
   ]
  },
  {
   "cell_type": "code",
   "execution_count": null,
   "id": "7cd112f1",
   "metadata": {
    "scrolled": true
   },
   "outputs": [],
   "source": [
    "# Get the expectation value of the ideal counts\n",
    "ideal_val_Y = expval_from_pauli_sum(Z_16, quasi_ideal)\n",
    "print('Ideal <Y_16> = ' + str(ideal_val_Y))"
   ]
  },
  {
   "cell_type": "markdown",
   "id": "d3de69d6",
   "metadata": {},
   "source": [
    "### M3 Expectation Value of Noisy Sampler"
   ]
  },
  {
   "cell_type": "markdown",
   "id": "8fb6167b",
   "metadata": {},
   "source": [
    "#### Get Z Expectation Value"
   ]
  },
  {
   "cell_type": "code",
   "execution_count": null,
   "id": "dd7ccbb0",
   "metadata": {},
   "outputs": [],
   "source": [
    "noisy_backend = FakeGuadalupe()"
   ]
  },
  {
   "cell_type": "code",
   "execution_count": null,
   "id": "48ba804d",
   "metadata": {},
   "outputs": [],
   "source": [
    "# print available backend and select one\n",
    "print('Simulators:', service.backends(simulator=True))\n",
    "\n",
    "# Select a simulator backend\n",
    "backend = 'ibmq_guadalupe'\n",
    "\n",
    "#noise model based on real machine\n",
    "guadalupe_noise_model = NoiseModel.from_backend(guadalupe)"
   ]
  },
  {
   "cell_type": "code",
   "execution_count": null,
   "id": "a7f905ca",
   "metadata": {},
   "outputs": [],
   "source": [
    "# Run the circuit through the estimator under noisy conditions.\n",
    "# Select the Qiskit Runtime options\n",
    "service = QiskitRuntimeService()\n",
    "mit_options = Options()\n",
    "mit_options.simulator.noise_model = guadalupe_noise_model\n",
    "\n",
    "# Run the circuit through sampler with noisy conditions\n",
    "with Session(service=service, backend=backend) as session:\n",
    "    # Prepare primitive\n",
    "    sampler = RuntimeSampler(session=session, options=mit_options)\n",
    "    # Run sampler\n",
    "    job_viewcounts = sampler.run(circuits=[ansatz_measure_Z])\n",
    "    job_result = job_viewcounts.result()\n",
    "    binary_probs = [q.binary_probabilities() for q in job_result.quasi_dists]"
   ]
  },
  {
   "cell_type": "code",
   "execution_count": null,
   "id": "5bb22e3a",
   "metadata": {},
   "outputs": [],
   "source": [
    "#myraw = mynew_counts\n",
    "myraw = binary_probs[0]"
   ]
  },
  {
   "cell_type": "code",
   "execution_count": null,
   "id": "4f810127",
   "metadata": {
    "scrolled": true
   },
   "outputs": [],
   "source": [
    "mit_q_layout = [0, 1, 2, 3, 5, 8, 6, 11, 14, 9, 13, 12, 10, 7, 4, 15]"
   ]
  },
  {
   "cell_type": "code",
   "execution_count": null,
   "id": "cf3253e4",
   "metadata": {},
   "outputs": [],
   "source": [
    "# Use the M3 package to calculate the expectation value of from the above counts\n",
    "mit_guadalupe = mthree.M3Mitigation(noisy_backend)\n",
    "mit_guadalupe.cals_from_system(mit_q_layout)\n",
    "\n",
    "quasi_guadalupe_Z = mit_guadalupe.apply_correction(counts=myraw, qubits=mit_q_layout)\n",
    "quasi_guadalupe_nomit_Z = mthree.classes.QuasiDistribution(myraw)"
   ]
  },
  {
   "cell_type": "code",
   "execution_count": null,
   "id": "ca2770e5",
   "metadata": {},
   "outputs": [],
   "source": [
    "# Get the expectation value of the mitigated guadalupe counts\n",
    "guadalupe_mit_val_Z = expval_from_pauli_sum(Z_16, quasi_guadalupe_Z)\n",
    "print('Mitigated   <Z_16> = ' + str(guadalupe_mit_val_Z))\n",
    "\n",
    "# Get the expectation value of the unmitigated guadalupe counts\n",
    "guadalupe_val_Z = expval_from_pauli_sum(Z_16, quasi_guadalupe_nomit_Z)\n",
    "print('Unmitigated <Z_16> = ' + str(guadalupe_val_Z))"
   ]
  },
  {
   "cell_type": "markdown",
   "id": "90d22a28",
   "metadata": {},
   "source": [
    "#### Get X Expectation Value"
   ]
  },
  {
   "cell_type": "code",
   "execution_count": null,
   "id": "71a9ae66",
   "metadata": {},
   "outputs": [],
   "source": [
    "# Run the circuit through the estimator under noisy conditions.\n",
    "# Select the Qiskit Runtime options\n",
    "service = QiskitRuntimeService()\n",
    "mit_options = Options()\n",
    "mit_options.simulator.noise_model = guadalupe_noise_model\n",
    "\n",
    "# Run the circuit through sampler with noisy conditions\n",
    "with Session(service=service, backend=backend) as session:\n",
    "    # Prepare primitive\n",
    "    sampler = RuntimeSampler(session=session, options=mit_options)\n",
    "    # Run sampler\n",
    "    job_viewcounts = sampler.run(circuits=[ansatz_measure_X])\n",
    "    job_result = job_viewcounts.result()\n",
    "    binary_probs = [q.binary_probabilities() for q in job_result.quasi_dists]"
   ]
  },
  {
   "cell_type": "code",
   "execution_count": null,
   "id": "67dcc8a2",
   "metadata": {},
   "outputs": [],
   "source": [
    "#myraw = mynew_counts\n",
    "myraw = binary_probs[0]"
   ]
  },
  {
   "cell_type": "code",
   "execution_count": null,
   "id": "59d05562",
   "metadata": {
    "scrolled": true
   },
   "outputs": [],
   "source": [
    "mit_q_layout = [0, 1, 2, 3, 5, 8, 6, 11, 14, 9, 13, 12, 10, 7, 4, 15]"
   ]
  },
  {
   "cell_type": "code",
   "execution_count": null,
   "id": "8d5ddb38",
   "metadata": {},
   "outputs": [],
   "source": [
    "## Use the M3 package to calculate the expectation value of from the above counts\n",
    "#mit_guadalupe = mthree.M3Mitigation(noisy_backend)\n",
    "#mit_guadalupe.cals_from_system(mit_q_layout)\n",
    "\n",
    "quasi_guadalupe_X = mit_guadalupe.apply_correction(counts=myraw, qubits=mit_q_layout)\n",
    "quasi_guadalupe_nomit_X = mthree.classes.QuasiDistribution(myraw)"
   ]
  },
  {
   "cell_type": "code",
   "execution_count": null,
   "id": "09275906",
   "metadata": {},
   "outputs": [],
   "source": [
    "# Get the expectation value of the mitigated guadalupe counts\n",
    "guadalupe_mit_val_X = expval_from_pauli_sum(Z_16, quasi_guadalupe_X)\n",
    "print('Mitigated   <X_16> = ' + str(guadalupe_mit_val_X))\n",
    "\n",
    "# Get the expectation value of the unmitigated guadalupe counts\n",
    "guadalupe_val_X = expval_from_pauli_sum(Z_16, quasi_guadalupe_nomit_X)\n",
    "print('Unmitigated <X_16> = ' + str(guadalupe_val_X))"
   ]
  },
  {
   "cell_type": "markdown",
   "id": "b9aed46d",
   "metadata": {},
   "source": [
    "#### Get Y Expectation Value"
   ]
  },
  {
   "cell_type": "code",
   "execution_count": null,
   "id": "40deb7bf",
   "metadata": {},
   "outputs": [],
   "source": [
    "# Run the circuit through the estimator under noisy conditions.\n",
    "# Select the Qiskit Runtime options\n",
    "service = QiskitRuntimeService()\n",
    "mit_options = Options()\n",
    "mit_options.simulator.noise_model = guadalupe_noise_model\n",
    "\n",
    "# Run the circuit through sampler with noisy conditions\n",
    "with Session(service=service, backend=backend) as session:\n",
    "    # Prepare primitive\n",
    "    sampler = RuntimeSampler(session=session, options=mit_options)\n",
    "    # Run sampler\n",
    "    job_viewcounts = sampler.run(circuits=[ansatz_measure_Y])\n",
    "    job_result = job_viewcounts.result()\n",
    "    binary_probs = [q.binary_probabilities() for q in job_result.quasi_dists]"
   ]
  },
  {
   "cell_type": "code",
   "execution_count": null,
   "id": "5fa3ab2b",
   "metadata": {},
   "outputs": [],
   "source": [
    "#myraw = mynew_counts\n",
    "myraw = binary_probs[0]"
   ]
  },
  {
   "cell_type": "code",
   "execution_count": null,
   "id": "6b698681",
   "metadata": {
    "scrolled": true
   },
   "outputs": [],
   "source": [
    "mit_q_layout = [0, 1, 2, 3, 5, 8, 6, 11, 14, 9, 13, 12, 10, 7, 4, 15]"
   ]
  },
  {
   "cell_type": "code",
   "execution_count": null,
   "id": "bfe7b99f",
   "metadata": {},
   "outputs": [],
   "source": [
    "## Use the M3 package to calculate the expectation value of from the above counts\n",
    "#mit_guadalupe = mthree.M3Mitigation(noisy_backend)\n",
    "#mit_guadalupe.cals_from_system(mit_q_layout)\n",
    "\n",
    "quasi_guadalupe_Y = mit_guadalupe.apply_correction(counts=myraw, qubits=mit_q_layout)\n",
    "quasi_guadalupe_nomit_Y = mthree.classes.QuasiDistribution(myraw)"
   ]
  },
  {
   "cell_type": "code",
   "execution_count": null,
   "id": "b86dfe23",
   "metadata": {},
   "outputs": [],
   "source": [
    "# Get the expectation value of the mitigated guadalupe counts\n",
    "guadalupe_mit_val_Y = expval_from_pauli_sum(Z_16, quasi_guadalupe_Y)\n",
    "print('Mitigated   <Y_16> = ' + str(guadalupe_mit_val_Y))\n",
    "\n",
    "# Get the expectation value of the unmitigated guadalupe counts\n",
    "guadalupe_val_Y = expval_from_pauli_sum(Z_16, quasi_guadalupe_nomit_Y)\n",
    "print('Unmitigated <Y_16> = ' + str(guadalupe_val_Y))"
   ]
  },
  {
   "cell_type": "markdown",
   "id": "d63cb9d6",
   "metadata": {},
   "source": [
    "### Comparison of Expectation Values"
   ]
  },
  {
   "cell_type": "code",
   "execution_count": null,
   "id": "f7bb26cc",
   "metadata": {
    "scrolled": false
   },
   "outputs": [],
   "source": [
    "print('Relative Error of Z Expectation Value')\n",
    "print('-----------------------------------------------')\n",
    "print('Ideal Sampler             : ' + str(round(rel_err(Z_val_benchmark, ideal_val_Z)*100, 4)) + '    %')\n",
    "print('Unmitigated Noisy Sampler : ' + str(round(rel_err(Z_val_benchmark, guadalupe_val_Z)*100, 4)) + ' %')\n",
    "print('Mitigated Noisy Sampler   : ' + str(round(rel_err(Z_val_benchmark, guadalupe_mit_val_Z)*100, 4)) + ' %')"
   ]
  },
  {
   "cell_type": "code",
   "execution_count": null,
   "id": "8ce9bd39",
   "metadata": {},
   "outputs": [],
   "source": [
    "print('Relative Error of X Expectation Value')\n",
    "print('-----------------------------------------------')\n",
    "print('Ideal Sampler             : ' + str(round(rel_err(X_val_benchmark, ideal_val_X)*100, 4)) + '    %')\n",
    "print('Unmitigated Noisy Sampler : ' + str(round(rel_err(X_val_benchmark, guadalupe_val_X)*100, 4)) + ' %')\n",
    "print('Mitigated Noisy Sampler   : ' + str(round(rel_err(X_val_benchmark, guadalupe_mit_val_X)*100, 4)) + ' %')"
   ]
  },
  {
   "cell_type": "code",
   "execution_count": null,
   "id": "61c8d3e2",
   "metadata": {},
   "outputs": [],
   "source": [
    "print('Relative Error of Y Expectation Value')\n",
    "print('-----------------------------------------------')\n",
    "print('Ideal Sampler             : ' + str(round(rel_err(Y_val_benchmark, ideal_val_Y)*100, 4)) + '    %')\n",
    "print('Unmitigated Noisy Sampler : ' + str(round(rel_err(Y_val_benchmark, guadalupe_val_Y)*100, 4)) + ' %')\n",
    "print('Mitigated Noisy Sampler   : ' + str(round(rel_err(Y_val_benchmark, guadalupe_mit_val_Y)*100, 4)) + ' %')"
   ]
  },
  {
   "cell_type": "code",
   "execution_count": null,
   "id": "cc6f2270",
   "metadata": {},
   "outputs": [],
   "source": [
    "tot_ideal_val = ideal_val_Z + ideal_val_X + ideal_val_Y\n",
    "tot_guad_val = guadalupe_val_Z + guadalupe_val_X + guadalupe_val_Y\n",
    "tot_guad_mit_val = guadalupe_mit_val_Z + guadalupe_mit_val_X + guadalupe_mit_val_Y\n",
    "\n",
    "print('Relative Error of Total Expectation Value')\n",
    "print('-----------------------------------------------')\n",
    "print('Ideal Sampler             : ' + str(round(rel_err(val_benchmark, tot_ideal_val)*100, 4)) + '    %')\n",
    "print('Unmitigated Noisy Sampler : ' + str(round(rel_err(val_benchmark, tot_guad_val)*100, 4)) + ' %')\n",
    "print('Mitigated Noisy Sampler   : ' + str(round(rel_err(val_benchmark, tot_guad_mit_val)*100, 4)) + ' %')"
   ]
  },
  {
   "cell_type": "code",
   "execution_count": null,
   "id": "d45d841a",
   "metadata": {},
   "outputs": [],
   "source": [
    "print(tot_ideal_val)\n",
    "print(tot_guad_val)\n",
    "print(tot_guad_mit_val)\n",
    "\n",
    "# The Y value is the issue ... maybe the S-dagger is noisy."
   ]
  },
  {
   "cell_type": "code",
   "execution_count": null,
   "id": "678b3570",
   "metadata": {},
   "outputs": [],
   "source": [
    "def check_correlation(my_dist, q1, q2):\n",
    "    # Check the conditional probabilities of q1 on q2\n",
    "    # Calculate P(q1=|0> | q2=|0>), P(q1=|1> | q2=|0>), P(q1=|0> | q2=|1>), and P(q1=|1> | q2=|1>)\n",
    "    \n",
    "    # Setup probability array\n",
    "    denominator = [0, 0]        # Denominator of conditional probability \n",
    "    numerator = [0, 0, 0, 0]    # Numerator of conditional probability\n",
    "    cond_prob = [0, 0, 0, 0]    # [P(|0> | |0>), P(|1> | |0>), P(|0> | |1>), P(|1> | |1>)]\n",
    "    \n",
    "    # Loop through every element in the distribution\n",
    "    for binkey in my_dist:\n",
    "        # Get q1 and q2 value\n",
    "        q1_val = binkey[q1]\n",
    "        q2_val = binkey[q2]\n",
    "        \n",
    "        # Check conditionals\n",
    "        if q2_val == '0':   # q2 is |0>\n",
    "            denominator[0] += my_dist[binkey]         # q2 was zero \n",
    "            numerator[int(q1_val)] += my_dist[binkey] # Place in either position 0 or 1\n",
    "\n",
    "        else: # q2 is |1>\n",
    "            denominator[1] += my_dist[binkey]           #q2 was one\n",
    "            numerator[int(q1_val)+2] += my_dist[binkey] # Place in either position 2 or 3\n",
    "    \n",
    "    # Calculate the conditional probabilities\n",
    "    cond_prob[0] = numerator[0]/denominator[0] # P(0|0)\n",
    "    cond_prob[1] = numerator[1]/denominator[0] # P(1|0)\n",
    "    cond_prob[2] = numerator[2]/denominator[1] # P(0|1)\n",
    "    cond_prob[3] = numerator[3]/denominator[1] # P(1|1)\n",
    "    \n",
    "    return cond_prob\n",
    "    "
   ]
  },
  {
   "cell_type": "code",
   "execution_count": null,
   "id": "eb051485",
   "metadata": {},
   "outputs": [],
   "source": [
    "print(q_layout)"
   ]
  },
  {
   "cell_type": "code",
   "execution_count": null,
   "id": "60ce652d",
   "metadata": {
    "scrolled": true
   },
   "outputs": [],
   "source": [
    "my_q1 = 0\n",
    "my_q2 = 1\n",
    "\n",
    "# Ideal\n",
    "cond_01 = check_correlation(quasi_ideal, q_layout[my_q1], q_layout[my_q2])\n",
    "cond_10 = check_correlation(quasi_ideal, q_layout[my_q2], q_layout[my_q1])\n",
    "\n",
    "print('Conditional q0 given q1')\n",
    "print(cond_01)\n",
    "print('Conditional q1 given q0')\n",
    "print(cond_10)\n",
    "\n",
    "# Guadalupe mitigation\n",
    "cond_01 = check_correlation(quasi_guadalupe_Y, q_layout[my_q1], q_layout[my_q2])\n",
    "cond_10 = check_correlation(quasi_guadalupe_Y, q_layout[my_q2], q_layout[my_q1])\n",
    "\n",
    "print('Mitigated Conditional q0 given q1')\n",
    "print(cond_01)\n",
    "print('Mitigated Conditional q1 given q0')\n",
    "print(cond_10)\n",
    "\n",
    "# Guadalupe no mitigation\n",
    "cond_01 = check_correlation(quasi_guadalupe_nomit_Y, q_layout[my_q1], q_layout[my_q2])\n",
    "cond_10 = check_correlation(quasi_guadalupe_nomit_Y, q_layout[my_q2], q_layout[my_q1])\n",
    "\n",
    "print('No Mitigation Conditional q0 given q1')\n",
    "print(cond_01)\n",
    "print('No Mitigation Conditional q1 given q0')\n",
    "print(cond_10)"
   ]
  },
  {
   "cell_type": "code",
   "execution_count": null,
   "id": "bf1babc2",
   "metadata": {},
   "outputs": [],
   "source": [
    "def all_correlations():\n",
    "    "
   ]
  },
  {
   "cell_type": "code",
   "execution_count": null,
   "id": "72519e34",
   "metadata": {},
   "outputs": [],
   "source": [
    "cond_0 = check_correlation(quasi_ideal, q_layout[0], q_layout[2])\n",
    "cond_1 = check_correlation(quasi_ideal, q_layout[2], q_layout[0])\n",
    "\n",
    "print('Conditional q0 given q2')\n",
    "print(cond_0)\n",
    "print('Conditional q2 given q0')\n",
    "print(cond_1)"
   ]
  },
  {
   "cell_type": "markdown",
   "id": "9b428dd7",
   "metadata": {},
   "source": [
    "## 4-2 Mitiq Error Correction Techniques\n",
    "Use Mitiq open source software platform to try and improve the noise of the simulation. Start with the some near optimal points found by the ideal simulator and try to approach that expectation value.\n"
   ]
  },
  {
   "cell_type": "code",
   "execution_count": null,
   "id": "08c80b68",
   "metadata": {},
   "outputs": [],
   "source": [
    "# Import mitiq tools\n",
    "from mitiq import zne"
   ]
  },
  {
   "cell_type": "code",
   "execution_count": null,
   "id": "49a945c4",
   "metadata": {},
   "outputs": [],
   "source": [
    "# Get the optimal parameters from an ideal sampler run\n",
    "optimal_parameters = [ [-2.10613900e-03,  1.55408086e+00], \\\n",
    "                       [-9.67207287e-03, -1.53161721e+00], \\\n",
    "                       [-3.92545968e-02,  1.50280052e+00], \\\n",
    "                       [ 3.11831766e+00,  1.53385887e+00], \\\n",
    "                       [ 1.02886602e-02,  1.50171506e+00], \\\n",
    "                       [-4.45586989e-02, -1.53171757e+00], \\\n",
    "                       [ 1.53339082e-02,  4.90169015e-03], \\\n",
    "                       [ 1.56091517e+00, -1.74654711e-02], \\\n",
    "                       [-1.58644219e+00, -1.57206412e+00], \\\n",
    "                       [ 3.13870884e+00, -1.58844770e+00], \\\n",
    "                       [ 1.73282373e-02, -1.58503502e+00], \\\n",
    "                       [-4.73448953e-02,  1.57903999e+00] ]\n",
    "\n",
    "# Get the optimal parameters for the entire circuit\n",
    "myoptimal = [item for sublist in optimal_parameters for item in sublist]"
   ]
  },
  {
   "cell_type": "code",
   "execution_count": null,
   "id": "2b307c7d",
   "metadata": {},
   "outputs": [],
   "source": [
    "# Build some more operators to run error mitigation on\n",
    "# Build Z-Symmetry opterator\n",
    "Z_16 = 4 * log_mapper.map(heis_16.z_symmetry_ops().simplify())\n",
    "\n",
    "# Build Y-Symmetry opterator\n",
    "Y_16 = 4 * log_mapper.map(heis_16.y_symmetry_ops().simplify())\n",
    "\n",
    "# Build X-Symmetry opterator\n",
    "X_16 = 4 * log_mapper.map(heis_16.x_symmetry_ops().simplify())"
   ]
  },
  {
   "cell_type": "code",
   "execution_count": null,
   "id": "e65f08d1",
   "metadata": {
    "scrolled": true
   },
   "outputs": [],
   "source": [
    "# Run a VQE session that tries to rotate correction factors\n",
    "# so the optimal point under noisy conditions is closer to \n",
    "# the optimal point under ideal conditions.\n",
    "\n",
    "# Get the optimal parameters for the entire circuit\n",
    "myoptimal = [item for sublist in optimal_parameters for item in sublist]\n",
    "\n",
    "# Bind the parameters to the ansatz compiled circuit\n",
    "myansatz = ansatz_opt.bind_parameters(myoptimal)\n",
    "#myansatz = ansatz_opt.bind_parameters(noisy_optimal_parameters)\n",
    "\n",
    "# View the compiled circuit\n",
    "print('number and type of gates in the cirucit:', myansatz.count_ops())\n",
    "print('number of parameters in the circuit:', myansatz.num_parameters)\n",
    "#myansatz.draw(fold=300)"
   ]
  },
  {
   "cell_type": "code",
   "execution_count": null,
   "id": "3bb3595a",
   "metadata": {},
   "outputs": [],
   "source": [
    "# Try the full circuit with all of the optimal points.\n",
    "# Run the circuit through estimator under ideal conditions\n",
    "estimator = Estimator()\n",
    "\n",
    "# Run sampler\n",
    "job_est = estimator.run(\n",
    "    circuits=[myansatz, myansatz, myansatz, myansatz],\n",
    "    observables=[ham_16, Z_16, Y_16, X_16])\n",
    "job_est_result = job_est.result()\n",
    "myvalue = job_est_result.values[0]\n",
    "print('Ideal Conditions. Optimal Points = ' + str(myvalue))\n",
    "print(job_est_result)"
   ]
  },
  {
   "cell_type": "markdown",
   "id": "7962feb3",
   "metadata": {},
   "source": [
    "### ZNE of Y Circuit Using M3\n",
    "Focus on the <Y> for zero noise extrapolation because <Z> and <X> were very close to ideal"
   ]
  },
  {
   "cell_type": "code",
   "execution_count": null,
   "id": "8e56de51",
   "metadata": {},
   "outputs": [],
   "source": [
    "def measure_all_x(circuit, q_layout):\n",
    "    # Create a copy of circuit\n",
    "    mycirc = circuit.copy()\n",
    "    \n",
    "    # Rotate each qubit to x-basis with hadamard gate\n",
    "    for q in q_layout:\n",
    "        mycirc.h(q)\n",
    "        \n",
    "    # Measure all\n",
    "    mycirc.measure_all()\n",
    "    \n",
    "    return mycirc"
   ]
  },
  {
   "cell_type": "code",
   "execution_count": null,
   "id": "0e60d57c",
   "metadata": {},
   "outputs": [],
   "source": [
    "def measure_all_y(circuit, q_layout):\n",
    "    # Create a copy of circuit\n",
    "    mycirc = circuit.copy()\n",
    "    \n",
    "    # Rotate each qubit to y-basis with s_dagger then hadamard gate\n",
    "    for q in q_layout:\n",
    "        mycirc.sdg(q)\n",
    "        mycirc.h(q)\n",
    "        \n",
    "    # Measure all\n",
    "    mycirc.measure_all()\n",
    "    \n",
    "    return mycirc"
   ]
  },
  {
   "cell_type": "code",
   "execution_count": null,
   "id": "99f984b9",
   "metadata": {},
   "outputs": [],
   "source": [
    "def measure_all_z(circuit, q_layout):\n",
    "    # Create a copy of circuit\n",
    "    mycirc = circuit.copy()\n",
    "    \n",
    "    # Just measure qubits. Already in z basis\n",
    "    # Measure all\n",
    "    mycirc.measure_all()\n",
    "    \n",
    "    return mycirc"
   ]
  },
  {
   "cell_type": "code",
   "execution_count": null,
   "id": "0bd1a50e",
   "metadata": {},
   "outputs": [],
   "source": [
    "# Fold Gates\n",
    "my_scale_factors = [1, 1.2, 1.5, 1.7, 2, 3, 4, 5, 7]\n",
    "my_scale_circuits = [myansatz]\n",
    "\n",
    "# Always skip the 1 scale factor\n",
    "if my_scale_factors[0] != 1:\n",
    "    print('HEY Leading Factor is always one!')\n",
    "else:\n",
    "    for sf in my_scale_factors[1:]:\n",
    "        my_scale_circuits.append(zne.scaling.fold_global(myansatz, scale_factor = sf))"
   ]
  },
  {
   "cell_type": "code",
   "execution_count": null,
   "id": "84d88d5b",
   "metadata": {},
   "outputs": [],
   "source": [
    "# Create a list of all the circuit with \n",
    "my_scale_circuits_measured = []\n",
    "for circuit in my_scale_circuits:\n",
    "    #my_scale_circuits_measured.append(circuit.measure_all(inplace=False))\n",
    "    measured_circ = measure_all_y(circuit, q_layout)\n",
    "    my_scale_circuits_measured.append(measured_circ)"
   ]
  },
  {
   "cell_type": "code",
   "execution_count": null,
   "id": "2d6ee232",
   "metadata": {},
   "outputs": [],
   "source": [
    "# Run the circuit through the estimator under noisy conditions.\n",
    "# Select the Qiskit Runtime options\n",
    "service = QiskitRuntimeService()\n",
    "noise_options = Options()\n",
    "noise_options.simulator.noise_model = guadalupe_noise_model\n",
    "#noise_options.shots = 10000\n",
    "\n",
    "# Get the start time\n",
    "start = time()\n",
    "with Session(service=service, backend=backend) as session:\n",
    "    # Prepare primitive\n",
    "    sampler = RuntimeSampler(session=session, options=noise_options)\n",
    "    # Run sampler\n",
    "    job_samp = sampler.run(circuits=my_scale_circuits_measured)\n",
    "    job_samp_result = job_samp.result()\n",
    "\n",
    "# Print the execution time\n",
    "end = time()\n",
    "print(f'execution time (s): {end - start:.2f}')"
   ]
  },
  {
   "cell_type": "code",
   "execution_count": null,
   "id": "99a0b4da",
   "metadata": {},
   "outputs": [],
   "source": [
    "# Analyze the counts dictionaries with mitigation and without\n",
    "binary_probs = [q.binary_probabilities() for q in job_samp_result.quasi_dists]"
   ]
  },
  {
   "cell_type": "code",
   "execution_count": null,
   "id": "142ecbc1",
   "metadata": {
    "scrolled": true
   },
   "outputs": [],
   "source": [
    "mit_q_layout = [0, 1, 2, 3, 5, 8, 6, 11, 14, 9, 13, 12, 10, 7, 4, 15]"
   ]
  },
  {
   "cell_type": "code",
   "execution_count": null,
   "id": "1964e810",
   "metadata": {},
   "outputs": [],
   "source": [
    "# Use the M3 package to calculate the expectation value of from the above counts\n",
    "mit_guadalupe = mthree.M3Mitigation(noisy_backend)\n",
    "mit_guadalupe.cals_from_system(mit_q_layout)\n",
    "\n",
    "# Loop through scaled circuits results calculating expectation values\n",
    "scaled_mit_expval = [0]*len(my_scale_circuits_measured)\n",
    "scaled_expval = [0]*len(my_scale_circuits_measured)\n",
    "for index in range(len(binary_probs)):\n",
    "    # each element of binary probs is a quasi-dist from sampler\n",
    "    myraw = binary_probs[index]\n",
    "    \n",
    "    # Create corrected quasi distributions\n",
    "    quasi_guadalupe = mit_guadalupe.apply_correction(counts=myraw, qubits=mit_q_layout)\n",
    "    quasi_guadalupe_nomit = mthree.classes.QuasiDistribution(myraw)\n",
    "    \n",
    "    # Calculate expected values\n",
    "    guadalupe_mit_val = expval_from_pauli_sum(Z_16, quasi_guadalupe)\n",
    "    guadalupe_val = expval_from_pauli_sum(Z_16, quasi_guadalupe_nomit)\n",
    "    \n",
    "    # Place expected values in array\n",
    "    scaled_mit_expval[index] = guadalupe_mit_val\n",
    "    scaled_expval[index] = guadalupe_val\n",
    "    if len(str(my_scale_factors[index])) == 1: \n",
    "        this_sf = str(my_scale_factors[index]) + '.0'\n",
    "    else:\n",
    "        this_sf = str(my_scale_factors[index])\n",
    "    print('Scale: ' + this_sf + ' |  Mit    ' + str(round(guadalupe_mit_val, 4)) \\\n",
    "             + '        No mit  ' + str(round(guadalupe_val, 4)))"
   ]
  },
  {
   "cell_type": "code",
   "execution_count": null,
   "id": "cc01dbd9",
   "metadata": {},
   "outputs": [],
   "source": [
    "# Do some of my own extrapolation\n",
    "import warnings\n",
    "# Plotting different ZNE extrapolations\n",
    "#x = [1,1,3,5]\n",
    "x = my_scale_factors\n",
    "#y = [-15.44421469, -14.90110905, -14.70538572]\n",
    "#y = [guadalupe_mit_val_Y, guadalupe_mit_val_Y3, guadalupe_mit_val_Y5, guadalupe_mit_val_Y7] # Normal\n",
    "y = scaled_mit_expval\n",
    "#ylog = [15.44421469, 14.90110905, 14.70538572]\n",
    "\n",
    "# Create the fitting polynomials\n",
    "with warnings.catch_warnings():\n",
    "    warnings.simplefilter('ignore', np.RankWarning)\n",
    "    p1 = np.poly1d(np.polyfit(x, y, 1))\n",
    "    \n",
    "with warnings.catch_warnings():\n",
    "    warnings.simplefilter('ignore', np.RankWarning)\n",
    "    p2 = np.poly1d(np.polyfit(x, y, 2))\n",
    "    \n",
    "with warnings.catch_warnings():\n",
    "    warnings.simplefilter('ignore', np.RankWarning)\n",
    "    p3 = np.poly1d(np.polyfit(x, y, 3))\n",
    "    \n",
    "with warnings.catch_warnings():\n",
    "    warnings.simplefilter('ignore', np.RankWarning)\n",
    "    p4 = np.poly1d(np.polyfit(x, y, 4))\n",
    "\n",
    "# Get ready to create the graphs\n",
    "xp = np.linspace(-1, 8, 100)\n",
    "\n",
    "plt.plot(x, y, '.', xp, p1(xp), '-', xp, p2(xp), '--', xp, p3(xp), '-.', xp, p4(xp), '-')\n",
    "ax = plt.gca()\n",
    "ax.set_xlim([0,8])\n",
    "ax.set_ylim([-6.5,-5])\n",
    "plt.show()"
   ]
  },
  {
   "cell_type": "code",
   "execution_count": null,
   "id": "1ff1d490",
   "metadata": {},
   "outputs": [],
   "source": [
    "#################################################\n",
    "#################################################\n",
    "#################################################\n",
    "# CHECKING SUBMITTING MULTIPLE ITEMS TO SAMPLER #"
   ]
  },
  {
   "cell_type": "code",
   "execution_count": null,
   "id": "d13a6b1d",
   "metadata": {},
   "outputs": [],
   "source": [
    "# If you want to view the final state. Collect and graph the counts\n",
    "# Sampler runs a job on the parameterized circuits\n",
    "sampler = Sampler()\n",
    "ansatz_measure = myansatz.measure_all(inplace=False)\n",
    "#ansatz_measure.draw()\n",
    "\n",
    "job_viewcounts = sampler.run(\n",
    "    circuits=[ansatz_measure_Z, ansatz_measure_Y, ansatz_measure_X])\n",
    "job_result = job_viewcounts.result()\n",
    "#binary_probs = [q.binary_probabilities() for q in job_result.quasi_dists]\n",
    "#print(job_result.quasi_dists)"
   ]
  },
  {
   "cell_type": "code",
   "execution_count": null,
   "id": "ce2c7cba",
   "metadata": {},
   "outputs": [],
   "source": [
    "binary_probs = [q.binary_probabilities() for q in job_result.quasi_dists]\n",
    "binary_probs_Z = binary_probs[0]\n",
    "binary_probs_Y = binary_probs[1]\n",
    "binary_probs_X = binary_probs[2]"
   ]
  },
  {
   "cell_type": "code",
   "execution_count": null,
   "id": "902d5e25",
   "metadata": {},
   "outputs": [],
   "source": [
    "#myraw = mynew_counts\n",
    "myraw_ideal = binary_probs_Z"
   ]
  },
  {
   "cell_type": "code",
   "execution_count": null,
   "id": "703e447b",
   "metadata": {},
   "outputs": [],
   "source": [
    "quasi_ideal = mthree.classes.QuasiDistribution(myraw_ideal)"
   ]
  },
  {
   "cell_type": "code",
   "execution_count": null,
   "id": "5ae1ca73",
   "metadata": {
    "scrolled": true
   },
   "outputs": [],
   "source": [
    "# Get the expectation value of the ideal counts\n",
    "ideal_val_Z = expval_from_pauli_sum(Z_16, quasi_ideal)\n",
    "print('Ideal <Z_16> = ' + str(ideal_val_Z))"
   ]
  },
  {
   "cell_type": "code",
   "execution_count": null,
   "id": "cf8ce912",
   "metadata": {},
   "outputs": [],
   "source": [
    "#myraw = mynew_counts\n",
    "myraw_ideal = binary_probs_Y"
   ]
  },
  {
   "cell_type": "code",
   "execution_count": null,
   "id": "f7f393d4",
   "metadata": {},
   "outputs": [],
   "source": [
    "quasi_ideal = mthree.classes.QuasiDistribution(myraw_ideal)"
   ]
  },
  {
   "cell_type": "code",
   "execution_count": null,
   "id": "a47ed468",
   "metadata": {
    "scrolled": true
   },
   "outputs": [],
   "source": [
    "# Get the expectation value of the ideal counts\n",
    "ideal_val_Y = expval_from_pauli_sum(Z_16, quasi_ideal)\n",
    "print('Ideal <Y_16> = ' + str(ideal_val_Y))"
   ]
  },
  {
   "cell_type": "code",
   "execution_count": null,
   "id": "f887f4fc",
   "metadata": {},
   "outputs": [],
   "source": [
    "#myraw = mynew_counts\n",
    "myraw_ideal = binary_probs_X"
   ]
  },
  {
   "cell_type": "code",
   "execution_count": null,
   "id": "399b8b88",
   "metadata": {},
   "outputs": [],
   "source": [
    "quasi_ideal = mthree.classes.QuasiDistribution(myraw_ideal)"
   ]
  },
  {
   "cell_type": "code",
   "execution_count": null,
   "id": "7235d5a9",
   "metadata": {
    "scrolled": true
   },
   "outputs": [],
   "source": [
    "# Get the expectation value of the ideal counts\n",
    "ideal_val_X = expval_from_pauli_sum(Z_16, quasi_ideal)\n",
    "print('Ideal <X_16> = ' + str(ideal_val_X))"
   ]
  },
  {
   "cell_type": "code",
   "execution_count": null,
   "id": "ce50c96f",
   "metadata": {},
   "outputs": [],
   "source": [
    "#myraw = mynew_counts\n",
    "myraw = binary_probs_Z"
   ]
  },
  {
   "cell_type": "code",
   "execution_count": null,
   "id": "15fdc43e",
   "metadata": {
    "scrolled": true
   },
   "outputs": [],
   "source": [
    "mit_q_layout = [0, 1, 2, 3, 5, 8, 6, 11, 14, 9, 13, 12, 10, 7, 4, 15]"
   ]
  },
  {
   "cell_type": "code",
   "execution_count": null,
   "id": "93f8de9e",
   "metadata": {},
   "outputs": [],
   "source": [
    "## Use the M3 package to calculate the expectation value of from the above counts\n",
    "mit_guadalupe = mthree.M3Mitigation(noisy_backend)\n",
    "mit_guadalupe.cals_from_system(mit_q_layout)\n",
    "\n",
    "quasi_guadalupe = mit_guadalupe.apply_correction(counts=myraw, qubits=mit_q_layout)\n",
    "quasi_guadalupe_nomit = mthree.classes.QuasiDistribution(myraw)"
   ]
  },
  {
   "cell_type": "code",
   "execution_count": null,
   "id": "ef750609",
   "metadata": {},
   "outputs": [],
   "source": [
    "# Get the expectation value of the mitigated guadalupe counts\n",
    "guadalupe_mit_val_Y = expval_from_pauli_sum(Z_16, quasi_guadalupe)\n",
    "print('Mitigated   <Y_16> = ' + str(guadalupe_mit_val_Y))\n",
    "\n",
    "# Get the expectation value of the unmitigated guadalupe counts\n",
    "guadalupe_val_Y = expval_from_pauli_sum(Z_16, quasi_guadaluple_nomit)\n",
    "print('Unmitigated <Y_16> = ' + str(guadalupe_val_Y))"
   ]
  },
  {
   "cell_type": "code",
   "execution_count": null,
   "id": "c588afa7",
   "metadata": {},
   "outputs": [],
   "source": [
    "############################################################\n",
    "############################################################\n",
    "############################################################\n",
    "############################################################\n",
    "############################################################\n",
    "############################################################\n",
    "#                    END OF M3 WORK                        #"
   ]
  },
  {
   "cell_type": "code",
   "execution_count": null,
   "id": "c4d5a88e",
   "metadata": {},
   "outputs": [],
   "source": [
    "# Run the circuit through the estimator under noisy conditions.\n",
    "# Select the Qiskit Runtime options\n",
    "service = QiskitRuntimeService()\n",
    "noise_options = Options()\n",
    "noise_options.simulator.noise_model = guadalupe_noise_model\n",
    "\n",
    "# Get the start time\n",
    "start = time()\n",
    "with Session(service=service, backend=backend) as session:\n",
    "    # Prepare primitive\n",
    "    estimator = RuntimeEstimator(session=session, options=noise_options)\n",
    "    # Run sampler\n",
    "    job_est = estimator.run(\n",
    "        circuits=[myansatz, myansatz, myansatz],\n",
    "        observables=[Z_16, Y_16, X_16])\n",
    "    job_est_result = job_est.result()\n",
    "    myvalue = job_est_result.values[0]\n",
    "    print('Noisy conditions. No ZNE mitigation, just TREX = ' + str(myvalue))\n",
    "\n",
    "# Print the execution time\n",
    "end = time()\n",
    "print(f'execution time (s): {end - start:.2f}')\n"
   ]
  },
  {
   "cell_type": "code",
   "execution_count": null,
   "id": "1d08220b",
   "metadata": {},
   "outputs": [],
   "source": [
    "job_est_result"
   ]
  },
  {
   "cell_type": "code",
   "execution_count": null,
   "id": "96e6dceb",
   "metadata": {},
   "outputs": [],
   "source": [
    "import mitiq\n",
    "#zne.scaling.fold_gates_at_random\n",
    "@mitiq.zne.zne_decorator()\n",
    "def executor(circuit_to_run):#, obs_to_measure):\n",
    "    # Create the service with the guadalupe noise model. \n",
    "    # Do not include qiskit mitigation. Other than defualt (TREX I think?)\n",
    "    service = QiskitRuntimeService()\n",
    "    noise_options = Options()\n",
    "    noise_options.simulator.noise_model = guadalupe_noise_model\n",
    "\n",
    "    obs_to_measure = Z_16\n",
    "    \n",
    "    # Get the start time\n",
    "    start = time()\n",
    "    with Session(service=service, backend=backend) as session:\n",
    "        # Prepare primitive\n",
    "        estimator = RuntimeEstimator(session=session, options=noise_options)\n",
    "        # Run sampler\n",
    "        job_est = estimator.run(\n",
    "            circuits=[circuit_to_run],\n",
    "            observables=[obs_to_measure])\n",
    "        job_est_result = job_est.result()\n",
    "        myvalue = job_est_result.values[0]\n",
    "        #print('Noisy conditions. No built in mitigation except TREX = ' + str(myvalue))\n",
    "        \n",
    "    # Print the execution time\n",
    "    end = time()\n",
    "    #print(f'execution time (s): {end - start:.2f}')\n",
    "    \n",
    "    # Return the expectation value\n",
    "    return myvalue"
   ]
  },
  {
   "cell_type": "code",
   "execution_count": null,
   "id": "dfd2e3be",
   "metadata": {},
   "outputs": [],
   "source": [
    "# Local fold gates at random\n",
    "my_scale_factors = [1, 1.2, 1.5, 1.7, 2, 3, 4, 5,]\n",
    "locFold1_2 = zne.scaling.fold_gates_at_random(myansatz, scale_factor=1.2)\n",
    "locFold1_5 = zne.scaling.fold_gates_at_random(myansatz, scale_factor=1.5)\n",
    "locFold1_7 = zne.scaling.fold_gates_at_random(myansatz, scale_factor=1.7)\n",
    "locFold2 = zne.scaling.fold_gates_at_random(myansatz, scale_factor=2)\n",
    "locFold3 = zne.scaling.fold_gates_at_random(myansatz, scale_factor=3)\n",
    "locFold4 = zne.scaling.fold_gates_at_random(myansatz, scale_factor=4)\n",
    "locFold5 = zne.scaling.fold_gates_at_random(myansatz, scale_factor=5)\n",
    "\n",
    "# Infinite approx\n",
    "locFold25 = zne.scaling.fold_gates_at_random(myansatz, scale_factor=25)"
   ]
  },
  {
   "cell_type": "code",
   "execution_count": null,
   "id": "68b10234",
   "metadata": {},
   "outputs": [],
   "source": [
    "# Global fold gates\n",
    "globFold3 = zne.scaling.fold_global(myansatz, scale_factor=3)\n",
    "globFold5 = zne.scaling.fold_global(myansatz, scale_factor=5)\n",
    "globFold7 = zne.scaling.fold_global(myansatz, scale_factor=7)\n",
    "print('number and type of gates in the global fold x 3:', globFold3.count_ops())\n",
    "print('number and type of gates in the cirucit:', myansatz.count_ops())"
   ]
  },
  {
   "cell_type": "code",
   "execution_count": null,
   "id": "b5e078f4",
   "metadata": {},
   "outputs": [],
   "source": [
    "# Run the circuit through the estimator under noisy conditions.\n",
    "# Select the Qiskit Runtime options\n",
    "service = QiskitRuntimeService()\n",
    "noise_options = Options()\n",
    "noise_options.simulator.noise_model = guadalupe_noise_model\n",
    "#noise_options.shots = 10000\n",
    "\n",
    "# Get the start time\n",
    "start = time()\n",
    "with Session(service=service, backend=backend) as session:\n",
    "    # Prepare primitive\n",
    "    estimator = RuntimeEstimator(session=session, options=noise_options)\n",
    "    # Run sampler\n",
    "    job_est = estimator.run(\n",
    "        circuits=[myansatz, locFold1_2, locFold1_5, locFold1_7, locFold2, locFold3, locFold4, locFold5],\n",
    "        observables=[Z_16, Z_16, Z_16, Z_16, Z_16, Z_16, Z_16, Z_16])\n",
    "    job_est_result = job_est.result()\n",
    "    myvalue = job_est_result.values[0]\n",
    "    print('Noisy conditions. No ZNE mitigation, just TREX = ' + str(myvalue))\n",
    "\n",
    "# Print the execution time\n",
    "end = time()\n",
    "print(f'execution time (s): {end - start:.2f}')\n"
   ]
  },
  {
   "cell_type": "code",
   "execution_count": null,
   "id": "6bb2a6c1",
   "metadata": {
    "scrolled": false
   },
   "outputs": [],
   "source": [
    "job_est_result"
   ]
  },
  {
   "cell_type": "code",
   "execution_count": null,
   "id": "d5dac1b4",
   "metadata": {},
   "outputs": [],
   "source": [
    "# Do some of my own extrapolation\n",
    "import warnings\n",
    "# Plotting different ZNE extrapolations\n",
    "#x = [1,3,5,7]\n",
    "x = my_scale_factors\n",
    "#y = [-15.44421469, -14.90110905, -14.70538572]\n",
    "y = job_est_result.values.tolist()\n",
    "#ylog = [15.44421469, 14.90110905, 14.70538572]\n",
    "\n",
    "# Create the fitting polynomials\n",
    "with warnings.catch_warnings():\n",
    "    warnings.simplefilter('ignore', np.RankWarning)\n",
    "    p1 = np.poly1d(np.polyfit(x, y, 1))\n",
    "    \n",
    "with warnings.catch_warnings():\n",
    "    warnings.simplefilter('ignore', np.RankWarning)\n",
    "    p2 = np.poly1d(np.polyfit(x, y, 2))\n",
    "    \n",
    "with warnings.catch_warnings():\n",
    "    warnings.simplefilter('ignore', np.RankWarning)\n",
    "    p3 = np.poly1d(np.polyfit(x, y, 3))\n",
    "    \n",
    "with warnings.catch_warnings():\n",
    "    warnings.simplefilter('ignore', np.RankWarning)\n",
    "    p4 = np.poly1d(np.polyfit(x, y, 4))\n",
    "\n",
    "# Get ready to create the graphs\n",
    "xp = np.linspace(-1, 6, 100)\n",
    "\n",
    "plt.plot(x, y, '.')#, xp, p1(xp), '-', xp, p2(xp), '--', xp, p3(xp), '-.', xp, p4(xp), '-')\n",
    "ax = plt.gca()\n",
    "ax.set_xlim([0,8])\n",
    "ax.set_ylim([-6,-0])\n",
    "plt.show()"
   ]
  },
  {
   "cell_type": "code",
   "execution_count": null,
   "id": "c7624eae",
   "metadata": {},
   "outputs": [],
   "source": [
    "# Try some of mitiq's zne features --> See online example for original source\n",
    "from functools import partial\n",
    "\n",
    "# Random local folding applied to two-qubit gates\n",
    "random_state = np.random.RandomState(0)\n",
    "noise_scaling_function = partial(zne.scaling.fold_gates_at_random, \n",
    "                                 #fidelities= {\"single\": 1.0}, # Avoid folding single qubit gates\n",
    "                                 random_state=random_state    # Useful to get reproducible results\n",
    "                                )\n",
    "\n",
    "# Exponential fit with scale factors [1,2,3]\n",
    "factory = zne.inference.ExpFactory(scale_factors=[1,1.2,1.4,1.6,1.8,3], asymptote=-13.5)\n",
    "\n",
    "# Run mitiq zero noise extrapolation\n",
    "zne_value = zne.execute_with_zne(\n",
    "    circuit=myansatz,\n",
    "    executor=executor,\n",
    "    observable=None,\n",
    "    factory=factory,\n",
    "    scale_noise=noise_scaling_function,\n",
    "    #num_to_average=1,\n",
    ")\n",
    "\n",
    "print(zne_value)\n",
    "winsound.Beep(325, 325)"
   ]
  },
  {
   "cell_type": "code",
   "execution_count": null,
   "id": "cf1e6d5f",
   "metadata": {},
   "outputs": [],
   "source": [
    "_ = factory.plot_fit()"
   ]
  },
  {
   "cell_type": "code",
   "execution_count": null,
   "id": "ca4aef73",
   "metadata": {
    "scrolled": true
   },
   "outputs": [],
   "source": [
    "noise_val = executor(myansatz)\n",
    "print(noise_val)"
   ]
  },
  {
   "cell_type": "code",
   "execution_count": null,
   "id": "43164c39",
   "metadata": {},
   "outputs": [],
   "source": [
    "noise_val_list = [0]*30\n",
    "for i in range(len(noise_val_list)):\n",
    "    noise_val_list[i] = executor(myansatz)\n",
    "    print(noise_val_list[i])\n",
    "    \n",
    "# Mean of list\n",
    "print(np.mean(noise_val_list))"
   ]
  },
  {
   "cell_type": "code",
   "execution_count": null,
   "id": "1fcc16cc",
   "metadata": {},
   "outputs": [],
   "source": [
    "noise_val_list3 = [item for item in noise_val_list2]\n",
    "for item in noise_val_list:\n",
    "    noise_val_list3.append(item)\n",
    "print(len(noise_val_list3))\n",
    "print(np.mean(noise_val_list3))\n",
    "print(rel_err(gs_energy, np.mean(noise_val_list3))*100)"
   ]
  },
  {
   "cell_type": "code",
   "execution_count": null,
   "id": "91b680d0",
   "metadata": {},
   "outputs": [],
   "source": [
    "# noise_val_list2 is a copy of the 1st iteration of the noise_val_list data\n",
    "# Mean of list\n",
    "move_average = [0]*(len(noise_val_list3)-1)\n",
    "total = 0\n",
    "for i in range(len(move_average)):\n",
    "    total += noise_val_list3[i]\n",
    "    move_average[i] = total/(i+1)\n",
    "    \n",
    "# Plot the moving average\n",
    "x = [i for i in range(len(move_average))]\n",
    "x2 = [i for i in range(len(noise_val_list3))]\n",
    "plt.plot(x, move_average, 'x', x2, noise_val_list3, 'o')\n",
    "plt.show()\n"
   ]
  },
  {
   "cell_type": "code",
   "execution_count": null,
   "id": "fc7c5ea8",
   "metadata": {
    "scrolled": true
   },
   "outputs": [],
   "source": [
    "zne_value = zne.execute_with_zne(myansatz, executor)"
   ]
  },
  {
   "cell_type": "code",
   "execution_count": null,
   "id": "abe2d92c",
   "metadata": {},
   "outputs": [],
   "source": [
    "# Benchmark Cell: Use for getting multiple samples of a mitigation option setting.\n",
    "\n",
    "# Run the circuit through the estimator under noisy conditions.\n",
    "# Select the Qiskit Runtime options\n",
    "service = QiskitRuntimeService()\n",
    "mit_options = Options()\n",
    "#mit_options.resilience_level = 2\n",
    "#mit_options.resilience.noise_amplifier='LocalFoldingAmplifier'\n",
    "                                    #                                Linear | Quad  | Cubic \n",
    "                                    # 'TwoQubitAmplifier'[Default] = -15.49  -15.49\n",
    "                                    #'CxAmplifier' =                 -15.54  -15.60\n",
    "                                    #'LocalFoldingAmplifier' =       -15.76  -16.01  -16.42 --> factors: (1, 3, 5, 7)\n",
    "                                    #                                        -16.82  -18.00 --> factors: (1, 2, 3, 4) \n",
    "                                    #'GlobalFoldingAmplifier' =      -15.63  -15.97\n",
    "                                    #                                                -16.79 --> factors: (1, 2, 3, 4)\n",
    "#mit_options.resilience.extrapolator = 'LinearExtrapolator'\n",
    "#mit_options.resilience.noise_factors = (1,1)\n",
    "#mit_options.optimization_level = 3\n",
    "mit_options.simulator.noise_model = guadalupe_noise_model\n",
    "\n",
    "# Create array\n",
    "myval_array = [0]*3\n",
    "rel_error_array = [0]*len(myval_array)\n",
    "beat_cutoff = 0\n",
    "\n",
    "# Get the start time\n",
    "start = time()\n",
    "for i in range(len(rel_error_array)):\n",
    "    # No corrections other than the built in mitigation options\n",
    "    with Session(service=service, backend=backend) as session:\n",
    "        # Prepare primitive\n",
    "        estimator = RuntimeEstimator(session=session, options=mit_options)\n",
    "        # Run sampler\n",
    "        job_est = estimator.run(\n",
    "            circuits=[ansatz_opt],\n",
    "            parameter_values=[myoptimal],\n",
    "            parameters=[ansatz_opt.parameters],\n",
    "            observables=[ham_16])\n",
    "        job_est_result = job_est.result()\n",
    "        myvalue = job_est_result.values[0]\n",
    "        print('Noisy conditions. Optimal points built in mitigation = ' + str(myvalue))\n",
    "    \n",
    "    # Compute the relative error between the expected ground state energy and the measured\n",
    "    myval_array[i] = myvalue\n",
    "    rel_error_array[i] = rel_err(gs_energy, myvalue)\n",
    "    \n",
    "    if rel_error_array[i] < 0.01:\n",
    "        beat_cutoff += 1\n",
    "\n",
    "# Print the final tally\n",
    "print('Met 1% benchmark '+str(beat_cutoff)+'/'+str(len(rel_error_array))+ ' or '+str(100*beat_cutoff/len(rel_error_array))+'% of the time')\n",
    "\n",
    "# Print the execution time\n",
    "end = time()\n",
    "print(f'execution time (s): {end - start:.2f}')"
   ]
  },
  {
   "cell_type": "markdown",
   "id": "8f728ba0",
   "metadata": {},
   "source": [
    "# Considerations\n",
    "Feeling stuck? Below are a list of questions and considerations to help spark new ideas for your VQE implementation.\n",
    "\n",
    "**Ansatz.** Carefully consult research literature for the best approach of ansatz selection. How might errors affect your ansatz? How many parameters are needed to reach the ground state? What properties of the Hamiltonian could help simplify the ansatz?\n",
    "\n",
    "**Classical optimizer.** What optimizer will pair well with for your choice of ansatz and measurement parameters? What noise do you expect from the quantum computer, and what noise sensitivity can the classical optimizer withstand? How many iterations will be needed?\n",
    "\n",
    "**Initial state/point.** Is there an initial quantum state that really helps things get going? What about a starting point for the circuit parameters? Does the VQE give the same results for different initial parameter values?\n",
    "\n",
    "**Number of measurements.** How does the number of shots affect the VQE's convergence to the ground state energy? The expectation value of the Hamiltonian is a sum of the expectation values of each of the 54 terms. What is the least number of circuit executions necessary to compute the expectation value of the Hamiltonian? What is the optimal number of circuit executions for stable convergence?\n",
    "\n",
    "**Many qubits.** Working with larger numbers of qubits is its own challenge. For example, what's a concise way of writing down or even visualizing the 4096 digit ground state? What methods and techniques will not scale well? What techniques would scale well if this VQE were to be done on a larger system? How can you reduce your execution time of the real device?\n",
    "\n",
    "**Error mitigation.** What errors are most prevalent, and how can you reduce them efficiently? What error mitigation techniques will scale well?"
   ]
  },
  {
   "cell_type": "code",
   "execution_count": null,
   "id": "cb1d7ca9",
   "metadata": {},
   "outputs": [],
   "source": [
    "import qiskit_ibm_runtime\n",
    "qiskit_ibm_runtime.version.get_version_info()"
   ]
  },
  {
   "cell_type": "code",
   "execution_count": null,
   "id": "e751e2e7",
   "metadata": {},
   "outputs": [],
   "source": [
    "import qiskit.tools.jupyter\n",
    "%qiskit_version_table"
   ]
  }
 ],
 "metadata": {
  "kernelspec": {
   "display_name": "Python 3 (ipykernel)",
   "language": "python",
   "name": "python3"
  },
  "language_info": {
   "codemirror_mode": {
    "name": "ipython",
    "version": 3
   },
   "file_extension": ".py",
   "mimetype": "text/x-python",
   "name": "python",
   "nbconvert_exporter": "python",
   "pygments_lexer": "ipython3",
   "version": "3.11.0"
  }
 },
 "nbformat": 4,
 "nbformat_minor": 5
}
